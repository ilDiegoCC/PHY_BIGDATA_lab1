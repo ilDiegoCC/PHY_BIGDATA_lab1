{
 "cells": [
  {
   "cell_type": "markdown",
   "metadata": {},
   "source": [
    "# Importaciones"
   ]
  },
  {
   "cell_type": "code",
   "execution_count": 1,
   "metadata": {},
   "outputs": [],
   "source": [
    "import pandas as pd\n",
    "import numpy as np\n",
    "import os\n",
    "import plotly.graph_objects as go\n",
    "import datetime as dt\n",
    "import plotly.express as px"
   ]
  },
  {
   "cell_type": "markdown",
   "metadata": {},
   "source": [
    "# Declaraciones iniciales"
   ]
  },
  {
   "cell_type": "markdown",
   "metadata": {},
   "source": [
    "## Variables globales"
   ]
  },
  {
   "cell_type": "code",
   "execution_count": 2,
   "metadata": {},
   "outputs": [],
   "source": [
    "\n",
    "ruta_de_archivos = './Dataset de ventas2'\n"
   ]
  },
  {
   "cell_type": "code",
   "execution_count": 3,
   "metadata": {},
   "outputs": [
    {
     "data": {
      "text/plain": [
       "['Enero',\n",
       " 'Febrero',\n",
       " 'Marzo',\n",
       " 'Abril',\n",
       " 'Mayo',\n",
       " 'Junio',\n",
       " 'Julio',\n",
       " 'Agosto',\n",
       " 'Septiembre',\n",
       " 'Octubre',\n",
       " 'Noviembre',\n",
       " 'Diciembre']"
      ]
     },
     "execution_count": 3,
     "metadata": {},
     "output_type": "execute_result"
    }
   ],
   "source": [
    "meses = ['Enero', 'Febrero', 'Marzo', 'Abril', 'Mayo', 'Junio',\n",
    "        'Julio', 'Agosto', 'Septiembre', 'Octubre', 'Noviembre', 'Diciembre']\n",
    "meses"
   ]
  },
  {
   "cell_type": "code",
   "execution_count": 274,
   "metadata": {},
   "outputs": [
    {
     "data": {
      "text/plain": [
       "30"
      ]
     },
     "execution_count": 274,
     "metadata": {},
     "output_type": "execute_result"
    }
   ],
   "source": [
    "dias_meses = {\n",
    "    'Enero': 31,\n",
    "    'Febrero': 28,\n",
    "    'Marzo': 31,\n",
    "    'Abril': 30,\n",
    "    'Mayo': 31,\n",
    "    'Junio': 30,\n",
    "    'Julio': 31,\n",
    "    'Agosto': 31,\n",
    "    'Septiembre': 30,\n",
    "    'Octubre': 31,\n",
    "    'Noviembre': 30,\n",
    "    'Diciembre': 31\n",
    "}\n",
    "dias_meses['Abril']"
   ]
  },
  {
   "cell_type": "code",
   "execution_count": 4,
   "metadata": {},
   "outputs": [
    {
     "data": {
      "text/plain": [
       "['Lun', 'Mar', 'Mie', 'Jue', 'Vie', 'Sab', 'Dom']"
      ]
     },
     "execution_count": 4,
     "metadata": {},
     "output_type": "execute_result"
    }
   ],
   "source": [
    "dias_semana = ['Lun', 'Mar', 'Mie', 'Jue', 'Vie', 'Sab', 'Dom'] \n",
    "dias_semana"
   ]
  },
  {
   "cell_type": "code",
   "execution_count": 5,
   "metadata": {},
   "outputs": [
    {
     "data": {
      "text/plain": [
       "[0,\n",
       " 1,\n",
       " 2,\n",
       " 3,\n",
       " 4,\n",
       " 5,\n",
       " 6,\n",
       " 7,\n",
       " 8,\n",
       " 9,\n",
       " 10,\n",
       " 11,\n",
       " 12,\n",
       " 13,\n",
       " 14,\n",
       " 15,\n",
       " 16,\n",
       " 17,\n",
       " 18,\n",
       " 19,\n",
       " 20,\n",
       " 21,\n",
       " 22,\n",
       " 23]"
      ]
     },
     "execution_count": 5,
     "metadata": {},
     "output_type": "execute_result"
    }
   ],
   "source": [
    "horas = list(range(24))\n",
    "horas"
   ]
  },
  {
   "cell_type": "code",
   "execution_count": 6,
   "metadata": {},
   "outputs": [
    {
     "data": {
      "text/plain": [
       "['Dataset_de_ventas_Abril.csv',\n",
       " 'Dataset_de_ventas_Agosto.csv',\n",
       " 'Dataset_de_ventas_Diciembre.csv',\n",
       " 'Dataset_de_ventas_Enero.csv',\n",
       " 'Dataset_de_ventas_Febrero.csv',\n",
       " 'Dataset_de_ventas_Julio.csv',\n",
       " 'Dataset_de_ventas_Junio.csv',\n",
       " 'Dataset_de_ventas_Marzo.csv',\n",
       " 'Dataset_de_ventas_Mayo.csv',\n",
       " 'Dataset_de_ventas_Noviembre.csv',\n",
       " 'Dataset_de_ventas_Octubre.csv',\n",
       " 'Dataset_de_ventas_Septiembre.csv']"
      ]
     },
     "execution_count": 6,
     "metadata": {},
     "output_type": "execute_result"
    }
   ],
   "source": [
    "archivos = os.listdir(ruta_de_archivos)\n",
    "archivos"
   ]
  },
  {
   "cell_type": "markdown",
   "metadata": {},
   "source": [
    "## Carga de un diccionario de dataframes por mes"
   ]
  },
  {
   "cell_type": "code",
   "execution_count": 7,
   "metadata": {},
   "outputs": [
    {
     "name": "stdout",
     "output_type": "stream",
     "text": [
      "Abril\n",
      "./Dataset de ventas2\\Dataset_de_ventas_Abril.csv\n",
      "Agosto\n",
      "./Dataset de ventas2\\Dataset_de_ventas_Agosto.csv\n",
      "Diciembre\n",
      "./Dataset de ventas2\\Dataset_de_ventas_Diciembre.csv\n",
      "Enero\n",
      "./Dataset de ventas2\\Dataset_de_ventas_Enero.csv\n",
      "Febrero\n",
      "./Dataset de ventas2\\Dataset_de_ventas_Febrero.csv\n",
      "Julio\n",
      "./Dataset de ventas2\\Dataset_de_ventas_Julio.csv\n",
      "Junio\n",
      "./Dataset de ventas2\\Dataset_de_ventas_Junio.csv\n"
     ]
    },
    {
     "name": "stdout",
     "output_type": "stream",
     "text": [
      "Marzo\n",
      "./Dataset de ventas2\\Dataset_de_ventas_Marzo.csv\n",
      "Mayo\n",
      "./Dataset de ventas2\\Dataset_de_ventas_Mayo.csv\n",
      "Noviembre\n",
      "./Dataset de ventas2\\Dataset_de_ventas_Noviembre.csv\n",
      "Octubre\n",
      "./Dataset de ventas2\\Dataset_de_ventas_Octubre.csv\n",
      "Septiembre\n",
      "./Dataset de ventas2\\Dataset_de_ventas_Septiembre.csv\n"
     ]
    }
   ],
   "source": [
    "# diccionario vacio en el cual van a estar los df de ventas de cada mes\n",
    "dataframes_meses = {}\n",
    "\n",
    "for archivo in archivos:\n",
    "    if archivo.endswith('.csv'):\n",
    "        mes = archivo.split('_')[3].split('.')[0]\n",
    "        print(mes)\n",
    "        ruta_completa =  os.path.join(ruta_de_archivos, archivo)\n",
    "        print(ruta_completa)\n",
    "        df = pd.read_csv(ruta_completa)\n",
    "        df_ventas = df.copy()\n",
    "        #df_ventas.info()\n",
    "\n",
    "        df_ventas['Cantidad Pedida'] = pd.to_numeric(df_ventas['Cantidad Pedida'], errors='coerce')  #El errors= 'coerce' transforma los valores no numericos a NaN'\n",
    "        df_ventas['Precio Unitario'] = pd.to_numeric(df_ventas['Precio Unitario'], errors='coerce')\n",
    "        #df_ventas.info()\n",
    "\n",
    "        df_ventas = df_ventas.loc[~df_ventas['Cantidad Pedida'].isna()]\n",
    "        df_ventas = df_ventas.loc[~df_ventas['Precio Unitario'].isna()]\n",
    "        #df_ventas.info()\n",
    "\n",
    "        # Elimino todos los Nan y me quedo solo con los valores numericos\n",
    "        df_ventas = df_ventas.dropna()\n",
    "        #df_ventas.info()\n",
    "\n",
    "        # Transformo todos los valores numericos al tipo de dato int\n",
    "        df_ventas['Cantidad Pedida'] = df_ventas['Cantidad Pedida'].astype(int)\n",
    "        df_ventas['Precio Unitario'] = df_ventas['Precio Unitario'].astype(int)\n",
    "        #df_ventas.info()\n",
    "        \n",
    "        # Se elimina los duplicados\n",
    "        df_ventas = df_ventas.drop_duplicates()\n",
    "        \n",
    "        # Se resetea el index   \n",
    "        df_ventas = df_ventas.reset_index(drop=True)\n",
    "        \n",
    "\n",
    "        dataframes_meses[mes] = df_ventas  # Agregar el DataFrame al diccionario usando el nombre del mes\n"
   ]
  },
  {
   "cell_type": "code",
   "execution_count": 8,
   "metadata": {},
   "outputs": [
    {
     "name": "stdout",
     "output_type": "stream",
     "text": [
      "<class 'pandas.core.frame.DataFrame'>\n",
      "RangeIndex: 11611 entries, 0 to 11610\n",
      "Data columns (total 6 columns):\n",
      " #   Column              Non-Null Count  Dtype \n",
      "---  ------              --------------  ----- \n",
      " 0   ID de Pedido        11611 non-null  object\n",
      " 1   Producto            11611 non-null  object\n",
      " 2   Cantidad Pedida     11611 non-null  int32 \n",
      " 3   Precio Unitario     11611 non-null  int32 \n",
      " 4   Fecha de Pedido     11611 non-null  object\n",
      " 5   Dirección de Envio  11611 non-null  object\n",
      "dtypes: int32(2), object(4)\n",
      "memory usage: 453.7+ KB\n"
     ]
    }
   ],
   "source": [
    "df_ventas.info()"
   ]
  },
  {
   "cell_type": "code",
   "execution_count": 9,
   "metadata": {},
   "outputs": [
    {
     "data": {
      "text/html": [
       "<div>\n",
       "<style scoped>\n",
       "    .dataframe tbody tr th:only-of-type {\n",
       "        vertical-align: middle;\n",
       "    }\n",
       "\n",
       "    .dataframe tbody tr th {\n",
       "        vertical-align: top;\n",
       "    }\n",
       "\n",
       "    .dataframe thead th {\n",
       "        text-align: right;\n",
       "    }\n",
       "</style>\n",
       "<table border=\"1\" class=\"dataframe\">\n",
       "  <thead>\n",
       "    <tr style=\"text-align: right;\">\n",
       "      <th></th>\n",
       "      <th>ID de Pedido</th>\n",
       "      <th>Producto</th>\n",
       "      <th>Cantidad Pedida</th>\n",
       "      <th>Precio Unitario</th>\n",
       "      <th>Fecha de Pedido</th>\n",
       "      <th>Dirección de Envio</th>\n",
       "    </tr>\n",
       "  </thead>\n",
       "  <tbody>\n",
       "  </tbody>\n",
       "</table>\n",
       "</div>"
      ],
      "text/plain": [
       "Empty DataFrame\n",
       "Columns: [ID de Pedido, Producto, Cantidad Pedida, Precio Unitario, Fecha de Pedido, Dirección de Envio]\n",
       "Index: []"
      ]
     },
     "execution_count": 9,
     "metadata": {},
     "output_type": "execute_result"
    }
   ],
   "source": [
    "df_ventas[df_ventas.duplicated()]"
   ]
  },
  {
   "cell_type": "code",
   "execution_count": 10,
   "metadata": {},
   "outputs": [
    {
     "name": "stdout",
     "output_type": "stream",
     "text": [
      "ID de Pedido          0\n",
      "Producto              0\n",
      "Cantidad Pedida       0\n",
      "Precio Unitario       0\n",
      "Fecha de Pedido       0\n",
      "Dirección de Envio    0\n",
      "dtype: int64\n"
     ]
    }
   ],
   "source": [
    "print(df_ventas.isnull().sum())"
   ]
  },
  {
   "cell_type": "code",
   "execution_count": 11,
   "metadata": {},
   "outputs": [
    {
     "name": "stdout",
     "output_type": "stream",
     "text": [
      "<class 'pandas.core.frame.DataFrame'>\n",
      "RangeIndex: 16540 entries, 0 to 16539\n",
      "Data columns (total 6 columns):\n",
      " #   Column              Non-Null Count  Dtype \n",
      "---  ------              --------------  ----- \n",
      " 0   ID de Pedido        16540 non-null  object\n",
      " 1   Producto            16540 non-null  object\n",
      " 2   Cantidad Pedida     16540 non-null  int32 \n",
      " 3   Precio Unitario     16540 non-null  int32 \n",
      " 4   Fecha de Pedido     16540 non-null  object\n",
      " 5   Dirección de Envio  16540 non-null  object\n",
      "dtypes: int32(2), object(4)\n",
      "memory usage: 646.2+ KB\n"
     ]
    }
   ],
   "source": [
    "dataframes_meses['Mayo'].info()"
   ]
  },
  {
   "cell_type": "code",
   "execution_count": 12,
   "metadata": {},
   "outputs": [
    {
     "data": {
      "text/plain": [
       "6"
      ]
     },
     "execution_count": 12,
     "metadata": {},
     "output_type": "execute_result"
    }
   ],
   "source": [
    "dt.date.today().weekday()"
   ]
  },
  {
   "cell_type": "markdown",
   "metadata": {},
   "source": [
    "## Funcion extraer_datos"
   ]
  },
  {
   "cell_type": "code",
   "execution_count": 13,
   "metadata": {},
   "outputs": [],
   "source": [
    "def extraer_datos(datos):\n",
    "  datos['Fecha de Pedido'] = pd.to_datetime(datos['Fecha de Pedido'])\n",
    "  datos['Hora'] = datos['Fecha de Pedido'].dt.hour\n",
    "  datos['Dia'] = datos['Fecha de Pedido'].dt.day\n",
    "  datos['Dia semanal'] = datos['Fecha de Pedido'].dt.weekday\n",
    "  \n",
    "  return datos"
   ]
  },
  {
   "cell_type": "code",
   "execution_count": 14,
   "metadata": {},
   "outputs": [
    {
     "data": {
      "text/html": [
       "<div>\n",
       "<style scoped>\n",
       "    .dataframe tbody tr th:only-of-type {\n",
       "        vertical-align: middle;\n",
       "    }\n",
       "\n",
       "    .dataframe tbody tr th {\n",
       "        vertical-align: top;\n",
       "    }\n",
       "\n",
       "    .dataframe thead th {\n",
       "        text-align: right;\n",
       "    }\n",
       "</style>\n",
       "<table border=\"1\" class=\"dataframe\">\n",
       "  <thead>\n",
       "    <tr style=\"text-align: right;\">\n",
       "      <th></th>\n",
       "      <th>ID de Pedido</th>\n",
       "      <th>Producto</th>\n",
       "      <th>Cantidad Pedida</th>\n",
       "      <th>Precio Unitario</th>\n",
       "      <th>Fecha de Pedido</th>\n",
       "      <th>Dirección de Envio</th>\n",
       "    </tr>\n",
       "  </thead>\n",
       "  <tbody>\n",
       "    <tr>\n",
       "      <th>0</th>\n",
       "      <td>141234</td>\n",
       "      <td>iPhone</td>\n",
       "      <td>1</td>\n",
       "      <td>700</td>\n",
       "      <td>01/22/19 21:25</td>\n",
       "      <td>944 Walnut St, Boston, MA 02215</td>\n",
       "    </tr>\n",
       "    <tr>\n",
       "      <th>1</th>\n",
       "      <td>141235</td>\n",
       "      <td>Lightning Charging Cable</td>\n",
       "      <td>1</td>\n",
       "      <td>14</td>\n",
       "      <td>01/28/19 14:15</td>\n",
       "      <td>185 Maple St, Portland, OR 97035</td>\n",
       "    </tr>\n",
       "    <tr>\n",
       "      <th>2</th>\n",
       "      <td>141236</td>\n",
       "      <td>Wired Headphones</td>\n",
       "      <td>2</td>\n",
       "      <td>11</td>\n",
       "      <td>01/17/19 13:33</td>\n",
       "      <td>538 Adams St, San Francisco, CA 94016</td>\n",
       "    </tr>\n",
       "    <tr>\n",
       "      <th>3</th>\n",
       "      <td>141237</td>\n",
       "      <td>27in FHD Monitor</td>\n",
       "      <td>1</td>\n",
       "      <td>149</td>\n",
       "      <td>01/05/19 20:33</td>\n",
       "      <td>738 10th St, Los Angeles, CA 90001</td>\n",
       "    </tr>\n",
       "    <tr>\n",
       "      <th>4</th>\n",
       "      <td>141238</td>\n",
       "      <td>Wired Headphones</td>\n",
       "      <td>1</td>\n",
       "      <td>11</td>\n",
       "      <td>01/25/19 11:59</td>\n",
       "      <td>387 10th St, Austin, TX 73301</td>\n",
       "    </tr>\n",
       "    <tr>\n",
       "      <th>...</th>\n",
       "      <td>...</td>\n",
       "      <td>...</td>\n",
       "      <td>...</td>\n",
       "      <td>...</td>\n",
       "      <td>...</td>\n",
       "      <td>...</td>\n",
       "    </tr>\n",
       "    <tr>\n",
       "      <th>9666</th>\n",
       "      <td>150497</td>\n",
       "      <td>20in Monitor</td>\n",
       "      <td>1</td>\n",
       "      <td>109</td>\n",
       "      <td>01/26/19 19:09</td>\n",
       "      <td>95 8th St, Dallas, TX 75001</td>\n",
       "    </tr>\n",
       "    <tr>\n",
       "      <th>9667</th>\n",
       "      <td>150498</td>\n",
       "      <td>27in FHD Monitor</td>\n",
       "      <td>1</td>\n",
       "      <td>149</td>\n",
       "      <td>01/10/19 22:58</td>\n",
       "      <td>403 7th St, San Francisco, CA 94016</td>\n",
       "    </tr>\n",
       "    <tr>\n",
       "      <th>9668</th>\n",
       "      <td>150499</td>\n",
       "      <td>ThinkPad Laptop</td>\n",
       "      <td>1</td>\n",
       "      <td>999</td>\n",
       "      <td>01/21/19 14:31</td>\n",
       "      <td>214 Main St, Portland, OR 97035</td>\n",
       "    </tr>\n",
       "    <tr>\n",
       "      <th>9669</th>\n",
       "      <td>150500</td>\n",
       "      <td>AAA Batteries (4-pack)</td>\n",
       "      <td>2</td>\n",
       "      <td>2</td>\n",
       "      <td>01/15/19 14:21</td>\n",
       "      <td>810 2nd St, Los Angeles, CA 90001</td>\n",
       "    </tr>\n",
       "    <tr>\n",
       "      <th>9670</th>\n",
       "      <td>150501</td>\n",
       "      <td>Google Phone</td>\n",
       "      <td>1</td>\n",
       "      <td>600</td>\n",
       "      <td>01/13/19 16:43</td>\n",
       "      <td>428 Cedar St, Boston, MA 02215</td>\n",
       "    </tr>\n",
       "  </tbody>\n",
       "</table>\n",
       "<p>9671 rows × 6 columns</p>\n",
       "</div>"
      ],
      "text/plain": [
       "     ID de Pedido                  Producto  Cantidad Pedida  Precio Unitario  \\\n",
       "0          141234                    iPhone                1              700   \n",
       "1          141235  Lightning Charging Cable                1               14   \n",
       "2          141236          Wired Headphones                2               11   \n",
       "3          141237          27in FHD Monitor                1              149   \n",
       "4          141238          Wired Headphones                1               11   \n",
       "...           ...                       ...              ...              ...   \n",
       "9666       150497              20in Monitor                1              109   \n",
       "9667       150498          27in FHD Monitor                1              149   \n",
       "9668       150499           ThinkPad Laptop                1              999   \n",
       "9669       150500    AAA Batteries (4-pack)                2                2   \n",
       "9670       150501              Google Phone                1              600   \n",
       "\n",
       "     Fecha de Pedido                     Dirección de Envio  \n",
       "0     01/22/19 21:25        944 Walnut St, Boston, MA 02215  \n",
       "1     01/28/19 14:15       185 Maple St, Portland, OR 97035  \n",
       "2     01/17/19 13:33  538 Adams St, San Francisco, CA 94016  \n",
       "3     01/05/19 20:33     738 10th St, Los Angeles, CA 90001  \n",
       "4     01/25/19 11:59          387 10th St, Austin, TX 73301  \n",
       "...              ...                                    ...  \n",
       "9666  01/26/19 19:09            95 8th St, Dallas, TX 75001  \n",
       "9667  01/10/19 22:58    403 7th St, San Francisco, CA 94016  \n",
       "9668  01/21/19 14:31        214 Main St, Portland, OR 97035  \n",
       "9669  01/15/19 14:21      810 2nd St, Los Angeles, CA 90001  \n",
       "9670  01/13/19 16:43         428 Cedar St, Boston, MA 02215  \n",
       "\n",
       "[9671 rows x 6 columns]"
      ]
     },
     "execution_count": 14,
     "metadata": {},
     "output_type": "execute_result"
    }
   ],
   "source": [
    "dataframe_mes = dataframes_meses['Enero']\n",
    "dataframe_mes"
   ]
  },
  {
   "cell_type": "code",
   "execution_count": 15,
   "metadata": {},
   "outputs": [
    {
     "name": "stderr",
     "output_type": "stream",
     "text": [
      "C:\\Users\\PAPI\\AppData\\Local\\Temp\\ipykernel_14588\\3481273808.py:2: UserWarning: Could not infer format, so each element will be parsed individually, falling back to `dateutil`. To ensure parsing is consistent and as-expected, please specify a format.\n",
      "  datos['Fecha de Pedido'] = pd.to_datetime(datos['Fecha de Pedido'])\n"
     ]
    },
    {
     "data": {
      "text/html": [
       "<div>\n",
       "<style scoped>\n",
       "    .dataframe tbody tr th:only-of-type {\n",
       "        vertical-align: middle;\n",
       "    }\n",
       "\n",
       "    .dataframe tbody tr th {\n",
       "        vertical-align: top;\n",
       "    }\n",
       "\n",
       "    .dataframe thead th {\n",
       "        text-align: right;\n",
       "    }\n",
       "</style>\n",
       "<table border=\"1\" class=\"dataframe\">\n",
       "  <thead>\n",
       "    <tr style=\"text-align: right;\">\n",
       "      <th></th>\n",
       "      <th>ID de Pedido</th>\n",
       "      <th>Producto</th>\n",
       "      <th>Cantidad Pedida</th>\n",
       "      <th>Precio Unitario</th>\n",
       "      <th>Fecha de Pedido</th>\n",
       "      <th>Dirección de Envio</th>\n",
       "      <th>Hora</th>\n",
       "      <th>Dia</th>\n",
       "      <th>Dia semanal</th>\n",
       "    </tr>\n",
       "  </thead>\n",
       "  <tbody>\n",
       "    <tr>\n",
       "      <th>0</th>\n",
       "      <td>141234</td>\n",
       "      <td>iPhone</td>\n",
       "      <td>1</td>\n",
       "      <td>700</td>\n",
       "      <td>2019-01-22 21:25:00</td>\n",
       "      <td>944 Walnut St, Boston, MA 02215</td>\n",
       "      <td>21</td>\n",
       "      <td>22</td>\n",
       "      <td>1</td>\n",
       "    </tr>\n",
       "    <tr>\n",
       "      <th>1</th>\n",
       "      <td>141235</td>\n",
       "      <td>Lightning Charging Cable</td>\n",
       "      <td>1</td>\n",
       "      <td>14</td>\n",
       "      <td>2019-01-28 14:15:00</td>\n",
       "      <td>185 Maple St, Portland, OR 97035</td>\n",
       "      <td>14</td>\n",
       "      <td>28</td>\n",
       "      <td>0</td>\n",
       "    </tr>\n",
       "    <tr>\n",
       "      <th>2</th>\n",
       "      <td>141236</td>\n",
       "      <td>Wired Headphones</td>\n",
       "      <td>2</td>\n",
       "      <td>11</td>\n",
       "      <td>2019-01-17 13:33:00</td>\n",
       "      <td>538 Adams St, San Francisco, CA 94016</td>\n",
       "      <td>13</td>\n",
       "      <td>17</td>\n",
       "      <td>3</td>\n",
       "    </tr>\n",
       "    <tr>\n",
       "      <th>3</th>\n",
       "      <td>141237</td>\n",
       "      <td>27in FHD Monitor</td>\n",
       "      <td>1</td>\n",
       "      <td>149</td>\n",
       "      <td>2019-01-05 20:33:00</td>\n",
       "      <td>738 10th St, Los Angeles, CA 90001</td>\n",
       "      <td>20</td>\n",
       "      <td>5</td>\n",
       "      <td>5</td>\n",
       "    </tr>\n",
       "    <tr>\n",
       "      <th>4</th>\n",
       "      <td>141238</td>\n",
       "      <td>Wired Headphones</td>\n",
       "      <td>1</td>\n",
       "      <td>11</td>\n",
       "      <td>2019-01-25 11:59:00</td>\n",
       "      <td>387 10th St, Austin, TX 73301</td>\n",
       "      <td>11</td>\n",
       "      <td>25</td>\n",
       "      <td>4</td>\n",
       "    </tr>\n",
       "    <tr>\n",
       "      <th>...</th>\n",
       "      <td>...</td>\n",
       "      <td>...</td>\n",
       "      <td>...</td>\n",
       "      <td>...</td>\n",
       "      <td>...</td>\n",
       "      <td>...</td>\n",
       "      <td>...</td>\n",
       "      <td>...</td>\n",
       "      <td>...</td>\n",
       "    </tr>\n",
       "    <tr>\n",
       "      <th>9666</th>\n",
       "      <td>150497</td>\n",
       "      <td>20in Monitor</td>\n",
       "      <td>1</td>\n",
       "      <td>109</td>\n",
       "      <td>2019-01-26 19:09:00</td>\n",
       "      <td>95 8th St, Dallas, TX 75001</td>\n",
       "      <td>19</td>\n",
       "      <td>26</td>\n",
       "      <td>5</td>\n",
       "    </tr>\n",
       "    <tr>\n",
       "      <th>9667</th>\n",
       "      <td>150498</td>\n",
       "      <td>27in FHD Monitor</td>\n",
       "      <td>1</td>\n",
       "      <td>149</td>\n",
       "      <td>2019-01-10 22:58:00</td>\n",
       "      <td>403 7th St, San Francisco, CA 94016</td>\n",
       "      <td>22</td>\n",
       "      <td>10</td>\n",
       "      <td>3</td>\n",
       "    </tr>\n",
       "    <tr>\n",
       "      <th>9668</th>\n",
       "      <td>150499</td>\n",
       "      <td>ThinkPad Laptop</td>\n",
       "      <td>1</td>\n",
       "      <td>999</td>\n",
       "      <td>2019-01-21 14:31:00</td>\n",
       "      <td>214 Main St, Portland, OR 97035</td>\n",
       "      <td>14</td>\n",
       "      <td>21</td>\n",
       "      <td>0</td>\n",
       "    </tr>\n",
       "    <tr>\n",
       "      <th>9669</th>\n",
       "      <td>150500</td>\n",
       "      <td>AAA Batteries (4-pack)</td>\n",
       "      <td>2</td>\n",
       "      <td>2</td>\n",
       "      <td>2019-01-15 14:21:00</td>\n",
       "      <td>810 2nd St, Los Angeles, CA 90001</td>\n",
       "      <td>14</td>\n",
       "      <td>15</td>\n",
       "      <td>1</td>\n",
       "    </tr>\n",
       "    <tr>\n",
       "      <th>9670</th>\n",
       "      <td>150501</td>\n",
       "      <td>Google Phone</td>\n",
       "      <td>1</td>\n",
       "      <td>600</td>\n",
       "      <td>2019-01-13 16:43:00</td>\n",
       "      <td>428 Cedar St, Boston, MA 02215</td>\n",
       "      <td>16</td>\n",
       "      <td>13</td>\n",
       "      <td>6</td>\n",
       "    </tr>\n",
       "  </tbody>\n",
       "</table>\n",
       "<p>9671 rows × 9 columns</p>\n",
       "</div>"
      ],
      "text/plain": [
       "     ID de Pedido                  Producto  Cantidad Pedida  Precio Unitario  \\\n",
       "0          141234                    iPhone                1              700   \n",
       "1          141235  Lightning Charging Cable                1               14   \n",
       "2          141236          Wired Headphones                2               11   \n",
       "3          141237          27in FHD Monitor                1              149   \n",
       "4          141238          Wired Headphones                1               11   \n",
       "...           ...                       ...              ...              ...   \n",
       "9666       150497              20in Monitor                1              109   \n",
       "9667       150498          27in FHD Monitor                1              149   \n",
       "9668       150499           ThinkPad Laptop                1              999   \n",
       "9669       150500    AAA Batteries (4-pack)                2                2   \n",
       "9670       150501              Google Phone                1              600   \n",
       "\n",
       "         Fecha de Pedido                     Dirección de Envio  Hora  Dia  \\\n",
       "0    2019-01-22 21:25:00        944 Walnut St, Boston, MA 02215    21   22   \n",
       "1    2019-01-28 14:15:00       185 Maple St, Portland, OR 97035    14   28   \n",
       "2    2019-01-17 13:33:00  538 Adams St, San Francisco, CA 94016    13   17   \n",
       "3    2019-01-05 20:33:00     738 10th St, Los Angeles, CA 90001    20    5   \n",
       "4    2019-01-25 11:59:00          387 10th St, Austin, TX 73301    11   25   \n",
       "...                  ...                                    ...   ...  ...   \n",
       "9666 2019-01-26 19:09:00            95 8th St, Dallas, TX 75001    19   26   \n",
       "9667 2019-01-10 22:58:00    403 7th St, San Francisco, CA 94016    22   10   \n",
       "9668 2019-01-21 14:31:00        214 Main St, Portland, OR 97035    14   21   \n",
       "9669 2019-01-15 14:21:00      810 2nd St, Los Angeles, CA 90001    14   15   \n",
       "9670 2019-01-13 16:43:00         428 Cedar St, Boston, MA 02215    16   13   \n",
       "\n",
       "      Dia semanal  \n",
       "0               1  \n",
       "1               0  \n",
       "2               3  \n",
       "3               5  \n",
       "4               4  \n",
       "...           ...  \n",
       "9666            5  \n",
       "9667            3  \n",
       "9668            0  \n",
       "9669            1  \n",
       "9670            6  \n",
       "\n",
       "[9671 rows x 9 columns]"
      ]
     },
     "execution_count": 15,
     "metadata": {},
     "output_type": "execute_result"
    }
   ],
   "source": [
    "dataframe_mes = extraer_datos(dataframe_mes)\n",
    "dataframe_mes"
   ]
  },
  {
   "cell_type": "code",
   "execution_count": 16,
   "metadata": {},
   "outputs": [
    {
     "data": {
      "text/html": [
       "<div>\n",
       "<style scoped>\n",
       "    .dataframe tbody tr th:only-of-type {\n",
       "        vertical-align: middle;\n",
       "    }\n",
       "\n",
       "    .dataframe tbody tr th {\n",
       "        vertical-align: top;\n",
       "    }\n",
       "\n",
       "    .dataframe thead th {\n",
       "        text-align: right;\n",
       "    }\n",
       "</style>\n",
       "<table border=\"1\" class=\"dataframe\">\n",
       "  <thead>\n",
       "    <tr style=\"text-align: right;\">\n",
       "      <th></th>\n",
       "      <th>Calle</th>\n",
       "      <th>Ciudad</th>\n",
       "      <th>PO BOX</th>\n",
       "    </tr>\n",
       "  </thead>\n",
       "  <tbody>\n",
       "    <tr>\n",
       "      <th>0</th>\n",
       "      <td>944 Walnut St</td>\n",
       "      <td>Boston</td>\n",
       "      <td>MA 02215</td>\n",
       "    </tr>\n",
       "    <tr>\n",
       "      <th>1</th>\n",
       "      <td>185 Maple St</td>\n",
       "      <td>Portland</td>\n",
       "      <td>OR 97035</td>\n",
       "    </tr>\n",
       "    <tr>\n",
       "      <th>2</th>\n",
       "      <td>538 Adams St</td>\n",
       "      <td>San Francisco</td>\n",
       "      <td>CA 94016</td>\n",
       "    </tr>\n",
       "    <tr>\n",
       "      <th>3</th>\n",
       "      <td>738 10th St</td>\n",
       "      <td>Los Angeles</td>\n",
       "      <td>CA 90001</td>\n",
       "    </tr>\n",
       "    <tr>\n",
       "      <th>4</th>\n",
       "      <td>387 10th St</td>\n",
       "      <td>Austin</td>\n",
       "      <td>TX 73301</td>\n",
       "    </tr>\n",
       "    <tr>\n",
       "      <th>...</th>\n",
       "      <td>...</td>\n",
       "      <td>...</td>\n",
       "      <td>...</td>\n",
       "    </tr>\n",
       "    <tr>\n",
       "      <th>9666</th>\n",
       "      <td>95 8th St</td>\n",
       "      <td>Dallas</td>\n",
       "      <td>TX 75001</td>\n",
       "    </tr>\n",
       "    <tr>\n",
       "      <th>9667</th>\n",
       "      <td>403 7th St</td>\n",
       "      <td>San Francisco</td>\n",
       "      <td>CA 94016</td>\n",
       "    </tr>\n",
       "    <tr>\n",
       "      <th>9668</th>\n",
       "      <td>214 Main St</td>\n",
       "      <td>Portland</td>\n",
       "      <td>OR 97035</td>\n",
       "    </tr>\n",
       "    <tr>\n",
       "      <th>9669</th>\n",
       "      <td>810 2nd St</td>\n",
       "      <td>Los Angeles</td>\n",
       "      <td>CA 90001</td>\n",
       "    </tr>\n",
       "    <tr>\n",
       "      <th>9670</th>\n",
       "      <td>428 Cedar St</td>\n",
       "      <td>Boston</td>\n",
       "      <td>MA 02215</td>\n",
       "    </tr>\n",
       "  </tbody>\n",
       "</table>\n",
       "<p>9671 rows × 3 columns</p>\n",
       "</div>"
      ],
      "text/plain": [
       "              Calle         Ciudad    PO BOX\n",
       "0     944 Walnut St         Boston  MA 02215\n",
       "1      185 Maple St       Portland  OR 97035\n",
       "2      538 Adams St  San Francisco  CA 94016\n",
       "3       738 10th St    Los Angeles  CA 90001\n",
       "4       387 10th St         Austin  TX 73301\n",
       "...             ...            ...       ...\n",
       "9666      95 8th St         Dallas  TX 75001\n",
       "9667     403 7th St  San Francisco  CA 94016\n",
       "9668    214 Main St       Portland  OR 97035\n",
       "9669     810 2nd St    Los Angeles  CA 90001\n",
       "9670   428 Cedar St         Boston  MA 02215\n",
       "\n",
       "[9671 rows x 3 columns]"
      ]
     },
     "execution_count": 16,
     "metadata": {},
     "output_type": "execute_result"
    }
   ],
   "source": [
    "# Separo la direccion de envio en calle ciudad y PO BOX\n",
    "direccion_df = dataframe_mes['Dirección de Envio'].str.split(', ',expand=True)\n",
    "direccion_df.columns = ['Calle','Ciudad','PO BOX']\n",
    "direccion_df\n"
   ]
  },
  {
   "cell_type": "code",
   "execution_count": 17,
   "metadata": {},
   "outputs": [
    {
     "data": {
      "text/html": [
       "<div>\n",
       "<style scoped>\n",
       "    .dataframe tbody tr th:only-of-type {\n",
       "        vertical-align: middle;\n",
       "    }\n",
       "\n",
       "    .dataframe tbody tr th {\n",
       "        vertical-align: top;\n",
       "    }\n",
       "\n",
       "    .dataframe thead th {\n",
       "        text-align: right;\n",
       "    }\n",
       "</style>\n",
       "<table border=\"1\" class=\"dataframe\">\n",
       "  <thead>\n",
       "    <tr style=\"text-align: right;\">\n",
       "      <th></th>\n",
       "      <th>ID de Pedido</th>\n",
       "      <th>Producto</th>\n",
       "      <th>Cantidad Pedida</th>\n",
       "      <th>Precio Unitario</th>\n",
       "      <th>Fecha de Pedido</th>\n",
       "      <th>Dirección de Envio</th>\n",
       "      <th>Hora</th>\n",
       "      <th>Dia</th>\n",
       "      <th>Dia semanal</th>\n",
       "      <th>Calle</th>\n",
       "      <th>Ciudad</th>\n",
       "      <th>PO BOX</th>\n",
       "      <th>Estado</th>\n",
       "      <th>Cod Postal</th>\n",
       "    </tr>\n",
       "  </thead>\n",
       "  <tbody>\n",
       "    <tr>\n",
       "      <th>0</th>\n",
       "      <td>141234</td>\n",
       "      <td>iPhone</td>\n",
       "      <td>1</td>\n",
       "      <td>700</td>\n",
       "      <td>2019-01-22 21:25:00</td>\n",
       "      <td>944 Walnut St, Boston, MA 02215</td>\n",
       "      <td>21</td>\n",
       "      <td>22</td>\n",
       "      <td>1</td>\n",
       "      <td>944 Walnut St</td>\n",
       "      <td>Boston</td>\n",
       "      <td>MA 02215</td>\n",
       "      <td>MA</td>\n",
       "      <td>02215</td>\n",
       "    </tr>\n",
       "    <tr>\n",
       "      <th>1</th>\n",
       "      <td>141235</td>\n",
       "      <td>Lightning Charging Cable</td>\n",
       "      <td>1</td>\n",
       "      <td>14</td>\n",
       "      <td>2019-01-28 14:15:00</td>\n",
       "      <td>185 Maple St, Portland, OR 97035</td>\n",
       "      <td>14</td>\n",
       "      <td>28</td>\n",
       "      <td>0</td>\n",
       "      <td>185 Maple St</td>\n",
       "      <td>Portland</td>\n",
       "      <td>OR 97035</td>\n",
       "      <td>OR</td>\n",
       "      <td>97035</td>\n",
       "    </tr>\n",
       "    <tr>\n",
       "      <th>2</th>\n",
       "      <td>141236</td>\n",
       "      <td>Wired Headphones</td>\n",
       "      <td>2</td>\n",
       "      <td>11</td>\n",
       "      <td>2019-01-17 13:33:00</td>\n",
       "      <td>538 Adams St, San Francisco, CA 94016</td>\n",
       "      <td>13</td>\n",
       "      <td>17</td>\n",
       "      <td>3</td>\n",
       "      <td>538 Adams St</td>\n",
       "      <td>San Francisco</td>\n",
       "      <td>CA 94016</td>\n",
       "      <td>CA</td>\n",
       "      <td>94016</td>\n",
       "    </tr>\n",
       "    <tr>\n",
       "      <th>3</th>\n",
       "      <td>141237</td>\n",
       "      <td>27in FHD Monitor</td>\n",
       "      <td>1</td>\n",
       "      <td>149</td>\n",
       "      <td>2019-01-05 20:33:00</td>\n",
       "      <td>738 10th St, Los Angeles, CA 90001</td>\n",
       "      <td>20</td>\n",
       "      <td>5</td>\n",
       "      <td>5</td>\n",
       "      <td>738 10th St</td>\n",
       "      <td>Los Angeles</td>\n",
       "      <td>CA 90001</td>\n",
       "      <td>CA</td>\n",
       "      <td>90001</td>\n",
       "    </tr>\n",
       "    <tr>\n",
       "      <th>4</th>\n",
       "      <td>141238</td>\n",
       "      <td>Wired Headphones</td>\n",
       "      <td>1</td>\n",
       "      <td>11</td>\n",
       "      <td>2019-01-25 11:59:00</td>\n",
       "      <td>387 10th St, Austin, TX 73301</td>\n",
       "      <td>11</td>\n",
       "      <td>25</td>\n",
       "      <td>4</td>\n",
       "      <td>387 10th St</td>\n",
       "      <td>Austin</td>\n",
       "      <td>TX 73301</td>\n",
       "      <td>TX</td>\n",
       "      <td>73301</td>\n",
       "    </tr>\n",
       "    <tr>\n",
       "      <th>...</th>\n",
       "      <td>...</td>\n",
       "      <td>...</td>\n",
       "      <td>...</td>\n",
       "      <td>...</td>\n",
       "      <td>...</td>\n",
       "      <td>...</td>\n",
       "      <td>...</td>\n",
       "      <td>...</td>\n",
       "      <td>...</td>\n",
       "      <td>...</td>\n",
       "      <td>...</td>\n",
       "      <td>...</td>\n",
       "      <td>...</td>\n",
       "      <td>...</td>\n",
       "    </tr>\n",
       "    <tr>\n",
       "      <th>9666</th>\n",
       "      <td>150497</td>\n",
       "      <td>20in Monitor</td>\n",
       "      <td>1</td>\n",
       "      <td>109</td>\n",
       "      <td>2019-01-26 19:09:00</td>\n",
       "      <td>95 8th St, Dallas, TX 75001</td>\n",
       "      <td>19</td>\n",
       "      <td>26</td>\n",
       "      <td>5</td>\n",
       "      <td>95 8th St</td>\n",
       "      <td>Dallas</td>\n",
       "      <td>TX 75001</td>\n",
       "      <td>TX</td>\n",
       "      <td>75001</td>\n",
       "    </tr>\n",
       "    <tr>\n",
       "      <th>9667</th>\n",
       "      <td>150498</td>\n",
       "      <td>27in FHD Monitor</td>\n",
       "      <td>1</td>\n",
       "      <td>149</td>\n",
       "      <td>2019-01-10 22:58:00</td>\n",
       "      <td>403 7th St, San Francisco, CA 94016</td>\n",
       "      <td>22</td>\n",
       "      <td>10</td>\n",
       "      <td>3</td>\n",
       "      <td>403 7th St</td>\n",
       "      <td>San Francisco</td>\n",
       "      <td>CA 94016</td>\n",
       "      <td>CA</td>\n",
       "      <td>94016</td>\n",
       "    </tr>\n",
       "    <tr>\n",
       "      <th>9668</th>\n",
       "      <td>150499</td>\n",
       "      <td>ThinkPad Laptop</td>\n",
       "      <td>1</td>\n",
       "      <td>999</td>\n",
       "      <td>2019-01-21 14:31:00</td>\n",
       "      <td>214 Main St, Portland, OR 97035</td>\n",
       "      <td>14</td>\n",
       "      <td>21</td>\n",
       "      <td>0</td>\n",
       "      <td>214 Main St</td>\n",
       "      <td>Portland</td>\n",
       "      <td>OR 97035</td>\n",
       "      <td>OR</td>\n",
       "      <td>97035</td>\n",
       "    </tr>\n",
       "    <tr>\n",
       "      <th>9669</th>\n",
       "      <td>150500</td>\n",
       "      <td>AAA Batteries (4-pack)</td>\n",
       "      <td>2</td>\n",
       "      <td>2</td>\n",
       "      <td>2019-01-15 14:21:00</td>\n",
       "      <td>810 2nd St, Los Angeles, CA 90001</td>\n",
       "      <td>14</td>\n",
       "      <td>15</td>\n",
       "      <td>1</td>\n",
       "      <td>810 2nd St</td>\n",
       "      <td>Los Angeles</td>\n",
       "      <td>CA 90001</td>\n",
       "      <td>CA</td>\n",
       "      <td>90001</td>\n",
       "    </tr>\n",
       "    <tr>\n",
       "      <th>9670</th>\n",
       "      <td>150501</td>\n",
       "      <td>Google Phone</td>\n",
       "      <td>1</td>\n",
       "      <td>600</td>\n",
       "      <td>2019-01-13 16:43:00</td>\n",
       "      <td>428 Cedar St, Boston, MA 02215</td>\n",
       "      <td>16</td>\n",
       "      <td>13</td>\n",
       "      <td>6</td>\n",
       "      <td>428 Cedar St</td>\n",
       "      <td>Boston</td>\n",
       "      <td>MA 02215</td>\n",
       "      <td>MA</td>\n",
       "      <td>02215</td>\n",
       "    </tr>\n",
       "  </tbody>\n",
       "</table>\n",
       "<p>9671 rows × 14 columns</p>\n",
       "</div>"
      ],
      "text/plain": [
       "     ID de Pedido                  Producto  Cantidad Pedida  Precio Unitario  \\\n",
       "0          141234                    iPhone                1              700   \n",
       "1          141235  Lightning Charging Cable                1               14   \n",
       "2          141236          Wired Headphones                2               11   \n",
       "3          141237          27in FHD Monitor                1              149   \n",
       "4          141238          Wired Headphones                1               11   \n",
       "...           ...                       ...              ...              ...   \n",
       "9666       150497              20in Monitor                1              109   \n",
       "9667       150498          27in FHD Monitor                1              149   \n",
       "9668       150499           ThinkPad Laptop                1              999   \n",
       "9669       150500    AAA Batteries (4-pack)                2                2   \n",
       "9670       150501              Google Phone                1              600   \n",
       "\n",
       "         Fecha de Pedido                     Dirección de Envio  Hora  Dia  \\\n",
       "0    2019-01-22 21:25:00        944 Walnut St, Boston, MA 02215    21   22   \n",
       "1    2019-01-28 14:15:00       185 Maple St, Portland, OR 97035    14   28   \n",
       "2    2019-01-17 13:33:00  538 Adams St, San Francisco, CA 94016    13   17   \n",
       "3    2019-01-05 20:33:00     738 10th St, Los Angeles, CA 90001    20    5   \n",
       "4    2019-01-25 11:59:00          387 10th St, Austin, TX 73301    11   25   \n",
       "...                  ...                                    ...   ...  ...   \n",
       "9666 2019-01-26 19:09:00            95 8th St, Dallas, TX 75001    19   26   \n",
       "9667 2019-01-10 22:58:00    403 7th St, San Francisco, CA 94016    22   10   \n",
       "9668 2019-01-21 14:31:00        214 Main St, Portland, OR 97035    14   21   \n",
       "9669 2019-01-15 14:21:00      810 2nd St, Los Angeles, CA 90001    14   15   \n",
       "9670 2019-01-13 16:43:00         428 Cedar St, Boston, MA 02215    16   13   \n",
       "\n",
       "      Dia semanal          Calle         Ciudad    PO BOX Estado Cod Postal  \n",
       "0               1  944 Walnut St         Boston  MA 02215     MA      02215  \n",
       "1               0   185 Maple St       Portland  OR 97035     OR      97035  \n",
       "2               3   538 Adams St  San Francisco  CA 94016     CA      94016  \n",
       "3               5    738 10th St    Los Angeles  CA 90001     CA      90001  \n",
       "4               4    387 10th St         Austin  TX 73301     TX      73301  \n",
       "...           ...            ...            ...       ...    ...        ...  \n",
       "9666            5      95 8th St         Dallas  TX 75001     TX      75001  \n",
       "9667            3     403 7th St  San Francisco  CA 94016     CA      94016  \n",
       "9668            0    214 Main St       Portland  OR 97035     OR      97035  \n",
       "9669            1     810 2nd St    Los Angeles  CA 90001     CA      90001  \n",
       "9670            6   428 Cedar St         Boston  MA 02215     MA      02215  \n",
       "\n",
       "[9671 rows x 14 columns]"
      ]
     },
     "execution_count": 17,
     "metadata": {},
     "output_type": "execute_result"
    }
   ],
   "source": [
    "# Separo el PO BOX en Estado y Cod Postal\n",
    "direccion_df[['Estado', 'Cod Postal']] = direccion_df['PO BOX'].str.split(' ',expand=True)\n",
    "df_ventas_desglosado = pd.concat([dataframe_mes,direccion_df],axis=True)\n",
    "df_ventas_desglosado"
   ]
  },
  {
   "cell_type": "code",
   "execution_count": 18,
   "metadata": {},
   "outputs": [
    {
     "name": "stdout",
     "output_type": "stream",
     "text": [
      "<class 'pandas.core.frame.DataFrame'>\n",
      "RangeIndex: 9671 entries, 0 to 9670\n",
      "Data columns (total 14 columns):\n",
      " #   Column              Non-Null Count  Dtype         \n",
      "---  ------              --------------  -----         \n",
      " 0   ID de Pedido        9671 non-null   object        \n",
      " 1   Producto            9671 non-null   object        \n",
      " 2   Cantidad Pedida     9671 non-null   int32         \n",
      " 3   Precio Unitario     9671 non-null   int32         \n",
      " 4   Fecha de Pedido     9671 non-null   datetime64[ns]\n",
      " 5   Dirección de Envio  9671 non-null   object        \n",
      " 6   Hora                9671 non-null   int32         \n",
      " 7   Dia                 9671 non-null   int32         \n",
      " 8   Dia semanal         9671 non-null   int32         \n",
      " 9   Calle               9671 non-null   object        \n",
      " 10  Ciudad              9671 non-null   object        \n",
      " 11  PO BOX              9671 non-null   object        \n",
      " 12  Estado              9671 non-null   object        \n",
      " 13  Cod Postal          9671 non-null   object        \n",
      "dtypes: datetime64[ns](1), int32(5), object(8)\n",
      "memory usage: 869.0+ KB\n"
     ]
    }
   ],
   "source": [
    "df_ventas_desglosado.info()"
   ]
  },
  {
   "cell_type": "markdown",
   "metadata": {},
   "source": [
    "## Nueva Funcion extraer_datos\n"
   ]
  },
  {
   "cell_type": "code",
   "execution_count": 19,
   "metadata": {},
   "outputs": [],
   "source": [
    "def extraer_datos(datos):\n",
    "  datos['Fecha de Pedido'] = pd.to_datetime(datos['Fecha de Pedido'])\n",
    "  datos['Hora'] = datos['Fecha de Pedido'].dt.hour\n",
    "  datos['Dia'] = datos['Fecha de Pedido'].dt.day\n",
    "  datos['Dia semanal'] = datos['Fecha de Pedido'].dt.weekday\n",
    "  \n",
    "  # Separo la direccion de envio en calle ciudad y PO BOX\n",
    "  direccion_df = datos['Dirección de Envio'].str.split(', ',expand=True)\n",
    "  direccion_df.columns = ['Calle','Ciudad','PO BOX']\n",
    "  # Separo el PO BOX en Estado y Cod Postal\n",
    "  direccion_df[['Estado', 'Cod Postal']] = direccion_df['PO BOX'].str.split(' ',expand=True)\n",
    "  df_ventas_desglosado = pd.concat([datos,direccion_df],axis=True)\n",
    "    \n",
    "  return df_ventas_desglosado"
   ]
  },
  {
   "cell_type": "code",
   "execution_count": 20,
   "metadata": {},
   "outputs": [
    {
     "data": {
      "text/html": [
       "<div>\n",
       "<style scoped>\n",
       "    .dataframe tbody tr th:only-of-type {\n",
       "        vertical-align: middle;\n",
       "    }\n",
       "\n",
       "    .dataframe tbody tr th {\n",
       "        vertical-align: top;\n",
       "    }\n",
       "\n",
       "    .dataframe thead th {\n",
       "        text-align: right;\n",
       "    }\n",
       "</style>\n",
       "<table border=\"1\" class=\"dataframe\">\n",
       "  <thead>\n",
       "    <tr style=\"text-align: right;\">\n",
       "      <th></th>\n",
       "      <th>ID de Pedido</th>\n",
       "      <th>Producto</th>\n",
       "      <th>Cantidad Pedida</th>\n",
       "      <th>Precio Unitario</th>\n",
       "      <th>Fecha de Pedido</th>\n",
       "      <th>Dirección de Envio</th>\n",
       "    </tr>\n",
       "  </thead>\n",
       "  <tbody>\n",
       "    <tr>\n",
       "      <th>0</th>\n",
       "      <td>162009</td>\n",
       "      <td>iPhone</td>\n",
       "      <td>1</td>\n",
       "      <td>700</td>\n",
       "      <td>03/28/19 20:59</td>\n",
       "      <td>942 Church St, Austin, TX 73301</td>\n",
       "    </tr>\n",
       "    <tr>\n",
       "      <th>1</th>\n",
       "      <td>162009</td>\n",
       "      <td>Lightning Charging Cable</td>\n",
       "      <td>1</td>\n",
       "      <td>14</td>\n",
       "      <td>03/28/19 20:59</td>\n",
       "      <td>942 Church St, Austin, TX 73301</td>\n",
       "    </tr>\n",
       "    <tr>\n",
       "      <th>2</th>\n",
       "      <td>162009</td>\n",
       "      <td>Wired Headphones</td>\n",
       "      <td>2</td>\n",
       "      <td>11</td>\n",
       "      <td>03/28/19 20:59</td>\n",
       "      <td>942 Church St, Austin, TX 73301</td>\n",
       "    </tr>\n",
       "    <tr>\n",
       "      <th>3</th>\n",
       "      <td>162010</td>\n",
       "      <td>Bose SoundSport Headphones</td>\n",
       "      <td>1</td>\n",
       "      <td>99</td>\n",
       "      <td>03/17/19 05:39</td>\n",
       "      <td>261 10th St, San Francisco, CA 94016</td>\n",
       "    </tr>\n",
       "    <tr>\n",
       "      <th>4</th>\n",
       "      <td>162011</td>\n",
       "      <td>34in Ultrawide Monitor</td>\n",
       "      <td>1</td>\n",
       "      <td>379</td>\n",
       "      <td>03/10/19 00:01</td>\n",
       "      <td>764 13th St, San Francisco, CA 94016</td>\n",
       "    </tr>\n",
       "    <tr>\n",
       "      <th>...</th>\n",
       "      <td>...</td>\n",
       "      <td>...</td>\n",
       "      <td>...</td>\n",
       "      <td>...</td>\n",
       "      <td>...</td>\n",
       "      <td>...</td>\n",
       "    </tr>\n",
       "    <tr>\n",
       "      <th>15124</th>\n",
       "      <td>176554</td>\n",
       "      <td>Lightning Charging Cable</td>\n",
       "      <td>1</td>\n",
       "      <td>14</td>\n",
       "      <td>03/24/19 11:14</td>\n",
       "      <td>672 12th St, San Francisco, CA 94016</td>\n",
       "    </tr>\n",
       "    <tr>\n",
       "      <th>15125</th>\n",
       "      <td>176555</td>\n",
       "      <td>27in FHD Monitor</td>\n",
       "      <td>1</td>\n",
       "      <td>149</td>\n",
       "      <td>03/22/19 20:27</td>\n",
       "      <td>42 4th St, San Francisco, CA 94016</td>\n",
       "    </tr>\n",
       "    <tr>\n",
       "      <th>15126</th>\n",
       "      <td>176556</td>\n",
       "      <td>AAA Batteries (4-pack)</td>\n",
       "      <td>3</td>\n",
       "      <td>2</td>\n",
       "      <td>03/14/19 10:29</td>\n",
       "      <td>871 7th St, Los Angeles, CA 90001</td>\n",
       "    </tr>\n",
       "    <tr>\n",
       "      <th>15127</th>\n",
       "      <td>176557</td>\n",
       "      <td>iPhone</td>\n",
       "      <td>1</td>\n",
       "      <td>700</td>\n",
       "      <td>03/30/19 12:32</td>\n",
       "      <td>83 Washington St, San Francisco, CA 94016</td>\n",
       "    </tr>\n",
       "    <tr>\n",
       "      <th>15128</th>\n",
       "      <td>176557</td>\n",
       "      <td>Lightning Charging Cable</td>\n",
       "      <td>1</td>\n",
       "      <td>14</td>\n",
       "      <td>03/30/19 12:32</td>\n",
       "      <td>83 Washington St, San Francisco, CA 94016</td>\n",
       "    </tr>\n",
       "  </tbody>\n",
       "</table>\n",
       "<p>15129 rows × 6 columns</p>\n",
       "</div>"
      ],
      "text/plain": [
       "      ID de Pedido                    Producto  Cantidad Pedida  \\\n",
       "0           162009                      iPhone                1   \n",
       "1           162009    Lightning Charging Cable                1   \n",
       "2           162009            Wired Headphones                2   \n",
       "3           162010  Bose SoundSport Headphones                1   \n",
       "4           162011      34in Ultrawide Monitor                1   \n",
       "...            ...                         ...              ...   \n",
       "15124       176554    Lightning Charging Cable                1   \n",
       "15125       176555            27in FHD Monitor                1   \n",
       "15126       176556      AAA Batteries (4-pack)                3   \n",
       "15127       176557                      iPhone                1   \n",
       "15128       176557    Lightning Charging Cable                1   \n",
       "\n",
       "       Precio Unitario Fecha de Pedido  \\\n",
       "0                  700  03/28/19 20:59   \n",
       "1                   14  03/28/19 20:59   \n",
       "2                   11  03/28/19 20:59   \n",
       "3                   99  03/17/19 05:39   \n",
       "4                  379  03/10/19 00:01   \n",
       "...                ...             ...   \n",
       "15124               14  03/24/19 11:14   \n",
       "15125              149  03/22/19 20:27   \n",
       "15126                2  03/14/19 10:29   \n",
       "15127              700  03/30/19 12:32   \n",
       "15128               14  03/30/19 12:32   \n",
       "\n",
       "                              Dirección de Envio  \n",
       "0                942 Church St, Austin, TX 73301  \n",
       "1                942 Church St, Austin, TX 73301  \n",
       "2                942 Church St, Austin, TX 73301  \n",
       "3           261 10th St, San Francisco, CA 94016  \n",
       "4           764 13th St, San Francisco, CA 94016  \n",
       "...                                          ...  \n",
       "15124       672 12th St, San Francisco, CA 94016  \n",
       "15125         42 4th St, San Francisco, CA 94016  \n",
       "15126          871 7th St, Los Angeles, CA 90001  \n",
       "15127  83 Washington St, San Francisco, CA 94016  \n",
       "15128  83 Washington St, San Francisco, CA 94016  \n",
       "\n",
       "[15129 rows x 6 columns]"
      ]
     },
     "execution_count": 20,
     "metadata": {},
     "output_type": "execute_result"
    }
   ],
   "source": [
    "dataframe_mes = dataframes_meses['Marzo']\n",
    "dataframe_mes"
   ]
  },
  {
   "cell_type": "code",
   "execution_count": 21,
   "metadata": {},
   "outputs": [
    {
     "name": "stderr",
     "output_type": "stream",
     "text": [
      "C:\\Users\\PAPI\\AppData\\Local\\Temp\\ipykernel_14588\\2724519435.py:2: UserWarning: Could not infer format, so each element will be parsed individually, falling back to `dateutil`. To ensure parsing is consistent and as-expected, please specify a format.\n",
      "  datos['Fecha de Pedido'] = pd.to_datetime(datos['Fecha de Pedido'])\n"
     ]
    },
    {
     "data": {
      "text/html": [
       "<div>\n",
       "<style scoped>\n",
       "    .dataframe tbody tr th:only-of-type {\n",
       "        vertical-align: middle;\n",
       "    }\n",
       "\n",
       "    .dataframe tbody tr th {\n",
       "        vertical-align: top;\n",
       "    }\n",
       "\n",
       "    .dataframe thead th {\n",
       "        text-align: right;\n",
       "    }\n",
       "</style>\n",
       "<table border=\"1\" class=\"dataframe\">\n",
       "  <thead>\n",
       "    <tr style=\"text-align: right;\">\n",
       "      <th></th>\n",
       "      <th>ID de Pedido</th>\n",
       "      <th>Producto</th>\n",
       "      <th>Cantidad Pedida</th>\n",
       "      <th>Precio Unitario</th>\n",
       "      <th>Fecha de Pedido</th>\n",
       "      <th>Dirección de Envio</th>\n",
       "      <th>Hora</th>\n",
       "      <th>Dia</th>\n",
       "      <th>Dia semanal</th>\n",
       "      <th>Calle</th>\n",
       "      <th>Ciudad</th>\n",
       "      <th>PO BOX</th>\n",
       "      <th>Estado</th>\n",
       "      <th>Cod Postal</th>\n",
       "    </tr>\n",
       "  </thead>\n",
       "  <tbody>\n",
       "    <tr>\n",
       "      <th>0</th>\n",
       "      <td>162009</td>\n",
       "      <td>iPhone</td>\n",
       "      <td>1</td>\n",
       "      <td>700</td>\n",
       "      <td>2019-03-28 20:59:00</td>\n",
       "      <td>942 Church St, Austin, TX 73301</td>\n",
       "      <td>20</td>\n",
       "      <td>28</td>\n",
       "      <td>3</td>\n",
       "      <td>942 Church St</td>\n",
       "      <td>Austin</td>\n",
       "      <td>TX 73301</td>\n",
       "      <td>TX</td>\n",
       "      <td>73301</td>\n",
       "    </tr>\n",
       "    <tr>\n",
       "      <th>1</th>\n",
       "      <td>162009</td>\n",
       "      <td>Lightning Charging Cable</td>\n",
       "      <td>1</td>\n",
       "      <td>14</td>\n",
       "      <td>2019-03-28 20:59:00</td>\n",
       "      <td>942 Church St, Austin, TX 73301</td>\n",
       "      <td>20</td>\n",
       "      <td>28</td>\n",
       "      <td>3</td>\n",
       "      <td>942 Church St</td>\n",
       "      <td>Austin</td>\n",
       "      <td>TX 73301</td>\n",
       "      <td>TX</td>\n",
       "      <td>73301</td>\n",
       "    </tr>\n",
       "    <tr>\n",
       "      <th>2</th>\n",
       "      <td>162009</td>\n",
       "      <td>Wired Headphones</td>\n",
       "      <td>2</td>\n",
       "      <td>11</td>\n",
       "      <td>2019-03-28 20:59:00</td>\n",
       "      <td>942 Church St, Austin, TX 73301</td>\n",
       "      <td>20</td>\n",
       "      <td>28</td>\n",
       "      <td>3</td>\n",
       "      <td>942 Church St</td>\n",
       "      <td>Austin</td>\n",
       "      <td>TX 73301</td>\n",
       "      <td>TX</td>\n",
       "      <td>73301</td>\n",
       "    </tr>\n",
       "    <tr>\n",
       "      <th>3</th>\n",
       "      <td>162010</td>\n",
       "      <td>Bose SoundSport Headphones</td>\n",
       "      <td>1</td>\n",
       "      <td>99</td>\n",
       "      <td>2019-03-17 05:39:00</td>\n",
       "      <td>261 10th St, San Francisco, CA 94016</td>\n",
       "      <td>5</td>\n",
       "      <td>17</td>\n",
       "      <td>6</td>\n",
       "      <td>261 10th St</td>\n",
       "      <td>San Francisco</td>\n",
       "      <td>CA 94016</td>\n",
       "      <td>CA</td>\n",
       "      <td>94016</td>\n",
       "    </tr>\n",
       "    <tr>\n",
       "      <th>4</th>\n",
       "      <td>162011</td>\n",
       "      <td>34in Ultrawide Monitor</td>\n",
       "      <td>1</td>\n",
       "      <td>379</td>\n",
       "      <td>2019-03-10 00:01:00</td>\n",
       "      <td>764 13th St, San Francisco, CA 94016</td>\n",
       "      <td>0</td>\n",
       "      <td>10</td>\n",
       "      <td>6</td>\n",
       "      <td>764 13th St</td>\n",
       "      <td>San Francisco</td>\n",
       "      <td>CA 94016</td>\n",
       "      <td>CA</td>\n",
       "      <td>94016</td>\n",
       "    </tr>\n",
       "    <tr>\n",
       "      <th>...</th>\n",
       "      <td>...</td>\n",
       "      <td>...</td>\n",
       "      <td>...</td>\n",
       "      <td>...</td>\n",
       "      <td>...</td>\n",
       "      <td>...</td>\n",
       "      <td>...</td>\n",
       "      <td>...</td>\n",
       "      <td>...</td>\n",
       "      <td>...</td>\n",
       "      <td>...</td>\n",
       "      <td>...</td>\n",
       "      <td>...</td>\n",
       "      <td>...</td>\n",
       "    </tr>\n",
       "    <tr>\n",
       "      <th>15124</th>\n",
       "      <td>176554</td>\n",
       "      <td>Lightning Charging Cable</td>\n",
       "      <td>1</td>\n",
       "      <td>14</td>\n",
       "      <td>2019-03-24 11:14:00</td>\n",
       "      <td>672 12th St, San Francisco, CA 94016</td>\n",
       "      <td>11</td>\n",
       "      <td>24</td>\n",
       "      <td>6</td>\n",
       "      <td>672 12th St</td>\n",
       "      <td>San Francisco</td>\n",
       "      <td>CA 94016</td>\n",
       "      <td>CA</td>\n",
       "      <td>94016</td>\n",
       "    </tr>\n",
       "    <tr>\n",
       "      <th>15125</th>\n",
       "      <td>176555</td>\n",
       "      <td>27in FHD Monitor</td>\n",
       "      <td>1</td>\n",
       "      <td>149</td>\n",
       "      <td>2019-03-22 20:27:00</td>\n",
       "      <td>42 4th St, San Francisco, CA 94016</td>\n",
       "      <td>20</td>\n",
       "      <td>22</td>\n",
       "      <td>4</td>\n",
       "      <td>42 4th St</td>\n",
       "      <td>San Francisco</td>\n",
       "      <td>CA 94016</td>\n",
       "      <td>CA</td>\n",
       "      <td>94016</td>\n",
       "    </tr>\n",
       "    <tr>\n",
       "      <th>15126</th>\n",
       "      <td>176556</td>\n",
       "      <td>AAA Batteries (4-pack)</td>\n",
       "      <td>3</td>\n",
       "      <td>2</td>\n",
       "      <td>2019-03-14 10:29:00</td>\n",
       "      <td>871 7th St, Los Angeles, CA 90001</td>\n",
       "      <td>10</td>\n",
       "      <td>14</td>\n",
       "      <td>3</td>\n",
       "      <td>871 7th St</td>\n",
       "      <td>Los Angeles</td>\n",
       "      <td>CA 90001</td>\n",
       "      <td>CA</td>\n",
       "      <td>90001</td>\n",
       "    </tr>\n",
       "    <tr>\n",
       "      <th>15127</th>\n",
       "      <td>176557</td>\n",
       "      <td>iPhone</td>\n",
       "      <td>1</td>\n",
       "      <td>700</td>\n",
       "      <td>2019-03-30 12:32:00</td>\n",
       "      <td>83 Washington St, San Francisco, CA 94016</td>\n",
       "      <td>12</td>\n",
       "      <td>30</td>\n",
       "      <td>5</td>\n",
       "      <td>83 Washington St</td>\n",
       "      <td>San Francisco</td>\n",
       "      <td>CA 94016</td>\n",
       "      <td>CA</td>\n",
       "      <td>94016</td>\n",
       "    </tr>\n",
       "    <tr>\n",
       "      <th>15128</th>\n",
       "      <td>176557</td>\n",
       "      <td>Lightning Charging Cable</td>\n",
       "      <td>1</td>\n",
       "      <td>14</td>\n",
       "      <td>2019-03-30 12:32:00</td>\n",
       "      <td>83 Washington St, San Francisco, CA 94016</td>\n",
       "      <td>12</td>\n",
       "      <td>30</td>\n",
       "      <td>5</td>\n",
       "      <td>83 Washington St</td>\n",
       "      <td>San Francisco</td>\n",
       "      <td>CA 94016</td>\n",
       "      <td>CA</td>\n",
       "      <td>94016</td>\n",
       "    </tr>\n",
       "  </tbody>\n",
       "</table>\n",
       "<p>15129 rows × 14 columns</p>\n",
       "</div>"
      ],
      "text/plain": [
       "      ID de Pedido                    Producto  Cantidad Pedida  \\\n",
       "0           162009                      iPhone                1   \n",
       "1           162009    Lightning Charging Cable                1   \n",
       "2           162009            Wired Headphones                2   \n",
       "3           162010  Bose SoundSport Headphones                1   \n",
       "4           162011      34in Ultrawide Monitor                1   \n",
       "...            ...                         ...              ...   \n",
       "15124       176554    Lightning Charging Cable                1   \n",
       "15125       176555            27in FHD Monitor                1   \n",
       "15126       176556      AAA Batteries (4-pack)                3   \n",
       "15127       176557                      iPhone                1   \n",
       "15128       176557    Lightning Charging Cable                1   \n",
       "\n",
       "       Precio Unitario     Fecha de Pedido  \\\n",
       "0                  700 2019-03-28 20:59:00   \n",
       "1                   14 2019-03-28 20:59:00   \n",
       "2                   11 2019-03-28 20:59:00   \n",
       "3                   99 2019-03-17 05:39:00   \n",
       "4                  379 2019-03-10 00:01:00   \n",
       "...                ...                 ...   \n",
       "15124               14 2019-03-24 11:14:00   \n",
       "15125              149 2019-03-22 20:27:00   \n",
       "15126                2 2019-03-14 10:29:00   \n",
       "15127              700 2019-03-30 12:32:00   \n",
       "15128               14 2019-03-30 12:32:00   \n",
       "\n",
       "                              Dirección de Envio  Hora  Dia  Dia semanal  \\\n",
       "0                942 Church St, Austin, TX 73301    20   28            3   \n",
       "1                942 Church St, Austin, TX 73301    20   28            3   \n",
       "2                942 Church St, Austin, TX 73301    20   28            3   \n",
       "3           261 10th St, San Francisco, CA 94016     5   17            6   \n",
       "4           764 13th St, San Francisco, CA 94016     0   10            6   \n",
       "...                                          ...   ...  ...          ...   \n",
       "15124       672 12th St, San Francisco, CA 94016    11   24            6   \n",
       "15125         42 4th St, San Francisco, CA 94016    20   22            4   \n",
       "15126          871 7th St, Los Angeles, CA 90001    10   14            3   \n",
       "15127  83 Washington St, San Francisco, CA 94016    12   30            5   \n",
       "15128  83 Washington St, San Francisco, CA 94016    12   30            5   \n",
       "\n",
       "                  Calle         Ciudad    PO BOX Estado Cod Postal  \n",
       "0         942 Church St         Austin  TX 73301     TX      73301  \n",
       "1         942 Church St         Austin  TX 73301     TX      73301  \n",
       "2         942 Church St         Austin  TX 73301     TX      73301  \n",
       "3           261 10th St  San Francisco  CA 94016     CA      94016  \n",
       "4           764 13th St  San Francisco  CA 94016     CA      94016  \n",
       "...                 ...            ...       ...    ...        ...  \n",
       "15124       672 12th St  San Francisco  CA 94016     CA      94016  \n",
       "15125         42 4th St  San Francisco  CA 94016     CA      94016  \n",
       "15126        871 7th St    Los Angeles  CA 90001     CA      90001  \n",
       "15127  83 Washington St  San Francisco  CA 94016     CA      94016  \n",
       "15128  83 Washington St  San Francisco  CA 94016     CA      94016  \n",
       "\n",
       "[15129 rows x 14 columns]"
      ]
     },
     "execution_count": 21,
     "metadata": {},
     "output_type": "execute_result"
    }
   ],
   "source": [
    "dataframe_mes = extraer_datos(dataframe_mes)\n",
    "dataframe_mes"
   ]
  },
  {
   "cell_type": "code",
   "execution_count": 22,
   "metadata": {},
   "outputs": [
    {
     "name": "stdout",
     "output_type": "stream",
     "text": [
      "<class 'pandas.core.frame.DataFrame'>\n",
      "RangeIndex: 15129 entries, 0 to 15128\n",
      "Data columns (total 14 columns):\n",
      " #   Column              Non-Null Count  Dtype         \n",
      "---  ------              --------------  -----         \n",
      " 0   ID de Pedido        15129 non-null  object        \n",
      " 1   Producto            15129 non-null  object        \n",
      " 2   Cantidad Pedida     15129 non-null  int32         \n",
      " 3   Precio Unitario     15129 non-null  int32         \n",
      " 4   Fecha de Pedido     15129 non-null  datetime64[ns]\n",
      " 5   Dirección de Envio  15129 non-null  object        \n",
      " 6   Hora                15129 non-null  int32         \n",
      " 7   Dia                 15129 non-null  int32         \n",
      " 8   Dia semanal         15129 non-null  int32         \n",
      " 9   Calle               15129 non-null  object        \n",
      " 10  Ciudad              15129 non-null  object        \n",
      " 11  PO BOX              15129 non-null  object        \n",
      " 12  Estado              15129 non-null  object        \n",
      " 13  Cod Postal          15129 non-null  object        \n",
      "dtypes: datetime64[ns](1), int32(5), object(8)\n",
      "memory usage: 1.3+ MB\n"
     ]
    }
   ],
   "source": [
    "dataframe_mes.info()"
   ]
  },
  {
   "cell_type": "markdown",
   "metadata": {},
   "source": [
    "## Desglose de los dataframes del diccionario dataframes_meses "
   ]
  },
  {
   "cell_type": "code",
   "execution_count": 23,
   "metadata": {},
   "outputs": [
    {
     "name": "stderr",
     "output_type": "stream",
     "text": [
      "C:\\Users\\PAPI\\AppData\\Local\\Temp\\ipykernel_14588\\2724519435.py:2: UserWarning: Could not infer format, so each element will be parsed individually, falling back to `dateutil`. To ensure parsing is consistent and as-expected, please specify a format.\n",
      "  datos['Fecha de Pedido'] = pd.to_datetime(datos['Fecha de Pedido'])\n",
      "C:\\Users\\PAPI\\AppData\\Local\\Temp\\ipykernel_14588\\2724519435.py:2: UserWarning: Could not infer format, so each element will be parsed individually, falling back to `dateutil`. To ensure parsing is consistent and as-expected, please specify a format.\n",
      "  datos['Fecha de Pedido'] = pd.to_datetime(datos['Fecha de Pedido'])\n",
      "C:\\Users\\PAPI\\AppData\\Local\\Temp\\ipykernel_14588\\2724519435.py:2: UserWarning: Could not infer format, so each element will be parsed individually, falling back to `dateutil`. To ensure parsing is consistent and as-expected, please specify a format.\n",
      "  datos['Fecha de Pedido'] = pd.to_datetime(datos['Fecha de Pedido'])\n",
      "C:\\Users\\PAPI\\AppData\\Local\\Temp\\ipykernel_14588\\2724519435.py:2: UserWarning: Could not infer format, so each element will be parsed individually, falling back to `dateutil`. To ensure parsing is consistent and as-expected, please specify a format.\n",
      "  datos['Fecha de Pedido'] = pd.to_datetime(datos['Fecha de Pedido'])\n",
      "C:\\Users\\PAPI\\AppData\\Local\\Temp\\ipykernel_14588\\2724519435.py:2: UserWarning: Could not infer format, so each element will be parsed individually, falling back to `dateutil`. To ensure parsing is consistent and as-expected, please specify a format.\n",
      "  datos['Fecha de Pedido'] = pd.to_datetime(datos['Fecha de Pedido'])\n",
      "C:\\Users\\PAPI\\AppData\\Local\\Temp\\ipykernel_14588\\2724519435.py:2: UserWarning: Could not infer format, so each element will be parsed individually, falling back to `dateutil`. To ensure parsing is consistent and as-expected, please specify a format.\n",
      "  datos['Fecha de Pedido'] = pd.to_datetime(datos['Fecha de Pedido'])\n",
      "C:\\Users\\PAPI\\AppData\\Local\\Temp\\ipykernel_14588\\2724519435.py:2: UserWarning: Could not infer format, so each element will be parsed individually, falling back to `dateutil`. To ensure parsing is consistent and as-expected, please specify a format.\n",
      "  datos['Fecha de Pedido'] = pd.to_datetime(datos['Fecha de Pedido'])\n",
      "C:\\Users\\PAPI\\AppData\\Local\\Temp\\ipykernel_14588\\2724519435.py:2: UserWarning: Could not infer format, so each element will be parsed individually, falling back to `dateutil`. To ensure parsing is consistent and as-expected, please specify a format.\n",
      "  datos['Fecha de Pedido'] = pd.to_datetime(datos['Fecha de Pedido'])\n",
      "C:\\Users\\PAPI\\AppData\\Local\\Temp\\ipykernel_14588\\2724519435.py:2: UserWarning: Could not infer format, so each element will be parsed individually, falling back to `dateutil`. To ensure parsing is consistent and as-expected, please specify a format.\n",
      "  datos['Fecha de Pedido'] = pd.to_datetime(datos['Fecha de Pedido'])\n",
      "C:\\Users\\PAPI\\AppData\\Local\\Temp\\ipykernel_14588\\2724519435.py:2: UserWarning: Could not infer format, so each element will be parsed individually, falling back to `dateutil`. To ensure parsing is consistent and as-expected, please specify a format.\n",
      "  datos['Fecha de Pedido'] = pd.to_datetime(datos['Fecha de Pedido'])\n"
     ]
    }
   ],
   "source": [
    "for mes in meses:\n",
    "    dataframe_mes = dataframes_meses[mes]\n",
    "    dataframe_mes = extraer_datos(dataframe_mes)\n",
    "    dataframes_meses[mes] = dataframe_mes"
   ]
  },
  {
   "cell_type": "code",
   "execution_count": 24,
   "metadata": {},
   "outputs": [
    {
     "data": {
      "text/html": [
       "<div>\n",
       "<style scoped>\n",
       "    .dataframe tbody tr th:only-of-type {\n",
       "        vertical-align: middle;\n",
       "    }\n",
       "\n",
       "    .dataframe tbody tr th {\n",
       "        vertical-align: top;\n",
       "    }\n",
       "\n",
       "    .dataframe thead th {\n",
       "        text-align: right;\n",
       "    }\n",
       "</style>\n",
       "<table border=\"1\" class=\"dataframe\">\n",
       "  <thead>\n",
       "    <tr style=\"text-align: right;\">\n",
       "      <th></th>\n",
       "      <th>ID de Pedido</th>\n",
       "      <th>Producto</th>\n",
       "      <th>Cantidad Pedida</th>\n",
       "      <th>Precio Unitario</th>\n",
       "      <th>Fecha de Pedido</th>\n",
       "      <th>Dirección de Envio</th>\n",
       "      <th>Hora</th>\n",
       "      <th>Dia</th>\n",
       "      <th>Dia semanal</th>\n",
       "      <th>Calle</th>\n",
       "      <th>Ciudad</th>\n",
       "      <th>PO BOX</th>\n",
       "      <th>Estado</th>\n",
       "      <th>Cod Postal</th>\n",
       "    </tr>\n",
       "  </thead>\n",
       "  <tbody>\n",
       "    <tr>\n",
       "      <th>0</th>\n",
       "      <td>222910</td>\n",
       "      <td>Apple Airpods Headphones</td>\n",
       "      <td>1</td>\n",
       "      <td>150</td>\n",
       "      <td>2019-07-26 16:51:00</td>\n",
       "      <td>389 South St, Atlanta, GA 30301</td>\n",
       "      <td>16</td>\n",
       "      <td>26</td>\n",
       "      <td>4</td>\n",
       "      <td>389 South St</td>\n",
       "      <td>Atlanta</td>\n",
       "      <td>GA 30301</td>\n",
       "      <td>GA</td>\n",
       "      <td>30301</td>\n",
       "    </tr>\n",
       "    <tr>\n",
       "      <th>1</th>\n",
       "      <td>222911</td>\n",
       "      <td>Flatscreen TV</td>\n",
       "      <td>1</td>\n",
       "      <td>300</td>\n",
       "      <td>2019-07-05 08:55:00</td>\n",
       "      <td>590 4th St, Seattle, WA 98101</td>\n",
       "      <td>8</td>\n",
       "      <td>5</td>\n",
       "      <td>4</td>\n",
       "      <td>590 4th St</td>\n",
       "      <td>Seattle</td>\n",
       "      <td>WA 98101</td>\n",
       "      <td>WA</td>\n",
       "      <td>98101</td>\n",
       "    </tr>\n",
       "    <tr>\n",
       "      <th>2</th>\n",
       "      <td>222912</td>\n",
       "      <td>AA Batteries (4-pack)</td>\n",
       "      <td>1</td>\n",
       "      <td>3</td>\n",
       "      <td>2019-07-29 12:41:00</td>\n",
       "      <td>861 Hill St, Atlanta, GA 30301</td>\n",
       "      <td>12</td>\n",
       "      <td>29</td>\n",
       "      <td>0</td>\n",
       "      <td>861 Hill St</td>\n",
       "      <td>Atlanta</td>\n",
       "      <td>GA 30301</td>\n",
       "      <td>GA</td>\n",
       "      <td>30301</td>\n",
       "    </tr>\n",
       "    <tr>\n",
       "      <th>3</th>\n",
       "      <td>222913</td>\n",
       "      <td>AA Batteries (4-pack)</td>\n",
       "      <td>1</td>\n",
       "      <td>3</td>\n",
       "      <td>2019-07-28 10:15:00</td>\n",
       "      <td>190 Ridge St, Atlanta, GA 30301</td>\n",
       "      <td>10</td>\n",
       "      <td>28</td>\n",
       "      <td>6</td>\n",
       "      <td>190 Ridge St</td>\n",
       "      <td>Atlanta</td>\n",
       "      <td>GA 30301</td>\n",
       "      <td>GA</td>\n",
       "      <td>30301</td>\n",
       "    </tr>\n",
       "    <tr>\n",
       "      <th>4</th>\n",
       "      <td>222914</td>\n",
       "      <td>AAA Batteries (4-pack)</td>\n",
       "      <td>5</td>\n",
       "      <td>2</td>\n",
       "      <td>2019-07-31 02:13:00</td>\n",
       "      <td>824 Forest St, Seattle, WA 98101</td>\n",
       "      <td>2</td>\n",
       "      <td>31</td>\n",
       "      <td>2</td>\n",
       "      <td>824 Forest St</td>\n",
       "      <td>Seattle</td>\n",
       "      <td>WA 98101</td>\n",
       "      <td>WA</td>\n",
       "      <td>98101</td>\n",
       "    </tr>\n",
       "    <tr>\n",
       "      <th>...</th>\n",
       "      <td>...</td>\n",
       "      <td>...</td>\n",
       "      <td>...</td>\n",
       "      <td>...</td>\n",
       "      <td>...</td>\n",
       "      <td>...</td>\n",
       "      <td>...</td>\n",
       "      <td>...</td>\n",
       "      <td>...</td>\n",
       "      <td>...</td>\n",
       "      <td>...</td>\n",
       "      <td>...</td>\n",
       "      <td>...</td>\n",
       "      <td>...</td>\n",
       "    </tr>\n",
       "    <tr>\n",
       "      <th>14268</th>\n",
       "      <td>236665</td>\n",
       "      <td>Wired Headphones</td>\n",
       "      <td>1</td>\n",
       "      <td>11</td>\n",
       "      <td>2019-07-20 16:16:00</td>\n",
       "      <td>694 Meadow St, Atlanta, GA 30301</td>\n",
       "      <td>16</td>\n",
       "      <td>20</td>\n",
       "      <td>5</td>\n",
       "      <td>694 Meadow St</td>\n",
       "      <td>Atlanta</td>\n",
       "      <td>GA 30301</td>\n",
       "      <td>GA</td>\n",
       "      <td>30301</td>\n",
       "    </tr>\n",
       "    <tr>\n",
       "      <th>14269</th>\n",
       "      <td>236666</td>\n",
       "      <td>20in Monitor</td>\n",
       "      <td>1</td>\n",
       "      <td>109</td>\n",
       "      <td>2019-07-31 20:11:00</td>\n",
       "      <td>866 14th St, San Francisco, CA 94016</td>\n",
       "      <td>20</td>\n",
       "      <td>31</td>\n",
       "      <td>2</td>\n",
       "      <td>866 14th St</td>\n",
       "      <td>San Francisco</td>\n",
       "      <td>CA 94016</td>\n",
       "      <td>CA</td>\n",
       "      <td>94016</td>\n",
       "    </tr>\n",
       "    <tr>\n",
       "      <th>14270</th>\n",
       "      <td>236667</td>\n",
       "      <td>AAA Batteries (4-pack)</td>\n",
       "      <td>1</td>\n",
       "      <td>2</td>\n",
       "      <td>2019-07-17 22:29:00</td>\n",
       "      <td>249 Cherry St, Dallas, TX 75001</td>\n",
       "      <td>22</td>\n",
       "      <td>17</td>\n",
       "      <td>2</td>\n",
       "      <td>249 Cherry St</td>\n",
       "      <td>Dallas</td>\n",
       "      <td>TX 75001</td>\n",
       "      <td>TX</td>\n",
       "      <td>75001</td>\n",
       "    </tr>\n",
       "    <tr>\n",
       "      <th>14271</th>\n",
       "      <td>236668</td>\n",
       "      <td>Wired Headphones</td>\n",
       "      <td>1</td>\n",
       "      <td>11</td>\n",
       "      <td>2019-07-30 19:28:00</td>\n",
       "      <td>727 Wilson St, Austin, TX 73301</td>\n",
       "      <td>19</td>\n",
       "      <td>30</td>\n",
       "      <td>1</td>\n",
       "      <td>727 Wilson St</td>\n",
       "      <td>Austin</td>\n",
       "      <td>TX 73301</td>\n",
       "      <td>TX</td>\n",
       "      <td>73301</td>\n",
       "    </tr>\n",
       "    <tr>\n",
       "      <th>14272</th>\n",
       "      <td>236669</td>\n",
       "      <td>AAA Batteries (4-pack)</td>\n",
       "      <td>1</td>\n",
       "      <td>2</td>\n",
       "      <td>2019-07-10 01:50:00</td>\n",
       "      <td>743 9th St, New York City, NY 10001</td>\n",
       "      <td>1</td>\n",
       "      <td>10</td>\n",
       "      <td>2</td>\n",
       "      <td>743 9th St</td>\n",
       "      <td>New York City</td>\n",
       "      <td>NY 10001</td>\n",
       "      <td>NY</td>\n",
       "      <td>10001</td>\n",
       "    </tr>\n",
       "  </tbody>\n",
       "</table>\n",
       "<p>14273 rows × 14 columns</p>\n",
       "</div>"
      ],
      "text/plain": [
       "      ID de Pedido                  Producto  Cantidad Pedida  \\\n",
       "0           222910  Apple Airpods Headphones                1   \n",
       "1           222911             Flatscreen TV                1   \n",
       "2           222912     AA Batteries (4-pack)                1   \n",
       "3           222913     AA Batteries (4-pack)                1   \n",
       "4           222914    AAA Batteries (4-pack)                5   \n",
       "...            ...                       ...              ...   \n",
       "14268       236665          Wired Headphones                1   \n",
       "14269       236666              20in Monitor                1   \n",
       "14270       236667    AAA Batteries (4-pack)                1   \n",
       "14271       236668          Wired Headphones                1   \n",
       "14272       236669    AAA Batteries (4-pack)                1   \n",
       "\n",
       "       Precio Unitario     Fecha de Pedido  \\\n",
       "0                  150 2019-07-26 16:51:00   \n",
       "1                  300 2019-07-05 08:55:00   \n",
       "2                    3 2019-07-29 12:41:00   \n",
       "3                    3 2019-07-28 10:15:00   \n",
       "4                    2 2019-07-31 02:13:00   \n",
       "...                ...                 ...   \n",
       "14268               11 2019-07-20 16:16:00   \n",
       "14269              109 2019-07-31 20:11:00   \n",
       "14270                2 2019-07-17 22:29:00   \n",
       "14271               11 2019-07-30 19:28:00   \n",
       "14272                2 2019-07-10 01:50:00   \n",
       "\n",
       "                         Dirección de Envio  Hora  Dia  Dia semanal  \\\n",
       "0           389 South St, Atlanta, GA 30301    16   26            4   \n",
       "1             590 4th St, Seattle, WA 98101     8    5            4   \n",
       "2            861 Hill St, Atlanta, GA 30301    12   29            0   \n",
       "3           190 Ridge St, Atlanta, GA 30301    10   28            6   \n",
       "4          824 Forest St, Seattle, WA 98101     2   31            2   \n",
       "...                                     ...   ...  ...          ...   \n",
       "14268      694 Meadow St, Atlanta, GA 30301    16   20            5   \n",
       "14269  866 14th St, San Francisco, CA 94016    20   31            2   \n",
       "14270       249 Cherry St, Dallas, TX 75001    22   17            2   \n",
       "14271       727 Wilson St, Austin, TX 73301    19   30            1   \n",
       "14272   743 9th St, New York City, NY 10001     1   10            2   \n",
       "\n",
       "               Calle         Ciudad    PO BOX Estado Cod Postal  \n",
       "0       389 South St        Atlanta  GA 30301     GA      30301  \n",
       "1         590 4th St        Seattle  WA 98101     WA      98101  \n",
       "2        861 Hill St        Atlanta  GA 30301     GA      30301  \n",
       "3       190 Ridge St        Atlanta  GA 30301     GA      30301  \n",
       "4      824 Forest St        Seattle  WA 98101     WA      98101  \n",
       "...              ...            ...       ...    ...        ...  \n",
       "14268  694 Meadow St        Atlanta  GA 30301     GA      30301  \n",
       "14269    866 14th St  San Francisco  CA 94016     CA      94016  \n",
       "14270  249 Cherry St         Dallas  TX 75001     TX      75001  \n",
       "14271  727 Wilson St         Austin  TX 73301     TX      73301  \n",
       "14272     743 9th St  New York City  NY 10001     NY      10001  \n",
       "\n",
       "[14273 rows x 14 columns]"
      ]
     },
     "execution_count": 24,
     "metadata": {},
     "output_type": "execute_result"
    }
   ],
   "source": [
    "dataframes_meses['Julio']"
   ]
  },
  {
   "cell_type": "markdown",
   "metadata": {},
   "source": [
    "# Respuestas del análisis"
   ]
  },
  {
   "cell_type": "markdown",
   "metadata": {},
   "source": [
    "## 1. Comportamiento de las ventas en los distintos meses:"
   ]
  },
  {
   "cell_type": "code",
   "execution_count": 25,
   "metadata": {},
   "outputs": [
    {
     "data": {
      "text/html": [
       "<div>\n",
       "<style scoped>\n",
       "    .dataframe tbody tr th:only-of-type {\n",
       "        vertical-align: middle;\n",
       "    }\n",
       "\n",
       "    .dataframe tbody tr th {\n",
       "        vertical-align: top;\n",
       "    }\n",
       "\n",
       "    .dataframe thead th {\n",
       "        text-align: right;\n",
       "    }\n",
       "</style>\n",
       "<table border=\"1\" class=\"dataframe\">\n",
       "  <thead>\n",
       "    <tr style=\"text-align: right;\">\n",
       "      <th></th>\n",
       "      <th>ID de Pedido</th>\n",
       "      <th>Producto</th>\n",
       "      <th>Cantidad Pedida</th>\n",
       "      <th>Precio Unitario</th>\n",
       "      <th>Fecha de Pedido</th>\n",
       "      <th>Dirección de Envio</th>\n",
       "      <th>Hora</th>\n",
       "      <th>Dia</th>\n",
       "      <th>Dia semanal</th>\n",
       "      <th>Calle</th>\n",
       "      <th>Ciudad</th>\n",
       "      <th>PO BOX</th>\n",
       "      <th>Estado</th>\n",
       "      <th>Cod Postal</th>\n",
       "    </tr>\n",
       "  </thead>\n",
       "  <tbody>\n",
       "    <tr>\n",
       "      <th>0</th>\n",
       "      <td>222910</td>\n",
       "      <td>Apple Airpods Headphones</td>\n",
       "      <td>1</td>\n",
       "      <td>150</td>\n",
       "      <td>2019-07-26 16:51:00</td>\n",
       "      <td>389 South St, Atlanta, GA 30301</td>\n",
       "      <td>16</td>\n",
       "      <td>26</td>\n",
       "      <td>4</td>\n",
       "      <td>389 South St</td>\n",
       "      <td>Atlanta</td>\n",
       "      <td>GA 30301</td>\n",
       "      <td>GA</td>\n",
       "      <td>30301</td>\n",
       "    </tr>\n",
       "    <tr>\n",
       "      <th>1</th>\n",
       "      <td>222911</td>\n",
       "      <td>Flatscreen TV</td>\n",
       "      <td>1</td>\n",
       "      <td>300</td>\n",
       "      <td>2019-07-05 08:55:00</td>\n",
       "      <td>590 4th St, Seattle, WA 98101</td>\n",
       "      <td>8</td>\n",
       "      <td>5</td>\n",
       "      <td>4</td>\n",
       "      <td>590 4th St</td>\n",
       "      <td>Seattle</td>\n",
       "      <td>WA 98101</td>\n",
       "      <td>WA</td>\n",
       "      <td>98101</td>\n",
       "    </tr>\n",
       "    <tr>\n",
       "      <th>2</th>\n",
       "      <td>222912</td>\n",
       "      <td>AA Batteries (4-pack)</td>\n",
       "      <td>1</td>\n",
       "      <td>3</td>\n",
       "      <td>2019-07-29 12:41:00</td>\n",
       "      <td>861 Hill St, Atlanta, GA 30301</td>\n",
       "      <td>12</td>\n",
       "      <td>29</td>\n",
       "      <td>0</td>\n",
       "      <td>861 Hill St</td>\n",
       "      <td>Atlanta</td>\n",
       "      <td>GA 30301</td>\n",
       "      <td>GA</td>\n",
       "      <td>30301</td>\n",
       "    </tr>\n",
       "    <tr>\n",
       "      <th>3</th>\n",
       "      <td>222913</td>\n",
       "      <td>AA Batteries (4-pack)</td>\n",
       "      <td>1</td>\n",
       "      <td>3</td>\n",
       "      <td>2019-07-28 10:15:00</td>\n",
       "      <td>190 Ridge St, Atlanta, GA 30301</td>\n",
       "      <td>10</td>\n",
       "      <td>28</td>\n",
       "      <td>6</td>\n",
       "      <td>190 Ridge St</td>\n",
       "      <td>Atlanta</td>\n",
       "      <td>GA 30301</td>\n",
       "      <td>GA</td>\n",
       "      <td>30301</td>\n",
       "    </tr>\n",
       "    <tr>\n",
       "      <th>4</th>\n",
       "      <td>222914</td>\n",
       "      <td>AAA Batteries (4-pack)</td>\n",
       "      <td>5</td>\n",
       "      <td>2</td>\n",
       "      <td>2019-07-31 02:13:00</td>\n",
       "      <td>824 Forest St, Seattle, WA 98101</td>\n",
       "      <td>2</td>\n",
       "      <td>31</td>\n",
       "      <td>2</td>\n",
       "      <td>824 Forest St</td>\n",
       "      <td>Seattle</td>\n",
       "      <td>WA 98101</td>\n",
       "      <td>WA</td>\n",
       "      <td>98101</td>\n",
       "    </tr>\n",
       "  </tbody>\n",
       "</table>\n",
       "</div>"
      ],
      "text/plain": [
       "  ID de Pedido                  Producto  Cantidad Pedida  Precio Unitario  \\\n",
       "0       222910  Apple Airpods Headphones                1              150   \n",
       "1       222911             Flatscreen TV                1              300   \n",
       "2       222912     AA Batteries (4-pack)                1                3   \n",
       "3       222913     AA Batteries (4-pack)                1                3   \n",
       "4       222914    AAA Batteries (4-pack)                5                2   \n",
       "\n",
       "      Fecha de Pedido                Dirección de Envio  Hora  Dia  \\\n",
       "0 2019-07-26 16:51:00   389 South St, Atlanta, GA 30301    16   26   \n",
       "1 2019-07-05 08:55:00     590 4th St, Seattle, WA 98101     8    5   \n",
       "2 2019-07-29 12:41:00    861 Hill St, Atlanta, GA 30301    12   29   \n",
       "3 2019-07-28 10:15:00   190 Ridge St, Atlanta, GA 30301    10   28   \n",
       "4 2019-07-31 02:13:00  824 Forest St, Seattle, WA 98101     2   31   \n",
       "\n",
       "   Dia semanal          Calle   Ciudad    PO BOX Estado Cod Postal  \n",
       "0            4   389 South St  Atlanta  GA 30301     GA      30301  \n",
       "1            4     590 4th St  Seattle  WA 98101     WA      98101  \n",
       "2            0    861 Hill St  Atlanta  GA 30301     GA      30301  \n",
       "3            6   190 Ridge St  Atlanta  GA 30301     GA      30301  \n",
       "4            2  824 Forest St  Seattle  WA 98101     WA      98101  "
      ]
     },
     "execution_count": 25,
     "metadata": {},
     "output_type": "execute_result"
    }
   ],
   "source": [
    "dataframes_meses['Julio'].head()"
   ]
  },
  {
   "cell_type": "markdown",
   "metadata": {},
   "source": [
    "### ● ¿Cómo variaron las ventas a lo largo de los diferentes meses?"
   ]
  },
  {
   "cell_type": "code",
   "execution_count": 26,
   "metadata": {},
   "outputs": [],
   "source": [
    "# Se crea una lista para almacenar los totales de ventas por mes, ingreso total por mes y los nombres de los meses\n",
    "totales_ventas_mes = []\n",
    "ingreso_totales_mes = []\n",
    "nombres_meses = []\n",
    "\n",
    "\n",
    "# Se recorre el diccionario de dataframes de ventas por mes\n",
    "for mes in meses:\n",
    "    # Se obtiene el dataframe de ventas del mes\n",
    "    dataframe_mes = dataframes_meses[mes]\n",
    "    \n",
    "    # Se obtiene el total de ventas del mes\n",
    "    total_ventas_mes = dataframe_mes['Cantidad Pedida'].sum()\n",
    "    # Se agrega el total de ventas del mes a la lista de totales\n",
    "    totales_ventas_mes.append(total_ventas_mes)\n",
    "    \n",
    "    # Se obtiene el ingreso de cada registro del mes\n",
    "    dataframe_mes['Ingreso'] = dataframe_mes['Cantidad Pedida'] * dataframe_mes['Precio Unitario']\n",
    "    # Se obtiene el ingreso total del mes\n",
    "    ingreso_total_mes = dataframe_mes['Ingreso'].sum()\n",
    "    # Se agrega el ingreso total del mes a la lista de ingresos\n",
    "    ingreso_totales_mes.append(ingreso_total_mes)\n",
    "    \n",
    "    # Se agrega el nombre del mes a la lista de nombres\n",
    "    nombres_meses.append(mes)\n",
    " \n"
   ]
  },
  {
   "cell_type": "code",
   "execution_count": 27,
   "metadata": {},
   "outputs": [],
   "source": [
    "\n",
    "# Se crea el objeto de grafico de barras\n",
    "fig = go.Figure(data=go.Bar(\n",
    "    x=nombres_meses,\n",
    "    y=totales_ventas_mes,\n",
    "    marker=dict(color=totales_ventas_mes, colorscale='Cividis',colorbar=dict(title='Total de Ventas', x=1.0, thickness=15)),\n",
    "    text=totales_ventas_mes,\n",
    "    textposition='auto',\n",
    "    ))\n",
    " "
   ]
  },
  {
   "cell_type": "code",
   "execution_count": 28,
   "metadata": {},
   "outputs": [
    {
     "data": {
      "application/vnd.plotly.v1+json": {
       "config": {
        "plotlyServerURL": "https://plot.ly"
       },
       "data": [
        {
         "marker": {
          "color": [
           10858,
           13443,
           16980,
           20546,
           18643,
           15236,
           16051,
           13423,
           13101,
           22671,
           19779,
           28081
          ],
          "colorbar": {
           "thickness": 15,
           "title": {
            "text": "Total de Ventas"
           },
           "x": 1
          },
          "colorscale": [
           [
            0,
            "#00224e"
           ],
           [
            0.1111111111111111,
            "#123570"
           ],
           [
            0.2222222222222222,
            "#3b496c"
           ],
           [
            0.3333333333333333,
            "#575d6d"
           ],
           [
            0.4444444444444444,
            "#707173"
           ],
           [
            0.5555555555555556,
            "#8a8678"
           ],
           [
            0.6666666666666666,
            "#a59c74"
           ],
           [
            0.7777777777777778,
            "#c3b369"
           ],
           [
            0.8888888888888888,
            "#e1cc55"
           ],
           [
            1,
            "#fee838"
           ]
          ]
         },
         "text": [
          "10858",
          "13443",
          "16980",
          "20546",
          "18643",
          "15236",
          "16051",
          "13423",
          "13101",
          "22671",
          "19779",
          "28081"
         ],
         "textposition": "auto",
         "type": "bar",
         "x": [
          "Enero",
          "Febrero",
          "Marzo",
          "Abril",
          "Mayo",
          "Junio",
          "Julio",
          "Agosto",
          "Septiembre",
          "Octubre",
          "Noviembre",
          "Diciembre"
         ],
         "y": [
          10858,
          13443,
          16980,
          20546,
          18643,
          15236,
          16051,
          13423,
          13101,
          22671,
          19779,
          28081
         ]
        }
       ],
       "layout": {
        "template": {
         "data": {
          "bar": [
           {
            "error_x": {
             "color": "#2a3f5f"
            },
            "error_y": {
             "color": "#2a3f5f"
            },
            "marker": {
             "line": {
              "color": "#E5ECF6",
              "width": 0.5
             },
             "pattern": {
              "fillmode": "overlay",
              "size": 10,
              "solidity": 0.2
             }
            },
            "type": "bar"
           }
          ],
          "barpolar": [
           {
            "marker": {
             "line": {
              "color": "#E5ECF6",
              "width": 0.5
             },
             "pattern": {
              "fillmode": "overlay",
              "size": 10,
              "solidity": 0.2
             }
            },
            "type": "barpolar"
           }
          ],
          "carpet": [
           {
            "aaxis": {
             "endlinecolor": "#2a3f5f",
             "gridcolor": "white",
             "linecolor": "white",
             "minorgridcolor": "white",
             "startlinecolor": "#2a3f5f"
            },
            "baxis": {
             "endlinecolor": "#2a3f5f",
             "gridcolor": "white",
             "linecolor": "white",
             "minorgridcolor": "white",
             "startlinecolor": "#2a3f5f"
            },
            "type": "carpet"
           }
          ],
          "choropleth": [
           {
            "colorbar": {
             "outlinewidth": 0,
             "ticks": ""
            },
            "type": "choropleth"
           }
          ],
          "contour": [
           {
            "colorbar": {
             "outlinewidth": 0,
             "ticks": ""
            },
            "colorscale": [
             [
              0,
              "#0d0887"
             ],
             [
              0.1111111111111111,
              "#46039f"
             ],
             [
              0.2222222222222222,
              "#7201a8"
             ],
             [
              0.3333333333333333,
              "#9c179e"
             ],
             [
              0.4444444444444444,
              "#bd3786"
             ],
             [
              0.5555555555555556,
              "#d8576b"
             ],
             [
              0.6666666666666666,
              "#ed7953"
             ],
             [
              0.7777777777777778,
              "#fb9f3a"
             ],
             [
              0.8888888888888888,
              "#fdca26"
             ],
             [
              1,
              "#f0f921"
             ]
            ],
            "type": "contour"
           }
          ],
          "contourcarpet": [
           {
            "colorbar": {
             "outlinewidth": 0,
             "ticks": ""
            },
            "type": "contourcarpet"
           }
          ],
          "heatmap": [
           {
            "colorbar": {
             "outlinewidth": 0,
             "ticks": ""
            },
            "colorscale": [
             [
              0,
              "#0d0887"
             ],
             [
              0.1111111111111111,
              "#46039f"
             ],
             [
              0.2222222222222222,
              "#7201a8"
             ],
             [
              0.3333333333333333,
              "#9c179e"
             ],
             [
              0.4444444444444444,
              "#bd3786"
             ],
             [
              0.5555555555555556,
              "#d8576b"
             ],
             [
              0.6666666666666666,
              "#ed7953"
             ],
             [
              0.7777777777777778,
              "#fb9f3a"
             ],
             [
              0.8888888888888888,
              "#fdca26"
             ],
             [
              1,
              "#f0f921"
             ]
            ],
            "type": "heatmap"
           }
          ],
          "heatmapgl": [
           {
            "colorbar": {
             "outlinewidth": 0,
             "ticks": ""
            },
            "colorscale": [
             [
              0,
              "#0d0887"
             ],
             [
              0.1111111111111111,
              "#46039f"
             ],
             [
              0.2222222222222222,
              "#7201a8"
             ],
             [
              0.3333333333333333,
              "#9c179e"
             ],
             [
              0.4444444444444444,
              "#bd3786"
             ],
             [
              0.5555555555555556,
              "#d8576b"
             ],
             [
              0.6666666666666666,
              "#ed7953"
             ],
             [
              0.7777777777777778,
              "#fb9f3a"
             ],
             [
              0.8888888888888888,
              "#fdca26"
             ],
             [
              1,
              "#f0f921"
             ]
            ],
            "type": "heatmapgl"
           }
          ],
          "histogram": [
           {
            "marker": {
             "pattern": {
              "fillmode": "overlay",
              "size": 10,
              "solidity": 0.2
             }
            },
            "type": "histogram"
           }
          ],
          "histogram2d": [
           {
            "colorbar": {
             "outlinewidth": 0,
             "ticks": ""
            },
            "colorscale": [
             [
              0,
              "#0d0887"
             ],
             [
              0.1111111111111111,
              "#46039f"
             ],
             [
              0.2222222222222222,
              "#7201a8"
             ],
             [
              0.3333333333333333,
              "#9c179e"
             ],
             [
              0.4444444444444444,
              "#bd3786"
             ],
             [
              0.5555555555555556,
              "#d8576b"
             ],
             [
              0.6666666666666666,
              "#ed7953"
             ],
             [
              0.7777777777777778,
              "#fb9f3a"
             ],
             [
              0.8888888888888888,
              "#fdca26"
             ],
             [
              1,
              "#f0f921"
             ]
            ],
            "type": "histogram2d"
           }
          ],
          "histogram2dcontour": [
           {
            "colorbar": {
             "outlinewidth": 0,
             "ticks": ""
            },
            "colorscale": [
             [
              0,
              "#0d0887"
             ],
             [
              0.1111111111111111,
              "#46039f"
             ],
             [
              0.2222222222222222,
              "#7201a8"
             ],
             [
              0.3333333333333333,
              "#9c179e"
             ],
             [
              0.4444444444444444,
              "#bd3786"
             ],
             [
              0.5555555555555556,
              "#d8576b"
             ],
             [
              0.6666666666666666,
              "#ed7953"
             ],
             [
              0.7777777777777778,
              "#fb9f3a"
             ],
             [
              0.8888888888888888,
              "#fdca26"
             ],
             [
              1,
              "#f0f921"
             ]
            ],
            "type": "histogram2dcontour"
           }
          ],
          "mesh3d": [
           {
            "colorbar": {
             "outlinewidth": 0,
             "ticks": ""
            },
            "type": "mesh3d"
           }
          ],
          "parcoords": [
           {
            "line": {
             "colorbar": {
              "outlinewidth": 0,
              "ticks": ""
             }
            },
            "type": "parcoords"
           }
          ],
          "pie": [
           {
            "automargin": true,
            "type": "pie"
           }
          ],
          "scatter": [
           {
            "fillpattern": {
             "fillmode": "overlay",
             "size": 10,
             "solidity": 0.2
            },
            "type": "scatter"
           }
          ],
          "scatter3d": [
           {
            "line": {
             "colorbar": {
              "outlinewidth": 0,
              "ticks": ""
             }
            },
            "marker": {
             "colorbar": {
              "outlinewidth": 0,
              "ticks": ""
             }
            },
            "type": "scatter3d"
           }
          ],
          "scattercarpet": [
           {
            "marker": {
             "colorbar": {
              "outlinewidth": 0,
              "ticks": ""
             }
            },
            "type": "scattercarpet"
           }
          ],
          "scattergeo": [
           {
            "marker": {
             "colorbar": {
              "outlinewidth": 0,
              "ticks": ""
             }
            },
            "type": "scattergeo"
           }
          ],
          "scattergl": [
           {
            "marker": {
             "colorbar": {
              "outlinewidth": 0,
              "ticks": ""
             }
            },
            "type": "scattergl"
           }
          ],
          "scattermapbox": [
           {
            "marker": {
             "colorbar": {
              "outlinewidth": 0,
              "ticks": ""
             }
            },
            "type": "scattermapbox"
           }
          ],
          "scatterpolar": [
           {
            "marker": {
             "colorbar": {
              "outlinewidth": 0,
              "ticks": ""
             }
            },
            "type": "scatterpolar"
           }
          ],
          "scatterpolargl": [
           {
            "marker": {
             "colorbar": {
              "outlinewidth": 0,
              "ticks": ""
             }
            },
            "type": "scatterpolargl"
           }
          ],
          "scatterternary": [
           {
            "marker": {
             "colorbar": {
              "outlinewidth": 0,
              "ticks": ""
             }
            },
            "type": "scatterternary"
           }
          ],
          "surface": [
           {
            "colorbar": {
             "outlinewidth": 0,
             "ticks": ""
            },
            "colorscale": [
             [
              0,
              "#0d0887"
             ],
             [
              0.1111111111111111,
              "#46039f"
             ],
             [
              0.2222222222222222,
              "#7201a8"
             ],
             [
              0.3333333333333333,
              "#9c179e"
             ],
             [
              0.4444444444444444,
              "#bd3786"
             ],
             [
              0.5555555555555556,
              "#d8576b"
             ],
             [
              0.6666666666666666,
              "#ed7953"
             ],
             [
              0.7777777777777778,
              "#fb9f3a"
             ],
             [
              0.8888888888888888,
              "#fdca26"
             ],
             [
              1,
              "#f0f921"
             ]
            ],
            "type": "surface"
           }
          ],
          "table": [
           {
            "cells": {
             "fill": {
              "color": "#EBF0F8"
             },
             "line": {
              "color": "white"
             }
            },
            "header": {
             "fill": {
              "color": "#C8D4E3"
             },
             "line": {
              "color": "white"
             }
            },
            "type": "table"
           }
          ]
         },
         "layout": {
          "annotationdefaults": {
           "arrowcolor": "#2a3f5f",
           "arrowhead": 0,
           "arrowwidth": 1
          },
          "autotypenumbers": "strict",
          "coloraxis": {
           "colorbar": {
            "outlinewidth": 0,
            "ticks": ""
           }
          },
          "colorscale": {
           "diverging": [
            [
             0,
             "#8e0152"
            ],
            [
             0.1,
             "#c51b7d"
            ],
            [
             0.2,
             "#de77ae"
            ],
            [
             0.3,
             "#f1b6da"
            ],
            [
             0.4,
             "#fde0ef"
            ],
            [
             0.5,
             "#f7f7f7"
            ],
            [
             0.6,
             "#e6f5d0"
            ],
            [
             0.7,
             "#b8e186"
            ],
            [
             0.8,
             "#7fbc41"
            ],
            [
             0.9,
             "#4d9221"
            ],
            [
             1,
             "#276419"
            ]
           ],
           "sequential": [
            [
             0,
             "#0d0887"
            ],
            [
             0.1111111111111111,
             "#46039f"
            ],
            [
             0.2222222222222222,
             "#7201a8"
            ],
            [
             0.3333333333333333,
             "#9c179e"
            ],
            [
             0.4444444444444444,
             "#bd3786"
            ],
            [
             0.5555555555555556,
             "#d8576b"
            ],
            [
             0.6666666666666666,
             "#ed7953"
            ],
            [
             0.7777777777777778,
             "#fb9f3a"
            ],
            [
             0.8888888888888888,
             "#fdca26"
            ],
            [
             1,
             "#f0f921"
            ]
           ],
           "sequentialminus": [
            [
             0,
             "#0d0887"
            ],
            [
             0.1111111111111111,
             "#46039f"
            ],
            [
             0.2222222222222222,
             "#7201a8"
            ],
            [
             0.3333333333333333,
             "#9c179e"
            ],
            [
             0.4444444444444444,
             "#bd3786"
            ],
            [
             0.5555555555555556,
             "#d8576b"
            ],
            [
             0.6666666666666666,
             "#ed7953"
            ],
            [
             0.7777777777777778,
             "#fb9f3a"
            ],
            [
             0.8888888888888888,
             "#fdca26"
            ],
            [
             1,
             "#f0f921"
            ]
           ]
          },
          "colorway": [
           "#636efa",
           "#EF553B",
           "#00cc96",
           "#ab63fa",
           "#FFA15A",
           "#19d3f3",
           "#FF6692",
           "#B6E880",
           "#FF97FF",
           "#FECB52"
          ],
          "font": {
           "color": "#2a3f5f"
          },
          "geo": {
           "bgcolor": "white",
           "lakecolor": "white",
           "landcolor": "#E5ECF6",
           "showlakes": true,
           "showland": true,
           "subunitcolor": "white"
          },
          "hoverlabel": {
           "align": "left"
          },
          "hovermode": "closest",
          "mapbox": {
           "style": "light"
          },
          "paper_bgcolor": "white",
          "plot_bgcolor": "#E5ECF6",
          "polar": {
           "angularaxis": {
            "gridcolor": "white",
            "linecolor": "white",
            "ticks": ""
           },
           "bgcolor": "#E5ECF6",
           "radialaxis": {
            "gridcolor": "white",
            "linecolor": "white",
            "ticks": ""
           }
          },
          "scene": {
           "xaxis": {
            "backgroundcolor": "#E5ECF6",
            "gridcolor": "white",
            "gridwidth": 2,
            "linecolor": "white",
            "showbackground": true,
            "ticks": "",
            "zerolinecolor": "white"
           },
           "yaxis": {
            "backgroundcolor": "#E5ECF6",
            "gridcolor": "white",
            "gridwidth": 2,
            "linecolor": "white",
            "showbackground": true,
            "ticks": "",
            "zerolinecolor": "white"
           },
           "zaxis": {
            "backgroundcolor": "#E5ECF6",
            "gridcolor": "white",
            "gridwidth": 2,
            "linecolor": "white",
            "showbackground": true,
            "ticks": "",
            "zerolinecolor": "white"
           }
          },
          "shapedefaults": {
           "line": {
            "color": "#2a3f5f"
           }
          },
          "ternary": {
           "aaxis": {
            "gridcolor": "white",
            "linecolor": "white",
            "ticks": ""
           },
           "baxis": {
            "gridcolor": "white",
            "linecolor": "white",
            "ticks": ""
           },
           "bgcolor": "#E5ECF6",
           "caxis": {
            "gridcolor": "white",
            "linecolor": "white",
            "ticks": ""
           }
          },
          "title": {
           "x": 0.05
          },
          "xaxis": {
           "automargin": true,
           "gridcolor": "white",
           "linecolor": "white",
           "ticks": "",
           "title": {
            "standoff": 15
           },
           "zerolinecolor": "white",
           "zerolinewidth": 2
          },
          "yaxis": {
           "automargin": true,
           "gridcolor": "white",
           "linecolor": "white",
           "ticks": "",
           "title": {
            "standoff": 15
           },
           "zerolinecolor": "white",
           "zerolinewidth": 2
          }
         }
        },
        "title": {
         "text": "Total de Ventas por Mes"
        },
        "xaxis": {
         "title": {
          "text": "Mes"
         }
        },
        "yaxis": {
         "title": {
          "text": "Total de Ventas"
         }
        }
       }
      }
     },
     "metadata": {},
     "output_type": "display_data"
    }
   ],
   "source": [
    "# Se configura los ejes y los titulos\n",
    "fig.update_layout(\n",
    "    title='Total de Ventas por Mes',\n",
    "    xaxis=dict(title='Mes'),\n",
    "    yaxis=dict(title='Total de Ventas'),\n",
    ")"
   ]
  },
  {
   "cell_type": "code",
   "execution_count": 29,
   "metadata": {},
   "outputs": [
    {
     "data": {
      "application/vnd.plotly.v1+json": {
       "config": {
        "plotlyServerURL": "https://plot.ly"
       },
       "data": [
        {
         "marker": {
          "color": [
           10858,
           13443,
           16980,
           20546,
           18643,
           15236,
           16051,
           13423,
           13101,
           22671,
           19779,
           28081
          ],
          "colorbar": {
           "thickness": 15,
           "title": {
            "text": "Total de Ventas"
           },
           "x": 1
          },
          "colorscale": [
           [
            0,
            "#00224e"
           ],
           [
            0.1111111111111111,
            "#123570"
           ],
           [
            0.2222222222222222,
            "#3b496c"
           ],
           [
            0.3333333333333333,
            "#575d6d"
           ],
           [
            0.4444444444444444,
            "#707173"
           ],
           [
            0.5555555555555556,
            "#8a8678"
           ],
           [
            0.6666666666666666,
            "#a59c74"
           ],
           [
            0.7777777777777778,
            "#c3b369"
           ],
           [
            0.8888888888888888,
            "#e1cc55"
           ],
           [
            1,
            "#fee838"
           ]
          ]
         },
         "text": [
          "10858",
          "13443",
          "16980",
          "20546",
          "18643",
          "15236",
          "16051",
          "13423",
          "13101",
          "22671",
          "19779",
          "28081"
         ],
         "textposition": "auto",
         "type": "bar",
         "x": [
          "Enero",
          "Febrero",
          "Marzo",
          "Abril",
          "Mayo",
          "Junio",
          "Julio",
          "Agosto",
          "Septiembre",
          "Octubre",
          "Noviembre",
          "Diciembre"
         ],
         "y": [
          10858,
          13443,
          16980,
          20546,
          18643,
          15236,
          16051,
          13423,
          13101,
          22671,
          19779,
          28081
         ]
        }
       ],
       "layout": {
        "template": {
         "data": {
          "bar": [
           {
            "error_x": {
             "color": "#2a3f5f"
            },
            "error_y": {
             "color": "#2a3f5f"
            },
            "marker": {
             "line": {
              "color": "#E5ECF6",
              "width": 0.5
             },
             "pattern": {
              "fillmode": "overlay",
              "size": 10,
              "solidity": 0.2
             }
            },
            "type": "bar"
           }
          ],
          "barpolar": [
           {
            "marker": {
             "line": {
              "color": "#E5ECF6",
              "width": 0.5
             },
             "pattern": {
              "fillmode": "overlay",
              "size": 10,
              "solidity": 0.2
             }
            },
            "type": "barpolar"
           }
          ],
          "carpet": [
           {
            "aaxis": {
             "endlinecolor": "#2a3f5f",
             "gridcolor": "white",
             "linecolor": "white",
             "minorgridcolor": "white",
             "startlinecolor": "#2a3f5f"
            },
            "baxis": {
             "endlinecolor": "#2a3f5f",
             "gridcolor": "white",
             "linecolor": "white",
             "minorgridcolor": "white",
             "startlinecolor": "#2a3f5f"
            },
            "type": "carpet"
           }
          ],
          "choropleth": [
           {
            "colorbar": {
             "outlinewidth": 0,
             "ticks": ""
            },
            "type": "choropleth"
           }
          ],
          "contour": [
           {
            "colorbar": {
             "outlinewidth": 0,
             "ticks": ""
            },
            "colorscale": [
             [
              0,
              "#0d0887"
             ],
             [
              0.1111111111111111,
              "#46039f"
             ],
             [
              0.2222222222222222,
              "#7201a8"
             ],
             [
              0.3333333333333333,
              "#9c179e"
             ],
             [
              0.4444444444444444,
              "#bd3786"
             ],
             [
              0.5555555555555556,
              "#d8576b"
             ],
             [
              0.6666666666666666,
              "#ed7953"
             ],
             [
              0.7777777777777778,
              "#fb9f3a"
             ],
             [
              0.8888888888888888,
              "#fdca26"
             ],
             [
              1,
              "#f0f921"
             ]
            ],
            "type": "contour"
           }
          ],
          "contourcarpet": [
           {
            "colorbar": {
             "outlinewidth": 0,
             "ticks": ""
            },
            "type": "contourcarpet"
           }
          ],
          "heatmap": [
           {
            "colorbar": {
             "outlinewidth": 0,
             "ticks": ""
            },
            "colorscale": [
             [
              0,
              "#0d0887"
             ],
             [
              0.1111111111111111,
              "#46039f"
             ],
             [
              0.2222222222222222,
              "#7201a8"
             ],
             [
              0.3333333333333333,
              "#9c179e"
             ],
             [
              0.4444444444444444,
              "#bd3786"
             ],
             [
              0.5555555555555556,
              "#d8576b"
             ],
             [
              0.6666666666666666,
              "#ed7953"
             ],
             [
              0.7777777777777778,
              "#fb9f3a"
             ],
             [
              0.8888888888888888,
              "#fdca26"
             ],
             [
              1,
              "#f0f921"
             ]
            ],
            "type": "heatmap"
           }
          ],
          "heatmapgl": [
           {
            "colorbar": {
             "outlinewidth": 0,
             "ticks": ""
            },
            "colorscale": [
             [
              0,
              "#0d0887"
             ],
             [
              0.1111111111111111,
              "#46039f"
             ],
             [
              0.2222222222222222,
              "#7201a8"
             ],
             [
              0.3333333333333333,
              "#9c179e"
             ],
             [
              0.4444444444444444,
              "#bd3786"
             ],
             [
              0.5555555555555556,
              "#d8576b"
             ],
             [
              0.6666666666666666,
              "#ed7953"
             ],
             [
              0.7777777777777778,
              "#fb9f3a"
             ],
             [
              0.8888888888888888,
              "#fdca26"
             ],
             [
              1,
              "#f0f921"
             ]
            ],
            "type": "heatmapgl"
           }
          ],
          "histogram": [
           {
            "marker": {
             "pattern": {
              "fillmode": "overlay",
              "size": 10,
              "solidity": 0.2
             }
            },
            "type": "histogram"
           }
          ],
          "histogram2d": [
           {
            "colorbar": {
             "outlinewidth": 0,
             "ticks": ""
            },
            "colorscale": [
             [
              0,
              "#0d0887"
             ],
             [
              0.1111111111111111,
              "#46039f"
             ],
             [
              0.2222222222222222,
              "#7201a8"
             ],
             [
              0.3333333333333333,
              "#9c179e"
             ],
             [
              0.4444444444444444,
              "#bd3786"
             ],
             [
              0.5555555555555556,
              "#d8576b"
             ],
             [
              0.6666666666666666,
              "#ed7953"
             ],
             [
              0.7777777777777778,
              "#fb9f3a"
             ],
             [
              0.8888888888888888,
              "#fdca26"
             ],
             [
              1,
              "#f0f921"
             ]
            ],
            "type": "histogram2d"
           }
          ],
          "histogram2dcontour": [
           {
            "colorbar": {
             "outlinewidth": 0,
             "ticks": ""
            },
            "colorscale": [
             [
              0,
              "#0d0887"
             ],
             [
              0.1111111111111111,
              "#46039f"
             ],
             [
              0.2222222222222222,
              "#7201a8"
             ],
             [
              0.3333333333333333,
              "#9c179e"
             ],
             [
              0.4444444444444444,
              "#bd3786"
             ],
             [
              0.5555555555555556,
              "#d8576b"
             ],
             [
              0.6666666666666666,
              "#ed7953"
             ],
             [
              0.7777777777777778,
              "#fb9f3a"
             ],
             [
              0.8888888888888888,
              "#fdca26"
             ],
             [
              1,
              "#f0f921"
             ]
            ],
            "type": "histogram2dcontour"
           }
          ],
          "mesh3d": [
           {
            "colorbar": {
             "outlinewidth": 0,
             "ticks": ""
            },
            "type": "mesh3d"
           }
          ],
          "parcoords": [
           {
            "line": {
             "colorbar": {
              "outlinewidth": 0,
              "ticks": ""
             }
            },
            "type": "parcoords"
           }
          ],
          "pie": [
           {
            "automargin": true,
            "type": "pie"
           }
          ],
          "scatter": [
           {
            "fillpattern": {
             "fillmode": "overlay",
             "size": 10,
             "solidity": 0.2
            },
            "type": "scatter"
           }
          ],
          "scatter3d": [
           {
            "line": {
             "colorbar": {
              "outlinewidth": 0,
              "ticks": ""
             }
            },
            "marker": {
             "colorbar": {
              "outlinewidth": 0,
              "ticks": ""
             }
            },
            "type": "scatter3d"
           }
          ],
          "scattercarpet": [
           {
            "marker": {
             "colorbar": {
              "outlinewidth": 0,
              "ticks": ""
             }
            },
            "type": "scattercarpet"
           }
          ],
          "scattergeo": [
           {
            "marker": {
             "colorbar": {
              "outlinewidth": 0,
              "ticks": ""
             }
            },
            "type": "scattergeo"
           }
          ],
          "scattergl": [
           {
            "marker": {
             "colorbar": {
              "outlinewidth": 0,
              "ticks": ""
             }
            },
            "type": "scattergl"
           }
          ],
          "scattermapbox": [
           {
            "marker": {
             "colorbar": {
              "outlinewidth": 0,
              "ticks": ""
             }
            },
            "type": "scattermapbox"
           }
          ],
          "scatterpolar": [
           {
            "marker": {
             "colorbar": {
              "outlinewidth": 0,
              "ticks": ""
             }
            },
            "type": "scatterpolar"
           }
          ],
          "scatterpolargl": [
           {
            "marker": {
             "colorbar": {
              "outlinewidth": 0,
              "ticks": ""
             }
            },
            "type": "scatterpolargl"
           }
          ],
          "scatterternary": [
           {
            "marker": {
             "colorbar": {
              "outlinewidth": 0,
              "ticks": ""
             }
            },
            "type": "scatterternary"
           }
          ],
          "surface": [
           {
            "colorbar": {
             "outlinewidth": 0,
             "ticks": ""
            },
            "colorscale": [
             [
              0,
              "#0d0887"
             ],
             [
              0.1111111111111111,
              "#46039f"
             ],
             [
              0.2222222222222222,
              "#7201a8"
             ],
             [
              0.3333333333333333,
              "#9c179e"
             ],
             [
              0.4444444444444444,
              "#bd3786"
             ],
             [
              0.5555555555555556,
              "#d8576b"
             ],
             [
              0.6666666666666666,
              "#ed7953"
             ],
             [
              0.7777777777777778,
              "#fb9f3a"
             ],
             [
              0.8888888888888888,
              "#fdca26"
             ],
             [
              1,
              "#f0f921"
             ]
            ],
            "type": "surface"
           }
          ],
          "table": [
           {
            "cells": {
             "fill": {
              "color": "#EBF0F8"
             },
             "line": {
              "color": "white"
             }
            },
            "header": {
             "fill": {
              "color": "#C8D4E3"
             },
             "line": {
              "color": "white"
             }
            },
            "type": "table"
           }
          ]
         },
         "layout": {
          "annotationdefaults": {
           "arrowcolor": "#2a3f5f",
           "arrowhead": 0,
           "arrowwidth": 1
          },
          "autotypenumbers": "strict",
          "coloraxis": {
           "colorbar": {
            "outlinewidth": 0,
            "ticks": ""
           }
          },
          "colorscale": {
           "diverging": [
            [
             0,
             "#8e0152"
            ],
            [
             0.1,
             "#c51b7d"
            ],
            [
             0.2,
             "#de77ae"
            ],
            [
             0.3,
             "#f1b6da"
            ],
            [
             0.4,
             "#fde0ef"
            ],
            [
             0.5,
             "#f7f7f7"
            ],
            [
             0.6,
             "#e6f5d0"
            ],
            [
             0.7,
             "#b8e186"
            ],
            [
             0.8,
             "#7fbc41"
            ],
            [
             0.9,
             "#4d9221"
            ],
            [
             1,
             "#276419"
            ]
           ],
           "sequential": [
            [
             0,
             "#0d0887"
            ],
            [
             0.1111111111111111,
             "#46039f"
            ],
            [
             0.2222222222222222,
             "#7201a8"
            ],
            [
             0.3333333333333333,
             "#9c179e"
            ],
            [
             0.4444444444444444,
             "#bd3786"
            ],
            [
             0.5555555555555556,
             "#d8576b"
            ],
            [
             0.6666666666666666,
             "#ed7953"
            ],
            [
             0.7777777777777778,
             "#fb9f3a"
            ],
            [
             0.8888888888888888,
             "#fdca26"
            ],
            [
             1,
             "#f0f921"
            ]
           ],
           "sequentialminus": [
            [
             0,
             "#0d0887"
            ],
            [
             0.1111111111111111,
             "#46039f"
            ],
            [
             0.2222222222222222,
             "#7201a8"
            ],
            [
             0.3333333333333333,
             "#9c179e"
            ],
            [
             0.4444444444444444,
             "#bd3786"
            ],
            [
             0.5555555555555556,
             "#d8576b"
            ],
            [
             0.6666666666666666,
             "#ed7953"
            ],
            [
             0.7777777777777778,
             "#fb9f3a"
            ],
            [
             0.8888888888888888,
             "#fdca26"
            ],
            [
             1,
             "#f0f921"
            ]
           ]
          },
          "colorway": [
           "#636efa",
           "#EF553B",
           "#00cc96",
           "#ab63fa",
           "#FFA15A",
           "#19d3f3",
           "#FF6692",
           "#B6E880",
           "#FF97FF",
           "#FECB52"
          ],
          "font": {
           "color": "#2a3f5f"
          },
          "geo": {
           "bgcolor": "white",
           "lakecolor": "white",
           "landcolor": "#E5ECF6",
           "showlakes": true,
           "showland": true,
           "subunitcolor": "white"
          },
          "hoverlabel": {
           "align": "left"
          },
          "hovermode": "closest",
          "mapbox": {
           "style": "light"
          },
          "paper_bgcolor": "white",
          "plot_bgcolor": "#E5ECF6",
          "polar": {
           "angularaxis": {
            "gridcolor": "white",
            "linecolor": "white",
            "ticks": ""
           },
           "bgcolor": "#E5ECF6",
           "radialaxis": {
            "gridcolor": "white",
            "linecolor": "white",
            "ticks": ""
           }
          },
          "scene": {
           "xaxis": {
            "backgroundcolor": "#E5ECF6",
            "gridcolor": "white",
            "gridwidth": 2,
            "linecolor": "white",
            "showbackground": true,
            "ticks": "",
            "zerolinecolor": "white"
           },
           "yaxis": {
            "backgroundcolor": "#E5ECF6",
            "gridcolor": "white",
            "gridwidth": 2,
            "linecolor": "white",
            "showbackground": true,
            "ticks": "",
            "zerolinecolor": "white"
           },
           "zaxis": {
            "backgroundcolor": "#E5ECF6",
            "gridcolor": "white",
            "gridwidth": 2,
            "linecolor": "white",
            "showbackground": true,
            "ticks": "",
            "zerolinecolor": "white"
           }
          },
          "shapedefaults": {
           "line": {
            "color": "#2a3f5f"
           }
          },
          "ternary": {
           "aaxis": {
            "gridcolor": "white",
            "linecolor": "white",
            "ticks": ""
           },
           "baxis": {
            "gridcolor": "white",
            "linecolor": "white",
            "ticks": ""
           },
           "bgcolor": "#E5ECF6",
           "caxis": {
            "gridcolor": "white",
            "linecolor": "white",
            "ticks": ""
           }
          },
          "title": {
           "x": 0.05
          },
          "xaxis": {
           "automargin": true,
           "gridcolor": "white",
           "linecolor": "white",
           "ticks": "",
           "title": {
            "standoff": 15
           },
           "zerolinecolor": "white",
           "zerolinewidth": 2
          },
          "yaxis": {
           "automargin": true,
           "gridcolor": "white",
           "linecolor": "white",
           "ticks": "",
           "title": {
            "standoff": 15
           },
           "zerolinecolor": "white",
           "zerolinewidth": 2
          }
         }
        },
        "title": {
         "text": "Total de Ventas por Mes"
        },
        "xaxis": {
         "title": {
          "text": "Mes"
         }
        },
        "yaxis": {
         "title": {
          "text": "Total de Ventas"
         }
        }
       }
      }
     },
     "metadata": {},
     "output_type": "display_data"
    }
   ],
   "source": [
    "fig.show()"
   ]
  },
  {
   "cell_type": "markdown",
   "metadata": {},
   "source": [
    "### ● ¿Hubo algún mes que se destacó en términos de ventas?"
   ]
  },
  {
   "cell_type": "code",
   "execution_count": 30,
   "metadata": {},
   "outputs": [
    {
     "name": "stdout",
     "output_type": "stream",
     "text": [
      "El mes que se destacó por tener mayor ventas fue Diciembre , con un total de ventas de 28081 .\n"
     ]
    }
   ],
   "source": [
    "print('El mes que se destacó por tener mayor ventas fue', nombres_meses[totales_ventas_mes.index(max(totales_ventas_mes))], ', con un total de ventas de', max(totales_ventas_mes), '.')\t"
   ]
  },
  {
   "cell_type": "markdown",
   "metadata": {},
   "source": [
    "### ● ¿Cuál es el ingreso total generado por mes?"
   ]
  },
  {
   "cell_type": "code",
   "execution_count": 31,
   "metadata": {},
   "outputs": [],
   "source": [
    "   \n",
    "# Se crea el objeto de grafico de barras\n",
    "fig = go.Figure(data=go.Bar(\n",
    "    x=nombres_meses,\n",
    "    y=ingreso_totales_mes,\n",
    "    marker=dict(color=ingreso_totales_mes, colorscale='Inferno',colorbar=dict(title='Total de Ingresos', x=1.0, thickness=15)),\n",
    "    text=ingreso_totales_mes,\n",
    "    textposition='auto',\n",
    "    ))\n",
    " "
   ]
  },
  {
   "cell_type": "code",
   "execution_count": 32,
   "metadata": {},
   "outputs": [
    {
     "data": {
      "application/vnd.plotly.v1+json": {
       "config": {
        "plotlyServerURL": "https://plot.ly"
       },
       "data": [
        {
         "marker": {
          "color": [
           1806224,
           2191215,
           2793923,
           3378904,
           3128289,
           2565168,
           2633273,
           2230775,
           2085601,
           3717445,
           3181984,
           4592561
          ],
          "colorbar": {
           "thickness": 15,
           "title": {
            "text": "Total de Ingresos"
           },
           "x": 1
          },
          "colorscale": [
           [
            0,
            "#000004"
           ],
           [
            0.1111111111111111,
            "#1b0c41"
           ],
           [
            0.2222222222222222,
            "#4a0c6b"
           ],
           [
            0.3333333333333333,
            "#781c6d"
           ],
           [
            0.4444444444444444,
            "#a52c60"
           ],
           [
            0.5555555555555556,
            "#cf4446"
           ],
           [
            0.6666666666666666,
            "#ed6925"
           ],
           [
            0.7777777777777778,
            "#fb9b06"
           ],
           [
            0.8888888888888888,
            "#f7d13d"
           ],
           [
            1,
            "#fcffa4"
           ]
          ]
         },
         "text": [
          "1806224",
          "2191215",
          "2793923",
          "3378904",
          "3128289",
          "2565168",
          "2633273",
          "2230775",
          "2085601",
          "3717445",
          "3181984",
          "4592561"
         ],
         "textposition": "auto",
         "type": "bar",
         "x": [
          "Enero",
          "Febrero",
          "Marzo",
          "Abril",
          "Mayo",
          "Junio",
          "Julio",
          "Agosto",
          "Septiembre",
          "Octubre",
          "Noviembre",
          "Diciembre"
         ],
         "y": [
          1806224,
          2191215,
          2793923,
          3378904,
          3128289,
          2565168,
          2633273,
          2230775,
          2085601,
          3717445,
          3181984,
          4592561
         ]
        }
       ],
       "layout": {
        "template": {
         "data": {
          "bar": [
           {
            "error_x": {
             "color": "#2a3f5f"
            },
            "error_y": {
             "color": "#2a3f5f"
            },
            "marker": {
             "line": {
              "color": "#E5ECF6",
              "width": 0.5
             },
             "pattern": {
              "fillmode": "overlay",
              "size": 10,
              "solidity": 0.2
             }
            },
            "type": "bar"
           }
          ],
          "barpolar": [
           {
            "marker": {
             "line": {
              "color": "#E5ECF6",
              "width": 0.5
             },
             "pattern": {
              "fillmode": "overlay",
              "size": 10,
              "solidity": 0.2
             }
            },
            "type": "barpolar"
           }
          ],
          "carpet": [
           {
            "aaxis": {
             "endlinecolor": "#2a3f5f",
             "gridcolor": "white",
             "linecolor": "white",
             "minorgridcolor": "white",
             "startlinecolor": "#2a3f5f"
            },
            "baxis": {
             "endlinecolor": "#2a3f5f",
             "gridcolor": "white",
             "linecolor": "white",
             "minorgridcolor": "white",
             "startlinecolor": "#2a3f5f"
            },
            "type": "carpet"
           }
          ],
          "choropleth": [
           {
            "colorbar": {
             "outlinewidth": 0,
             "ticks": ""
            },
            "type": "choropleth"
           }
          ],
          "contour": [
           {
            "colorbar": {
             "outlinewidth": 0,
             "ticks": ""
            },
            "colorscale": [
             [
              0,
              "#0d0887"
             ],
             [
              0.1111111111111111,
              "#46039f"
             ],
             [
              0.2222222222222222,
              "#7201a8"
             ],
             [
              0.3333333333333333,
              "#9c179e"
             ],
             [
              0.4444444444444444,
              "#bd3786"
             ],
             [
              0.5555555555555556,
              "#d8576b"
             ],
             [
              0.6666666666666666,
              "#ed7953"
             ],
             [
              0.7777777777777778,
              "#fb9f3a"
             ],
             [
              0.8888888888888888,
              "#fdca26"
             ],
             [
              1,
              "#f0f921"
             ]
            ],
            "type": "contour"
           }
          ],
          "contourcarpet": [
           {
            "colorbar": {
             "outlinewidth": 0,
             "ticks": ""
            },
            "type": "contourcarpet"
           }
          ],
          "heatmap": [
           {
            "colorbar": {
             "outlinewidth": 0,
             "ticks": ""
            },
            "colorscale": [
             [
              0,
              "#0d0887"
             ],
             [
              0.1111111111111111,
              "#46039f"
             ],
             [
              0.2222222222222222,
              "#7201a8"
             ],
             [
              0.3333333333333333,
              "#9c179e"
             ],
             [
              0.4444444444444444,
              "#bd3786"
             ],
             [
              0.5555555555555556,
              "#d8576b"
             ],
             [
              0.6666666666666666,
              "#ed7953"
             ],
             [
              0.7777777777777778,
              "#fb9f3a"
             ],
             [
              0.8888888888888888,
              "#fdca26"
             ],
             [
              1,
              "#f0f921"
             ]
            ],
            "type": "heatmap"
           }
          ],
          "heatmapgl": [
           {
            "colorbar": {
             "outlinewidth": 0,
             "ticks": ""
            },
            "colorscale": [
             [
              0,
              "#0d0887"
             ],
             [
              0.1111111111111111,
              "#46039f"
             ],
             [
              0.2222222222222222,
              "#7201a8"
             ],
             [
              0.3333333333333333,
              "#9c179e"
             ],
             [
              0.4444444444444444,
              "#bd3786"
             ],
             [
              0.5555555555555556,
              "#d8576b"
             ],
             [
              0.6666666666666666,
              "#ed7953"
             ],
             [
              0.7777777777777778,
              "#fb9f3a"
             ],
             [
              0.8888888888888888,
              "#fdca26"
             ],
             [
              1,
              "#f0f921"
             ]
            ],
            "type": "heatmapgl"
           }
          ],
          "histogram": [
           {
            "marker": {
             "pattern": {
              "fillmode": "overlay",
              "size": 10,
              "solidity": 0.2
             }
            },
            "type": "histogram"
           }
          ],
          "histogram2d": [
           {
            "colorbar": {
             "outlinewidth": 0,
             "ticks": ""
            },
            "colorscale": [
             [
              0,
              "#0d0887"
             ],
             [
              0.1111111111111111,
              "#46039f"
             ],
             [
              0.2222222222222222,
              "#7201a8"
             ],
             [
              0.3333333333333333,
              "#9c179e"
             ],
             [
              0.4444444444444444,
              "#bd3786"
             ],
             [
              0.5555555555555556,
              "#d8576b"
             ],
             [
              0.6666666666666666,
              "#ed7953"
             ],
             [
              0.7777777777777778,
              "#fb9f3a"
             ],
             [
              0.8888888888888888,
              "#fdca26"
             ],
             [
              1,
              "#f0f921"
             ]
            ],
            "type": "histogram2d"
           }
          ],
          "histogram2dcontour": [
           {
            "colorbar": {
             "outlinewidth": 0,
             "ticks": ""
            },
            "colorscale": [
             [
              0,
              "#0d0887"
             ],
             [
              0.1111111111111111,
              "#46039f"
             ],
             [
              0.2222222222222222,
              "#7201a8"
             ],
             [
              0.3333333333333333,
              "#9c179e"
             ],
             [
              0.4444444444444444,
              "#bd3786"
             ],
             [
              0.5555555555555556,
              "#d8576b"
             ],
             [
              0.6666666666666666,
              "#ed7953"
             ],
             [
              0.7777777777777778,
              "#fb9f3a"
             ],
             [
              0.8888888888888888,
              "#fdca26"
             ],
             [
              1,
              "#f0f921"
             ]
            ],
            "type": "histogram2dcontour"
           }
          ],
          "mesh3d": [
           {
            "colorbar": {
             "outlinewidth": 0,
             "ticks": ""
            },
            "type": "mesh3d"
           }
          ],
          "parcoords": [
           {
            "line": {
             "colorbar": {
              "outlinewidth": 0,
              "ticks": ""
             }
            },
            "type": "parcoords"
           }
          ],
          "pie": [
           {
            "automargin": true,
            "type": "pie"
           }
          ],
          "scatter": [
           {
            "fillpattern": {
             "fillmode": "overlay",
             "size": 10,
             "solidity": 0.2
            },
            "type": "scatter"
           }
          ],
          "scatter3d": [
           {
            "line": {
             "colorbar": {
              "outlinewidth": 0,
              "ticks": ""
             }
            },
            "marker": {
             "colorbar": {
              "outlinewidth": 0,
              "ticks": ""
             }
            },
            "type": "scatter3d"
           }
          ],
          "scattercarpet": [
           {
            "marker": {
             "colorbar": {
              "outlinewidth": 0,
              "ticks": ""
             }
            },
            "type": "scattercarpet"
           }
          ],
          "scattergeo": [
           {
            "marker": {
             "colorbar": {
              "outlinewidth": 0,
              "ticks": ""
             }
            },
            "type": "scattergeo"
           }
          ],
          "scattergl": [
           {
            "marker": {
             "colorbar": {
              "outlinewidth": 0,
              "ticks": ""
             }
            },
            "type": "scattergl"
           }
          ],
          "scattermapbox": [
           {
            "marker": {
             "colorbar": {
              "outlinewidth": 0,
              "ticks": ""
             }
            },
            "type": "scattermapbox"
           }
          ],
          "scatterpolar": [
           {
            "marker": {
             "colorbar": {
              "outlinewidth": 0,
              "ticks": ""
             }
            },
            "type": "scatterpolar"
           }
          ],
          "scatterpolargl": [
           {
            "marker": {
             "colorbar": {
              "outlinewidth": 0,
              "ticks": ""
             }
            },
            "type": "scatterpolargl"
           }
          ],
          "scatterternary": [
           {
            "marker": {
             "colorbar": {
              "outlinewidth": 0,
              "ticks": ""
             }
            },
            "type": "scatterternary"
           }
          ],
          "surface": [
           {
            "colorbar": {
             "outlinewidth": 0,
             "ticks": ""
            },
            "colorscale": [
             [
              0,
              "#0d0887"
             ],
             [
              0.1111111111111111,
              "#46039f"
             ],
             [
              0.2222222222222222,
              "#7201a8"
             ],
             [
              0.3333333333333333,
              "#9c179e"
             ],
             [
              0.4444444444444444,
              "#bd3786"
             ],
             [
              0.5555555555555556,
              "#d8576b"
             ],
             [
              0.6666666666666666,
              "#ed7953"
             ],
             [
              0.7777777777777778,
              "#fb9f3a"
             ],
             [
              0.8888888888888888,
              "#fdca26"
             ],
             [
              1,
              "#f0f921"
             ]
            ],
            "type": "surface"
           }
          ],
          "table": [
           {
            "cells": {
             "fill": {
              "color": "#EBF0F8"
             },
             "line": {
              "color": "white"
             }
            },
            "header": {
             "fill": {
              "color": "#C8D4E3"
             },
             "line": {
              "color": "white"
             }
            },
            "type": "table"
           }
          ]
         },
         "layout": {
          "annotationdefaults": {
           "arrowcolor": "#2a3f5f",
           "arrowhead": 0,
           "arrowwidth": 1
          },
          "autotypenumbers": "strict",
          "coloraxis": {
           "colorbar": {
            "outlinewidth": 0,
            "ticks": ""
           }
          },
          "colorscale": {
           "diverging": [
            [
             0,
             "#8e0152"
            ],
            [
             0.1,
             "#c51b7d"
            ],
            [
             0.2,
             "#de77ae"
            ],
            [
             0.3,
             "#f1b6da"
            ],
            [
             0.4,
             "#fde0ef"
            ],
            [
             0.5,
             "#f7f7f7"
            ],
            [
             0.6,
             "#e6f5d0"
            ],
            [
             0.7,
             "#b8e186"
            ],
            [
             0.8,
             "#7fbc41"
            ],
            [
             0.9,
             "#4d9221"
            ],
            [
             1,
             "#276419"
            ]
           ],
           "sequential": [
            [
             0,
             "#0d0887"
            ],
            [
             0.1111111111111111,
             "#46039f"
            ],
            [
             0.2222222222222222,
             "#7201a8"
            ],
            [
             0.3333333333333333,
             "#9c179e"
            ],
            [
             0.4444444444444444,
             "#bd3786"
            ],
            [
             0.5555555555555556,
             "#d8576b"
            ],
            [
             0.6666666666666666,
             "#ed7953"
            ],
            [
             0.7777777777777778,
             "#fb9f3a"
            ],
            [
             0.8888888888888888,
             "#fdca26"
            ],
            [
             1,
             "#f0f921"
            ]
           ],
           "sequentialminus": [
            [
             0,
             "#0d0887"
            ],
            [
             0.1111111111111111,
             "#46039f"
            ],
            [
             0.2222222222222222,
             "#7201a8"
            ],
            [
             0.3333333333333333,
             "#9c179e"
            ],
            [
             0.4444444444444444,
             "#bd3786"
            ],
            [
             0.5555555555555556,
             "#d8576b"
            ],
            [
             0.6666666666666666,
             "#ed7953"
            ],
            [
             0.7777777777777778,
             "#fb9f3a"
            ],
            [
             0.8888888888888888,
             "#fdca26"
            ],
            [
             1,
             "#f0f921"
            ]
           ]
          },
          "colorway": [
           "#636efa",
           "#EF553B",
           "#00cc96",
           "#ab63fa",
           "#FFA15A",
           "#19d3f3",
           "#FF6692",
           "#B6E880",
           "#FF97FF",
           "#FECB52"
          ],
          "font": {
           "color": "#2a3f5f"
          },
          "geo": {
           "bgcolor": "white",
           "lakecolor": "white",
           "landcolor": "#E5ECF6",
           "showlakes": true,
           "showland": true,
           "subunitcolor": "white"
          },
          "hoverlabel": {
           "align": "left"
          },
          "hovermode": "closest",
          "mapbox": {
           "style": "light"
          },
          "paper_bgcolor": "white",
          "plot_bgcolor": "#E5ECF6",
          "polar": {
           "angularaxis": {
            "gridcolor": "white",
            "linecolor": "white",
            "ticks": ""
           },
           "bgcolor": "#E5ECF6",
           "radialaxis": {
            "gridcolor": "white",
            "linecolor": "white",
            "ticks": ""
           }
          },
          "scene": {
           "xaxis": {
            "backgroundcolor": "#E5ECF6",
            "gridcolor": "white",
            "gridwidth": 2,
            "linecolor": "white",
            "showbackground": true,
            "ticks": "",
            "zerolinecolor": "white"
           },
           "yaxis": {
            "backgroundcolor": "#E5ECF6",
            "gridcolor": "white",
            "gridwidth": 2,
            "linecolor": "white",
            "showbackground": true,
            "ticks": "",
            "zerolinecolor": "white"
           },
           "zaxis": {
            "backgroundcolor": "#E5ECF6",
            "gridcolor": "white",
            "gridwidth": 2,
            "linecolor": "white",
            "showbackground": true,
            "ticks": "",
            "zerolinecolor": "white"
           }
          },
          "shapedefaults": {
           "line": {
            "color": "#2a3f5f"
           }
          },
          "ternary": {
           "aaxis": {
            "gridcolor": "white",
            "linecolor": "white",
            "ticks": ""
           },
           "baxis": {
            "gridcolor": "white",
            "linecolor": "white",
            "ticks": ""
           },
           "bgcolor": "#E5ECF6",
           "caxis": {
            "gridcolor": "white",
            "linecolor": "white",
            "ticks": ""
           }
          },
          "title": {
           "x": 0.05
          },
          "xaxis": {
           "automargin": true,
           "gridcolor": "white",
           "linecolor": "white",
           "ticks": "",
           "title": {
            "standoff": 15
           },
           "zerolinecolor": "white",
           "zerolinewidth": 2
          },
          "yaxis": {
           "automargin": true,
           "gridcolor": "white",
           "linecolor": "white",
           "ticks": "",
           "title": {
            "standoff": 15
           },
           "zerolinecolor": "white",
           "zerolinewidth": 2
          }
         }
        },
        "title": {
         "text": "Total de Ingresos por Mes"
        },
        "xaxis": {
         "title": {
          "text": "Mes"
         }
        },
        "yaxis": {
         "title": {
          "text": "Total de Ingresos"
         }
        }
       }
      }
     },
     "metadata": {},
     "output_type": "display_data"
    }
   ],
   "source": [
    "# Se configura los ejes y los titulos\n",
    "fig.update_layout(\n",
    "    title='Total de Ingresos por Mes',\n",
    "    xaxis=dict(title='Mes'),\n",
    "    yaxis=dict(title='Total de Ingresos'),\n",
    ")"
   ]
  },
  {
   "cell_type": "markdown",
   "metadata": {},
   "source": [
    "## 2. Optimización de la publicidad y patrón de ventas por hora:"
   ]
  },
  {
   "cell_type": "code",
   "execution_count": 33,
   "metadata": {},
   "outputs": [
    {
     "data": {
      "text/html": [
       "<div>\n",
       "<style scoped>\n",
       "    .dataframe tbody tr th:only-of-type {\n",
       "        vertical-align: middle;\n",
       "    }\n",
       "\n",
       "    .dataframe tbody tr th {\n",
       "        vertical-align: top;\n",
       "    }\n",
       "\n",
       "    .dataframe thead th {\n",
       "        text-align: right;\n",
       "    }\n",
       "</style>\n",
       "<table border=\"1\" class=\"dataframe\">\n",
       "  <thead>\n",
       "    <tr style=\"text-align: right;\">\n",
       "      <th></th>\n",
       "      <th>ID de Pedido</th>\n",
       "      <th>Producto</th>\n",
       "      <th>Cantidad Pedida</th>\n",
       "      <th>Precio Unitario</th>\n",
       "      <th>Fecha de Pedido</th>\n",
       "      <th>Dirección de Envio</th>\n",
       "      <th>Hora</th>\n",
       "      <th>Dia</th>\n",
       "      <th>Dia semanal</th>\n",
       "      <th>Calle</th>\n",
       "      <th>Ciudad</th>\n",
       "      <th>PO BOX</th>\n",
       "      <th>Estado</th>\n",
       "      <th>Cod Postal</th>\n",
       "      <th>Ingreso</th>\n",
       "    </tr>\n",
       "  </thead>\n",
       "  <tbody>\n",
       "    <tr>\n",
       "      <th>0</th>\n",
       "      <td>209921</td>\n",
       "      <td>USB-C Charging Cable</td>\n",
       "      <td>1</td>\n",
       "      <td>11</td>\n",
       "      <td>2019-06-23 19:34:00</td>\n",
       "      <td>950 Walnut St, Portland, ME 04101</td>\n",
       "      <td>19</td>\n",
       "      <td>23</td>\n",
       "      <td>6</td>\n",
       "      <td>950 Walnut St</td>\n",
       "      <td>Portland</td>\n",
       "      <td>ME 04101</td>\n",
       "      <td>ME</td>\n",
       "      <td>04101</td>\n",
       "      <td>11</td>\n",
       "    </tr>\n",
       "    <tr>\n",
       "      <th>1</th>\n",
       "      <td>209922</td>\n",
       "      <td>Macbook Pro Laptop</td>\n",
       "      <td>1</td>\n",
       "      <td>1700</td>\n",
       "      <td>2019-06-30 10:05:00</td>\n",
       "      <td>80 4th St, San Francisco, CA 94016</td>\n",
       "      <td>10</td>\n",
       "      <td>30</td>\n",
       "      <td>6</td>\n",
       "      <td>80 4th St</td>\n",
       "      <td>San Francisco</td>\n",
       "      <td>CA 94016</td>\n",
       "      <td>CA</td>\n",
       "      <td>94016</td>\n",
       "      <td>1700</td>\n",
       "    </tr>\n",
       "    <tr>\n",
       "      <th>2</th>\n",
       "      <td>209923</td>\n",
       "      <td>ThinkPad Laptop</td>\n",
       "      <td>1</td>\n",
       "      <td>999</td>\n",
       "      <td>2019-06-24 20:18:00</td>\n",
       "      <td>402 Jackson St, Los Angeles, CA 90001</td>\n",
       "      <td>20</td>\n",
       "      <td>24</td>\n",
       "      <td>0</td>\n",
       "      <td>402 Jackson St</td>\n",
       "      <td>Los Angeles</td>\n",
       "      <td>CA 90001</td>\n",
       "      <td>CA</td>\n",
       "      <td>90001</td>\n",
       "      <td>999</td>\n",
       "    </tr>\n",
       "    <tr>\n",
       "      <th>3</th>\n",
       "      <td>209924</td>\n",
       "      <td>27in FHD Monitor</td>\n",
       "      <td>1</td>\n",
       "      <td>149</td>\n",
       "      <td>2019-06-05 10:21:00</td>\n",
       "      <td>560 10th St, Seattle, WA 98101</td>\n",
       "      <td>10</td>\n",
       "      <td>5</td>\n",
       "      <td>2</td>\n",
       "      <td>560 10th St</td>\n",
       "      <td>Seattle</td>\n",
       "      <td>WA 98101</td>\n",
       "      <td>WA</td>\n",
       "      <td>98101</td>\n",
       "      <td>149</td>\n",
       "    </tr>\n",
       "    <tr>\n",
       "      <th>4</th>\n",
       "      <td>209925</td>\n",
       "      <td>Bose SoundSport Headphones</td>\n",
       "      <td>1</td>\n",
       "      <td>99</td>\n",
       "      <td>2019-06-25 18:58:00</td>\n",
       "      <td>545 2nd St, San Francisco, CA 94016</td>\n",
       "      <td>18</td>\n",
       "      <td>25</td>\n",
       "      <td>1</td>\n",
       "      <td>545 2nd St</td>\n",
       "      <td>San Francisco</td>\n",
       "      <td>CA 94016</td>\n",
       "      <td>CA</td>\n",
       "      <td>94016</td>\n",
       "      <td>99</td>\n",
       "    </tr>\n",
       "    <tr>\n",
       "      <th>5</th>\n",
       "      <td>209926</td>\n",
       "      <td>Apple Airpods Headphones</td>\n",
       "      <td>1</td>\n",
       "      <td>150</td>\n",
       "      <td>2019-06-28 20:04:00</td>\n",
       "      <td>386 Lake St, Seattle, WA 98101</td>\n",
       "      <td>20</td>\n",
       "      <td>28</td>\n",
       "      <td>4</td>\n",
       "      <td>386 Lake St</td>\n",
       "      <td>Seattle</td>\n",
       "      <td>WA 98101</td>\n",
       "      <td>WA</td>\n",
       "      <td>98101</td>\n",
       "      <td>150</td>\n",
       "    </tr>\n",
       "    <tr>\n",
       "      <th>6</th>\n",
       "      <td>209927</td>\n",
       "      <td>Lightning Charging Cable</td>\n",
       "      <td>1</td>\n",
       "      <td>14</td>\n",
       "      <td>2019-06-28 00:07:00</td>\n",
       "      <td>29 Lincoln St, Los Angeles, CA 90001</td>\n",
       "      <td>0</td>\n",
       "      <td>28</td>\n",
       "      <td>4</td>\n",
       "      <td>29 Lincoln St</td>\n",
       "      <td>Los Angeles</td>\n",
       "      <td>CA 90001</td>\n",
       "      <td>CA</td>\n",
       "      <td>90001</td>\n",
       "      <td>14</td>\n",
       "    </tr>\n",
       "    <tr>\n",
       "      <th>7</th>\n",
       "      <td>209928</td>\n",
       "      <td>Apple Airpods Headphones</td>\n",
       "      <td>1</td>\n",
       "      <td>150</td>\n",
       "      <td>2019-06-16 21:30:00</td>\n",
       "      <td>350 9th St, New York City, NY 10001</td>\n",
       "      <td>21</td>\n",
       "      <td>16</td>\n",
       "      <td>6</td>\n",
       "      <td>350 9th St</td>\n",
       "      <td>New York City</td>\n",
       "      <td>NY 10001</td>\n",
       "      <td>NY</td>\n",
       "      <td>10001</td>\n",
       "      <td>150</td>\n",
       "    </tr>\n",
       "    <tr>\n",
       "      <th>8</th>\n",
       "      <td>209929</td>\n",
       "      <td>Wired Headphones</td>\n",
       "      <td>1</td>\n",
       "      <td>11</td>\n",
       "      <td>2019-06-28 10:56:00</td>\n",
       "      <td>612 Meadow St, Portland, OR 97035</td>\n",
       "      <td>10</td>\n",
       "      <td>28</td>\n",
       "      <td>4</td>\n",
       "      <td>612 Meadow St</td>\n",
       "      <td>Portland</td>\n",
       "      <td>OR 97035</td>\n",
       "      <td>OR</td>\n",
       "      <td>97035</td>\n",
       "      <td>11</td>\n",
       "    </tr>\n",
       "    <tr>\n",
       "      <th>9</th>\n",
       "      <td>209930</td>\n",
       "      <td>27in FHD Monitor</td>\n",
       "      <td>1</td>\n",
       "      <td>149</td>\n",
       "      <td>2019-06-02 11:22:00</td>\n",
       "      <td>625 Ridge St, Los Angeles, CA 90001</td>\n",
       "      <td>11</td>\n",
       "      <td>2</td>\n",
       "      <td>6</td>\n",
       "      <td>625 Ridge St</td>\n",
       "      <td>Los Angeles</td>\n",
       "      <td>CA 90001</td>\n",
       "      <td>CA</td>\n",
       "      <td>90001</td>\n",
       "      <td>149</td>\n",
       "    </tr>\n",
       "    <tr>\n",
       "      <th>10</th>\n",
       "      <td>209931</td>\n",
       "      <td>Apple Airpods Headphones</td>\n",
       "      <td>1</td>\n",
       "      <td>150</td>\n",
       "      <td>2019-06-24 13:55:00</td>\n",
       "      <td>761 14th St, New York City, NY 10001</td>\n",
       "      <td>13</td>\n",
       "      <td>24</td>\n",
       "      <td>0</td>\n",
       "      <td>761 14th St</td>\n",
       "      <td>New York City</td>\n",
       "      <td>NY 10001</td>\n",
       "      <td>NY</td>\n",
       "      <td>10001</td>\n",
       "      <td>150</td>\n",
       "    </tr>\n",
       "    <tr>\n",
       "      <th>11</th>\n",
       "      <td>209932</td>\n",
       "      <td>Flatscreen TV</td>\n",
       "      <td>1</td>\n",
       "      <td>300</td>\n",
       "      <td>2019-06-12 14:36:00</td>\n",
       "      <td>858 8th St, Boston, MA 02215</td>\n",
       "      <td>14</td>\n",
       "      <td>12</td>\n",
       "      <td>2</td>\n",
       "      <td>858 8th St</td>\n",
       "      <td>Boston</td>\n",
       "      <td>MA 02215</td>\n",
       "      <td>MA</td>\n",
       "      <td>02215</td>\n",
       "      <td>300</td>\n",
       "    </tr>\n",
       "    <tr>\n",
       "      <th>12</th>\n",
       "      <td>209933</td>\n",
       "      <td>AA Batteries (4-pack)</td>\n",
       "      <td>1</td>\n",
       "      <td>3</td>\n",
       "      <td>2019-06-07 15:39:00</td>\n",
       "      <td>932 Lakeview St, San Francisco, CA 94016</td>\n",
       "      <td>15</td>\n",
       "      <td>7</td>\n",
       "      <td>4</td>\n",
       "      <td>932 Lakeview St</td>\n",
       "      <td>San Francisco</td>\n",
       "      <td>CA 94016</td>\n",
       "      <td>CA</td>\n",
       "      <td>94016</td>\n",
       "      <td>3</td>\n",
       "    </tr>\n",
       "    <tr>\n",
       "      <th>13</th>\n",
       "      <td>209934</td>\n",
       "      <td>AAA Batteries (4-pack)</td>\n",
       "      <td>1</td>\n",
       "      <td>2</td>\n",
       "      <td>2019-06-13 20:53:00</td>\n",
       "      <td>387 Dogwood St, Boston, MA 02215</td>\n",
       "      <td>20</td>\n",
       "      <td>13</td>\n",
       "      <td>3</td>\n",
       "      <td>387 Dogwood St</td>\n",
       "      <td>Boston</td>\n",
       "      <td>MA 02215</td>\n",
       "      <td>MA</td>\n",
       "      <td>02215</td>\n",
       "      <td>2</td>\n",
       "    </tr>\n",
       "    <tr>\n",
       "      <th>14</th>\n",
       "      <td>209935</td>\n",
       "      <td>AAA Batteries (4-pack)</td>\n",
       "      <td>1</td>\n",
       "      <td>2</td>\n",
       "      <td>2019-06-09 11:13:00</td>\n",
       "      <td>530 Cedar St, Boston, MA 02215</td>\n",
       "      <td>11</td>\n",
       "      <td>9</td>\n",
       "      <td>6</td>\n",
       "      <td>530 Cedar St</td>\n",
       "      <td>Boston</td>\n",
       "      <td>MA 02215</td>\n",
       "      <td>MA</td>\n",
       "      <td>02215</td>\n",
       "      <td>2</td>\n",
       "    </tr>\n",
       "  </tbody>\n",
       "</table>\n",
       "</div>"
      ],
      "text/plain": [
       "   ID de Pedido                    Producto  Cantidad Pedida  Precio Unitario  \\\n",
       "0        209921        USB-C Charging Cable                1               11   \n",
       "1        209922          Macbook Pro Laptop                1             1700   \n",
       "2        209923             ThinkPad Laptop                1              999   \n",
       "3        209924            27in FHD Monitor                1              149   \n",
       "4        209925  Bose SoundSport Headphones                1               99   \n",
       "5        209926    Apple Airpods Headphones                1              150   \n",
       "6        209927    Lightning Charging Cable                1               14   \n",
       "7        209928    Apple Airpods Headphones                1              150   \n",
       "8        209929            Wired Headphones                1               11   \n",
       "9        209930            27in FHD Monitor                1              149   \n",
       "10       209931    Apple Airpods Headphones                1              150   \n",
       "11       209932               Flatscreen TV                1              300   \n",
       "12       209933       AA Batteries (4-pack)                1                3   \n",
       "13       209934      AAA Batteries (4-pack)                1                2   \n",
       "14       209935      AAA Batteries (4-pack)                1                2   \n",
       "\n",
       "       Fecha de Pedido                        Dirección de Envio  Hora  Dia  \\\n",
       "0  2019-06-23 19:34:00         950 Walnut St, Portland, ME 04101    19   23   \n",
       "1  2019-06-30 10:05:00        80 4th St, San Francisco, CA 94016    10   30   \n",
       "2  2019-06-24 20:18:00     402 Jackson St, Los Angeles, CA 90001    20   24   \n",
       "3  2019-06-05 10:21:00            560 10th St, Seattle, WA 98101    10    5   \n",
       "4  2019-06-25 18:58:00       545 2nd St, San Francisco, CA 94016    18   25   \n",
       "5  2019-06-28 20:04:00            386 Lake St, Seattle, WA 98101    20   28   \n",
       "6  2019-06-28 00:07:00      29 Lincoln St, Los Angeles, CA 90001     0   28   \n",
       "7  2019-06-16 21:30:00       350 9th St, New York City, NY 10001    21   16   \n",
       "8  2019-06-28 10:56:00         612 Meadow St, Portland, OR 97035    10   28   \n",
       "9  2019-06-02 11:22:00       625 Ridge St, Los Angeles, CA 90001    11    2   \n",
       "10 2019-06-24 13:55:00      761 14th St, New York City, NY 10001    13   24   \n",
       "11 2019-06-12 14:36:00              858 8th St, Boston, MA 02215    14   12   \n",
       "12 2019-06-07 15:39:00  932 Lakeview St, San Francisco, CA 94016    15    7   \n",
       "13 2019-06-13 20:53:00          387 Dogwood St, Boston, MA 02215    20   13   \n",
       "14 2019-06-09 11:13:00            530 Cedar St, Boston, MA 02215    11    9   \n",
       "\n",
       "    Dia semanal            Calle         Ciudad    PO BOX Estado Cod Postal  \\\n",
       "0             6    950 Walnut St       Portland  ME 04101     ME      04101   \n",
       "1             6        80 4th St  San Francisco  CA 94016     CA      94016   \n",
       "2             0   402 Jackson St    Los Angeles  CA 90001     CA      90001   \n",
       "3             2      560 10th St        Seattle  WA 98101     WA      98101   \n",
       "4             1       545 2nd St  San Francisco  CA 94016     CA      94016   \n",
       "5             4      386 Lake St        Seattle  WA 98101     WA      98101   \n",
       "6             4    29 Lincoln St    Los Angeles  CA 90001     CA      90001   \n",
       "7             6       350 9th St  New York City  NY 10001     NY      10001   \n",
       "8             4    612 Meadow St       Portland  OR 97035     OR      97035   \n",
       "9             6     625 Ridge St    Los Angeles  CA 90001     CA      90001   \n",
       "10            0      761 14th St  New York City  NY 10001     NY      10001   \n",
       "11            2       858 8th St         Boston  MA 02215     MA      02215   \n",
       "12            4  932 Lakeview St  San Francisco  CA 94016     CA      94016   \n",
       "13            3   387 Dogwood St         Boston  MA 02215     MA      02215   \n",
       "14            6     530 Cedar St         Boston  MA 02215     MA      02215   \n",
       "\n",
       "    Ingreso  \n",
       "0        11  \n",
       "1      1700  \n",
       "2       999  \n",
       "3       149  \n",
       "4        99  \n",
       "5       150  \n",
       "6        14  \n",
       "7       150  \n",
       "8        11  \n",
       "9       149  \n",
       "10      150  \n",
       "11      300  \n",
       "12        3  \n",
       "13        2  \n",
       "14        2  "
      ]
     },
     "execution_count": 33,
     "metadata": {},
     "output_type": "execute_result"
    }
   ],
   "source": [
    "dataframes_meses['Junio'].head(15)"
   ]
  },
  {
   "cell_type": "code",
   "execution_count": 34,
   "metadata": {},
   "outputs": [
    {
     "data": {
      "text/plain": [
       "[0,\n",
       " 1,\n",
       " 2,\n",
       " 3,\n",
       " 4,\n",
       " 5,\n",
       " 6,\n",
       " 7,\n",
       " 8,\n",
       " 9,\n",
       " 10,\n",
       " 11,\n",
       " 12,\n",
       " 13,\n",
       " 14,\n",
       " 15,\n",
       " 16,\n",
       " 17,\n",
       " 18,\n",
       " 19,\n",
       " 20,\n",
       " 21,\n",
       " 22,\n",
       " 23]"
      ]
     },
     "execution_count": 34,
     "metadata": {},
     "output_type": "execute_result"
    }
   ],
   "source": [
    "horas"
   ]
  },
  {
   "cell_type": "code",
   "execution_count": 35,
   "metadata": {},
   "outputs": [
    {
     "data": {
      "text/plain": [
       "Hora\n",
       "0     300\n",
       "1     166\n",
       "2      80\n",
       "3      66\n",
       "4      64\n",
       "5      79\n",
       "6     164\n",
       "7     278\n",
       "8     474\n",
       "9     658\n",
       "10    799\n",
       "11    925\n",
       "12    889\n",
       "13    878\n",
       "14    787\n",
       "15    771\n",
       "16    736\n",
       "17    805\n",
       "18    918\n",
       "19    883\n",
       "20    899\n",
       "21    813\n",
       "22    655\n",
       "23    450\n",
       "Name: Cantidad Pedida, dtype: int64"
      ]
     },
     "execution_count": 35,
     "metadata": {},
     "output_type": "execute_result"
    }
   ],
   "source": [
    "# Se calcula el total de ventas por hora del mes de Junio\n",
    "ventas_por_hora =  dataframes_meses['Junio'].groupby('Hora')['Cantidad Pedida'].count()\n",
    "ventas_por_hora"
   ]
  },
  {
   "cell_type": "code",
   "execution_count": 36,
   "metadata": {},
   "outputs": [
    {
     "name": "stdout",
     "output_type": "stream",
     "text": [
      "<class 'pandas.core.series.Series'>\n",
      "Index: 24 entries, 0 to 23\n",
      "Series name: Cantidad Pedida\n",
      "Non-Null Count  Dtype\n",
      "--------------  -----\n",
      "24 non-null     int64\n",
      "dtypes: int64(1)\n",
      "memory usage: 288.0 bytes\n"
     ]
    }
   ],
   "source": [
    "ventas_por_hora.info()\n"
   ]
  },
  {
   "cell_type": "markdown",
   "metadata": {},
   "source": [
    "### ● ¿Cuál es el momento ideal del día para presentar la publicidad y aumentar la probabilidad de compra?"
   ]
  },
  {
   "cell_type": "code",
   "execution_count": 37,
   "metadata": {},
   "outputs": [],
   "source": [
    "# Se crea una lista para almacenar el total de ventas por hora por mes y el total anual de ventas por hora \n",
    "total_ventas_hora_mes = []\n",
    "total_ventas_anual_hora = []\n",
    "\n",
    "\n",
    "# Se recorre el diccionario de dataframes de ventas por mes\n",
    "for mes in meses:\n",
    "    # Se obtiene el dataframe de ventas del mes\n",
    "    dataframe_mes = dataframes_meses[mes]\n",
    "    \n",
    "    # Se obtiene el total de ventas por hora del mes\n",
    "    total_ventas_hora_mes = dataframe_mes.groupby('Hora')['Cantidad Pedida'].count()\n",
    "         \n",
    "    # Se agrega el total de ventas por hora al anual \n",
    "    total_ventas_anual_hora.append(total_ventas_hora_mes)\n",
    " "
   ]
  },
  {
   "cell_type": "code",
   "execution_count": 38,
   "metadata": {},
   "outputs": [
    {
     "data": {
      "text/plain": [
       "[Hora\n",
       " 0     209\n",
       " 1     113\n",
       " 2      77\n",
       " 3      33\n",
       " 4      45\n",
       " 5      73\n",
       " 6     137\n",
       " 7     179\n",
       " 8     324\n",
       " 9     492\n",
       " 10    598\n",
       " 11    653\n",
       " 12    669\n",
       " 13    607\n",
       " 14    542\n",
       " 15    545\n",
       " 16    553\n",
       " 17    507\n",
       " 18    635\n",
       " 19    657\n",
       " 20    620\n",
       " 21    575\n",
       " 22    455\n",
       " 23    373\n",
       " Name: Cantidad Pedida, dtype: int64,\n",
       " Hora\n",
       " 0     250\n",
       " 1     159\n",
       " 2      87\n",
       " 3      60\n",
       " 4      49\n",
       " 5      83\n",
       " 6     165\n",
       " 7     242\n",
       " 8     410\n",
       " 9     587\n",
       " 10    731\n",
       " 11    754\n",
       " 12    770\n",
       " 13    782\n",
       " 14    679\n",
       " 15    658\n",
       " 16    695\n",
       " 17    738\n",
       " 18    804\n",
       " 19    802\n",
       " 20    764\n",
       " 21    744\n",
       " 22    585\n",
       " 23    370\n",
       " Name: Cantidad Pedida, dtype: int64,\n",
       " Hora\n",
       " 0      296\n",
       " 1      184\n",
       " 2      111\n",
       " 3       68\n",
       " 4       58\n",
       " 5      107\n",
       " 6      209\n",
       " 7      324\n",
       " 8      495\n",
       " 9      690\n",
       " 10     860\n",
       " 11    1063\n",
       " 12    1007\n",
       " 13    1040\n",
       " 14     886\n",
       " 15     819\n",
       " 16     857\n",
       " 17     850\n",
       " 18    1022\n",
       " 19    1098\n",
       " 20     988\n",
       " 21     868\n",
       " 22     725\n",
       " 23     504\n",
       " Name: Cantidad Pedida, dtype: int64,\n",
       " Hora\n",
       " 0      377\n",
       " 1      243\n",
       " 2      132\n",
       " 3       85\n",
       " 4       84\n",
       " 5      143\n",
       " 6      254\n",
       " 7      384\n",
       " 8      642\n",
       " 9      869\n",
       " 10    1133\n",
       " 11    1200\n",
       " 12    1199\n",
       " 13    1191\n",
       " 14    1112\n",
       " 15     986\n",
       " 16    1054\n",
       " 17    1011\n",
       " 18    1225\n",
       " 19    1283\n",
       " 20    1201\n",
       " 21    1013\n",
       " 22     847\n",
       " 23     599\n",
       " Name: Cantidad Pedida, dtype: int64,\n",
       " Hora\n",
       " 0      347\n",
       " 1      202\n",
       " 2      112\n",
       " 3       63\n",
       " 4       75\n",
       " 5      104\n",
       " 6      198\n",
       " 7      351\n",
       " 8      600\n",
       " 9      810\n",
       " 10     974\n",
       " 11    1058\n",
       " 12    1201\n",
       " 13    1056\n",
       " 14    1003\n",
       " 15     831\n",
       " 16     880\n",
       " 17     990\n",
       " 18    1107\n",
       " 19    1164\n",
       " 20    1142\n",
       " 21     948\n",
       " 22     771\n",
       " 23     553\n",
       " Name: Cantidad Pedida, dtype: int64,\n",
       " Hora\n",
       " 0     300\n",
       " 1     166\n",
       " 2      80\n",
       " 3      66\n",
       " 4      64\n",
       " 5      79\n",
       " 6     164\n",
       " 7     278\n",
       " 8     474\n",
       " 9     658\n",
       " 10    799\n",
       " 11    925\n",
       " 12    889\n",
       " 13    878\n",
       " 14    787\n",
       " 15    771\n",
       " 16    736\n",
       " 17    805\n",
       " 18    918\n",
       " 19    883\n",
       " 20    899\n",
       " 21    813\n",
       " 22    655\n",
       " 23    450\n",
       " Name: Cantidad Pedida, dtype: int64,\n",
       " Hora\n",
       " 0     319\n",
       " 1     167\n",
       " 2      81\n",
       " 3      62\n",
       " 4      66\n",
       " 5     108\n",
       " 6     170\n",
       " 7     329\n",
       " 8     503\n",
       " 9     685\n",
       " 10    788\n",
       " 11    996\n",
       " 12    963\n",
       " 13    892\n",
       " 14    835\n",
       " 15    776\n",
       " 16    776\n",
       " 17    903\n",
       " 18    915\n",
       " 19    954\n",
       " 20    952\n",
       " 21    858\n",
       " 22    693\n",
       " 23    482\n",
       " Name: Cantidad Pedida, dtype: int64,\n",
       " Hora\n",
       " 0     245\n",
       " 1     138\n",
       " 2      85\n",
       " 3      53\n",
       " 4      55\n",
       " 5      97\n",
       " 6     175\n",
       " 7     292\n",
       " 8     410\n",
       " 9     523\n",
       " 10    693\n",
       " 11    792\n",
       " 12    798\n",
       " 13    769\n",
       " 14    698\n",
       " 15    707\n",
       " 16    671\n",
       " 17    669\n",
       " 18    754\n",
       " 19    829\n",
       " 20    823\n",
       " 21    669\n",
       " 22    594\n",
       " 23    400\n",
       " Name: Cantidad Pedida, dtype: int64,\n",
       " Hora\n",
       " 0     260\n",
       " 1     164\n",
       " 2      78\n",
       " 3      55\n",
       " 4      39\n",
       " 5      89\n",
       " 6     144\n",
       " 7     217\n",
       " 8     375\n",
       " 9     563\n",
       " 10    630\n",
       " 11    759\n",
       " 12    774\n",
       " 13    763\n",
       " 14    731\n",
       " 15    607\n",
       " 16    620\n",
       " 17    735\n",
       " 18    741\n",
       " 19    792\n",
       " 20    722\n",
       " 21    750\n",
       " 22    583\n",
       " 23    420\n",
       " Name: Cantidad Pedida, dtype: int64,\n",
       " Hora\n",
       " 0      431\n",
       " 1      268\n",
       " 2      137\n",
       " 3       88\n",
       " 4      110\n",
       " 5      138\n",
       " 6      289\n",
       " 7      448\n",
       " 8      653\n",
       " 9      944\n",
       " 10    1244\n",
       " 11    1374\n",
       " 12    1423\n",
       " 13    1313\n",
       " 14    1165\n",
       " 15    1109\n",
       " 16    1201\n",
       " 17    1146\n",
       " 18    1295\n",
       " 19    1443\n",
       " 20    1278\n",
       " 21    1202\n",
       " 22     915\n",
       " 23     637\n",
       " Name: Cantidad Pedida, dtype: int64,\n",
       " Hora\n",
       " 0      374\n",
       " 1      223\n",
       " 2      107\n",
       " 3       83\n",
       " 4       76\n",
       " 5      108\n",
       " 6      244\n",
       " 7      375\n",
       " 8      534\n",
       " 9      794\n",
       " 10     973\n",
       " 11    1163\n",
       " 12    1188\n",
       " 13    1185\n",
       " 14    1038\n",
       " 15     951\n",
       " 16     986\n",
       " 17    1100\n",
       " 18    1185\n",
       " 19    1191\n",
       " 20    1195\n",
       " 21    1051\n",
       " 22     809\n",
       " 23     618\n",
       " Name: Cantidad Pedida, dtype: int64,\n",
       " Hora\n",
       " 0      494\n",
       " 1      320\n",
       " 2      155\n",
       " 3      114\n",
       " 4      131\n",
       " 5      191\n",
       " 6      332\n",
       " 7      583\n",
       " 8      832\n",
       " 9     1125\n",
       " 10    1506\n",
       " 11    1655\n",
       " 12    1692\n",
       " 13    1639\n",
       " 14    1489\n",
       " 15    1399\n",
       " 16    1330\n",
       " 17    1430\n",
       " 18    1662\n",
       " 19    1790\n",
       " 20    1634\n",
       " 21    1414\n",
       " 22    1176\n",
       " 23     856\n",
       " Name: Cantidad Pedida, dtype: int64]"
      ]
     },
     "execution_count": 38,
     "metadata": {},
     "output_type": "execute_result"
    }
   ],
   "source": [
    "total_ventas_anual_hora"
   ]
  },
  {
   "cell_type": "code",
   "execution_count": 39,
   "metadata": {},
   "outputs": [
    {
     "data": {
      "text/html": [
       "<div>\n",
       "<style scoped>\n",
       "    .dataframe tbody tr th:only-of-type {\n",
       "        vertical-align: middle;\n",
       "    }\n",
       "\n",
       "    .dataframe tbody tr th {\n",
       "        vertical-align: top;\n",
       "    }\n",
       "\n",
       "    .dataframe thead th {\n",
       "        text-align: right;\n",
       "    }\n",
       "</style>\n",
       "<table border=\"1\" class=\"dataframe\">\n",
       "  <thead>\n",
       "    <tr style=\"text-align: right;\">\n",
       "      <th></th>\n",
       "      <th>Enero</th>\n",
       "      <th>Febrero</th>\n",
       "      <th>Marzo</th>\n",
       "      <th>Abril</th>\n",
       "      <th>Mayo</th>\n",
       "      <th>Junio</th>\n",
       "      <th>Julio</th>\n",
       "      <th>Agosto</th>\n",
       "      <th>Septiembre</th>\n",
       "      <th>Octubre</th>\n",
       "      <th>Noviembre</th>\n",
       "      <th>Diciembre</th>\n",
       "      <th>promedio</th>\n",
       "    </tr>\n",
       "    <tr>\n",
       "      <th>Hora</th>\n",
       "      <th></th>\n",
       "      <th></th>\n",
       "      <th></th>\n",
       "      <th></th>\n",
       "      <th></th>\n",
       "      <th></th>\n",
       "      <th></th>\n",
       "      <th></th>\n",
       "      <th></th>\n",
       "      <th></th>\n",
       "      <th></th>\n",
       "      <th></th>\n",
       "      <th></th>\n",
       "    </tr>\n",
       "  </thead>\n",
       "  <tbody>\n",
       "    <tr>\n",
       "      <th>0</th>\n",
       "      <td>209</td>\n",
       "      <td>250</td>\n",
       "      <td>296</td>\n",
       "      <td>377</td>\n",
       "      <td>347</td>\n",
       "      <td>300</td>\n",
       "      <td>319</td>\n",
       "      <td>245</td>\n",
       "      <td>260</td>\n",
       "      <td>431</td>\n",
       "      <td>374</td>\n",
       "      <td>494</td>\n",
       "      <td>325</td>\n",
       "    </tr>\n",
       "    <tr>\n",
       "      <th>1</th>\n",
       "      <td>113</td>\n",
       "      <td>159</td>\n",
       "      <td>184</td>\n",
       "      <td>243</td>\n",
       "      <td>202</td>\n",
       "      <td>166</td>\n",
       "      <td>167</td>\n",
       "      <td>138</td>\n",
       "      <td>164</td>\n",
       "      <td>268</td>\n",
       "      <td>223</td>\n",
       "      <td>320</td>\n",
       "      <td>196</td>\n",
       "    </tr>\n",
       "    <tr>\n",
       "      <th>2</th>\n",
       "      <td>77</td>\n",
       "      <td>87</td>\n",
       "      <td>111</td>\n",
       "      <td>132</td>\n",
       "      <td>112</td>\n",
       "      <td>80</td>\n",
       "      <td>81</td>\n",
       "      <td>85</td>\n",
       "      <td>78</td>\n",
       "      <td>137</td>\n",
       "      <td>107</td>\n",
       "      <td>155</td>\n",
       "      <td>104</td>\n",
       "    </tr>\n",
       "    <tr>\n",
       "      <th>3</th>\n",
       "      <td>33</td>\n",
       "      <td>60</td>\n",
       "      <td>68</td>\n",
       "      <td>85</td>\n",
       "      <td>63</td>\n",
       "      <td>66</td>\n",
       "      <td>62</td>\n",
       "      <td>53</td>\n",
       "      <td>55</td>\n",
       "      <td>88</td>\n",
       "      <td>83</td>\n",
       "      <td>114</td>\n",
       "      <td>69</td>\n",
       "    </tr>\n",
       "    <tr>\n",
       "      <th>4</th>\n",
       "      <td>45</td>\n",
       "      <td>49</td>\n",
       "      <td>58</td>\n",
       "      <td>84</td>\n",
       "      <td>75</td>\n",
       "      <td>64</td>\n",
       "      <td>66</td>\n",
       "      <td>55</td>\n",
       "      <td>39</td>\n",
       "      <td>110</td>\n",
       "      <td>76</td>\n",
       "      <td>131</td>\n",
       "      <td>71</td>\n",
       "    </tr>\n",
       "    <tr>\n",
       "      <th>5</th>\n",
       "      <td>73</td>\n",
       "      <td>83</td>\n",
       "      <td>107</td>\n",
       "      <td>143</td>\n",
       "      <td>104</td>\n",
       "      <td>79</td>\n",
       "      <td>108</td>\n",
       "      <td>97</td>\n",
       "      <td>89</td>\n",
       "      <td>138</td>\n",
       "      <td>108</td>\n",
       "      <td>191</td>\n",
       "      <td>110</td>\n",
       "    </tr>\n",
       "    <tr>\n",
       "      <th>6</th>\n",
       "      <td>137</td>\n",
       "      <td>165</td>\n",
       "      <td>209</td>\n",
       "      <td>254</td>\n",
       "      <td>198</td>\n",
       "      <td>164</td>\n",
       "      <td>170</td>\n",
       "      <td>175</td>\n",
       "      <td>144</td>\n",
       "      <td>289</td>\n",
       "      <td>244</td>\n",
       "      <td>332</td>\n",
       "      <td>207</td>\n",
       "    </tr>\n",
       "    <tr>\n",
       "      <th>7</th>\n",
       "      <td>179</td>\n",
       "      <td>242</td>\n",
       "      <td>324</td>\n",
       "      <td>384</td>\n",
       "      <td>351</td>\n",
       "      <td>278</td>\n",
       "      <td>329</td>\n",
       "      <td>292</td>\n",
       "      <td>217</td>\n",
       "      <td>448</td>\n",
       "      <td>375</td>\n",
       "      <td>583</td>\n",
       "      <td>334</td>\n",
       "    </tr>\n",
       "    <tr>\n",
       "      <th>8</th>\n",
       "      <td>324</td>\n",
       "      <td>410</td>\n",
       "      <td>495</td>\n",
       "      <td>642</td>\n",
       "      <td>600</td>\n",
       "      <td>474</td>\n",
       "      <td>503</td>\n",
       "      <td>410</td>\n",
       "      <td>375</td>\n",
       "      <td>653</td>\n",
       "      <td>534</td>\n",
       "      <td>832</td>\n",
       "      <td>521</td>\n",
       "    </tr>\n",
       "    <tr>\n",
       "      <th>9</th>\n",
       "      <td>492</td>\n",
       "      <td>587</td>\n",
       "      <td>690</td>\n",
       "      <td>869</td>\n",
       "      <td>810</td>\n",
       "      <td>658</td>\n",
       "      <td>685</td>\n",
       "      <td>523</td>\n",
       "      <td>563</td>\n",
       "      <td>944</td>\n",
       "      <td>794</td>\n",
       "      <td>1125</td>\n",
       "      <td>728</td>\n",
       "    </tr>\n",
       "    <tr>\n",
       "      <th>10</th>\n",
       "      <td>598</td>\n",
       "      <td>731</td>\n",
       "      <td>860</td>\n",
       "      <td>1133</td>\n",
       "      <td>974</td>\n",
       "      <td>799</td>\n",
       "      <td>788</td>\n",
       "      <td>693</td>\n",
       "      <td>630</td>\n",
       "      <td>1244</td>\n",
       "      <td>973</td>\n",
       "      <td>1506</td>\n",
       "      <td>911</td>\n",
       "    </tr>\n",
       "    <tr>\n",
       "      <th>11</th>\n",
       "      <td>653</td>\n",
       "      <td>754</td>\n",
       "      <td>1063</td>\n",
       "      <td>1200</td>\n",
       "      <td>1058</td>\n",
       "      <td>925</td>\n",
       "      <td>996</td>\n",
       "      <td>792</td>\n",
       "      <td>759</td>\n",
       "      <td>1374</td>\n",
       "      <td>1163</td>\n",
       "      <td>1655</td>\n",
       "      <td>1033</td>\n",
       "    </tr>\n",
       "    <tr>\n",
       "      <th>12</th>\n",
       "      <td>669</td>\n",
       "      <td>770</td>\n",
       "      <td>1007</td>\n",
       "      <td>1199</td>\n",
       "      <td>1201</td>\n",
       "      <td>889</td>\n",
       "      <td>963</td>\n",
       "      <td>798</td>\n",
       "      <td>774</td>\n",
       "      <td>1423</td>\n",
       "      <td>1188</td>\n",
       "      <td>1692</td>\n",
       "      <td>1048</td>\n",
       "    </tr>\n",
       "    <tr>\n",
       "      <th>13</th>\n",
       "      <td>607</td>\n",
       "      <td>782</td>\n",
       "      <td>1040</td>\n",
       "      <td>1191</td>\n",
       "      <td>1056</td>\n",
       "      <td>878</td>\n",
       "      <td>892</td>\n",
       "      <td>769</td>\n",
       "      <td>763</td>\n",
       "      <td>1313</td>\n",
       "      <td>1185</td>\n",
       "      <td>1639</td>\n",
       "      <td>1010</td>\n",
       "    </tr>\n",
       "    <tr>\n",
       "      <th>14</th>\n",
       "      <td>542</td>\n",
       "      <td>679</td>\n",
       "      <td>886</td>\n",
       "      <td>1112</td>\n",
       "      <td>1003</td>\n",
       "      <td>787</td>\n",
       "      <td>835</td>\n",
       "      <td>698</td>\n",
       "      <td>731</td>\n",
       "      <td>1165</td>\n",
       "      <td>1038</td>\n",
       "      <td>1489</td>\n",
       "      <td>914</td>\n",
       "    </tr>\n",
       "    <tr>\n",
       "      <th>15</th>\n",
       "      <td>545</td>\n",
       "      <td>658</td>\n",
       "      <td>819</td>\n",
       "      <td>986</td>\n",
       "      <td>831</td>\n",
       "      <td>771</td>\n",
       "      <td>776</td>\n",
       "      <td>707</td>\n",
       "      <td>607</td>\n",
       "      <td>1109</td>\n",
       "      <td>951</td>\n",
       "      <td>1399</td>\n",
       "      <td>847</td>\n",
       "    </tr>\n",
       "    <tr>\n",
       "      <th>16</th>\n",
       "      <td>553</td>\n",
       "      <td>695</td>\n",
       "      <td>857</td>\n",
       "      <td>1054</td>\n",
       "      <td>880</td>\n",
       "      <td>736</td>\n",
       "      <td>776</td>\n",
       "      <td>671</td>\n",
       "      <td>620</td>\n",
       "      <td>1201</td>\n",
       "      <td>986</td>\n",
       "      <td>1330</td>\n",
       "      <td>863</td>\n",
       "    </tr>\n",
       "    <tr>\n",
       "      <th>17</th>\n",
       "      <td>507</td>\n",
       "      <td>738</td>\n",
       "      <td>850</td>\n",
       "      <td>1011</td>\n",
       "      <td>990</td>\n",
       "      <td>805</td>\n",
       "      <td>903</td>\n",
       "      <td>669</td>\n",
       "      <td>735</td>\n",
       "      <td>1146</td>\n",
       "      <td>1100</td>\n",
       "      <td>1430</td>\n",
       "      <td>907</td>\n",
       "    </tr>\n",
       "    <tr>\n",
       "      <th>18</th>\n",
       "      <td>635</td>\n",
       "      <td>804</td>\n",
       "      <td>1022</td>\n",
       "      <td>1225</td>\n",
       "      <td>1107</td>\n",
       "      <td>918</td>\n",
       "      <td>915</td>\n",
       "      <td>754</td>\n",
       "      <td>741</td>\n",
       "      <td>1295</td>\n",
       "      <td>1185</td>\n",
       "      <td>1662</td>\n",
       "      <td>1022</td>\n",
       "    </tr>\n",
       "    <tr>\n",
       "      <th>19</th>\n",
       "      <td>657</td>\n",
       "      <td>802</td>\n",
       "      <td>1098</td>\n",
       "      <td>1283</td>\n",
       "      <td>1164</td>\n",
       "      <td>883</td>\n",
       "      <td>954</td>\n",
       "      <td>829</td>\n",
       "      <td>792</td>\n",
       "      <td>1443</td>\n",
       "      <td>1191</td>\n",
       "      <td>1790</td>\n",
       "      <td>1074</td>\n",
       "    </tr>\n",
       "    <tr>\n",
       "      <th>20</th>\n",
       "      <td>620</td>\n",
       "      <td>764</td>\n",
       "      <td>988</td>\n",
       "      <td>1201</td>\n",
       "      <td>1142</td>\n",
       "      <td>899</td>\n",
       "      <td>952</td>\n",
       "      <td>823</td>\n",
       "      <td>722</td>\n",
       "      <td>1278</td>\n",
       "      <td>1195</td>\n",
       "      <td>1634</td>\n",
       "      <td>1018</td>\n",
       "    </tr>\n",
       "    <tr>\n",
       "      <th>21</th>\n",
       "      <td>575</td>\n",
       "      <td>744</td>\n",
       "      <td>868</td>\n",
       "      <td>1013</td>\n",
       "      <td>948</td>\n",
       "      <td>813</td>\n",
       "      <td>858</td>\n",
       "      <td>669</td>\n",
       "      <td>750</td>\n",
       "      <td>1202</td>\n",
       "      <td>1051</td>\n",
       "      <td>1414</td>\n",
       "      <td>909</td>\n",
       "    </tr>\n",
       "    <tr>\n",
       "      <th>22</th>\n",
       "      <td>455</td>\n",
       "      <td>585</td>\n",
       "      <td>725</td>\n",
       "      <td>847</td>\n",
       "      <td>771</td>\n",
       "      <td>655</td>\n",
       "      <td>693</td>\n",
       "      <td>594</td>\n",
       "      <td>583</td>\n",
       "      <td>915</td>\n",
       "      <td>809</td>\n",
       "      <td>1176</td>\n",
       "      <td>734</td>\n",
       "    </tr>\n",
       "    <tr>\n",
       "      <th>23</th>\n",
       "      <td>373</td>\n",
       "      <td>370</td>\n",
       "      <td>504</td>\n",
       "      <td>599</td>\n",
       "      <td>553</td>\n",
       "      <td>450</td>\n",
       "      <td>482</td>\n",
       "      <td>400</td>\n",
       "      <td>420</td>\n",
       "      <td>637</td>\n",
       "      <td>618</td>\n",
       "      <td>856</td>\n",
       "      <td>522</td>\n",
       "    </tr>\n",
       "  </tbody>\n",
       "</table>\n",
       "</div>"
      ],
      "text/plain": [
       "      Enero  Febrero  Marzo  Abril  Mayo  Junio  Julio  Agosto  Septiembre  \\\n",
       "Hora                                                                         \n",
       "0       209      250    296    377   347    300    319     245         260   \n",
       "1       113      159    184    243   202    166    167     138         164   \n",
       "2        77       87    111    132   112     80     81      85          78   \n",
       "3        33       60     68     85    63     66     62      53          55   \n",
       "4        45       49     58     84    75     64     66      55          39   \n",
       "5        73       83    107    143   104     79    108      97          89   \n",
       "6       137      165    209    254   198    164    170     175         144   \n",
       "7       179      242    324    384   351    278    329     292         217   \n",
       "8       324      410    495    642   600    474    503     410         375   \n",
       "9       492      587    690    869   810    658    685     523         563   \n",
       "10      598      731    860   1133   974    799    788     693         630   \n",
       "11      653      754   1063   1200  1058    925    996     792         759   \n",
       "12      669      770   1007   1199  1201    889    963     798         774   \n",
       "13      607      782   1040   1191  1056    878    892     769         763   \n",
       "14      542      679    886   1112  1003    787    835     698         731   \n",
       "15      545      658    819    986   831    771    776     707         607   \n",
       "16      553      695    857   1054   880    736    776     671         620   \n",
       "17      507      738    850   1011   990    805    903     669         735   \n",
       "18      635      804   1022   1225  1107    918    915     754         741   \n",
       "19      657      802   1098   1283  1164    883    954     829         792   \n",
       "20      620      764    988   1201  1142    899    952     823         722   \n",
       "21      575      744    868   1013   948    813    858     669         750   \n",
       "22      455      585    725    847   771    655    693     594         583   \n",
       "23      373      370    504    599   553    450    482     400         420   \n",
       "\n",
       "      Octubre  Noviembre  Diciembre  promedio  \n",
       "Hora                                           \n",
       "0         431        374        494       325  \n",
       "1         268        223        320       196  \n",
       "2         137        107        155       104  \n",
       "3          88         83        114        69  \n",
       "4         110         76        131        71  \n",
       "5         138        108        191       110  \n",
       "6         289        244        332       207  \n",
       "7         448        375        583       334  \n",
       "8         653        534        832       521  \n",
       "9         944        794       1125       728  \n",
       "10       1244        973       1506       911  \n",
       "11       1374       1163       1655      1033  \n",
       "12       1423       1188       1692      1048  \n",
       "13       1313       1185       1639      1010  \n",
       "14       1165       1038       1489       914  \n",
       "15       1109        951       1399       847  \n",
       "16       1201        986       1330       863  \n",
       "17       1146       1100       1430       907  \n",
       "18       1295       1185       1662      1022  \n",
       "19       1443       1191       1790      1074  \n",
       "20       1278       1195       1634      1018  \n",
       "21       1202       1051       1414       909  \n",
       "22        915        809       1176       734  \n",
       "23        637        618        856       522  "
      ]
     },
     "execution_count": 39,
     "metadata": {},
     "output_type": "execute_result"
    }
   ],
   "source": [
    "# Se pasa el arreglo de totales de ventas por hora a un dataframe\n",
    "df_total_ventas_anual_hora= pd.concat(total_ventas_anual_hora, axis=1)\n",
    "# Se asigna el nombre de las columnas\n",
    "df_total_ventas_anual_hora.columns = meses\n",
    "# Se calcula y se agrega la columna del promedio de ventas por hora pasado entero\n",
    "df_total_ventas_anual_hora['promedio'] = df_total_ventas_anual_hora.mean(axis=1).round().astype(int)\n",
    "df_total_ventas_anual_hora"
   ]
  },
  {
   "cell_type": "code",
   "execution_count": 40,
   "metadata": {},
   "outputs": [
    {
     "data": {
      "application/vnd.plotly.v1+json": {
       "config": {
        "plotlyServerURL": "https://plot.ly"
       },
       "data": [
        {
         "line": {
          "color": "firebrick",
          "dash": "dot",
          "width": 4
         },
         "name": "Promedio de Ventas por Hora",
         "type": "scatter",
         "x": [
          0,
          1,
          2,
          3,
          4,
          5,
          6,
          7,
          8,
          9,
          10,
          11,
          12,
          13,
          14,
          15,
          16,
          17,
          18,
          19,
          20,
          21,
          22,
          23
         ],
         "y": [
          325,
          196,
          104,
          69,
          71,
          110,
          207,
          334,
          521,
          728,
          911,
          1033,
          1048,
          1010,
          914,
          847,
          863,
          907,
          1022,
          1074,
          1018,
          909,
          734,
          522
         ]
        }
       ],
       "layout": {
        "template": {
         "data": {
          "bar": [
           {
            "error_x": {
             "color": "#2a3f5f"
            },
            "error_y": {
             "color": "#2a3f5f"
            },
            "marker": {
             "line": {
              "color": "#E5ECF6",
              "width": 0.5
             },
             "pattern": {
              "fillmode": "overlay",
              "size": 10,
              "solidity": 0.2
             }
            },
            "type": "bar"
           }
          ],
          "barpolar": [
           {
            "marker": {
             "line": {
              "color": "#E5ECF6",
              "width": 0.5
             },
             "pattern": {
              "fillmode": "overlay",
              "size": 10,
              "solidity": 0.2
             }
            },
            "type": "barpolar"
           }
          ],
          "carpet": [
           {
            "aaxis": {
             "endlinecolor": "#2a3f5f",
             "gridcolor": "white",
             "linecolor": "white",
             "minorgridcolor": "white",
             "startlinecolor": "#2a3f5f"
            },
            "baxis": {
             "endlinecolor": "#2a3f5f",
             "gridcolor": "white",
             "linecolor": "white",
             "minorgridcolor": "white",
             "startlinecolor": "#2a3f5f"
            },
            "type": "carpet"
           }
          ],
          "choropleth": [
           {
            "colorbar": {
             "outlinewidth": 0,
             "ticks": ""
            },
            "type": "choropleth"
           }
          ],
          "contour": [
           {
            "colorbar": {
             "outlinewidth": 0,
             "ticks": ""
            },
            "colorscale": [
             [
              0,
              "#0d0887"
             ],
             [
              0.1111111111111111,
              "#46039f"
             ],
             [
              0.2222222222222222,
              "#7201a8"
             ],
             [
              0.3333333333333333,
              "#9c179e"
             ],
             [
              0.4444444444444444,
              "#bd3786"
             ],
             [
              0.5555555555555556,
              "#d8576b"
             ],
             [
              0.6666666666666666,
              "#ed7953"
             ],
             [
              0.7777777777777778,
              "#fb9f3a"
             ],
             [
              0.8888888888888888,
              "#fdca26"
             ],
             [
              1,
              "#f0f921"
             ]
            ],
            "type": "contour"
           }
          ],
          "contourcarpet": [
           {
            "colorbar": {
             "outlinewidth": 0,
             "ticks": ""
            },
            "type": "contourcarpet"
           }
          ],
          "heatmap": [
           {
            "colorbar": {
             "outlinewidth": 0,
             "ticks": ""
            },
            "colorscale": [
             [
              0,
              "#0d0887"
             ],
             [
              0.1111111111111111,
              "#46039f"
             ],
             [
              0.2222222222222222,
              "#7201a8"
             ],
             [
              0.3333333333333333,
              "#9c179e"
             ],
             [
              0.4444444444444444,
              "#bd3786"
             ],
             [
              0.5555555555555556,
              "#d8576b"
             ],
             [
              0.6666666666666666,
              "#ed7953"
             ],
             [
              0.7777777777777778,
              "#fb9f3a"
             ],
             [
              0.8888888888888888,
              "#fdca26"
             ],
             [
              1,
              "#f0f921"
             ]
            ],
            "type": "heatmap"
           }
          ],
          "heatmapgl": [
           {
            "colorbar": {
             "outlinewidth": 0,
             "ticks": ""
            },
            "colorscale": [
             [
              0,
              "#0d0887"
             ],
             [
              0.1111111111111111,
              "#46039f"
             ],
             [
              0.2222222222222222,
              "#7201a8"
             ],
             [
              0.3333333333333333,
              "#9c179e"
             ],
             [
              0.4444444444444444,
              "#bd3786"
             ],
             [
              0.5555555555555556,
              "#d8576b"
             ],
             [
              0.6666666666666666,
              "#ed7953"
             ],
             [
              0.7777777777777778,
              "#fb9f3a"
             ],
             [
              0.8888888888888888,
              "#fdca26"
             ],
             [
              1,
              "#f0f921"
             ]
            ],
            "type": "heatmapgl"
           }
          ],
          "histogram": [
           {
            "marker": {
             "pattern": {
              "fillmode": "overlay",
              "size": 10,
              "solidity": 0.2
             }
            },
            "type": "histogram"
           }
          ],
          "histogram2d": [
           {
            "colorbar": {
             "outlinewidth": 0,
             "ticks": ""
            },
            "colorscale": [
             [
              0,
              "#0d0887"
             ],
             [
              0.1111111111111111,
              "#46039f"
             ],
             [
              0.2222222222222222,
              "#7201a8"
             ],
             [
              0.3333333333333333,
              "#9c179e"
             ],
             [
              0.4444444444444444,
              "#bd3786"
             ],
             [
              0.5555555555555556,
              "#d8576b"
             ],
             [
              0.6666666666666666,
              "#ed7953"
             ],
             [
              0.7777777777777778,
              "#fb9f3a"
             ],
             [
              0.8888888888888888,
              "#fdca26"
             ],
             [
              1,
              "#f0f921"
             ]
            ],
            "type": "histogram2d"
           }
          ],
          "histogram2dcontour": [
           {
            "colorbar": {
             "outlinewidth": 0,
             "ticks": ""
            },
            "colorscale": [
             [
              0,
              "#0d0887"
             ],
             [
              0.1111111111111111,
              "#46039f"
             ],
             [
              0.2222222222222222,
              "#7201a8"
             ],
             [
              0.3333333333333333,
              "#9c179e"
             ],
             [
              0.4444444444444444,
              "#bd3786"
             ],
             [
              0.5555555555555556,
              "#d8576b"
             ],
             [
              0.6666666666666666,
              "#ed7953"
             ],
             [
              0.7777777777777778,
              "#fb9f3a"
             ],
             [
              0.8888888888888888,
              "#fdca26"
             ],
             [
              1,
              "#f0f921"
             ]
            ],
            "type": "histogram2dcontour"
           }
          ],
          "mesh3d": [
           {
            "colorbar": {
             "outlinewidth": 0,
             "ticks": ""
            },
            "type": "mesh3d"
           }
          ],
          "parcoords": [
           {
            "line": {
             "colorbar": {
              "outlinewidth": 0,
              "ticks": ""
             }
            },
            "type": "parcoords"
           }
          ],
          "pie": [
           {
            "automargin": true,
            "type": "pie"
           }
          ],
          "scatter": [
           {
            "fillpattern": {
             "fillmode": "overlay",
             "size": 10,
             "solidity": 0.2
            },
            "type": "scatter"
           }
          ],
          "scatter3d": [
           {
            "line": {
             "colorbar": {
              "outlinewidth": 0,
              "ticks": ""
             }
            },
            "marker": {
             "colorbar": {
              "outlinewidth": 0,
              "ticks": ""
             }
            },
            "type": "scatter3d"
           }
          ],
          "scattercarpet": [
           {
            "marker": {
             "colorbar": {
              "outlinewidth": 0,
              "ticks": ""
             }
            },
            "type": "scattercarpet"
           }
          ],
          "scattergeo": [
           {
            "marker": {
             "colorbar": {
              "outlinewidth": 0,
              "ticks": ""
             }
            },
            "type": "scattergeo"
           }
          ],
          "scattergl": [
           {
            "marker": {
             "colorbar": {
              "outlinewidth": 0,
              "ticks": ""
             }
            },
            "type": "scattergl"
           }
          ],
          "scattermapbox": [
           {
            "marker": {
             "colorbar": {
              "outlinewidth": 0,
              "ticks": ""
             }
            },
            "type": "scattermapbox"
           }
          ],
          "scatterpolar": [
           {
            "marker": {
             "colorbar": {
              "outlinewidth": 0,
              "ticks": ""
             }
            },
            "type": "scatterpolar"
           }
          ],
          "scatterpolargl": [
           {
            "marker": {
             "colorbar": {
              "outlinewidth": 0,
              "ticks": ""
             }
            },
            "type": "scatterpolargl"
           }
          ],
          "scatterternary": [
           {
            "marker": {
             "colorbar": {
              "outlinewidth": 0,
              "ticks": ""
             }
            },
            "type": "scatterternary"
           }
          ],
          "surface": [
           {
            "colorbar": {
             "outlinewidth": 0,
             "ticks": ""
            },
            "colorscale": [
             [
              0,
              "#0d0887"
             ],
             [
              0.1111111111111111,
              "#46039f"
             ],
             [
              0.2222222222222222,
              "#7201a8"
             ],
             [
              0.3333333333333333,
              "#9c179e"
             ],
             [
              0.4444444444444444,
              "#bd3786"
             ],
             [
              0.5555555555555556,
              "#d8576b"
             ],
             [
              0.6666666666666666,
              "#ed7953"
             ],
             [
              0.7777777777777778,
              "#fb9f3a"
             ],
             [
              0.8888888888888888,
              "#fdca26"
             ],
             [
              1,
              "#f0f921"
             ]
            ],
            "type": "surface"
           }
          ],
          "table": [
           {
            "cells": {
             "fill": {
              "color": "#EBF0F8"
             },
             "line": {
              "color": "white"
             }
            },
            "header": {
             "fill": {
              "color": "#C8D4E3"
             },
             "line": {
              "color": "white"
             }
            },
            "type": "table"
           }
          ]
         },
         "layout": {
          "annotationdefaults": {
           "arrowcolor": "#2a3f5f",
           "arrowhead": 0,
           "arrowwidth": 1
          },
          "autotypenumbers": "strict",
          "coloraxis": {
           "colorbar": {
            "outlinewidth": 0,
            "ticks": ""
           }
          },
          "colorscale": {
           "diverging": [
            [
             0,
             "#8e0152"
            ],
            [
             0.1,
             "#c51b7d"
            ],
            [
             0.2,
             "#de77ae"
            ],
            [
             0.3,
             "#f1b6da"
            ],
            [
             0.4,
             "#fde0ef"
            ],
            [
             0.5,
             "#f7f7f7"
            ],
            [
             0.6,
             "#e6f5d0"
            ],
            [
             0.7,
             "#b8e186"
            ],
            [
             0.8,
             "#7fbc41"
            ],
            [
             0.9,
             "#4d9221"
            ],
            [
             1,
             "#276419"
            ]
           ],
           "sequential": [
            [
             0,
             "#0d0887"
            ],
            [
             0.1111111111111111,
             "#46039f"
            ],
            [
             0.2222222222222222,
             "#7201a8"
            ],
            [
             0.3333333333333333,
             "#9c179e"
            ],
            [
             0.4444444444444444,
             "#bd3786"
            ],
            [
             0.5555555555555556,
             "#d8576b"
            ],
            [
             0.6666666666666666,
             "#ed7953"
            ],
            [
             0.7777777777777778,
             "#fb9f3a"
            ],
            [
             0.8888888888888888,
             "#fdca26"
            ],
            [
             1,
             "#f0f921"
            ]
           ],
           "sequentialminus": [
            [
             0,
             "#0d0887"
            ],
            [
             0.1111111111111111,
             "#46039f"
            ],
            [
             0.2222222222222222,
             "#7201a8"
            ],
            [
             0.3333333333333333,
             "#9c179e"
            ],
            [
             0.4444444444444444,
             "#bd3786"
            ],
            [
             0.5555555555555556,
             "#d8576b"
            ],
            [
             0.6666666666666666,
             "#ed7953"
            ],
            [
             0.7777777777777778,
             "#fb9f3a"
            ],
            [
             0.8888888888888888,
             "#fdca26"
            ],
            [
             1,
             "#f0f921"
            ]
           ]
          },
          "colorway": [
           "#636efa",
           "#EF553B",
           "#00cc96",
           "#ab63fa",
           "#FFA15A",
           "#19d3f3",
           "#FF6692",
           "#B6E880",
           "#FF97FF",
           "#FECB52"
          ],
          "font": {
           "color": "#2a3f5f"
          },
          "geo": {
           "bgcolor": "white",
           "lakecolor": "white",
           "landcolor": "#E5ECF6",
           "showlakes": true,
           "showland": true,
           "subunitcolor": "white"
          },
          "hoverlabel": {
           "align": "left"
          },
          "hovermode": "closest",
          "mapbox": {
           "style": "light"
          },
          "paper_bgcolor": "white",
          "plot_bgcolor": "#E5ECF6",
          "polar": {
           "angularaxis": {
            "gridcolor": "white",
            "linecolor": "white",
            "ticks": ""
           },
           "bgcolor": "#E5ECF6",
           "radialaxis": {
            "gridcolor": "white",
            "linecolor": "white",
            "ticks": ""
           }
          },
          "scene": {
           "xaxis": {
            "backgroundcolor": "#E5ECF6",
            "gridcolor": "white",
            "gridwidth": 2,
            "linecolor": "white",
            "showbackground": true,
            "ticks": "",
            "zerolinecolor": "white"
           },
           "yaxis": {
            "backgroundcolor": "#E5ECF6",
            "gridcolor": "white",
            "gridwidth": 2,
            "linecolor": "white",
            "showbackground": true,
            "ticks": "",
            "zerolinecolor": "white"
           },
           "zaxis": {
            "backgroundcolor": "#E5ECF6",
            "gridcolor": "white",
            "gridwidth": 2,
            "linecolor": "white",
            "showbackground": true,
            "ticks": "",
            "zerolinecolor": "white"
           }
          },
          "shapedefaults": {
           "line": {
            "color": "#2a3f5f"
           }
          },
          "ternary": {
           "aaxis": {
            "gridcolor": "white",
            "linecolor": "white",
            "ticks": ""
           },
           "baxis": {
            "gridcolor": "white",
            "linecolor": "white",
            "ticks": ""
           },
           "bgcolor": "#E5ECF6",
           "caxis": {
            "gridcolor": "white",
            "linecolor": "white",
            "ticks": ""
           }
          },
          "title": {
           "x": 0.05
          },
          "xaxis": {
           "automargin": true,
           "gridcolor": "white",
           "linecolor": "white",
           "ticks": "",
           "title": {
            "standoff": 15
           },
           "zerolinecolor": "white",
           "zerolinewidth": 2
          },
          "yaxis": {
           "automargin": true,
           "gridcolor": "white",
           "linecolor": "white",
           "ticks": "",
           "title": {
            "standoff": 15
           },
           "zerolinecolor": "white",
           "zerolinewidth": 2
          }
         }
        },
        "title": {
         "text": "Promedio de Ventas Anual por Hora"
        },
        "xaxis": {
         "tickvals": [
          0,
          1,
          2,
          3,
          4,
          5,
          6,
          7,
          8,
          9,
          10,
          11,
          12,
          13,
          14,
          15,
          16,
          17,
          18,
          19,
          20,
          21,
          22,
          23
         ],
         "title": {
          "text": "Hora"
         }
        },
        "yaxis": {
         "side": "left",
         "title": {
          "text": "Promedio de Ventas"
         }
        }
       }
      }
     },
     "metadata": {},
     "output_type": "display_data"
    }
   ],
   "source": [
    "# Se crea el objeto de grafico para representar el promedio de ventas por hora anual\n",
    "fig = go.Figure()\n",
    "\n",
    "# Se agrega a la figura un grafico de linea con las horas y el promedio de ventas por hora\n",
    "fig.add_trace(go.Scatter(\n",
    "    x=horas,\n",
    "    y=df_total_ventas_anual_hora['promedio'],\n",
    "    name='Promedio de Ventas por Hora',\n",
    "    line=dict(color='firebrick', width=4, dash='dot')\n",
    "    )\n",
    ")          \n",
    "\n",
    "# Se configura los ejes y los titulos\n",
    "fig.update_layout(\n",
    "    title='Promedio de Ventas Anual por Hora',\n",
    "    xaxis=dict(title='Hora', tickvals=horas),\n",
    "    yaxis=dict(title='Promedio de Ventas', side='left')\n",
    ")    \n",
    "\n"
   ]
  },
  {
   "cell_type": "code",
   "execution_count": 41,
   "metadata": {},
   "outputs": [
    {
     "name": "stdout",
     "output_type": "stream",
     "text": [
      "El valor maximo del promedio de ventas por hora es 1074 y se produjo a las 19 horas.\n"
     ]
    }
   ],
   "source": [
    "#Se calcula el valor maximo del promedio de ventas por hora y la hora en la que se produjo\n",
    "print('El valor maximo del promedio de ventas por hora es', df_total_ventas_anual_hora['promedio'].max(), 'y se produjo a las', df_total_ventas_anual_hora['promedio'].idxmax(), 'horas.')  \n"
   ]
  },
  {
   "cell_type": "code",
   "execution_count": 42,
   "metadata": {},
   "outputs": [
    {
     "data": {
      "text/plain": [
       "Index([11, 12, 13, 18, 19, 20], dtype='int32', name='Hora')"
      ]
     },
     "execution_count": 42,
     "metadata": {},
     "output_type": "execute_result"
    }
   ],
   "source": [
    "# se determina las horas con mayor promedio de ventas, que supere las 1000 ventas\n",
    "df_total_ventas_anual_hora.loc[df_total_ventas_anual_hora['promedio'] > 1000].index"
   ]
  },
  {
   "cell_type": "code",
   "execution_count": 43,
   "metadata": {},
   "outputs": [
    {
     "name": "stdout",
     "output_type": "stream",
     "text": [
      "Los momentos ideales del día para fomentar publicidad, y así, aumentar la probabilidad de ventas, serían desde las 11 hasta las 13 horas y desde las 18 hasta las 20 horas. \n"
     ]
    }
   ],
   "source": [
    "print('Los momentos ideales del día para fomentar publicidad, y así, aumentar la probabilidad de ventas, serían desde las 11 hasta las 13 horas y desde las 18 hasta las 20 horas. ')\n",
    "   "
   ]
  },
  {
   "cell_type": "markdown",
   "metadata": {},
   "source": [
    "### ● ¿Cómo cambian los patrones de ventas por hora a lo largo del año?"
   ]
  },
  {
   "cell_type": "code",
   "execution_count": 44,
   "metadata": {},
   "outputs": [
    {
     "data": {
      "text/plain": [
       "[Hora\n",
       " 0     209\n",
       " 1     113\n",
       " 2      77\n",
       " 3      33\n",
       " 4      45\n",
       " 5      73\n",
       " 6     137\n",
       " 7     179\n",
       " 8     324\n",
       " 9     492\n",
       " 10    598\n",
       " 11    653\n",
       " 12    669\n",
       " 13    607\n",
       " 14    542\n",
       " 15    545\n",
       " 16    553\n",
       " 17    507\n",
       " 18    635\n",
       " 19    657\n",
       " 20    620\n",
       " 21    575\n",
       " 22    455\n",
       " 23    373\n",
       " Name: Cantidad Pedida, dtype: int64,\n",
       " Hora\n",
       " 0     250\n",
       " 1     159\n",
       " 2      87\n",
       " 3      60\n",
       " 4      49\n",
       " 5      83\n",
       " 6     165\n",
       " 7     242\n",
       " 8     410\n",
       " 9     587\n",
       " 10    731\n",
       " 11    754\n",
       " 12    770\n",
       " 13    782\n",
       " 14    679\n",
       " 15    658\n",
       " 16    695\n",
       " 17    738\n",
       " 18    804\n",
       " 19    802\n",
       " 20    764\n",
       " 21    744\n",
       " 22    585\n",
       " 23    370\n",
       " Name: Cantidad Pedida, dtype: int64,\n",
       " Hora\n",
       " 0      296\n",
       " 1      184\n",
       " 2      111\n",
       " 3       68\n",
       " 4       58\n",
       " 5      107\n",
       " 6      209\n",
       " 7      324\n",
       " 8      495\n",
       " 9      690\n",
       " 10     860\n",
       " 11    1063\n",
       " 12    1007\n",
       " 13    1040\n",
       " 14     886\n",
       " 15     819\n",
       " 16     857\n",
       " 17     850\n",
       " 18    1022\n",
       " 19    1098\n",
       " 20     988\n",
       " 21     868\n",
       " 22     725\n",
       " 23     504\n",
       " Name: Cantidad Pedida, dtype: int64,\n",
       " Hora\n",
       " 0      377\n",
       " 1      243\n",
       " 2      132\n",
       " 3       85\n",
       " 4       84\n",
       " 5      143\n",
       " 6      254\n",
       " 7      384\n",
       " 8      642\n",
       " 9      869\n",
       " 10    1133\n",
       " 11    1200\n",
       " 12    1199\n",
       " 13    1191\n",
       " 14    1112\n",
       " 15     986\n",
       " 16    1054\n",
       " 17    1011\n",
       " 18    1225\n",
       " 19    1283\n",
       " 20    1201\n",
       " 21    1013\n",
       " 22     847\n",
       " 23     599\n",
       " Name: Cantidad Pedida, dtype: int64,\n",
       " Hora\n",
       " 0      347\n",
       " 1      202\n",
       " 2      112\n",
       " 3       63\n",
       " 4       75\n",
       " 5      104\n",
       " 6      198\n",
       " 7      351\n",
       " 8      600\n",
       " 9      810\n",
       " 10     974\n",
       " 11    1058\n",
       " 12    1201\n",
       " 13    1056\n",
       " 14    1003\n",
       " 15     831\n",
       " 16     880\n",
       " 17     990\n",
       " 18    1107\n",
       " 19    1164\n",
       " 20    1142\n",
       " 21     948\n",
       " 22     771\n",
       " 23     553\n",
       " Name: Cantidad Pedida, dtype: int64,\n",
       " Hora\n",
       " 0     300\n",
       " 1     166\n",
       " 2      80\n",
       " 3      66\n",
       " 4      64\n",
       " 5      79\n",
       " 6     164\n",
       " 7     278\n",
       " 8     474\n",
       " 9     658\n",
       " 10    799\n",
       " 11    925\n",
       " 12    889\n",
       " 13    878\n",
       " 14    787\n",
       " 15    771\n",
       " 16    736\n",
       " 17    805\n",
       " 18    918\n",
       " 19    883\n",
       " 20    899\n",
       " 21    813\n",
       " 22    655\n",
       " 23    450\n",
       " Name: Cantidad Pedida, dtype: int64,\n",
       " Hora\n",
       " 0     319\n",
       " 1     167\n",
       " 2      81\n",
       " 3      62\n",
       " 4      66\n",
       " 5     108\n",
       " 6     170\n",
       " 7     329\n",
       " 8     503\n",
       " 9     685\n",
       " 10    788\n",
       " 11    996\n",
       " 12    963\n",
       " 13    892\n",
       " 14    835\n",
       " 15    776\n",
       " 16    776\n",
       " 17    903\n",
       " 18    915\n",
       " 19    954\n",
       " 20    952\n",
       " 21    858\n",
       " 22    693\n",
       " 23    482\n",
       " Name: Cantidad Pedida, dtype: int64,\n",
       " Hora\n",
       " 0     245\n",
       " 1     138\n",
       " 2      85\n",
       " 3      53\n",
       " 4      55\n",
       " 5      97\n",
       " 6     175\n",
       " 7     292\n",
       " 8     410\n",
       " 9     523\n",
       " 10    693\n",
       " 11    792\n",
       " 12    798\n",
       " 13    769\n",
       " 14    698\n",
       " 15    707\n",
       " 16    671\n",
       " 17    669\n",
       " 18    754\n",
       " 19    829\n",
       " 20    823\n",
       " 21    669\n",
       " 22    594\n",
       " 23    400\n",
       " Name: Cantidad Pedida, dtype: int64,\n",
       " Hora\n",
       " 0     260\n",
       " 1     164\n",
       " 2      78\n",
       " 3      55\n",
       " 4      39\n",
       " 5      89\n",
       " 6     144\n",
       " 7     217\n",
       " 8     375\n",
       " 9     563\n",
       " 10    630\n",
       " 11    759\n",
       " 12    774\n",
       " 13    763\n",
       " 14    731\n",
       " 15    607\n",
       " 16    620\n",
       " 17    735\n",
       " 18    741\n",
       " 19    792\n",
       " 20    722\n",
       " 21    750\n",
       " 22    583\n",
       " 23    420\n",
       " Name: Cantidad Pedida, dtype: int64,\n",
       " Hora\n",
       " 0      431\n",
       " 1      268\n",
       " 2      137\n",
       " 3       88\n",
       " 4      110\n",
       " 5      138\n",
       " 6      289\n",
       " 7      448\n",
       " 8      653\n",
       " 9      944\n",
       " 10    1244\n",
       " 11    1374\n",
       " 12    1423\n",
       " 13    1313\n",
       " 14    1165\n",
       " 15    1109\n",
       " 16    1201\n",
       " 17    1146\n",
       " 18    1295\n",
       " 19    1443\n",
       " 20    1278\n",
       " 21    1202\n",
       " 22     915\n",
       " 23     637\n",
       " Name: Cantidad Pedida, dtype: int64,\n",
       " Hora\n",
       " 0      374\n",
       " 1      223\n",
       " 2      107\n",
       " 3       83\n",
       " 4       76\n",
       " 5      108\n",
       " 6      244\n",
       " 7      375\n",
       " 8      534\n",
       " 9      794\n",
       " 10     973\n",
       " 11    1163\n",
       " 12    1188\n",
       " 13    1185\n",
       " 14    1038\n",
       " 15     951\n",
       " 16     986\n",
       " 17    1100\n",
       " 18    1185\n",
       " 19    1191\n",
       " 20    1195\n",
       " 21    1051\n",
       " 22     809\n",
       " 23     618\n",
       " Name: Cantidad Pedida, dtype: int64,\n",
       " Hora\n",
       " 0      494\n",
       " 1      320\n",
       " 2      155\n",
       " 3      114\n",
       " 4      131\n",
       " 5      191\n",
       " 6      332\n",
       " 7      583\n",
       " 8      832\n",
       " 9     1125\n",
       " 10    1506\n",
       " 11    1655\n",
       " 12    1692\n",
       " 13    1639\n",
       " 14    1489\n",
       " 15    1399\n",
       " 16    1330\n",
       " 17    1430\n",
       " 18    1662\n",
       " 19    1790\n",
       " 20    1634\n",
       " 21    1414\n",
       " 22    1176\n",
       " 23     856\n",
       " Name: Cantidad Pedida, dtype: int64]"
      ]
     },
     "execution_count": 44,
     "metadata": {},
     "output_type": "execute_result"
    }
   ],
   "source": [
    "total_ventas_anual_hora"
   ]
  },
  {
   "cell_type": "code",
   "execution_count": 45,
   "metadata": {},
   "outputs": [
    {
     "data": {
      "application/vnd.plotly.v1+json": {
       "config": {
        "plotlyServerURL": "https://plot.ly"
       },
       "data": [
        {
         "coloraxis": "coloraxis",
         "hovertemplate": "Horas del día: %{x}<br>Meses: %{y}<br>Ventas: %{z}<extra></extra>",
         "name": "0",
         "type": "heatmap",
         "x": [
          0,
          1,
          2,
          3,
          4,
          5,
          6,
          7,
          8,
          9,
          10,
          11,
          12,
          13,
          14,
          15,
          16,
          17,
          18,
          19,
          20,
          21,
          22,
          23
         ],
         "xaxis": "x",
         "y": [
          "Enero",
          "Febrero",
          "Marzo",
          "Abril",
          "Mayo",
          "Junio",
          "Julio",
          "Agosto",
          "Septiembre",
          "Octubre",
          "Noviembre",
          "Diciembre"
         ],
         "yaxis": "y",
         "z": [
          [
           209,
           113,
           77,
           33,
           45,
           73,
           137,
           179,
           324,
           492,
           598,
           653,
           669,
           607,
           542,
           545,
           553,
           507,
           635,
           657,
           620,
           575,
           455,
           373
          ],
          [
           250,
           159,
           87,
           60,
           49,
           83,
           165,
           242,
           410,
           587,
           731,
           754,
           770,
           782,
           679,
           658,
           695,
           738,
           804,
           802,
           764,
           744,
           585,
           370
          ],
          [
           296,
           184,
           111,
           68,
           58,
           107,
           209,
           324,
           495,
           690,
           860,
           1063,
           1007,
           1040,
           886,
           819,
           857,
           850,
           1022,
           1098,
           988,
           868,
           725,
           504
          ],
          [
           377,
           243,
           132,
           85,
           84,
           143,
           254,
           384,
           642,
           869,
           1133,
           1200,
           1199,
           1191,
           1112,
           986,
           1054,
           1011,
           1225,
           1283,
           1201,
           1013,
           847,
           599
          ],
          [
           347,
           202,
           112,
           63,
           75,
           104,
           198,
           351,
           600,
           810,
           974,
           1058,
           1201,
           1056,
           1003,
           831,
           880,
           990,
           1107,
           1164,
           1142,
           948,
           771,
           553
          ],
          [
           300,
           166,
           80,
           66,
           64,
           79,
           164,
           278,
           474,
           658,
           799,
           925,
           889,
           878,
           787,
           771,
           736,
           805,
           918,
           883,
           899,
           813,
           655,
           450
          ],
          [
           319,
           167,
           81,
           62,
           66,
           108,
           170,
           329,
           503,
           685,
           788,
           996,
           963,
           892,
           835,
           776,
           776,
           903,
           915,
           954,
           952,
           858,
           693,
           482
          ],
          [
           245,
           138,
           85,
           53,
           55,
           97,
           175,
           292,
           410,
           523,
           693,
           792,
           798,
           769,
           698,
           707,
           671,
           669,
           754,
           829,
           823,
           669,
           594,
           400
          ],
          [
           260,
           164,
           78,
           55,
           39,
           89,
           144,
           217,
           375,
           563,
           630,
           759,
           774,
           763,
           731,
           607,
           620,
           735,
           741,
           792,
           722,
           750,
           583,
           420
          ],
          [
           431,
           268,
           137,
           88,
           110,
           138,
           289,
           448,
           653,
           944,
           1244,
           1374,
           1423,
           1313,
           1165,
           1109,
           1201,
           1146,
           1295,
           1443,
           1278,
           1202,
           915,
           637
          ],
          [
           374,
           223,
           107,
           83,
           76,
           108,
           244,
           375,
           534,
           794,
           973,
           1163,
           1188,
           1185,
           1038,
           951,
           986,
           1100,
           1185,
           1191,
           1195,
           1051,
           809,
           618
          ],
          [
           494,
           320,
           155,
           114,
           131,
           191,
           332,
           583,
           832,
           1125,
           1506,
           1655,
           1692,
           1639,
           1489,
           1399,
           1330,
           1430,
           1662,
           1790,
           1634,
           1414,
           1176,
           856
          ]
         ]
        }
       ],
       "layout": {
        "coloraxis": {
         "colorbar": {
          "title": {
           "text": "Ventas"
          }
         },
         "colorscale": [
          [
           0,
           "#0d0887"
          ],
          [
           0.1111111111111111,
           "#46039f"
          ],
          [
           0.2222222222222222,
           "#7201a8"
          ],
          [
           0.3333333333333333,
           "#9c179e"
          ],
          [
           0.4444444444444444,
           "#bd3786"
          ],
          [
           0.5555555555555556,
           "#d8576b"
          ],
          [
           0.6666666666666666,
           "#ed7953"
          ],
          [
           0.7777777777777778,
           "#fb9f3a"
          ],
          [
           0.8888888888888888,
           "#fdca26"
          ],
          [
           1,
           "#f0f921"
          ]
         ]
        },
        "margin": {
         "t": 60
        },
        "template": {
         "data": {
          "bar": [
           {
            "error_x": {
             "color": "#2a3f5f"
            },
            "error_y": {
             "color": "#2a3f5f"
            },
            "marker": {
             "line": {
              "color": "#E5ECF6",
              "width": 0.5
             },
             "pattern": {
              "fillmode": "overlay",
              "size": 10,
              "solidity": 0.2
             }
            },
            "type": "bar"
           }
          ],
          "barpolar": [
           {
            "marker": {
             "line": {
              "color": "#E5ECF6",
              "width": 0.5
             },
             "pattern": {
              "fillmode": "overlay",
              "size": 10,
              "solidity": 0.2
             }
            },
            "type": "barpolar"
           }
          ],
          "carpet": [
           {
            "aaxis": {
             "endlinecolor": "#2a3f5f",
             "gridcolor": "white",
             "linecolor": "white",
             "minorgridcolor": "white",
             "startlinecolor": "#2a3f5f"
            },
            "baxis": {
             "endlinecolor": "#2a3f5f",
             "gridcolor": "white",
             "linecolor": "white",
             "minorgridcolor": "white",
             "startlinecolor": "#2a3f5f"
            },
            "type": "carpet"
           }
          ],
          "choropleth": [
           {
            "colorbar": {
             "outlinewidth": 0,
             "ticks": ""
            },
            "type": "choropleth"
           }
          ],
          "contour": [
           {
            "colorbar": {
             "outlinewidth": 0,
             "ticks": ""
            },
            "colorscale": [
             [
              0,
              "#0d0887"
             ],
             [
              0.1111111111111111,
              "#46039f"
             ],
             [
              0.2222222222222222,
              "#7201a8"
             ],
             [
              0.3333333333333333,
              "#9c179e"
             ],
             [
              0.4444444444444444,
              "#bd3786"
             ],
             [
              0.5555555555555556,
              "#d8576b"
             ],
             [
              0.6666666666666666,
              "#ed7953"
             ],
             [
              0.7777777777777778,
              "#fb9f3a"
             ],
             [
              0.8888888888888888,
              "#fdca26"
             ],
             [
              1,
              "#f0f921"
             ]
            ],
            "type": "contour"
           }
          ],
          "contourcarpet": [
           {
            "colorbar": {
             "outlinewidth": 0,
             "ticks": ""
            },
            "type": "contourcarpet"
           }
          ],
          "heatmap": [
           {
            "colorbar": {
             "outlinewidth": 0,
             "ticks": ""
            },
            "colorscale": [
             [
              0,
              "#0d0887"
             ],
             [
              0.1111111111111111,
              "#46039f"
             ],
             [
              0.2222222222222222,
              "#7201a8"
             ],
             [
              0.3333333333333333,
              "#9c179e"
             ],
             [
              0.4444444444444444,
              "#bd3786"
             ],
             [
              0.5555555555555556,
              "#d8576b"
             ],
             [
              0.6666666666666666,
              "#ed7953"
             ],
             [
              0.7777777777777778,
              "#fb9f3a"
             ],
             [
              0.8888888888888888,
              "#fdca26"
             ],
             [
              1,
              "#f0f921"
             ]
            ],
            "type": "heatmap"
           }
          ],
          "heatmapgl": [
           {
            "colorbar": {
             "outlinewidth": 0,
             "ticks": ""
            },
            "colorscale": [
             [
              0,
              "#0d0887"
             ],
             [
              0.1111111111111111,
              "#46039f"
             ],
             [
              0.2222222222222222,
              "#7201a8"
             ],
             [
              0.3333333333333333,
              "#9c179e"
             ],
             [
              0.4444444444444444,
              "#bd3786"
             ],
             [
              0.5555555555555556,
              "#d8576b"
             ],
             [
              0.6666666666666666,
              "#ed7953"
             ],
             [
              0.7777777777777778,
              "#fb9f3a"
             ],
             [
              0.8888888888888888,
              "#fdca26"
             ],
             [
              1,
              "#f0f921"
             ]
            ],
            "type": "heatmapgl"
           }
          ],
          "histogram": [
           {
            "marker": {
             "pattern": {
              "fillmode": "overlay",
              "size": 10,
              "solidity": 0.2
             }
            },
            "type": "histogram"
           }
          ],
          "histogram2d": [
           {
            "colorbar": {
             "outlinewidth": 0,
             "ticks": ""
            },
            "colorscale": [
             [
              0,
              "#0d0887"
             ],
             [
              0.1111111111111111,
              "#46039f"
             ],
             [
              0.2222222222222222,
              "#7201a8"
             ],
             [
              0.3333333333333333,
              "#9c179e"
             ],
             [
              0.4444444444444444,
              "#bd3786"
             ],
             [
              0.5555555555555556,
              "#d8576b"
             ],
             [
              0.6666666666666666,
              "#ed7953"
             ],
             [
              0.7777777777777778,
              "#fb9f3a"
             ],
             [
              0.8888888888888888,
              "#fdca26"
             ],
             [
              1,
              "#f0f921"
             ]
            ],
            "type": "histogram2d"
           }
          ],
          "histogram2dcontour": [
           {
            "colorbar": {
             "outlinewidth": 0,
             "ticks": ""
            },
            "colorscale": [
             [
              0,
              "#0d0887"
             ],
             [
              0.1111111111111111,
              "#46039f"
             ],
             [
              0.2222222222222222,
              "#7201a8"
             ],
             [
              0.3333333333333333,
              "#9c179e"
             ],
             [
              0.4444444444444444,
              "#bd3786"
             ],
             [
              0.5555555555555556,
              "#d8576b"
             ],
             [
              0.6666666666666666,
              "#ed7953"
             ],
             [
              0.7777777777777778,
              "#fb9f3a"
             ],
             [
              0.8888888888888888,
              "#fdca26"
             ],
             [
              1,
              "#f0f921"
             ]
            ],
            "type": "histogram2dcontour"
           }
          ],
          "mesh3d": [
           {
            "colorbar": {
             "outlinewidth": 0,
             "ticks": ""
            },
            "type": "mesh3d"
           }
          ],
          "parcoords": [
           {
            "line": {
             "colorbar": {
              "outlinewidth": 0,
              "ticks": ""
             }
            },
            "type": "parcoords"
           }
          ],
          "pie": [
           {
            "automargin": true,
            "type": "pie"
           }
          ],
          "scatter": [
           {
            "fillpattern": {
             "fillmode": "overlay",
             "size": 10,
             "solidity": 0.2
            },
            "type": "scatter"
           }
          ],
          "scatter3d": [
           {
            "line": {
             "colorbar": {
              "outlinewidth": 0,
              "ticks": ""
             }
            },
            "marker": {
             "colorbar": {
              "outlinewidth": 0,
              "ticks": ""
             }
            },
            "type": "scatter3d"
           }
          ],
          "scattercarpet": [
           {
            "marker": {
             "colorbar": {
              "outlinewidth": 0,
              "ticks": ""
             }
            },
            "type": "scattercarpet"
           }
          ],
          "scattergeo": [
           {
            "marker": {
             "colorbar": {
              "outlinewidth": 0,
              "ticks": ""
             }
            },
            "type": "scattergeo"
           }
          ],
          "scattergl": [
           {
            "marker": {
             "colorbar": {
              "outlinewidth": 0,
              "ticks": ""
             }
            },
            "type": "scattergl"
           }
          ],
          "scattermapbox": [
           {
            "marker": {
             "colorbar": {
              "outlinewidth": 0,
              "ticks": ""
             }
            },
            "type": "scattermapbox"
           }
          ],
          "scatterpolar": [
           {
            "marker": {
             "colorbar": {
              "outlinewidth": 0,
              "ticks": ""
             }
            },
            "type": "scatterpolar"
           }
          ],
          "scatterpolargl": [
           {
            "marker": {
             "colorbar": {
              "outlinewidth": 0,
              "ticks": ""
             }
            },
            "type": "scatterpolargl"
           }
          ],
          "scatterternary": [
           {
            "marker": {
             "colorbar": {
              "outlinewidth": 0,
              "ticks": ""
             }
            },
            "type": "scatterternary"
           }
          ],
          "surface": [
           {
            "colorbar": {
             "outlinewidth": 0,
             "ticks": ""
            },
            "colorscale": [
             [
              0,
              "#0d0887"
             ],
             [
              0.1111111111111111,
              "#46039f"
             ],
             [
              0.2222222222222222,
              "#7201a8"
             ],
             [
              0.3333333333333333,
              "#9c179e"
             ],
             [
              0.4444444444444444,
              "#bd3786"
             ],
             [
              0.5555555555555556,
              "#d8576b"
             ],
             [
              0.6666666666666666,
              "#ed7953"
             ],
             [
              0.7777777777777778,
              "#fb9f3a"
             ],
             [
              0.8888888888888888,
              "#fdca26"
             ],
             [
              1,
              "#f0f921"
             ]
            ],
            "type": "surface"
           }
          ],
          "table": [
           {
            "cells": {
             "fill": {
              "color": "#EBF0F8"
             },
             "line": {
              "color": "white"
             }
            },
            "header": {
             "fill": {
              "color": "#C8D4E3"
             },
             "line": {
              "color": "white"
             }
            },
            "type": "table"
           }
          ]
         },
         "layout": {
          "annotationdefaults": {
           "arrowcolor": "#2a3f5f",
           "arrowhead": 0,
           "arrowwidth": 1
          },
          "autotypenumbers": "strict",
          "coloraxis": {
           "colorbar": {
            "outlinewidth": 0,
            "ticks": ""
           }
          },
          "colorscale": {
           "diverging": [
            [
             0,
             "#8e0152"
            ],
            [
             0.1,
             "#c51b7d"
            ],
            [
             0.2,
             "#de77ae"
            ],
            [
             0.3,
             "#f1b6da"
            ],
            [
             0.4,
             "#fde0ef"
            ],
            [
             0.5,
             "#f7f7f7"
            ],
            [
             0.6,
             "#e6f5d0"
            ],
            [
             0.7,
             "#b8e186"
            ],
            [
             0.8,
             "#7fbc41"
            ],
            [
             0.9,
             "#4d9221"
            ],
            [
             1,
             "#276419"
            ]
           ],
           "sequential": [
            [
             0,
             "#0d0887"
            ],
            [
             0.1111111111111111,
             "#46039f"
            ],
            [
             0.2222222222222222,
             "#7201a8"
            ],
            [
             0.3333333333333333,
             "#9c179e"
            ],
            [
             0.4444444444444444,
             "#bd3786"
            ],
            [
             0.5555555555555556,
             "#d8576b"
            ],
            [
             0.6666666666666666,
             "#ed7953"
            ],
            [
             0.7777777777777778,
             "#fb9f3a"
            ],
            [
             0.8888888888888888,
             "#fdca26"
            ],
            [
             1,
             "#f0f921"
            ]
           ],
           "sequentialminus": [
            [
             0,
             "#0d0887"
            ],
            [
             0.1111111111111111,
             "#46039f"
            ],
            [
             0.2222222222222222,
             "#7201a8"
            ],
            [
             0.3333333333333333,
             "#9c179e"
            ],
            [
             0.4444444444444444,
             "#bd3786"
            ],
            [
             0.5555555555555556,
             "#d8576b"
            ],
            [
             0.6666666666666666,
             "#ed7953"
            ],
            [
             0.7777777777777778,
             "#fb9f3a"
            ],
            [
             0.8888888888888888,
             "#fdca26"
            ],
            [
             1,
             "#f0f921"
            ]
           ]
          },
          "colorway": [
           "#636efa",
           "#EF553B",
           "#00cc96",
           "#ab63fa",
           "#FFA15A",
           "#19d3f3",
           "#FF6692",
           "#B6E880",
           "#FF97FF",
           "#FECB52"
          ],
          "font": {
           "color": "#2a3f5f"
          },
          "geo": {
           "bgcolor": "white",
           "lakecolor": "white",
           "landcolor": "#E5ECF6",
           "showlakes": true,
           "showland": true,
           "subunitcolor": "white"
          },
          "hoverlabel": {
           "align": "left"
          },
          "hovermode": "closest",
          "mapbox": {
           "style": "light"
          },
          "paper_bgcolor": "white",
          "plot_bgcolor": "#E5ECF6",
          "polar": {
           "angularaxis": {
            "gridcolor": "white",
            "linecolor": "white",
            "ticks": ""
           },
           "bgcolor": "#E5ECF6",
           "radialaxis": {
            "gridcolor": "white",
            "linecolor": "white",
            "ticks": ""
           }
          },
          "scene": {
           "xaxis": {
            "backgroundcolor": "#E5ECF6",
            "gridcolor": "white",
            "gridwidth": 2,
            "linecolor": "white",
            "showbackground": true,
            "ticks": "",
            "zerolinecolor": "white"
           },
           "yaxis": {
            "backgroundcolor": "#E5ECF6",
            "gridcolor": "white",
            "gridwidth": 2,
            "linecolor": "white",
            "showbackground": true,
            "ticks": "",
            "zerolinecolor": "white"
           },
           "zaxis": {
            "backgroundcolor": "#E5ECF6",
            "gridcolor": "white",
            "gridwidth": 2,
            "linecolor": "white",
            "showbackground": true,
            "ticks": "",
            "zerolinecolor": "white"
           }
          },
          "shapedefaults": {
           "line": {
            "color": "#2a3f5f"
           }
          },
          "ternary": {
           "aaxis": {
            "gridcolor": "white",
            "linecolor": "white",
            "ticks": ""
           },
           "baxis": {
            "gridcolor": "white",
            "linecolor": "white",
            "ticks": ""
           },
           "bgcolor": "#E5ECF6",
           "caxis": {
            "gridcolor": "white",
            "linecolor": "white",
            "ticks": ""
           }
          },
          "title": {
           "x": 0.05
          },
          "xaxis": {
           "automargin": true,
           "gridcolor": "white",
           "linecolor": "white",
           "ticks": "",
           "title": {
            "standoff": 15
           },
           "zerolinecolor": "white",
           "zerolinewidth": 2
          },
          "yaxis": {
           "automargin": true,
           "gridcolor": "white",
           "linecolor": "white",
           "ticks": "",
           "title": {
            "standoff": 15
           },
           "zerolinecolor": "white",
           "zerolinewidth": 2
          }
         }
        },
        "title": {
         "text": "Total de Ventas por Hora"
        },
        "xaxis": {
         "anchor": "y",
         "constrain": "domain",
         "domain": [
          0,
          1
         ],
         "scaleanchor": "y",
         "ticktext": [
          0,
          1,
          2,
          3,
          4,
          5,
          6,
          7,
          8,
          9,
          10,
          11,
          12,
          13,
          14,
          15,
          16,
          17,
          18,
          19,
          20,
          21,
          22,
          23
         ],
         "tickvals": [
          0,
          1,
          2,
          3,
          4,
          5,
          6,
          7,
          8,
          9,
          10,
          11,
          12,
          13,
          14,
          15,
          16,
          17,
          18,
          19,
          20,
          21,
          22,
          23
         ],
         "title": {
          "text": "Hora"
         }
        },
        "yaxis": {
         "anchor": "x",
         "autorange": "reversed",
         "constrain": "domain",
         "domain": [
          0,
          1
         ],
         "side": "left",
         "title": {
          "text": "Mes"
         }
        }
       }
      }
     },
     "metadata": {},
     "output_type": "display_data"
    }
   ],
   "source": [
    "\n",
    "data=total_ventas_anual_hora\n",
    "fig = px.imshow(data,\n",
    "                labels=dict(x=\"Horas del día\", y=\"Meses\", color=\"Ventas\"),\n",
    "                x=horas,\n",
    "                y=meses\n",
    "               )\n",
    "\n",
    "#fig.update_xaxes(side=\"top\")\n",
    "fig.update_layout(\n",
    "    title='Total de Ventas por Hora',\n",
    "    xaxis=dict(title='Hora', tickvals=horas, ticktext=horas),\n",
    "    yaxis=dict(title='Mes',side=\"left\")\n",
    ")\n",
    "fig.show()"
   ]
  },
  {
   "cell_type": "code",
   "execution_count": 46,
   "metadata": {},
   "outputs": [
    {
     "name": "stdout",
     "output_type": "stream",
     "text": [
      "Los patrones de ventas por hora son muy similares en todos los meses, con un pico de ventas entre las 11 y las 13 horas y otro entre las 18 y las 20 horas. \n"
     ]
    }
   ],
   "source": [
    "print('Los patrones de ventas por hora son muy similares en todos los meses, con un pico de ventas entre las 11 y las 13 horas y otro entre las 18 y las 20 horas. ')"
   ]
  },
  {
   "cell_type": "markdown",
   "metadata": {},
   "source": [
    "### ● ¿Hay modificaciones en los patrones de ventas durante las horas de mayor actividad en los distintos meses?"
   ]
  },
  {
   "cell_type": "code",
   "execution_count": 47,
   "metadata": {},
   "outputs": [
    {
     "name": "stdout",
     "output_type": "stream",
     "text": [
      "Se puede observar que el mes de Diciembre es el que tiene mayor cantidad de ventas en esas horas mencionadas, seguido por los meses de Octubre y Abril. \n"
     ]
    }
   ],
   "source": [
    "print('Se puede observar que el mes de Diciembre es el que tiene mayor cantidad de ventas en esas horas mencionadas, seguido por los meses de Octubre y Abril. ')"
   ]
  },
  {
   "cell_type": "code",
   "execution_count": 48,
   "metadata": {},
   "outputs": [
    {
     "name": "stdout",
     "output_type": "stream",
     "text": [
      "Por otro lado, el mes de Enero y Febrero son los de menor cantidad de ventas en esas horas mencionadas, seguido por los meses de Agosto y Septiembre. \n"
     ]
    }
   ],
   "source": [
    "print('Por otro lado, el mes de Enero y Febrero son los de menor cantidad de ventas en esas horas mencionadas, seguido por los meses de Agosto y Septiembre. ')"
   ]
  },
  {
   "cell_type": "markdown",
   "metadata": {},
   "source": [
    "## 3. Distribución de ventas por ubicación:"
   ]
  },
  {
   "cell_type": "code",
   "execution_count": 49,
   "metadata": {},
   "outputs": [
    {
     "data": {
      "text/html": [
       "<div>\n",
       "<style scoped>\n",
       "    .dataframe tbody tr th:only-of-type {\n",
       "        vertical-align: middle;\n",
       "    }\n",
       "\n",
       "    .dataframe tbody tr th {\n",
       "        vertical-align: top;\n",
       "    }\n",
       "\n",
       "    .dataframe thead th {\n",
       "        text-align: right;\n",
       "    }\n",
       "</style>\n",
       "<table border=\"1\" class=\"dataframe\">\n",
       "  <thead>\n",
       "    <tr style=\"text-align: right;\">\n",
       "      <th></th>\n",
       "      <th>ID de Pedido</th>\n",
       "      <th>Producto</th>\n",
       "      <th>Cantidad Pedida</th>\n",
       "      <th>Precio Unitario</th>\n",
       "      <th>Fecha de Pedido</th>\n",
       "      <th>Dirección de Envio</th>\n",
       "      <th>Hora</th>\n",
       "      <th>Dia</th>\n",
       "      <th>Dia semanal</th>\n",
       "      <th>Calle</th>\n",
       "      <th>Ciudad</th>\n",
       "      <th>PO BOX</th>\n",
       "      <th>Estado</th>\n",
       "      <th>Cod Postal</th>\n",
       "      <th>Ingreso</th>\n",
       "    </tr>\n",
       "  </thead>\n",
       "  <tbody>\n",
       "    <tr>\n",
       "      <th>0</th>\n",
       "      <td>259358</td>\n",
       "      <td>34in Ultrawide Monitor</td>\n",
       "      <td>1</td>\n",
       "      <td>379</td>\n",
       "      <td>2019-10-28 10:56:00</td>\n",
       "      <td>609 Cherry St, Dallas, TX 75001</td>\n",
       "      <td>10</td>\n",
       "      <td>28</td>\n",
       "      <td>0</td>\n",
       "      <td>609 Cherry St</td>\n",
       "      <td>Dallas</td>\n",
       "      <td>TX 75001</td>\n",
       "      <td>TX</td>\n",
       "      <td>75001</td>\n",
       "      <td>379</td>\n",
       "    </tr>\n",
       "    <tr>\n",
       "      <th>1</th>\n",
       "      <td>259359</td>\n",
       "      <td>27in 4K Gaming Monitor</td>\n",
       "      <td>1</td>\n",
       "      <td>389</td>\n",
       "      <td>2019-10-28 17:26:00</td>\n",
       "      <td>225 5th St, Los Angeles, CA 90001</td>\n",
       "      <td>17</td>\n",
       "      <td>28</td>\n",
       "      <td>0</td>\n",
       "      <td>225 5th St</td>\n",
       "      <td>Los Angeles</td>\n",
       "      <td>CA 90001</td>\n",
       "      <td>CA</td>\n",
       "      <td>90001</td>\n",
       "      <td>389</td>\n",
       "    </tr>\n",
       "    <tr>\n",
       "      <th>2</th>\n",
       "      <td>259360</td>\n",
       "      <td>AAA Batteries (4-pack)</td>\n",
       "      <td>2</td>\n",
       "      <td>2</td>\n",
       "      <td>2019-10-24 17:20:00</td>\n",
       "      <td>967 12th St, New York City, NY 10001</td>\n",
       "      <td>17</td>\n",
       "      <td>24</td>\n",
       "      <td>3</td>\n",
       "      <td>967 12th St</td>\n",
       "      <td>New York City</td>\n",
       "      <td>NY 10001</td>\n",
       "      <td>NY</td>\n",
       "      <td>10001</td>\n",
       "      <td>4</td>\n",
       "    </tr>\n",
       "    <tr>\n",
       "      <th>3</th>\n",
       "      <td>259361</td>\n",
       "      <td>27in FHD Monitor</td>\n",
       "      <td>1</td>\n",
       "      <td>149</td>\n",
       "      <td>2019-10-14 22:26:00</td>\n",
       "      <td>628 Jefferson St, New York City, NY 10001</td>\n",
       "      <td>22</td>\n",
       "      <td>14</td>\n",
       "      <td>0</td>\n",
       "      <td>628 Jefferson St</td>\n",
       "      <td>New York City</td>\n",
       "      <td>NY 10001</td>\n",
       "      <td>NY</td>\n",
       "      <td>10001</td>\n",
       "      <td>149</td>\n",
       "    </tr>\n",
       "    <tr>\n",
       "      <th>4</th>\n",
       "      <td>259362</td>\n",
       "      <td>Wired Headphones</td>\n",
       "      <td>1</td>\n",
       "      <td>11</td>\n",
       "      <td>2019-10-07 16:10:00</td>\n",
       "      <td>534 14th St, Los Angeles, CA 90001</td>\n",
       "      <td>16</td>\n",
       "      <td>7</td>\n",
       "      <td>0</td>\n",
       "      <td>534 14th St</td>\n",
       "      <td>Los Angeles</td>\n",
       "      <td>CA 90001</td>\n",
       "      <td>CA</td>\n",
       "      <td>90001</td>\n",
       "      <td>11</td>\n",
       "    </tr>\n",
       "    <tr>\n",
       "      <th>5</th>\n",
       "      <td>259363</td>\n",
       "      <td>AAA Batteries (4-pack)</td>\n",
       "      <td>1</td>\n",
       "      <td>2</td>\n",
       "      <td>2019-10-01 18:55:00</td>\n",
       "      <td>976 Lake St, New York City, NY 10001</td>\n",
       "      <td>18</td>\n",
       "      <td>1</td>\n",
       "      <td>1</td>\n",
       "      <td>976 Lake St</td>\n",
       "      <td>New York City</td>\n",
       "      <td>NY 10001</td>\n",
       "      <td>NY</td>\n",
       "      <td>10001</td>\n",
       "      <td>2</td>\n",
       "    </tr>\n",
       "    <tr>\n",
       "      <th>6</th>\n",
       "      <td>259364</td>\n",
       "      <td>Wired Headphones</td>\n",
       "      <td>1</td>\n",
       "      <td>11</td>\n",
       "      <td>2019-10-29 11:02:00</td>\n",
       "      <td>874 North St, Los Angeles, CA 90001</td>\n",
       "      <td>11</td>\n",
       "      <td>29</td>\n",
       "      <td>1</td>\n",
       "      <td>874 North St</td>\n",
       "      <td>Los Angeles</td>\n",
       "      <td>CA 90001</td>\n",
       "      <td>CA</td>\n",
       "      <td>90001</td>\n",
       "      <td>11</td>\n",
       "    </tr>\n",
       "    <tr>\n",
       "      <th>7</th>\n",
       "      <td>259365</td>\n",
       "      <td>Lightning Charging Cable</td>\n",
       "      <td>1</td>\n",
       "      <td>14</td>\n",
       "      <td>2019-10-29 11:19:00</td>\n",
       "      <td>127 12th St, Los Angeles, CA 90001</td>\n",
       "      <td>11</td>\n",
       "      <td>29</td>\n",
       "      <td>1</td>\n",
       "      <td>127 12th St</td>\n",
       "      <td>Los Angeles</td>\n",
       "      <td>CA 90001</td>\n",
       "      <td>CA</td>\n",
       "      <td>90001</td>\n",
       "      <td>14</td>\n",
       "    </tr>\n",
       "    <tr>\n",
       "      <th>8</th>\n",
       "      <td>259366</td>\n",
       "      <td>Apple Airpods Headphones</td>\n",
       "      <td>1</td>\n",
       "      <td>150</td>\n",
       "      <td>2019-10-20 11:52:00</td>\n",
       "      <td>955 9th St, Los Angeles, CA 90001</td>\n",
       "      <td>11</td>\n",
       "      <td>20</td>\n",
       "      <td>6</td>\n",
       "      <td>955 9th St</td>\n",
       "      <td>Los Angeles</td>\n",
       "      <td>CA 90001</td>\n",
       "      <td>CA</td>\n",
       "      <td>90001</td>\n",
       "      <td>150</td>\n",
       "    </tr>\n",
       "    <tr>\n",
       "      <th>9</th>\n",
       "      <td>259367</td>\n",
       "      <td>Apple Airpods Headphones</td>\n",
       "      <td>1</td>\n",
       "      <td>150</td>\n",
       "      <td>2019-10-16 16:19:00</td>\n",
       "      <td>742 14th St, San Francisco, CA 94016</td>\n",
       "      <td>16</td>\n",
       "      <td>16</td>\n",
       "      <td>2</td>\n",
       "      <td>742 14th St</td>\n",
       "      <td>San Francisco</td>\n",
       "      <td>CA 94016</td>\n",
       "      <td>CA</td>\n",
       "      <td>94016</td>\n",
       "      <td>150</td>\n",
       "    </tr>\n",
       "    <tr>\n",
       "      <th>10</th>\n",
       "      <td>259368</td>\n",
       "      <td>27in FHD Monitor</td>\n",
       "      <td>1</td>\n",
       "      <td>149</td>\n",
       "      <td>2019-10-13 13:47:00</td>\n",
       "      <td>960 Ridge St, Boston, MA 02215</td>\n",
       "      <td>13</td>\n",
       "      <td>13</td>\n",
       "      <td>6</td>\n",
       "      <td>960 Ridge St</td>\n",
       "      <td>Boston</td>\n",
       "      <td>MA 02215</td>\n",
       "      <td>MA</td>\n",
       "      <td>02215</td>\n",
       "      <td>149</td>\n",
       "    </tr>\n",
       "    <tr>\n",
       "      <th>11</th>\n",
       "      <td>259369</td>\n",
       "      <td>USB-C Charging Cable</td>\n",
       "      <td>1</td>\n",
       "      <td>11</td>\n",
       "      <td>2019-10-26 10:54:00</td>\n",
       "      <td>538 Johnson St, Portland, OR 97035</td>\n",
       "      <td>10</td>\n",
       "      <td>26</td>\n",
       "      <td>5</td>\n",
       "      <td>538 Johnson St</td>\n",
       "      <td>Portland</td>\n",
       "      <td>OR 97035</td>\n",
       "      <td>OR</td>\n",
       "      <td>97035</td>\n",
       "      <td>11</td>\n",
       "    </tr>\n",
       "    <tr>\n",
       "      <th>12</th>\n",
       "      <td>259370</td>\n",
       "      <td>20in Monitor</td>\n",
       "      <td>1</td>\n",
       "      <td>109</td>\n",
       "      <td>2019-10-28 23:56:00</td>\n",
       "      <td>528 Forest St, San Francisco, CA 94016</td>\n",
       "      <td>23</td>\n",
       "      <td>28</td>\n",
       "      <td>0</td>\n",
       "      <td>528 Forest St</td>\n",
       "      <td>San Francisco</td>\n",
       "      <td>CA 94016</td>\n",
       "      <td>CA</td>\n",
       "      <td>94016</td>\n",
       "      <td>109</td>\n",
       "    </tr>\n",
       "    <tr>\n",
       "      <th>13</th>\n",
       "      <td>259371</td>\n",
       "      <td>iPhone</td>\n",
       "      <td>1</td>\n",
       "      <td>700</td>\n",
       "      <td>2019-10-26 12:12:00</td>\n",
       "      <td>306 Main St, Los Angeles, CA 90001</td>\n",
       "      <td>12</td>\n",
       "      <td>26</td>\n",
       "      <td>5</td>\n",
       "      <td>306 Main St</td>\n",
       "      <td>Los Angeles</td>\n",
       "      <td>CA 90001</td>\n",
       "      <td>CA</td>\n",
       "      <td>90001</td>\n",
       "      <td>700</td>\n",
       "    </tr>\n",
       "    <tr>\n",
       "      <th>14</th>\n",
       "      <td>259372</td>\n",
       "      <td>Wired Headphones</td>\n",
       "      <td>1</td>\n",
       "      <td>11</td>\n",
       "      <td>2019-10-17 11:07:00</td>\n",
       "      <td>434 Madison St, San Francisco, CA 94016</td>\n",
       "      <td>11</td>\n",
       "      <td>17</td>\n",
       "      <td>3</td>\n",
       "      <td>434 Madison St</td>\n",
       "      <td>San Francisco</td>\n",
       "      <td>CA 94016</td>\n",
       "      <td>CA</td>\n",
       "      <td>94016</td>\n",
       "      <td>11</td>\n",
       "    </tr>\n",
       "  </tbody>\n",
       "</table>\n",
       "</div>"
      ],
      "text/plain": [
       "   ID de Pedido                  Producto  Cantidad Pedida  Precio Unitario  \\\n",
       "0        259358    34in Ultrawide Monitor                1              379   \n",
       "1        259359    27in 4K Gaming Monitor                1              389   \n",
       "2        259360    AAA Batteries (4-pack)                2                2   \n",
       "3        259361          27in FHD Monitor                1              149   \n",
       "4        259362          Wired Headphones                1               11   \n",
       "5        259363    AAA Batteries (4-pack)                1                2   \n",
       "6        259364          Wired Headphones                1               11   \n",
       "7        259365  Lightning Charging Cable                1               14   \n",
       "8        259366  Apple Airpods Headphones                1              150   \n",
       "9        259367  Apple Airpods Headphones                1              150   \n",
       "10       259368          27in FHD Monitor                1              149   \n",
       "11       259369      USB-C Charging Cable                1               11   \n",
       "12       259370              20in Monitor                1              109   \n",
       "13       259371                    iPhone                1              700   \n",
       "14       259372          Wired Headphones                1               11   \n",
       "\n",
       "       Fecha de Pedido                         Dirección de Envio  Hora  Dia  \\\n",
       "0  2019-10-28 10:56:00            609 Cherry St, Dallas, TX 75001    10   28   \n",
       "1  2019-10-28 17:26:00          225 5th St, Los Angeles, CA 90001    17   28   \n",
       "2  2019-10-24 17:20:00       967 12th St, New York City, NY 10001    17   24   \n",
       "3  2019-10-14 22:26:00  628 Jefferson St, New York City, NY 10001    22   14   \n",
       "4  2019-10-07 16:10:00         534 14th St, Los Angeles, CA 90001    16    7   \n",
       "5  2019-10-01 18:55:00       976 Lake St, New York City, NY 10001    18    1   \n",
       "6  2019-10-29 11:02:00        874 North St, Los Angeles, CA 90001    11   29   \n",
       "7  2019-10-29 11:19:00         127 12th St, Los Angeles, CA 90001    11   29   \n",
       "8  2019-10-20 11:52:00          955 9th St, Los Angeles, CA 90001    11   20   \n",
       "9  2019-10-16 16:19:00       742 14th St, San Francisco, CA 94016    16   16   \n",
       "10 2019-10-13 13:47:00             960 Ridge St, Boston, MA 02215    13   13   \n",
       "11 2019-10-26 10:54:00         538 Johnson St, Portland, OR 97035    10   26   \n",
       "12 2019-10-28 23:56:00     528 Forest St, San Francisco, CA 94016    23   28   \n",
       "13 2019-10-26 12:12:00         306 Main St, Los Angeles, CA 90001    12   26   \n",
       "14 2019-10-17 11:07:00    434 Madison St, San Francisco, CA 94016    11   17   \n",
       "\n",
       "    Dia semanal             Calle         Ciudad    PO BOX Estado Cod Postal  \\\n",
       "0             0     609 Cherry St         Dallas  TX 75001     TX      75001   \n",
       "1             0        225 5th St    Los Angeles  CA 90001     CA      90001   \n",
       "2             3       967 12th St  New York City  NY 10001     NY      10001   \n",
       "3             0  628 Jefferson St  New York City  NY 10001     NY      10001   \n",
       "4             0       534 14th St    Los Angeles  CA 90001     CA      90001   \n",
       "5             1       976 Lake St  New York City  NY 10001     NY      10001   \n",
       "6             1      874 North St    Los Angeles  CA 90001     CA      90001   \n",
       "7             1       127 12th St    Los Angeles  CA 90001     CA      90001   \n",
       "8             6        955 9th St    Los Angeles  CA 90001     CA      90001   \n",
       "9             2       742 14th St  San Francisco  CA 94016     CA      94016   \n",
       "10            6      960 Ridge St         Boston  MA 02215     MA      02215   \n",
       "11            5    538 Johnson St       Portland  OR 97035     OR      97035   \n",
       "12            0     528 Forest St  San Francisco  CA 94016     CA      94016   \n",
       "13            5       306 Main St    Los Angeles  CA 90001     CA      90001   \n",
       "14            3    434 Madison St  San Francisco  CA 94016     CA      94016   \n",
       "\n",
       "    Ingreso  \n",
       "0       379  \n",
       "1       389  \n",
       "2         4  \n",
       "3       149  \n",
       "4        11  \n",
       "5         2  \n",
       "6        11  \n",
       "7        14  \n",
       "8       150  \n",
       "9       150  \n",
       "10      149  \n",
       "11       11  \n",
       "12      109  \n",
       "13      700  \n",
       "14       11  "
      ]
     },
     "execution_count": 49,
     "metadata": {},
     "output_type": "execute_result"
    }
   ],
   "source": [
    "# Se analiza el mes de Octubre\n",
    "dataframes_meses['Octubre'].head(15)"
   ]
  },
  {
   "cell_type": "code",
   "execution_count": 50,
   "metadata": {},
   "outputs": [
    {
     "data": {
      "text/plain": [
       "Ciudad\n",
       "San Francisco    4755\n",
       "Los Angeles      3290\n",
       "New York City    2647\n",
       "Boston           2173\n",
       "Seattle          1677\n",
       "Dallas           1635\n",
       "Atlanta          1602\n",
       "Portland         1384\n",
       "Austin           1088\n",
       "Name: Cantidad Pedida, dtype: int64"
      ]
     },
     "execution_count": 50,
     "metadata": {},
     "output_type": "execute_result"
    }
   ],
   "source": [
    "# Se agrupa por ciudad y se calcula el total de ventas por ciudad\n",
    "total_ventas_ciudad =  dataframes_meses['Octubre'].groupby('Ciudad')['Cantidad Pedida'].count()\n",
    "\n",
    "#se ordena de mayor a menor\n",
    "total_ventas_ciudad.sort_values(ascending=False)\n"
   ]
  },
  {
   "cell_type": "code",
   "execution_count": 51,
   "metadata": {},
   "outputs": [
    {
     "data": {
      "text/plain": [
       "Ciudad\n",
       "San Francisco    4755\n",
       "Los Angeles      3290\n",
       "New York City    2647\n",
       "Name: Cantidad Pedida, dtype: int64"
      ]
     },
     "execution_count": 51,
     "metadata": {},
     "output_type": "execute_result"
    }
   ],
   "source": [
    "#Se guardan las 3 ciudades con mayor cantidad de ventas\n",
    "top_ciudad_ventas = total_ventas_ciudad.sort_values(ascending=False).head(3)\n",
    "top_ciudad_ventas\n"
   ]
  },
  {
   "cell_type": "markdown",
   "metadata": {},
   "source": [
    "### ● ¿En qué ciudades se han registrado las mayores ventas?\n"
   ]
  },
  {
   "cell_type": "code",
   "execution_count": 52,
   "metadata": {},
   "outputs": [],
   "source": [
    "# Se crea una lista para almacenar el total de ventas por ciudad por mes y el total anual de ventas por ciudad\n",
    "total_ventas_ciudad_mes = []\n",
    "total_ventas_anual_ciudad = []\n",
    "\n",
    "\n",
    "# Se recorre el diccionario de dataframes de ventas por mes\n",
    "for mes in meses:\n",
    "    # Se obtiene el dataframe de ventas del mes\n",
    "    dataframe_mes = dataframes_meses[mes]\n",
    "    \n",
    "    # Se obtiene el total de ventas por ciudad del mes\n",
    "    total_ventas_ciudad_mes = dataframe_mes.groupby('Ciudad')['Cantidad Pedida'].count()\n",
    "    \n",
    "    # Se agrega el total de ventas por ciudad al anual\n",
    "    total_ventas_anual_ciudad.append(total_ventas_ciudad_mes)\n",
    "    "
   ]
  },
  {
   "cell_type": "code",
   "execution_count": 53,
   "metadata": {},
   "outputs": [
    {
     "data": {
      "text/plain": [
       "[Ciudad\n",
       " Atlanta           786\n",
       " Austin            527\n",
       " Boston           1045\n",
       " Dallas            784\n",
       " Los Angeles      1528\n",
       " New York City    1300\n",
       " Portland          623\n",
       " San Francisco    2352\n",
       " Seattle           726\n",
       " Name: Cantidad Pedida, dtype: int64,\n",
       " Ciudad\n",
       " Atlanta           935\n",
       " Austin            622\n",
       " Boston           1251\n",
       " Dallas            980\n",
       " Los Angeles      1899\n",
       " New York City    1611\n",
       " Portland          835\n",
       " San Francisco    2908\n",
       " Seattle           927\n",
       " Name: Cantidad Pedida, dtype: int64,\n",
       " Ciudad\n",
       " Atlanta          1244\n",
       " Austin            838\n",
       " Boston           1648\n",
       " Dallas           1201\n",
       " Los Angeles      2452\n",
       " New York City    1978\n",
       " Portland          981\n",
       " San Francisco    3591\n",
       " Seattle          1196\n",
       " Name: Cantidad Pedida, dtype: int64,\n",
       " Ciudad\n",
       " Atlanta          1470\n",
       " Austin            973\n",
       " Boston           1915\n",
       " Dallas           1348\n",
       " Los Angeles      3021\n",
       " New York City    2429\n",
       " Portland         1237\n",
       " San Francisco    4434\n",
       " Seattle          1440\n",
       " Name: Cantidad Pedida, dtype: int64,\n",
       " Ciudad\n",
       " Atlanta          1330\n",
       " Austin            839\n",
       " Boston           1799\n",
       " Dallas           1416\n",
       " Los Angeles      2566\n",
       " New York City    2266\n",
       " Portland         1166\n",
       " San Francisco    3919\n",
       " Seattle          1239\n",
       " Name: Cantidad Pedida, dtype: int64,\n",
       " Ciudad\n",
       " Atlanta          1103\n",
       " Austin            715\n",
       " Boston           1386\n",
       " Dallas           1065\n",
       " Los Angeles      2199\n",
       " New York City    1773\n",
       " Portland          939\n",
       " San Francisco    3302\n",
       " Seattle          1055\n",
       " Name: Cantidad Pedida, dtype: int64,\n",
       " Ciudad\n",
       " Atlanta          1144\n",
       " Austin            762\n",
       " Boston           1550\n",
       " Dallas           1098\n",
       " Los Angeles      2230\n",
       " New York City    1928\n",
       " Portland          919\n",
       " San Francisco    3524\n",
       " Seattle          1118\n",
       " Name: Cantidad Pedida, dtype: int64,\n",
       " Ciudad\n",
       " Atlanta           941\n",
       " Austin            648\n",
       " Boston           1244\n",
       " Dallas            967\n",
       " Los Angeles      1863\n",
       " New York City    1623\n",
       " Portland          820\n",
       " San Francisco    2828\n",
       " Seattle          1005\n",
       " Name: Cantidad Pedida, dtype: int64,\n",
       " Ciudad\n",
       " Atlanta           914\n",
       " Austin            665\n",
       " Boston           1280\n",
       " Dallas            933\n",
       " Los Angeles      1884\n",
       " New York City    1534\n",
       " Portland          738\n",
       " San Francisco    2726\n",
       " Seattle           937\n",
       " Name: Cantidad Pedida, dtype: int64,\n",
       " Ciudad\n",
       " Atlanta          1602\n",
       " Austin           1088\n",
       " Boston           2173\n",
       " Dallas           1635\n",
       " Los Angeles      3290\n",
       " New York City    2647\n",
       " Portland         1384\n",
       " San Francisco    4755\n",
       " Seattle          1677\n",
       " Name: Cantidad Pedida, dtype: int64,\n",
       " Ciudad\n",
       " Atlanta          1408\n",
       " Austin            866\n",
       " Boston           1915\n",
       " Dallas           1366\n",
       " Los Angeles      2745\n",
       " New York City    2353\n",
       " Portland         1162\n",
       " San Francisco    4317\n",
       " Seattle          1419\n",
       " Name: Cantidad Pedida, dtype: int64,\n",
       " Ciudad\n",
       " Atlanta          1986\n",
       " Austin           1347\n",
       " Boston           2695\n",
       " Dallas           2004\n",
       " Los Angeles      3887\n",
       " New York City    3405\n",
       " Portland         1645\n",
       " San Francisco    6006\n",
       " Seattle          1974\n",
       " Name: Cantidad Pedida, dtype: int64]"
      ]
     },
     "execution_count": 53,
     "metadata": {},
     "output_type": "execute_result"
    }
   ],
   "source": [
    "total_ventas_anual_ciudad"
   ]
  },
  {
   "cell_type": "code",
   "execution_count": 54,
   "metadata": {},
   "outputs": [
    {
     "data": {
      "text/html": [
       "<div>\n",
       "<style scoped>\n",
       "    .dataframe tbody tr th:only-of-type {\n",
       "        vertical-align: middle;\n",
       "    }\n",
       "\n",
       "    .dataframe tbody tr th {\n",
       "        vertical-align: top;\n",
       "    }\n",
       "\n",
       "    .dataframe thead th {\n",
       "        text-align: right;\n",
       "    }\n",
       "</style>\n",
       "<table border=\"1\" class=\"dataframe\">\n",
       "  <thead>\n",
       "    <tr style=\"text-align: right;\">\n",
       "      <th></th>\n",
       "      <th>Enero</th>\n",
       "      <th>Febrero</th>\n",
       "      <th>Marzo</th>\n",
       "      <th>Abril</th>\n",
       "      <th>Mayo</th>\n",
       "      <th>Junio</th>\n",
       "      <th>Julio</th>\n",
       "      <th>Agosto</th>\n",
       "      <th>Septiembre</th>\n",
       "      <th>Octubre</th>\n",
       "      <th>Noviembre</th>\n",
       "      <th>Diciembre</th>\n",
       "      <th>total ventas</th>\n",
       "    </tr>\n",
       "    <tr>\n",
       "      <th>Ciudad</th>\n",
       "      <th></th>\n",
       "      <th></th>\n",
       "      <th></th>\n",
       "      <th></th>\n",
       "      <th></th>\n",
       "      <th></th>\n",
       "      <th></th>\n",
       "      <th></th>\n",
       "      <th></th>\n",
       "      <th></th>\n",
       "      <th></th>\n",
       "      <th></th>\n",
       "      <th></th>\n",
       "    </tr>\n",
       "  </thead>\n",
       "  <tbody>\n",
       "    <tr>\n",
       "      <th>Atlanta</th>\n",
       "      <td>786</td>\n",
       "      <td>935</td>\n",
       "      <td>1244</td>\n",
       "      <td>1470</td>\n",
       "      <td>1330</td>\n",
       "      <td>1103</td>\n",
       "      <td>1144</td>\n",
       "      <td>941</td>\n",
       "      <td>914</td>\n",
       "      <td>1602</td>\n",
       "      <td>1408</td>\n",
       "      <td>1986</td>\n",
       "      <td>14863</td>\n",
       "    </tr>\n",
       "    <tr>\n",
       "      <th>Austin</th>\n",
       "      <td>527</td>\n",
       "      <td>622</td>\n",
       "      <td>838</td>\n",
       "      <td>973</td>\n",
       "      <td>839</td>\n",
       "      <td>715</td>\n",
       "      <td>762</td>\n",
       "      <td>648</td>\n",
       "      <td>665</td>\n",
       "      <td>1088</td>\n",
       "      <td>866</td>\n",
       "      <td>1347</td>\n",
       "      <td>9890</td>\n",
       "    </tr>\n",
       "    <tr>\n",
       "      <th>Boston</th>\n",
       "      <td>1045</td>\n",
       "      <td>1251</td>\n",
       "      <td>1648</td>\n",
       "      <td>1915</td>\n",
       "      <td>1799</td>\n",
       "      <td>1386</td>\n",
       "      <td>1550</td>\n",
       "      <td>1244</td>\n",
       "      <td>1280</td>\n",
       "      <td>2173</td>\n",
       "      <td>1915</td>\n",
       "      <td>2695</td>\n",
       "      <td>19901</td>\n",
       "    </tr>\n",
       "    <tr>\n",
       "      <th>Dallas</th>\n",
       "      <td>784</td>\n",
       "      <td>980</td>\n",
       "      <td>1201</td>\n",
       "      <td>1348</td>\n",
       "      <td>1416</td>\n",
       "      <td>1065</td>\n",
       "      <td>1098</td>\n",
       "      <td>967</td>\n",
       "      <td>933</td>\n",
       "      <td>1635</td>\n",
       "      <td>1366</td>\n",
       "      <td>2004</td>\n",
       "      <td>14797</td>\n",
       "    </tr>\n",
       "    <tr>\n",
       "      <th>Los Angeles</th>\n",
       "      <td>1528</td>\n",
       "      <td>1899</td>\n",
       "      <td>2452</td>\n",
       "      <td>3021</td>\n",
       "      <td>2566</td>\n",
       "      <td>2199</td>\n",
       "      <td>2230</td>\n",
       "      <td>1863</td>\n",
       "      <td>1884</td>\n",
       "      <td>3290</td>\n",
       "      <td>2745</td>\n",
       "      <td>3887</td>\n",
       "      <td>29564</td>\n",
       "    </tr>\n",
       "    <tr>\n",
       "      <th>New York City</th>\n",
       "      <td>1300</td>\n",
       "      <td>1611</td>\n",
       "      <td>1978</td>\n",
       "      <td>2429</td>\n",
       "      <td>2266</td>\n",
       "      <td>1773</td>\n",
       "      <td>1928</td>\n",
       "      <td>1623</td>\n",
       "      <td>1534</td>\n",
       "      <td>2647</td>\n",
       "      <td>2353</td>\n",
       "      <td>3405</td>\n",
       "      <td>24847</td>\n",
       "    </tr>\n",
       "    <tr>\n",
       "      <th>Portland</th>\n",
       "      <td>623</td>\n",
       "      <td>835</td>\n",
       "      <td>981</td>\n",
       "      <td>1237</td>\n",
       "      <td>1166</td>\n",
       "      <td>939</td>\n",
       "      <td>919</td>\n",
       "      <td>820</td>\n",
       "      <td>738</td>\n",
       "      <td>1384</td>\n",
       "      <td>1162</td>\n",
       "      <td>1645</td>\n",
       "      <td>12449</td>\n",
       "    </tr>\n",
       "    <tr>\n",
       "      <th>San Francisco</th>\n",
       "      <td>2352</td>\n",
       "      <td>2908</td>\n",
       "      <td>3591</td>\n",
       "      <td>4434</td>\n",
       "      <td>3919</td>\n",
       "      <td>3302</td>\n",
       "      <td>3524</td>\n",
       "      <td>2828</td>\n",
       "      <td>2726</td>\n",
       "      <td>4755</td>\n",
       "      <td>4317</td>\n",
       "      <td>6006</td>\n",
       "      <td>44662</td>\n",
       "    </tr>\n",
       "    <tr>\n",
       "      <th>Seattle</th>\n",
       "      <td>726</td>\n",
       "      <td>927</td>\n",
       "      <td>1196</td>\n",
       "      <td>1440</td>\n",
       "      <td>1239</td>\n",
       "      <td>1055</td>\n",
       "      <td>1118</td>\n",
       "      <td>1005</td>\n",
       "      <td>937</td>\n",
       "      <td>1677</td>\n",
       "      <td>1419</td>\n",
       "      <td>1974</td>\n",
       "      <td>14713</td>\n",
       "    </tr>\n",
       "  </tbody>\n",
       "</table>\n",
       "</div>"
      ],
      "text/plain": [
       "               Enero  Febrero  Marzo  Abril  Mayo  Junio  Julio  Agosto  \\\n",
       "Ciudad                                                                    \n",
       "Atlanta          786      935   1244   1470  1330   1103   1144     941   \n",
       "Austin           527      622    838    973   839    715    762     648   \n",
       "Boston          1045     1251   1648   1915  1799   1386   1550    1244   \n",
       "Dallas           784      980   1201   1348  1416   1065   1098     967   \n",
       "Los Angeles     1528     1899   2452   3021  2566   2199   2230    1863   \n",
       "New York City   1300     1611   1978   2429  2266   1773   1928    1623   \n",
       "Portland         623      835    981   1237  1166    939    919     820   \n",
       "San Francisco   2352     2908   3591   4434  3919   3302   3524    2828   \n",
       "Seattle          726      927   1196   1440  1239   1055   1118    1005   \n",
       "\n",
       "               Septiembre  Octubre  Noviembre  Diciembre  total ventas  \n",
       "Ciudad                                                                  \n",
       "Atlanta               914     1602       1408       1986         14863  \n",
       "Austin                665     1088        866       1347          9890  \n",
       "Boston               1280     2173       1915       2695         19901  \n",
       "Dallas                933     1635       1366       2004         14797  \n",
       "Los Angeles          1884     3290       2745       3887         29564  \n",
       "New York City        1534     2647       2353       3405         24847  \n",
       "Portland              738     1384       1162       1645         12449  \n",
       "San Francisco        2726     4755       4317       6006         44662  \n",
       "Seattle               937     1677       1419       1974         14713  "
      ]
     },
     "execution_count": 54,
     "metadata": {},
     "output_type": "execute_result"
    }
   ],
   "source": [
    "# Se pasa el arreglo de totales de ventas por ciudad a un dataframe\n",
    "df_total_ventas_anual_ciudad= pd.concat(total_ventas_anual_ciudad, axis=1)\n",
    "\n",
    "# Se asigna el nombre de las columnas\n",
    "df_total_ventas_anual_ciudad.columns = meses\n",
    "\n",
    "# Se calcula y se agrega la columna de la suma anual de ventas por ciudad \n",
    "df_total_ventas_anual_ciudad['total ventas'] = df_total_ventas_anual_ciudad.sum(axis=1)\n",
    "\n",
    "df_total_ventas_anual_ciudad"
   ]
  },
  {
   "cell_type": "code",
   "execution_count": 55,
   "metadata": {},
   "outputs": [
    {
     "data": {
      "text/plain": [
       "Index(['Atlanta', 'Austin', 'Boston', 'Dallas', 'Los Angeles', 'New York City',\n",
       "       'Portland', 'San Francisco', 'Seattle'],\n",
       "      dtype='object', name='Ciudad')"
      ]
     },
     "execution_count": 55,
     "metadata": {},
     "output_type": "execute_result"
    }
   ],
   "source": [
    "# Se extra las ciudades de dataframe de ventas anual por ciudad\n",
    "ciudades = df_total_ventas_anual_ciudad.index\n",
    "ciudades"
   ]
  },
  {
   "cell_type": "code",
   "execution_count": 56,
   "metadata": {},
   "outputs": [
    {
     "data": {
      "text/plain": [
       "Ciudad\n",
       "Atlanta          14863\n",
       "Austin            9890\n",
       "Boston           19901\n",
       "Dallas           14797\n",
       "Los Angeles      29564\n",
       "New York City    24847\n",
       "Portland         12449\n",
       "San Francisco    44662\n",
       "Seattle          14713\n",
       "Name: total ventas, dtype: int64"
      ]
     },
     "execution_count": 56,
     "metadata": {},
     "output_type": "execute_result"
    }
   ],
   "source": [
    "# Se extrae los totales de ventas anual por ciudad\n",
    "totales_ventas_anual_ciudad = df_total_ventas_anual_ciudad['total ventas']\n",
    "totales_ventas_anual_ciudad"
   ]
  },
  {
   "cell_type": "code",
   "execution_count": 57,
   "metadata": {},
   "outputs": [
    {
     "data": {
      "application/vnd.plotly.v1+json": {
       "config": {
        "plotlyServerURL": "https://plot.ly"
       },
       "data": [
        {
         "marker": {
          "color": [
           14863,
           9890,
           19901,
           14797,
           29564,
           24847,
           12449,
           44662,
           14713
          ],
          "colorbar": {
           "thickness": 15,
           "title": {
            "text": "Total de Ventas"
           },
           "x": 1
          },
          "colorscale": [
           [
            0,
            "rgb(255,245,240)"
           ],
           [
            0.125,
            "rgb(254,224,210)"
           ],
           [
            0.25,
            "rgb(252,187,161)"
           ],
           [
            0.375,
            "rgb(252,146,114)"
           ],
           [
            0.5,
            "rgb(251,106,74)"
           ],
           [
            0.625,
            "rgb(239,59,44)"
           ],
           [
            0.75,
            "rgb(203,24,29)"
           ],
           [
            0.875,
            "rgb(165,15,21)"
           ],
           [
            1,
            "rgb(103,0,13)"
           ]
          ]
         },
         "name": "Total de Ventas por Ciudad Anual",
         "text": [
          14863,
          9890,
          19901,
          14797,
          29564,
          24847,
          12449,
          44662,
          14713
         ],
         "textposition": "auto",
         "type": "bar",
         "x": [
          "Atlanta",
          "Austin",
          "Boston",
          "Dallas",
          "Los Angeles",
          "New York City",
          "Portland",
          "San Francisco",
          "Seattle"
         ],
         "y": [
          14863,
          9890,
          19901,
          14797,
          29564,
          24847,
          12449,
          44662,
          14713
         ]
        }
       ],
       "layout": {
        "template": {
         "data": {
          "bar": [
           {
            "error_x": {
             "color": "#2a3f5f"
            },
            "error_y": {
             "color": "#2a3f5f"
            },
            "marker": {
             "line": {
              "color": "#E5ECF6",
              "width": 0.5
             },
             "pattern": {
              "fillmode": "overlay",
              "size": 10,
              "solidity": 0.2
             }
            },
            "type": "bar"
           }
          ],
          "barpolar": [
           {
            "marker": {
             "line": {
              "color": "#E5ECF6",
              "width": 0.5
             },
             "pattern": {
              "fillmode": "overlay",
              "size": 10,
              "solidity": 0.2
             }
            },
            "type": "barpolar"
           }
          ],
          "carpet": [
           {
            "aaxis": {
             "endlinecolor": "#2a3f5f",
             "gridcolor": "white",
             "linecolor": "white",
             "minorgridcolor": "white",
             "startlinecolor": "#2a3f5f"
            },
            "baxis": {
             "endlinecolor": "#2a3f5f",
             "gridcolor": "white",
             "linecolor": "white",
             "minorgridcolor": "white",
             "startlinecolor": "#2a3f5f"
            },
            "type": "carpet"
           }
          ],
          "choropleth": [
           {
            "colorbar": {
             "outlinewidth": 0,
             "ticks": ""
            },
            "type": "choropleth"
           }
          ],
          "contour": [
           {
            "colorbar": {
             "outlinewidth": 0,
             "ticks": ""
            },
            "colorscale": [
             [
              0,
              "#0d0887"
             ],
             [
              0.1111111111111111,
              "#46039f"
             ],
             [
              0.2222222222222222,
              "#7201a8"
             ],
             [
              0.3333333333333333,
              "#9c179e"
             ],
             [
              0.4444444444444444,
              "#bd3786"
             ],
             [
              0.5555555555555556,
              "#d8576b"
             ],
             [
              0.6666666666666666,
              "#ed7953"
             ],
             [
              0.7777777777777778,
              "#fb9f3a"
             ],
             [
              0.8888888888888888,
              "#fdca26"
             ],
             [
              1,
              "#f0f921"
             ]
            ],
            "type": "contour"
           }
          ],
          "contourcarpet": [
           {
            "colorbar": {
             "outlinewidth": 0,
             "ticks": ""
            },
            "type": "contourcarpet"
           }
          ],
          "heatmap": [
           {
            "colorbar": {
             "outlinewidth": 0,
             "ticks": ""
            },
            "colorscale": [
             [
              0,
              "#0d0887"
             ],
             [
              0.1111111111111111,
              "#46039f"
             ],
             [
              0.2222222222222222,
              "#7201a8"
             ],
             [
              0.3333333333333333,
              "#9c179e"
             ],
             [
              0.4444444444444444,
              "#bd3786"
             ],
             [
              0.5555555555555556,
              "#d8576b"
             ],
             [
              0.6666666666666666,
              "#ed7953"
             ],
             [
              0.7777777777777778,
              "#fb9f3a"
             ],
             [
              0.8888888888888888,
              "#fdca26"
             ],
             [
              1,
              "#f0f921"
             ]
            ],
            "type": "heatmap"
           }
          ],
          "heatmapgl": [
           {
            "colorbar": {
             "outlinewidth": 0,
             "ticks": ""
            },
            "colorscale": [
             [
              0,
              "#0d0887"
             ],
             [
              0.1111111111111111,
              "#46039f"
             ],
             [
              0.2222222222222222,
              "#7201a8"
             ],
             [
              0.3333333333333333,
              "#9c179e"
             ],
             [
              0.4444444444444444,
              "#bd3786"
             ],
             [
              0.5555555555555556,
              "#d8576b"
             ],
             [
              0.6666666666666666,
              "#ed7953"
             ],
             [
              0.7777777777777778,
              "#fb9f3a"
             ],
             [
              0.8888888888888888,
              "#fdca26"
             ],
             [
              1,
              "#f0f921"
             ]
            ],
            "type": "heatmapgl"
           }
          ],
          "histogram": [
           {
            "marker": {
             "pattern": {
              "fillmode": "overlay",
              "size": 10,
              "solidity": 0.2
             }
            },
            "type": "histogram"
           }
          ],
          "histogram2d": [
           {
            "colorbar": {
             "outlinewidth": 0,
             "ticks": ""
            },
            "colorscale": [
             [
              0,
              "#0d0887"
             ],
             [
              0.1111111111111111,
              "#46039f"
             ],
             [
              0.2222222222222222,
              "#7201a8"
             ],
             [
              0.3333333333333333,
              "#9c179e"
             ],
             [
              0.4444444444444444,
              "#bd3786"
             ],
             [
              0.5555555555555556,
              "#d8576b"
             ],
             [
              0.6666666666666666,
              "#ed7953"
             ],
             [
              0.7777777777777778,
              "#fb9f3a"
             ],
             [
              0.8888888888888888,
              "#fdca26"
             ],
             [
              1,
              "#f0f921"
             ]
            ],
            "type": "histogram2d"
           }
          ],
          "histogram2dcontour": [
           {
            "colorbar": {
             "outlinewidth": 0,
             "ticks": ""
            },
            "colorscale": [
             [
              0,
              "#0d0887"
             ],
             [
              0.1111111111111111,
              "#46039f"
             ],
             [
              0.2222222222222222,
              "#7201a8"
             ],
             [
              0.3333333333333333,
              "#9c179e"
             ],
             [
              0.4444444444444444,
              "#bd3786"
             ],
             [
              0.5555555555555556,
              "#d8576b"
             ],
             [
              0.6666666666666666,
              "#ed7953"
             ],
             [
              0.7777777777777778,
              "#fb9f3a"
             ],
             [
              0.8888888888888888,
              "#fdca26"
             ],
             [
              1,
              "#f0f921"
             ]
            ],
            "type": "histogram2dcontour"
           }
          ],
          "mesh3d": [
           {
            "colorbar": {
             "outlinewidth": 0,
             "ticks": ""
            },
            "type": "mesh3d"
           }
          ],
          "parcoords": [
           {
            "line": {
             "colorbar": {
              "outlinewidth": 0,
              "ticks": ""
             }
            },
            "type": "parcoords"
           }
          ],
          "pie": [
           {
            "automargin": true,
            "type": "pie"
           }
          ],
          "scatter": [
           {
            "fillpattern": {
             "fillmode": "overlay",
             "size": 10,
             "solidity": 0.2
            },
            "type": "scatter"
           }
          ],
          "scatter3d": [
           {
            "line": {
             "colorbar": {
              "outlinewidth": 0,
              "ticks": ""
             }
            },
            "marker": {
             "colorbar": {
              "outlinewidth": 0,
              "ticks": ""
             }
            },
            "type": "scatter3d"
           }
          ],
          "scattercarpet": [
           {
            "marker": {
             "colorbar": {
              "outlinewidth": 0,
              "ticks": ""
             }
            },
            "type": "scattercarpet"
           }
          ],
          "scattergeo": [
           {
            "marker": {
             "colorbar": {
              "outlinewidth": 0,
              "ticks": ""
             }
            },
            "type": "scattergeo"
           }
          ],
          "scattergl": [
           {
            "marker": {
             "colorbar": {
              "outlinewidth": 0,
              "ticks": ""
             }
            },
            "type": "scattergl"
           }
          ],
          "scattermapbox": [
           {
            "marker": {
             "colorbar": {
              "outlinewidth": 0,
              "ticks": ""
             }
            },
            "type": "scattermapbox"
           }
          ],
          "scatterpolar": [
           {
            "marker": {
             "colorbar": {
              "outlinewidth": 0,
              "ticks": ""
             }
            },
            "type": "scatterpolar"
           }
          ],
          "scatterpolargl": [
           {
            "marker": {
             "colorbar": {
              "outlinewidth": 0,
              "ticks": ""
             }
            },
            "type": "scatterpolargl"
           }
          ],
          "scatterternary": [
           {
            "marker": {
             "colorbar": {
              "outlinewidth": 0,
              "ticks": ""
             }
            },
            "type": "scatterternary"
           }
          ],
          "surface": [
           {
            "colorbar": {
             "outlinewidth": 0,
             "ticks": ""
            },
            "colorscale": [
             [
              0,
              "#0d0887"
             ],
             [
              0.1111111111111111,
              "#46039f"
             ],
             [
              0.2222222222222222,
              "#7201a8"
             ],
             [
              0.3333333333333333,
              "#9c179e"
             ],
             [
              0.4444444444444444,
              "#bd3786"
             ],
             [
              0.5555555555555556,
              "#d8576b"
             ],
             [
              0.6666666666666666,
              "#ed7953"
             ],
             [
              0.7777777777777778,
              "#fb9f3a"
             ],
             [
              0.8888888888888888,
              "#fdca26"
             ],
             [
              1,
              "#f0f921"
             ]
            ],
            "type": "surface"
           }
          ],
          "table": [
           {
            "cells": {
             "fill": {
              "color": "#EBF0F8"
             },
             "line": {
              "color": "white"
             }
            },
            "header": {
             "fill": {
              "color": "#C8D4E3"
             },
             "line": {
              "color": "white"
             }
            },
            "type": "table"
           }
          ]
         },
         "layout": {
          "annotationdefaults": {
           "arrowcolor": "#2a3f5f",
           "arrowhead": 0,
           "arrowwidth": 1
          },
          "autotypenumbers": "strict",
          "coloraxis": {
           "colorbar": {
            "outlinewidth": 0,
            "ticks": ""
           }
          },
          "colorscale": {
           "diverging": [
            [
             0,
             "#8e0152"
            ],
            [
             0.1,
             "#c51b7d"
            ],
            [
             0.2,
             "#de77ae"
            ],
            [
             0.3,
             "#f1b6da"
            ],
            [
             0.4,
             "#fde0ef"
            ],
            [
             0.5,
             "#f7f7f7"
            ],
            [
             0.6,
             "#e6f5d0"
            ],
            [
             0.7,
             "#b8e186"
            ],
            [
             0.8,
             "#7fbc41"
            ],
            [
             0.9,
             "#4d9221"
            ],
            [
             1,
             "#276419"
            ]
           ],
           "sequential": [
            [
             0,
             "#0d0887"
            ],
            [
             0.1111111111111111,
             "#46039f"
            ],
            [
             0.2222222222222222,
             "#7201a8"
            ],
            [
             0.3333333333333333,
             "#9c179e"
            ],
            [
             0.4444444444444444,
             "#bd3786"
            ],
            [
             0.5555555555555556,
             "#d8576b"
            ],
            [
             0.6666666666666666,
             "#ed7953"
            ],
            [
             0.7777777777777778,
             "#fb9f3a"
            ],
            [
             0.8888888888888888,
             "#fdca26"
            ],
            [
             1,
             "#f0f921"
            ]
           ],
           "sequentialminus": [
            [
             0,
             "#0d0887"
            ],
            [
             0.1111111111111111,
             "#46039f"
            ],
            [
             0.2222222222222222,
             "#7201a8"
            ],
            [
             0.3333333333333333,
             "#9c179e"
            ],
            [
             0.4444444444444444,
             "#bd3786"
            ],
            [
             0.5555555555555556,
             "#d8576b"
            ],
            [
             0.6666666666666666,
             "#ed7953"
            ],
            [
             0.7777777777777778,
             "#fb9f3a"
            ],
            [
             0.8888888888888888,
             "#fdca26"
            ],
            [
             1,
             "#f0f921"
            ]
           ]
          },
          "colorway": [
           "#636efa",
           "#EF553B",
           "#00cc96",
           "#ab63fa",
           "#FFA15A",
           "#19d3f3",
           "#FF6692",
           "#B6E880",
           "#FF97FF",
           "#FECB52"
          ],
          "font": {
           "color": "#2a3f5f"
          },
          "geo": {
           "bgcolor": "white",
           "lakecolor": "white",
           "landcolor": "#E5ECF6",
           "showlakes": true,
           "showland": true,
           "subunitcolor": "white"
          },
          "hoverlabel": {
           "align": "left"
          },
          "hovermode": "closest",
          "mapbox": {
           "style": "light"
          },
          "paper_bgcolor": "white",
          "plot_bgcolor": "#E5ECF6",
          "polar": {
           "angularaxis": {
            "gridcolor": "white",
            "linecolor": "white",
            "ticks": ""
           },
           "bgcolor": "#E5ECF6",
           "radialaxis": {
            "gridcolor": "white",
            "linecolor": "white",
            "ticks": ""
           }
          },
          "scene": {
           "xaxis": {
            "backgroundcolor": "#E5ECF6",
            "gridcolor": "white",
            "gridwidth": 2,
            "linecolor": "white",
            "showbackground": true,
            "ticks": "",
            "zerolinecolor": "white"
           },
           "yaxis": {
            "backgroundcolor": "#E5ECF6",
            "gridcolor": "white",
            "gridwidth": 2,
            "linecolor": "white",
            "showbackground": true,
            "ticks": "",
            "zerolinecolor": "white"
           },
           "zaxis": {
            "backgroundcolor": "#E5ECF6",
            "gridcolor": "white",
            "gridwidth": 2,
            "linecolor": "white",
            "showbackground": true,
            "ticks": "",
            "zerolinecolor": "white"
           }
          },
          "shapedefaults": {
           "line": {
            "color": "#2a3f5f"
           }
          },
          "ternary": {
           "aaxis": {
            "gridcolor": "white",
            "linecolor": "white",
            "ticks": ""
           },
           "baxis": {
            "gridcolor": "white",
            "linecolor": "white",
            "ticks": ""
           },
           "bgcolor": "#E5ECF6",
           "caxis": {
            "gridcolor": "white",
            "linecolor": "white",
            "ticks": ""
           }
          },
          "title": {
           "x": 0.05
          },
          "xaxis": {
           "automargin": true,
           "gridcolor": "white",
           "linecolor": "white",
           "ticks": "",
           "title": {
            "standoff": 15
           },
           "zerolinecolor": "white",
           "zerolinewidth": 2
          },
          "yaxis": {
           "automargin": true,
           "gridcolor": "white",
           "linecolor": "white",
           "ticks": "",
           "title": {
            "standoff": 15
           },
           "zerolinecolor": "white",
           "zerolinewidth": 2
          }
         }
        }
       }
      }
     },
     "metadata": {},
     "output_type": "display_data"
    }
   ],
   "source": [
    "# Se crea el objeto de grafico para representar el total de ventas anual por ciudad\n",
    "fig = go.Figure()\n",
    "\n",
    "# Se agrega a la figura un grafico de linea con las ciudades y el total de ventas por ciudad\n",
    "fig.add_trace(go.Bar(\n",
    "    x = ciudades,\n",
    "    y = totales_ventas_anual_ciudad,\n",
    "    name='Total de Ventas por Ciudad Anual',\n",
    "    marker=dict(color=totales_ventas_anual_ciudad, colorscale='Reds',colorbar=dict(title='Total de Ventas', x=1.0, thickness=15)),\n",
    "    text=totales_ventas_anual_ciudad,\n",
    "    textposition='auto',\n",
    "    )\n",
    ")\n"
   ]
  },
  {
   "cell_type": "code",
   "execution_count": 58,
   "metadata": {},
   "outputs": [
    {
     "data": {
      "application/vnd.plotly.v1+json": {
       "config": {
        "plotlyServerURL": "https://plot.ly"
       },
       "data": [
        {
         "marker": {
          "color": [
           14863,
           9890,
           19901,
           14797,
           29564,
           24847,
           12449,
           44662,
           14713
          ],
          "colorbar": {
           "thickness": 15,
           "title": {
            "text": "Total de Ventas"
           },
           "x": 1
          },
          "colorscale": [
           [
            0,
            "rgb(255,245,240)"
           ],
           [
            0.125,
            "rgb(254,224,210)"
           ],
           [
            0.25,
            "rgb(252,187,161)"
           ],
           [
            0.375,
            "rgb(252,146,114)"
           ],
           [
            0.5,
            "rgb(251,106,74)"
           ],
           [
            0.625,
            "rgb(239,59,44)"
           ],
           [
            0.75,
            "rgb(203,24,29)"
           ],
           [
            0.875,
            "rgb(165,15,21)"
           ],
           [
            1,
            "rgb(103,0,13)"
           ]
          ]
         },
         "name": "Total de Ventas por Ciudad Anual",
         "text": [
          14863,
          9890,
          19901,
          14797,
          29564,
          24847,
          12449,
          44662,
          14713
         ],
         "textposition": "auto",
         "type": "bar",
         "x": [
          "Atlanta",
          "Austin",
          "Boston",
          "Dallas",
          "Los Angeles",
          "New York City",
          "Portland",
          "San Francisco",
          "Seattle"
         ],
         "y": [
          14863,
          9890,
          19901,
          14797,
          29564,
          24847,
          12449,
          44662,
          14713
         ]
        }
       ],
       "layout": {
        "template": {
         "data": {
          "bar": [
           {
            "error_x": {
             "color": "#2a3f5f"
            },
            "error_y": {
             "color": "#2a3f5f"
            },
            "marker": {
             "line": {
              "color": "#E5ECF6",
              "width": 0.5
             },
             "pattern": {
              "fillmode": "overlay",
              "size": 10,
              "solidity": 0.2
             }
            },
            "type": "bar"
           }
          ],
          "barpolar": [
           {
            "marker": {
             "line": {
              "color": "#E5ECF6",
              "width": 0.5
             },
             "pattern": {
              "fillmode": "overlay",
              "size": 10,
              "solidity": 0.2
             }
            },
            "type": "barpolar"
           }
          ],
          "carpet": [
           {
            "aaxis": {
             "endlinecolor": "#2a3f5f",
             "gridcolor": "white",
             "linecolor": "white",
             "minorgridcolor": "white",
             "startlinecolor": "#2a3f5f"
            },
            "baxis": {
             "endlinecolor": "#2a3f5f",
             "gridcolor": "white",
             "linecolor": "white",
             "minorgridcolor": "white",
             "startlinecolor": "#2a3f5f"
            },
            "type": "carpet"
           }
          ],
          "choropleth": [
           {
            "colorbar": {
             "outlinewidth": 0,
             "ticks": ""
            },
            "type": "choropleth"
           }
          ],
          "contour": [
           {
            "colorbar": {
             "outlinewidth": 0,
             "ticks": ""
            },
            "colorscale": [
             [
              0,
              "#0d0887"
             ],
             [
              0.1111111111111111,
              "#46039f"
             ],
             [
              0.2222222222222222,
              "#7201a8"
             ],
             [
              0.3333333333333333,
              "#9c179e"
             ],
             [
              0.4444444444444444,
              "#bd3786"
             ],
             [
              0.5555555555555556,
              "#d8576b"
             ],
             [
              0.6666666666666666,
              "#ed7953"
             ],
             [
              0.7777777777777778,
              "#fb9f3a"
             ],
             [
              0.8888888888888888,
              "#fdca26"
             ],
             [
              1,
              "#f0f921"
             ]
            ],
            "type": "contour"
           }
          ],
          "contourcarpet": [
           {
            "colorbar": {
             "outlinewidth": 0,
             "ticks": ""
            },
            "type": "contourcarpet"
           }
          ],
          "heatmap": [
           {
            "colorbar": {
             "outlinewidth": 0,
             "ticks": ""
            },
            "colorscale": [
             [
              0,
              "#0d0887"
             ],
             [
              0.1111111111111111,
              "#46039f"
             ],
             [
              0.2222222222222222,
              "#7201a8"
             ],
             [
              0.3333333333333333,
              "#9c179e"
             ],
             [
              0.4444444444444444,
              "#bd3786"
             ],
             [
              0.5555555555555556,
              "#d8576b"
             ],
             [
              0.6666666666666666,
              "#ed7953"
             ],
             [
              0.7777777777777778,
              "#fb9f3a"
             ],
             [
              0.8888888888888888,
              "#fdca26"
             ],
             [
              1,
              "#f0f921"
             ]
            ],
            "type": "heatmap"
           }
          ],
          "heatmapgl": [
           {
            "colorbar": {
             "outlinewidth": 0,
             "ticks": ""
            },
            "colorscale": [
             [
              0,
              "#0d0887"
             ],
             [
              0.1111111111111111,
              "#46039f"
             ],
             [
              0.2222222222222222,
              "#7201a8"
             ],
             [
              0.3333333333333333,
              "#9c179e"
             ],
             [
              0.4444444444444444,
              "#bd3786"
             ],
             [
              0.5555555555555556,
              "#d8576b"
             ],
             [
              0.6666666666666666,
              "#ed7953"
             ],
             [
              0.7777777777777778,
              "#fb9f3a"
             ],
             [
              0.8888888888888888,
              "#fdca26"
             ],
             [
              1,
              "#f0f921"
             ]
            ],
            "type": "heatmapgl"
           }
          ],
          "histogram": [
           {
            "marker": {
             "pattern": {
              "fillmode": "overlay",
              "size": 10,
              "solidity": 0.2
             }
            },
            "type": "histogram"
           }
          ],
          "histogram2d": [
           {
            "colorbar": {
             "outlinewidth": 0,
             "ticks": ""
            },
            "colorscale": [
             [
              0,
              "#0d0887"
             ],
             [
              0.1111111111111111,
              "#46039f"
             ],
             [
              0.2222222222222222,
              "#7201a8"
             ],
             [
              0.3333333333333333,
              "#9c179e"
             ],
             [
              0.4444444444444444,
              "#bd3786"
             ],
             [
              0.5555555555555556,
              "#d8576b"
             ],
             [
              0.6666666666666666,
              "#ed7953"
             ],
             [
              0.7777777777777778,
              "#fb9f3a"
             ],
             [
              0.8888888888888888,
              "#fdca26"
             ],
             [
              1,
              "#f0f921"
             ]
            ],
            "type": "histogram2d"
           }
          ],
          "histogram2dcontour": [
           {
            "colorbar": {
             "outlinewidth": 0,
             "ticks": ""
            },
            "colorscale": [
             [
              0,
              "#0d0887"
             ],
             [
              0.1111111111111111,
              "#46039f"
             ],
             [
              0.2222222222222222,
              "#7201a8"
             ],
             [
              0.3333333333333333,
              "#9c179e"
             ],
             [
              0.4444444444444444,
              "#bd3786"
             ],
             [
              0.5555555555555556,
              "#d8576b"
             ],
             [
              0.6666666666666666,
              "#ed7953"
             ],
             [
              0.7777777777777778,
              "#fb9f3a"
             ],
             [
              0.8888888888888888,
              "#fdca26"
             ],
             [
              1,
              "#f0f921"
             ]
            ],
            "type": "histogram2dcontour"
           }
          ],
          "mesh3d": [
           {
            "colorbar": {
             "outlinewidth": 0,
             "ticks": ""
            },
            "type": "mesh3d"
           }
          ],
          "parcoords": [
           {
            "line": {
             "colorbar": {
              "outlinewidth": 0,
              "ticks": ""
             }
            },
            "type": "parcoords"
           }
          ],
          "pie": [
           {
            "automargin": true,
            "type": "pie"
           }
          ],
          "scatter": [
           {
            "fillpattern": {
             "fillmode": "overlay",
             "size": 10,
             "solidity": 0.2
            },
            "type": "scatter"
           }
          ],
          "scatter3d": [
           {
            "line": {
             "colorbar": {
              "outlinewidth": 0,
              "ticks": ""
             }
            },
            "marker": {
             "colorbar": {
              "outlinewidth": 0,
              "ticks": ""
             }
            },
            "type": "scatter3d"
           }
          ],
          "scattercarpet": [
           {
            "marker": {
             "colorbar": {
              "outlinewidth": 0,
              "ticks": ""
             }
            },
            "type": "scattercarpet"
           }
          ],
          "scattergeo": [
           {
            "marker": {
             "colorbar": {
              "outlinewidth": 0,
              "ticks": ""
             }
            },
            "type": "scattergeo"
           }
          ],
          "scattergl": [
           {
            "marker": {
             "colorbar": {
              "outlinewidth": 0,
              "ticks": ""
             }
            },
            "type": "scattergl"
           }
          ],
          "scattermapbox": [
           {
            "marker": {
             "colorbar": {
              "outlinewidth": 0,
              "ticks": ""
             }
            },
            "type": "scattermapbox"
           }
          ],
          "scatterpolar": [
           {
            "marker": {
             "colorbar": {
              "outlinewidth": 0,
              "ticks": ""
             }
            },
            "type": "scatterpolar"
           }
          ],
          "scatterpolargl": [
           {
            "marker": {
             "colorbar": {
              "outlinewidth": 0,
              "ticks": ""
             }
            },
            "type": "scatterpolargl"
           }
          ],
          "scatterternary": [
           {
            "marker": {
             "colorbar": {
              "outlinewidth": 0,
              "ticks": ""
             }
            },
            "type": "scatterternary"
           }
          ],
          "surface": [
           {
            "colorbar": {
             "outlinewidth": 0,
             "ticks": ""
            },
            "colorscale": [
             [
              0,
              "#0d0887"
             ],
             [
              0.1111111111111111,
              "#46039f"
             ],
             [
              0.2222222222222222,
              "#7201a8"
             ],
             [
              0.3333333333333333,
              "#9c179e"
             ],
             [
              0.4444444444444444,
              "#bd3786"
             ],
             [
              0.5555555555555556,
              "#d8576b"
             ],
             [
              0.6666666666666666,
              "#ed7953"
             ],
             [
              0.7777777777777778,
              "#fb9f3a"
             ],
             [
              0.8888888888888888,
              "#fdca26"
             ],
             [
              1,
              "#f0f921"
             ]
            ],
            "type": "surface"
           }
          ],
          "table": [
           {
            "cells": {
             "fill": {
              "color": "#EBF0F8"
             },
             "line": {
              "color": "white"
             }
            },
            "header": {
             "fill": {
              "color": "#C8D4E3"
             },
             "line": {
              "color": "white"
             }
            },
            "type": "table"
           }
          ]
         },
         "layout": {
          "annotationdefaults": {
           "arrowcolor": "#2a3f5f",
           "arrowhead": 0,
           "arrowwidth": 1
          },
          "autotypenumbers": "strict",
          "coloraxis": {
           "colorbar": {
            "outlinewidth": 0,
            "ticks": ""
           }
          },
          "colorscale": {
           "diverging": [
            [
             0,
             "#8e0152"
            ],
            [
             0.1,
             "#c51b7d"
            ],
            [
             0.2,
             "#de77ae"
            ],
            [
             0.3,
             "#f1b6da"
            ],
            [
             0.4,
             "#fde0ef"
            ],
            [
             0.5,
             "#f7f7f7"
            ],
            [
             0.6,
             "#e6f5d0"
            ],
            [
             0.7,
             "#b8e186"
            ],
            [
             0.8,
             "#7fbc41"
            ],
            [
             0.9,
             "#4d9221"
            ],
            [
             1,
             "#276419"
            ]
           ],
           "sequential": [
            [
             0,
             "#0d0887"
            ],
            [
             0.1111111111111111,
             "#46039f"
            ],
            [
             0.2222222222222222,
             "#7201a8"
            ],
            [
             0.3333333333333333,
             "#9c179e"
            ],
            [
             0.4444444444444444,
             "#bd3786"
            ],
            [
             0.5555555555555556,
             "#d8576b"
            ],
            [
             0.6666666666666666,
             "#ed7953"
            ],
            [
             0.7777777777777778,
             "#fb9f3a"
            ],
            [
             0.8888888888888888,
             "#fdca26"
            ],
            [
             1,
             "#f0f921"
            ]
           ],
           "sequentialminus": [
            [
             0,
             "#0d0887"
            ],
            [
             0.1111111111111111,
             "#46039f"
            ],
            [
             0.2222222222222222,
             "#7201a8"
            ],
            [
             0.3333333333333333,
             "#9c179e"
            ],
            [
             0.4444444444444444,
             "#bd3786"
            ],
            [
             0.5555555555555556,
             "#d8576b"
            ],
            [
             0.6666666666666666,
             "#ed7953"
            ],
            [
             0.7777777777777778,
             "#fb9f3a"
            ],
            [
             0.8888888888888888,
             "#fdca26"
            ],
            [
             1,
             "#f0f921"
            ]
           ]
          },
          "colorway": [
           "#636efa",
           "#EF553B",
           "#00cc96",
           "#ab63fa",
           "#FFA15A",
           "#19d3f3",
           "#FF6692",
           "#B6E880",
           "#FF97FF",
           "#FECB52"
          ],
          "font": {
           "color": "#2a3f5f"
          },
          "geo": {
           "bgcolor": "white",
           "lakecolor": "white",
           "landcolor": "#E5ECF6",
           "showlakes": true,
           "showland": true,
           "subunitcolor": "white"
          },
          "hoverlabel": {
           "align": "left"
          },
          "hovermode": "closest",
          "mapbox": {
           "style": "light"
          },
          "paper_bgcolor": "white",
          "plot_bgcolor": "#E5ECF6",
          "polar": {
           "angularaxis": {
            "gridcolor": "white",
            "linecolor": "white",
            "ticks": ""
           },
           "bgcolor": "#E5ECF6",
           "radialaxis": {
            "gridcolor": "white",
            "linecolor": "white",
            "ticks": ""
           }
          },
          "scene": {
           "xaxis": {
            "backgroundcolor": "#E5ECF6",
            "gridcolor": "white",
            "gridwidth": 2,
            "linecolor": "white",
            "showbackground": true,
            "ticks": "",
            "zerolinecolor": "white"
           },
           "yaxis": {
            "backgroundcolor": "#E5ECF6",
            "gridcolor": "white",
            "gridwidth": 2,
            "linecolor": "white",
            "showbackground": true,
            "ticks": "",
            "zerolinecolor": "white"
           },
           "zaxis": {
            "backgroundcolor": "#E5ECF6",
            "gridcolor": "white",
            "gridwidth": 2,
            "linecolor": "white",
            "showbackground": true,
            "ticks": "",
            "zerolinecolor": "white"
           }
          },
          "shapedefaults": {
           "line": {
            "color": "#2a3f5f"
           }
          },
          "ternary": {
           "aaxis": {
            "gridcolor": "white",
            "linecolor": "white",
            "ticks": ""
           },
           "baxis": {
            "gridcolor": "white",
            "linecolor": "white",
            "ticks": ""
           },
           "bgcolor": "#E5ECF6",
           "caxis": {
            "gridcolor": "white",
            "linecolor": "white",
            "ticks": ""
           }
          },
          "title": {
           "x": 0.05
          },
          "xaxis": {
           "automargin": true,
           "gridcolor": "white",
           "linecolor": "white",
           "ticks": "",
           "title": {
            "standoff": 15
           },
           "zerolinecolor": "white",
           "zerolinewidth": 2
          },
          "yaxis": {
           "automargin": true,
           "gridcolor": "white",
           "linecolor": "white",
           "ticks": "",
           "title": {
            "standoff": 15
           },
           "zerolinecolor": "white",
           "zerolinewidth": 2
          }
         }
        },
        "title": {
         "text": "Total de Ventas Anual por Ciudad"
        },
        "xaxis": {
         "title": {
          "text": "Ciudad"
         }
        },
        "yaxis": {
         "title": {
          "text": "Total de Ventas"
         }
        }
       }
      }
     },
     "metadata": {},
     "output_type": "display_data"
    }
   ],
   "source": [
    "fig.update_layout(\n",
    "    title='Total de Ventas Anual por Ciudad',\n",
    "    xaxis=dict(title='Ciudad'),\n",
    "    yaxis=dict(title='Total de Ventas')\n",
    ")"
   ]
  },
  {
   "cell_type": "code",
   "execution_count": 59,
   "metadata": {},
   "outputs": [
    {
     "data": {
      "text/plain": [
       "Ciudad\n",
       "San Francisco    44662\n",
       "Los Angeles      29564\n",
       "New York City    24847\n",
       "Name: total ventas, dtype: int64"
      ]
     },
     "execution_count": 59,
     "metadata": {},
     "output_type": "execute_result"
    }
   ],
   "source": [
    "#Se guardan las 3 ciudades con mayor cantidad de ventas\n",
    "top_ciudad_ventas_anual = totales_ventas_anual_ciudad.sort_values(ascending=False).head(3)\n",
    "top_ciudad_ventas_anual"
   ]
  },
  {
   "cell_type": "code",
   "execution_count": 60,
   "metadata": {},
   "outputs": [
    {
     "name": "stdout",
     "output_type": "stream",
     "text": [
      "Las ciudades con mayores ventas anuales son: \n",
      "San Francisco con 44662 ventas.\n",
      "Los Angeles con 29564 ventas.\n",
      "New York City con 24847 ventas.\n"
     ]
    }
   ],
   "source": [
    "print('Las ciudades con mayores ventas anuales son: ')\n",
    "for i in range(3):\n",
    "    print(top_ciudad_ventas_anual.index[i], 'con', top_ciudad_ventas_anual.iloc[i], 'ventas.')\n"
   ]
  },
  {
   "cell_type": "markdown",
   "metadata": {},
   "source": [
    "### ● ¿Cómo se comparan las ventas en diferentes estados o regiones?\n"
   ]
  },
  {
   "cell_type": "code",
   "execution_count": 61,
   "metadata": {},
   "outputs": [],
   "source": [
    "# Se crea una lista para almacenar el total de ventas por estado por mes y el total anual de ventas por estado\n",
    "total_ventas_estado_mes = []\n",
    "total_ventas_anual_estado = []\n",
    "\n",
    "\n",
    "# Se recorre el diccionario de dataframes de ventas por mes\n",
    "for mes in meses:\n",
    "    # Se obtiene el dataframe de ventas del mes\n",
    "    dataframe_mes = dataframes_meses[mes]\n",
    "    \n",
    "    # Se obtiene el total de ventas por estado del mes\n",
    "    total_ventas_estado_mes = dataframe_mes.groupby('Estado')['Cantidad Pedida'].count()\n",
    "    \n",
    "    # Se agrega el total de ventas por estado al anual\n",
    "    total_ventas_anual_estado.append(total_ventas_estado_mes)\n",
    "    "
   ]
  },
  {
   "cell_type": "code",
   "execution_count": 62,
   "metadata": {},
   "outputs": [
    {
     "data": {
      "text/plain": [
       "[Estado\n",
       " CA    3880\n",
       " GA     786\n",
       " MA    1045\n",
       " ME     123\n",
       " NY    1300\n",
       " OR     500\n",
       " TX    1311\n",
       " WA     726\n",
       " Name: Cantidad Pedida, dtype: int64,\n",
       " Estado\n",
       " CA    4807\n",
       " GA     935\n",
       " MA    1251\n",
       " ME     177\n",
       " NY    1611\n",
       " OR     658\n",
       " TX    1602\n",
       " WA     927\n",
       " Name: Cantidad Pedida, dtype: int64,\n",
       " Estado\n",
       " CA    6043\n",
       " GA    1244\n",
       " MA    1648\n",
       " ME     187\n",
       " NY    1978\n",
       " OR     794\n",
       " TX    2039\n",
       " WA    1196\n",
       " Name: Cantidad Pedida, dtype: int64,\n",
       " Estado\n",
       " CA    7455\n",
       " GA    1470\n",
       " MA    1915\n",
       " ME     243\n",
       " NY    2429\n",
       " OR     994\n",
       " TX    2321\n",
       " WA    1440\n",
       " Name: Cantidad Pedida, dtype: int64,\n",
       " Estado\n",
       " CA    6485\n",
       " GA    1330\n",
       " MA    1799\n",
       " ME     222\n",
       " NY    2266\n",
       " OR     944\n",
       " TX    2255\n",
       " WA    1239\n",
       " Name: Cantidad Pedida, dtype: int64,\n",
       " Estado\n",
       " CA    5501\n",
       " GA    1103\n",
       " MA    1386\n",
       " ME     195\n",
       " NY    1773\n",
       " OR     744\n",
       " TX    1780\n",
       " WA    1055\n",
       " Name: Cantidad Pedida, dtype: int64,\n",
       " Estado\n",
       " CA    5754\n",
       " GA    1144\n",
       " MA    1550\n",
       " ME     199\n",
       " NY    1928\n",
       " OR     720\n",
       " TX    1860\n",
       " WA    1118\n",
       " Name: Cantidad Pedida, dtype: int64,\n",
       " Estado\n",
       " CA    4691\n",
       " GA     941\n",
       " MA    1244\n",
       " ME     165\n",
       " NY    1623\n",
       " OR     655\n",
       " TX    1615\n",
       " WA    1005\n",
       " Name: Cantidad Pedida, dtype: int64,\n",
       " Estado\n",
       " CA    4610\n",
       " GA     914\n",
       " MA    1280\n",
       " ME     145\n",
       " NY    1534\n",
       " OR     593\n",
       " TX    1598\n",
       " WA     937\n",
       " Name: Cantidad Pedida, dtype: int64,\n",
       " Estado\n",
       " CA    8045\n",
       " GA    1602\n",
       " MA    2173\n",
       " ME     250\n",
       " NY    2647\n",
       " OR    1134\n",
       " TX    2723\n",
       " WA    1677\n",
       " Name: Cantidad Pedida, dtype: int64,\n",
       " Estado\n",
       " CA    7062\n",
       " GA    1408\n",
       " MA    1915\n",
       " ME     230\n",
       " NY    2353\n",
       " OR     932\n",
       " TX    2232\n",
       " WA    1419\n",
       " Name: Cantidad Pedida, dtype: int64,\n",
       " Estado\n",
       " CA    9893\n",
       " GA    1986\n",
       " MA    2695\n",
       " ME     315\n",
       " NY    3405\n",
       " OR    1330\n",
       " TX    3351\n",
       " WA    1974\n",
       " Name: Cantidad Pedida, dtype: int64]"
      ]
     },
     "execution_count": 62,
     "metadata": {},
     "output_type": "execute_result"
    }
   ],
   "source": [
    "total_ventas_anual_estado"
   ]
  },
  {
   "cell_type": "code",
   "execution_count": 63,
   "metadata": {},
   "outputs": [
    {
     "data": {
      "text/html": [
       "<div>\n",
       "<style scoped>\n",
       "    .dataframe tbody tr th:only-of-type {\n",
       "        vertical-align: middle;\n",
       "    }\n",
       "\n",
       "    .dataframe tbody tr th {\n",
       "        vertical-align: top;\n",
       "    }\n",
       "\n",
       "    .dataframe thead th {\n",
       "        text-align: right;\n",
       "    }\n",
       "</style>\n",
       "<table border=\"1\" class=\"dataframe\">\n",
       "  <thead>\n",
       "    <tr style=\"text-align: right;\">\n",
       "      <th></th>\n",
       "      <th>Enero</th>\n",
       "      <th>Febrero</th>\n",
       "      <th>Marzo</th>\n",
       "      <th>Abril</th>\n",
       "      <th>Mayo</th>\n",
       "      <th>Junio</th>\n",
       "      <th>Julio</th>\n",
       "      <th>Agosto</th>\n",
       "      <th>Septiembre</th>\n",
       "      <th>Octubre</th>\n",
       "      <th>Noviembre</th>\n",
       "      <th>Diciembre</th>\n",
       "      <th>total ventas</th>\n",
       "    </tr>\n",
       "    <tr>\n",
       "      <th>Estado</th>\n",
       "      <th></th>\n",
       "      <th></th>\n",
       "      <th></th>\n",
       "      <th></th>\n",
       "      <th></th>\n",
       "      <th></th>\n",
       "      <th></th>\n",
       "      <th></th>\n",
       "      <th></th>\n",
       "      <th></th>\n",
       "      <th></th>\n",
       "      <th></th>\n",
       "      <th></th>\n",
       "    </tr>\n",
       "  </thead>\n",
       "  <tbody>\n",
       "    <tr>\n",
       "      <th>CA</th>\n",
       "      <td>3880</td>\n",
       "      <td>4807</td>\n",
       "      <td>6043</td>\n",
       "      <td>7455</td>\n",
       "      <td>6485</td>\n",
       "      <td>5501</td>\n",
       "      <td>5754</td>\n",
       "      <td>4691</td>\n",
       "      <td>4610</td>\n",
       "      <td>8045</td>\n",
       "      <td>7062</td>\n",
       "      <td>9893</td>\n",
       "      <td>74226</td>\n",
       "    </tr>\n",
       "    <tr>\n",
       "      <th>GA</th>\n",
       "      <td>786</td>\n",
       "      <td>935</td>\n",
       "      <td>1244</td>\n",
       "      <td>1470</td>\n",
       "      <td>1330</td>\n",
       "      <td>1103</td>\n",
       "      <td>1144</td>\n",
       "      <td>941</td>\n",
       "      <td>914</td>\n",
       "      <td>1602</td>\n",
       "      <td>1408</td>\n",
       "      <td>1986</td>\n",
       "      <td>14863</td>\n",
       "    </tr>\n",
       "    <tr>\n",
       "      <th>MA</th>\n",
       "      <td>1045</td>\n",
       "      <td>1251</td>\n",
       "      <td>1648</td>\n",
       "      <td>1915</td>\n",
       "      <td>1799</td>\n",
       "      <td>1386</td>\n",
       "      <td>1550</td>\n",
       "      <td>1244</td>\n",
       "      <td>1280</td>\n",
       "      <td>2173</td>\n",
       "      <td>1915</td>\n",
       "      <td>2695</td>\n",
       "      <td>19901</td>\n",
       "    </tr>\n",
       "    <tr>\n",
       "      <th>ME</th>\n",
       "      <td>123</td>\n",
       "      <td>177</td>\n",
       "      <td>187</td>\n",
       "      <td>243</td>\n",
       "      <td>222</td>\n",
       "      <td>195</td>\n",
       "      <td>199</td>\n",
       "      <td>165</td>\n",
       "      <td>145</td>\n",
       "      <td>250</td>\n",
       "      <td>230</td>\n",
       "      <td>315</td>\n",
       "      <td>2451</td>\n",
       "    </tr>\n",
       "    <tr>\n",
       "      <th>NY</th>\n",
       "      <td>1300</td>\n",
       "      <td>1611</td>\n",
       "      <td>1978</td>\n",
       "      <td>2429</td>\n",
       "      <td>2266</td>\n",
       "      <td>1773</td>\n",
       "      <td>1928</td>\n",
       "      <td>1623</td>\n",
       "      <td>1534</td>\n",
       "      <td>2647</td>\n",
       "      <td>2353</td>\n",
       "      <td>3405</td>\n",
       "      <td>24847</td>\n",
       "    </tr>\n",
       "    <tr>\n",
       "      <th>OR</th>\n",
       "      <td>500</td>\n",
       "      <td>658</td>\n",
       "      <td>794</td>\n",
       "      <td>994</td>\n",
       "      <td>944</td>\n",
       "      <td>744</td>\n",
       "      <td>720</td>\n",
       "      <td>655</td>\n",
       "      <td>593</td>\n",
       "      <td>1134</td>\n",
       "      <td>932</td>\n",
       "      <td>1330</td>\n",
       "      <td>9998</td>\n",
       "    </tr>\n",
       "    <tr>\n",
       "      <th>TX</th>\n",
       "      <td>1311</td>\n",
       "      <td>1602</td>\n",
       "      <td>2039</td>\n",
       "      <td>2321</td>\n",
       "      <td>2255</td>\n",
       "      <td>1780</td>\n",
       "      <td>1860</td>\n",
       "      <td>1615</td>\n",
       "      <td>1598</td>\n",
       "      <td>2723</td>\n",
       "      <td>2232</td>\n",
       "      <td>3351</td>\n",
       "      <td>24687</td>\n",
       "    </tr>\n",
       "    <tr>\n",
       "      <th>WA</th>\n",
       "      <td>726</td>\n",
       "      <td>927</td>\n",
       "      <td>1196</td>\n",
       "      <td>1440</td>\n",
       "      <td>1239</td>\n",
       "      <td>1055</td>\n",
       "      <td>1118</td>\n",
       "      <td>1005</td>\n",
       "      <td>937</td>\n",
       "      <td>1677</td>\n",
       "      <td>1419</td>\n",
       "      <td>1974</td>\n",
       "      <td>14713</td>\n",
       "    </tr>\n",
       "  </tbody>\n",
       "</table>\n",
       "</div>"
      ],
      "text/plain": [
       "        Enero  Febrero  Marzo  Abril  Mayo  Junio  Julio  Agosto  Septiembre  \\\n",
       "Estado                                                                         \n",
       "CA       3880     4807   6043   7455  6485   5501   5754    4691        4610   \n",
       "GA        786      935   1244   1470  1330   1103   1144     941         914   \n",
       "MA       1045     1251   1648   1915  1799   1386   1550    1244        1280   \n",
       "ME        123      177    187    243   222    195    199     165         145   \n",
       "NY       1300     1611   1978   2429  2266   1773   1928    1623        1534   \n",
       "OR        500      658    794    994   944    744    720     655         593   \n",
       "TX       1311     1602   2039   2321  2255   1780   1860    1615        1598   \n",
       "WA        726      927   1196   1440  1239   1055   1118    1005         937   \n",
       "\n",
       "        Octubre  Noviembre  Diciembre  total ventas  \n",
       "Estado                                               \n",
       "CA         8045       7062       9893         74226  \n",
       "GA         1602       1408       1986         14863  \n",
       "MA         2173       1915       2695         19901  \n",
       "ME          250        230        315          2451  \n",
       "NY         2647       2353       3405         24847  \n",
       "OR         1134        932       1330          9998  \n",
       "TX         2723       2232       3351         24687  \n",
       "WA         1677       1419       1974         14713  "
      ]
     },
     "execution_count": 63,
     "metadata": {},
     "output_type": "execute_result"
    }
   ],
   "source": [
    "# Se pasa el arreglo de totales de ventas por estado a un dataframe\n",
    "df_total_ventas_anual_estado= pd.concat(total_ventas_anual_estado, axis=1)\n",
    "\n",
    "# Se asigna el nombre de las columnas\n",
    "df_total_ventas_anual_estado.columns = meses\n",
    "\n",
    "# Se calcula y se agrega la columna de la suma anual de ventas por estado \n",
    "df_total_ventas_anual_estado['total ventas'] = df_total_ventas_anual_estado.sum(axis=1)\n",
    "\n",
    "df_total_ventas_anual_estado"
   ]
  },
  {
   "cell_type": "code",
   "execution_count": 64,
   "metadata": {},
   "outputs": [
    {
     "data": {
      "text/plain": [
       "Index(['CA', 'GA', 'MA', 'ME', 'NY', 'OR', 'TX', 'WA'], dtype='object', name='Estado')"
      ]
     },
     "execution_count": 64,
     "metadata": {},
     "output_type": "execute_result"
    }
   ],
   "source": [
    "# Se extra los estados def dataframe de ventas anual por estado\n",
    "estados = df_total_ventas_anual_estado.index\n",
    "estados"
   ]
  },
  {
   "cell_type": "code",
   "execution_count": 65,
   "metadata": {},
   "outputs": [
    {
     "data": {
      "text/plain": [
       "Estado\n",
       "CA    74226\n",
       "GA    14863\n",
       "MA    19901\n",
       "ME     2451\n",
       "NY    24847\n",
       "OR     9998\n",
       "TX    24687\n",
       "WA    14713\n",
       "Name: total ventas, dtype: int64"
      ]
     },
     "execution_count": 65,
     "metadata": {},
     "output_type": "execute_result"
    }
   ],
   "source": [
    "# Se extrae los totales de ventas anual por estado\n",
    "totales_ventas_anual_estado = df_total_ventas_anual_estado['total ventas']\n",
    "totales_ventas_anual_estado"
   ]
  },
  {
   "cell_type": "code",
   "execution_count": 66,
   "metadata": {},
   "outputs": [
    {
     "data": {
      "application/vnd.plotly.v1+json": {
       "config": {
        "plotlyServerURL": "https://plot.ly"
       },
       "data": [
        {
         "marker": {
          "color": [
           74226,
           14863,
           19901,
           2451,
           24847,
           9998,
           24687,
           14713
          ],
          "colorbar": {
           "thickness": 15,
           "title": {
            "text": "Total de Ventas"
           },
           "x": 1
          },
          "colorscale": [
           [
            0,
            "rgb(252,251,253)"
           ],
           [
            0.125,
            "rgb(239,237,245)"
           ],
           [
            0.25,
            "rgb(218,218,235)"
           ],
           [
            0.375,
            "rgb(188,189,220)"
           ],
           [
            0.5,
            "rgb(158,154,200)"
           ],
           [
            0.625,
            "rgb(128,125,186)"
           ],
           [
            0.75,
            "rgb(106,81,163)"
           ],
           [
            0.875,
            "rgb(84,39,143)"
           ],
           [
            1,
            "rgb(63,0,125)"
           ]
          ]
         },
         "name": "Total de Ventas Estatales Anual",
         "text": [
          74226,
          14863,
          19901,
          2451,
          24847,
          9998,
          24687,
          14713
         ],
         "textposition": "auto",
         "type": "bar",
         "x": [
          "CA",
          "GA",
          "MA",
          "ME",
          "NY",
          "OR",
          "TX",
          "WA"
         ],
         "y": [
          74226,
          14863,
          19901,
          2451,
          24847,
          9998,
          24687,
          14713
         ]
        }
       ],
       "layout": {
        "template": {
         "data": {
          "bar": [
           {
            "error_x": {
             "color": "#2a3f5f"
            },
            "error_y": {
             "color": "#2a3f5f"
            },
            "marker": {
             "line": {
              "color": "#E5ECF6",
              "width": 0.5
             },
             "pattern": {
              "fillmode": "overlay",
              "size": 10,
              "solidity": 0.2
             }
            },
            "type": "bar"
           }
          ],
          "barpolar": [
           {
            "marker": {
             "line": {
              "color": "#E5ECF6",
              "width": 0.5
             },
             "pattern": {
              "fillmode": "overlay",
              "size": 10,
              "solidity": 0.2
             }
            },
            "type": "barpolar"
           }
          ],
          "carpet": [
           {
            "aaxis": {
             "endlinecolor": "#2a3f5f",
             "gridcolor": "white",
             "linecolor": "white",
             "minorgridcolor": "white",
             "startlinecolor": "#2a3f5f"
            },
            "baxis": {
             "endlinecolor": "#2a3f5f",
             "gridcolor": "white",
             "linecolor": "white",
             "minorgridcolor": "white",
             "startlinecolor": "#2a3f5f"
            },
            "type": "carpet"
           }
          ],
          "choropleth": [
           {
            "colorbar": {
             "outlinewidth": 0,
             "ticks": ""
            },
            "type": "choropleth"
           }
          ],
          "contour": [
           {
            "colorbar": {
             "outlinewidth": 0,
             "ticks": ""
            },
            "colorscale": [
             [
              0,
              "#0d0887"
             ],
             [
              0.1111111111111111,
              "#46039f"
             ],
             [
              0.2222222222222222,
              "#7201a8"
             ],
             [
              0.3333333333333333,
              "#9c179e"
             ],
             [
              0.4444444444444444,
              "#bd3786"
             ],
             [
              0.5555555555555556,
              "#d8576b"
             ],
             [
              0.6666666666666666,
              "#ed7953"
             ],
             [
              0.7777777777777778,
              "#fb9f3a"
             ],
             [
              0.8888888888888888,
              "#fdca26"
             ],
             [
              1,
              "#f0f921"
             ]
            ],
            "type": "contour"
           }
          ],
          "contourcarpet": [
           {
            "colorbar": {
             "outlinewidth": 0,
             "ticks": ""
            },
            "type": "contourcarpet"
           }
          ],
          "heatmap": [
           {
            "colorbar": {
             "outlinewidth": 0,
             "ticks": ""
            },
            "colorscale": [
             [
              0,
              "#0d0887"
             ],
             [
              0.1111111111111111,
              "#46039f"
             ],
             [
              0.2222222222222222,
              "#7201a8"
             ],
             [
              0.3333333333333333,
              "#9c179e"
             ],
             [
              0.4444444444444444,
              "#bd3786"
             ],
             [
              0.5555555555555556,
              "#d8576b"
             ],
             [
              0.6666666666666666,
              "#ed7953"
             ],
             [
              0.7777777777777778,
              "#fb9f3a"
             ],
             [
              0.8888888888888888,
              "#fdca26"
             ],
             [
              1,
              "#f0f921"
             ]
            ],
            "type": "heatmap"
           }
          ],
          "heatmapgl": [
           {
            "colorbar": {
             "outlinewidth": 0,
             "ticks": ""
            },
            "colorscale": [
             [
              0,
              "#0d0887"
             ],
             [
              0.1111111111111111,
              "#46039f"
             ],
             [
              0.2222222222222222,
              "#7201a8"
             ],
             [
              0.3333333333333333,
              "#9c179e"
             ],
             [
              0.4444444444444444,
              "#bd3786"
             ],
             [
              0.5555555555555556,
              "#d8576b"
             ],
             [
              0.6666666666666666,
              "#ed7953"
             ],
             [
              0.7777777777777778,
              "#fb9f3a"
             ],
             [
              0.8888888888888888,
              "#fdca26"
             ],
             [
              1,
              "#f0f921"
             ]
            ],
            "type": "heatmapgl"
           }
          ],
          "histogram": [
           {
            "marker": {
             "pattern": {
              "fillmode": "overlay",
              "size": 10,
              "solidity": 0.2
             }
            },
            "type": "histogram"
           }
          ],
          "histogram2d": [
           {
            "colorbar": {
             "outlinewidth": 0,
             "ticks": ""
            },
            "colorscale": [
             [
              0,
              "#0d0887"
             ],
             [
              0.1111111111111111,
              "#46039f"
             ],
             [
              0.2222222222222222,
              "#7201a8"
             ],
             [
              0.3333333333333333,
              "#9c179e"
             ],
             [
              0.4444444444444444,
              "#bd3786"
             ],
             [
              0.5555555555555556,
              "#d8576b"
             ],
             [
              0.6666666666666666,
              "#ed7953"
             ],
             [
              0.7777777777777778,
              "#fb9f3a"
             ],
             [
              0.8888888888888888,
              "#fdca26"
             ],
             [
              1,
              "#f0f921"
             ]
            ],
            "type": "histogram2d"
           }
          ],
          "histogram2dcontour": [
           {
            "colorbar": {
             "outlinewidth": 0,
             "ticks": ""
            },
            "colorscale": [
             [
              0,
              "#0d0887"
             ],
             [
              0.1111111111111111,
              "#46039f"
             ],
             [
              0.2222222222222222,
              "#7201a8"
             ],
             [
              0.3333333333333333,
              "#9c179e"
             ],
             [
              0.4444444444444444,
              "#bd3786"
             ],
             [
              0.5555555555555556,
              "#d8576b"
             ],
             [
              0.6666666666666666,
              "#ed7953"
             ],
             [
              0.7777777777777778,
              "#fb9f3a"
             ],
             [
              0.8888888888888888,
              "#fdca26"
             ],
             [
              1,
              "#f0f921"
             ]
            ],
            "type": "histogram2dcontour"
           }
          ],
          "mesh3d": [
           {
            "colorbar": {
             "outlinewidth": 0,
             "ticks": ""
            },
            "type": "mesh3d"
           }
          ],
          "parcoords": [
           {
            "line": {
             "colorbar": {
              "outlinewidth": 0,
              "ticks": ""
             }
            },
            "type": "parcoords"
           }
          ],
          "pie": [
           {
            "automargin": true,
            "type": "pie"
           }
          ],
          "scatter": [
           {
            "fillpattern": {
             "fillmode": "overlay",
             "size": 10,
             "solidity": 0.2
            },
            "type": "scatter"
           }
          ],
          "scatter3d": [
           {
            "line": {
             "colorbar": {
              "outlinewidth": 0,
              "ticks": ""
             }
            },
            "marker": {
             "colorbar": {
              "outlinewidth": 0,
              "ticks": ""
             }
            },
            "type": "scatter3d"
           }
          ],
          "scattercarpet": [
           {
            "marker": {
             "colorbar": {
              "outlinewidth": 0,
              "ticks": ""
             }
            },
            "type": "scattercarpet"
           }
          ],
          "scattergeo": [
           {
            "marker": {
             "colorbar": {
              "outlinewidth": 0,
              "ticks": ""
             }
            },
            "type": "scattergeo"
           }
          ],
          "scattergl": [
           {
            "marker": {
             "colorbar": {
              "outlinewidth": 0,
              "ticks": ""
             }
            },
            "type": "scattergl"
           }
          ],
          "scattermapbox": [
           {
            "marker": {
             "colorbar": {
              "outlinewidth": 0,
              "ticks": ""
             }
            },
            "type": "scattermapbox"
           }
          ],
          "scatterpolar": [
           {
            "marker": {
             "colorbar": {
              "outlinewidth": 0,
              "ticks": ""
             }
            },
            "type": "scatterpolar"
           }
          ],
          "scatterpolargl": [
           {
            "marker": {
             "colorbar": {
              "outlinewidth": 0,
              "ticks": ""
             }
            },
            "type": "scatterpolargl"
           }
          ],
          "scatterternary": [
           {
            "marker": {
             "colorbar": {
              "outlinewidth": 0,
              "ticks": ""
             }
            },
            "type": "scatterternary"
           }
          ],
          "surface": [
           {
            "colorbar": {
             "outlinewidth": 0,
             "ticks": ""
            },
            "colorscale": [
             [
              0,
              "#0d0887"
             ],
             [
              0.1111111111111111,
              "#46039f"
             ],
             [
              0.2222222222222222,
              "#7201a8"
             ],
             [
              0.3333333333333333,
              "#9c179e"
             ],
             [
              0.4444444444444444,
              "#bd3786"
             ],
             [
              0.5555555555555556,
              "#d8576b"
             ],
             [
              0.6666666666666666,
              "#ed7953"
             ],
             [
              0.7777777777777778,
              "#fb9f3a"
             ],
             [
              0.8888888888888888,
              "#fdca26"
             ],
             [
              1,
              "#f0f921"
             ]
            ],
            "type": "surface"
           }
          ],
          "table": [
           {
            "cells": {
             "fill": {
              "color": "#EBF0F8"
             },
             "line": {
              "color": "white"
             }
            },
            "header": {
             "fill": {
              "color": "#C8D4E3"
             },
             "line": {
              "color": "white"
             }
            },
            "type": "table"
           }
          ]
         },
         "layout": {
          "annotationdefaults": {
           "arrowcolor": "#2a3f5f",
           "arrowhead": 0,
           "arrowwidth": 1
          },
          "autotypenumbers": "strict",
          "coloraxis": {
           "colorbar": {
            "outlinewidth": 0,
            "ticks": ""
           }
          },
          "colorscale": {
           "diverging": [
            [
             0,
             "#8e0152"
            ],
            [
             0.1,
             "#c51b7d"
            ],
            [
             0.2,
             "#de77ae"
            ],
            [
             0.3,
             "#f1b6da"
            ],
            [
             0.4,
             "#fde0ef"
            ],
            [
             0.5,
             "#f7f7f7"
            ],
            [
             0.6,
             "#e6f5d0"
            ],
            [
             0.7,
             "#b8e186"
            ],
            [
             0.8,
             "#7fbc41"
            ],
            [
             0.9,
             "#4d9221"
            ],
            [
             1,
             "#276419"
            ]
           ],
           "sequential": [
            [
             0,
             "#0d0887"
            ],
            [
             0.1111111111111111,
             "#46039f"
            ],
            [
             0.2222222222222222,
             "#7201a8"
            ],
            [
             0.3333333333333333,
             "#9c179e"
            ],
            [
             0.4444444444444444,
             "#bd3786"
            ],
            [
             0.5555555555555556,
             "#d8576b"
            ],
            [
             0.6666666666666666,
             "#ed7953"
            ],
            [
             0.7777777777777778,
             "#fb9f3a"
            ],
            [
             0.8888888888888888,
             "#fdca26"
            ],
            [
             1,
             "#f0f921"
            ]
           ],
           "sequentialminus": [
            [
             0,
             "#0d0887"
            ],
            [
             0.1111111111111111,
             "#46039f"
            ],
            [
             0.2222222222222222,
             "#7201a8"
            ],
            [
             0.3333333333333333,
             "#9c179e"
            ],
            [
             0.4444444444444444,
             "#bd3786"
            ],
            [
             0.5555555555555556,
             "#d8576b"
            ],
            [
             0.6666666666666666,
             "#ed7953"
            ],
            [
             0.7777777777777778,
             "#fb9f3a"
            ],
            [
             0.8888888888888888,
             "#fdca26"
            ],
            [
             1,
             "#f0f921"
            ]
           ]
          },
          "colorway": [
           "#636efa",
           "#EF553B",
           "#00cc96",
           "#ab63fa",
           "#FFA15A",
           "#19d3f3",
           "#FF6692",
           "#B6E880",
           "#FF97FF",
           "#FECB52"
          ],
          "font": {
           "color": "#2a3f5f"
          },
          "geo": {
           "bgcolor": "white",
           "lakecolor": "white",
           "landcolor": "#E5ECF6",
           "showlakes": true,
           "showland": true,
           "subunitcolor": "white"
          },
          "hoverlabel": {
           "align": "left"
          },
          "hovermode": "closest",
          "mapbox": {
           "style": "light"
          },
          "paper_bgcolor": "white",
          "plot_bgcolor": "#E5ECF6",
          "polar": {
           "angularaxis": {
            "gridcolor": "white",
            "linecolor": "white",
            "ticks": ""
           },
           "bgcolor": "#E5ECF6",
           "radialaxis": {
            "gridcolor": "white",
            "linecolor": "white",
            "ticks": ""
           }
          },
          "scene": {
           "xaxis": {
            "backgroundcolor": "#E5ECF6",
            "gridcolor": "white",
            "gridwidth": 2,
            "linecolor": "white",
            "showbackground": true,
            "ticks": "",
            "zerolinecolor": "white"
           },
           "yaxis": {
            "backgroundcolor": "#E5ECF6",
            "gridcolor": "white",
            "gridwidth": 2,
            "linecolor": "white",
            "showbackground": true,
            "ticks": "",
            "zerolinecolor": "white"
           },
           "zaxis": {
            "backgroundcolor": "#E5ECF6",
            "gridcolor": "white",
            "gridwidth": 2,
            "linecolor": "white",
            "showbackground": true,
            "ticks": "",
            "zerolinecolor": "white"
           }
          },
          "shapedefaults": {
           "line": {
            "color": "#2a3f5f"
           }
          },
          "ternary": {
           "aaxis": {
            "gridcolor": "white",
            "linecolor": "white",
            "ticks": ""
           },
           "baxis": {
            "gridcolor": "white",
            "linecolor": "white",
            "ticks": ""
           },
           "bgcolor": "#E5ECF6",
           "caxis": {
            "gridcolor": "white",
            "linecolor": "white",
            "ticks": ""
           }
          },
          "title": {
           "x": 0.05
          },
          "xaxis": {
           "automargin": true,
           "gridcolor": "white",
           "linecolor": "white",
           "ticks": "",
           "title": {
            "standoff": 15
           },
           "zerolinecolor": "white",
           "zerolinewidth": 2
          },
          "yaxis": {
           "automargin": true,
           "gridcolor": "white",
           "linecolor": "white",
           "ticks": "",
           "title": {
            "standoff": 15
           },
           "zerolinecolor": "white",
           "zerolinewidth": 2
          }
         }
        }
       }
      }
     },
     "metadata": {},
     "output_type": "display_data"
    }
   ],
   "source": [
    "# Se crea el objeto de grafico para representar el total de ventas anual por estado\n",
    "fig = go.Figure()\n",
    "\n",
    "# Se agrega a la figura un grafico de linea con los estados y el total de ventas por esos estados\n",
    "fig.add_trace(go.Bar(\n",
    "    x = estados,\n",
    "    y = totales_ventas_anual_estado,\n",
    "    name='Total de Ventas Estatales Anual',\n",
    "    marker=dict(color=totales_ventas_anual_estado, colorscale='Purples',colorbar=dict(title='Total de Ventas', x=1.0, thickness=15)),\n",
    "    text=totales_ventas_anual_estado,\n",
    "    textposition='auto',\n",
    "    )\n",
    ")"
   ]
  },
  {
   "cell_type": "code",
   "execution_count": 67,
   "metadata": {},
   "outputs": [
    {
     "data": {
      "application/vnd.plotly.v1+json": {
       "config": {
        "plotlyServerURL": "https://plot.ly"
       },
       "data": [
        {
         "marker": {
          "color": [
           74226,
           14863,
           19901,
           2451,
           24847,
           9998,
           24687,
           14713
          ],
          "colorbar": {
           "thickness": 15,
           "title": {
            "text": "Total de Ventas"
           },
           "x": 1
          },
          "colorscale": [
           [
            0,
            "rgb(252,251,253)"
           ],
           [
            0.125,
            "rgb(239,237,245)"
           ],
           [
            0.25,
            "rgb(218,218,235)"
           ],
           [
            0.375,
            "rgb(188,189,220)"
           ],
           [
            0.5,
            "rgb(158,154,200)"
           ],
           [
            0.625,
            "rgb(128,125,186)"
           ],
           [
            0.75,
            "rgb(106,81,163)"
           ],
           [
            0.875,
            "rgb(84,39,143)"
           ],
           [
            1,
            "rgb(63,0,125)"
           ]
          ],
          "line": {
           "color": "black",
           "width": 1
          }
         },
         "name": "Total de Ventas Estatales Anual",
         "opacity": 1,
         "text": [
          74226,
          14863,
          19901,
          2451,
          24847,
          9998,
          24687,
          14713
         ],
         "textposition": "auto",
         "type": "bar",
         "x": [
          "CA",
          "GA",
          "MA",
          "ME",
          "NY",
          "OR",
          "TX",
          "WA"
         ],
         "y": [
          74226,
          14863,
          19901,
          2451,
          24847,
          9998,
          24687,
          14713
         ]
        }
       ],
       "layout": {
        "template": {
         "data": {
          "bar": [
           {
            "error_x": {
             "color": "#2a3f5f"
            },
            "error_y": {
             "color": "#2a3f5f"
            },
            "marker": {
             "line": {
              "color": "#E5ECF6",
              "width": 0.5
             },
             "pattern": {
              "fillmode": "overlay",
              "size": 10,
              "solidity": 0.2
             }
            },
            "type": "bar"
           }
          ],
          "barpolar": [
           {
            "marker": {
             "line": {
              "color": "#E5ECF6",
              "width": 0.5
             },
             "pattern": {
              "fillmode": "overlay",
              "size": 10,
              "solidity": 0.2
             }
            },
            "type": "barpolar"
           }
          ],
          "carpet": [
           {
            "aaxis": {
             "endlinecolor": "#2a3f5f",
             "gridcolor": "white",
             "linecolor": "white",
             "minorgridcolor": "white",
             "startlinecolor": "#2a3f5f"
            },
            "baxis": {
             "endlinecolor": "#2a3f5f",
             "gridcolor": "white",
             "linecolor": "white",
             "minorgridcolor": "white",
             "startlinecolor": "#2a3f5f"
            },
            "type": "carpet"
           }
          ],
          "choropleth": [
           {
            "colorbar": {
             "outlinewidth": 0,
             "ticks": ""
            },
            "type": "choropleth"
           }
          ],
          "contour": [
           {
            "colorbar": {
             "outlinewidth": 0,
             "ticks": ""
            },
            "colorscale": [
             [
              0,
              "#0d0887"
             ],
             [
              0.1111111111111111,
              "#46039f"
             ],
             [
              0.2222222222222222,
              "#7201a8"
             ],
             [
              0.3333333333333333,
              "#9c179e"
             ],
             [
              0.4444444444444444,
              "#bd3786"
             ],
             [
              0.5555555555555556,
              "#d8576b"
             ],
             [
              0.6666666666666666,
              "#ed7953"
             ],
             [
              0.7777777777777778,
              "#fb9f3a"
             ],
             [
              0.8888888888888888,
              "#fdca26"
             ],
             [
              1,
              "#f0f921"
             ]
            ],
            "type": "contour"
           }
          ],
          "contourcarpet": [
           {
            "colorbar": {
             "outlinewidth": 0,
             "ticks": ""
            },
            "type": "contourcarpet"
           }
          ],
          "heatmap": [
           {
            "colorbar": {
             "outlinewidth": 0,
             "ticks": ""
            },
            "colorscale": [
             [
              0,
              "#0d0887"
             ],
             [
              0.1111111111111111,
              "#46039f"
             ],
             [
              0.2222222222222222,
              "#7201a8"
             ],
             [
              0.3333333333333333,
              "#9c179e"
             ],
             [
              0.4444444444444444,
              "#bd3786"
             ],
             [
              0.5555555555555556,
              "#d8576b"
             ],
             [
              0.6666666666666666,
              "#ed7953"
             ],
             [
              0.7777777777777778,
              "#fb9f3a"
             ],
             [
              0.8888888888888888,
              "#fdca26"
             ],
             [
              1,
              "#f0f921"
             ]
            ],
            "type": "heatmap"
           }
          ],
          "heatmapgl": [
           {
            "colorbar": {
             "outlinewidth": 0,
             "ticks": ""
            },
            "colorscale": [
             [
              0,
              "#0d0887"
             ],
             [
              0.1111111111111111,
              "#46039f"
             ],
             [
              0.2222222222222222,
              "#7201a8"
             ],
             [
              0.3333333333333333,
              "#9c179e"
             ],
             [
              0.4444444444444444,
              "#bd3786"
             ],
             [
              0.5555555555555556,
              "#d8576b"
             ],
             [
              0.6666666666666666,
              "#ed7953"
             ],
             [
              0.7777777777777778,
              "#fb9f3a"
             ],
             [
              0.8888888888888888,
              "#fdca26"
             ],
             [
              1,
              "#f0f921"
             ]
            ],
            "type": "heatmapgl"
           }
          ],
          "histogram": [
           {
            "marker": {
             "pattern": {
              "fillmode": "overlay",
              "size": 10,
              "solidity": 0.2
             }
            },
            "type": "histogram"
           }
          ],
          "histogram2d": [
           {
            "colorbar": {
             "outlinewidth": 0,
             "ticks": ""
            },
            "colorscale": [
             [
              0,
              "#0d0887"
             ],
             [
              0.1111111111111111,
              "#46039f"
             ],
             [
              0.2222222222222222,
              "#7201a8"
             ],
             [
              0.3333333333333333,
              "#9c179e"
             ],
             [
              0.4444444444444444,
              "#bd3786"
             ],
             [
              0.5555555555555556,
              "#d8576b"
             ],
             [
              0.6666666666666666,
              "#ed7953"
             ],
             [
              0.7777777777777778,
              "#fb9f3a"
             ],
             [
              0.8888888888888888,
              "#fdca26"
             ],
             [
              1,
              "#f0f921"
             ]
            ],
            "type": "histogram2d"
           }
          ],
          "histogram2dcontour": [
           {
            "colorbar": {
             "outlinewidth": 0,
             "ticks": ""
            },
            "colorscale": [
             [
              0,
              "#0d0887"
             ],
             [
              0.1111111111111111,
              "#46039f"
             ],
             [
              0.2222222222222222,
              "#7201a8"
             ],
             [
              0.3333333333333333,
              "#9c179e"
             ],
             [
              0.4444444444444444,
              "#bd3786"
             ],
             [
              0.5555555555555556,
              "#d8576b"
             ],
             [
              0.6666666666666666,
              "#ed7953"
             ],
             [
              0.7777777777777778,
              "#fb9f3a"
             ],
             [
              0.8888888888888888,
              "#fdca26"
             ],
             [
              1,
              "#f0f921"
             ]
            ],
            "type": "histogram2dcontour"
           }
          ],
          "mesh3d": [
           {
            "colorbar": {
             "outlinewidth": 0,
             "ticks": ""
            },
            "type": "mesh3d"
           }
          ],
          "parcoords": [
           {
            "line": {
             "colorbar": {
              "outlinewidth": 0,
              "ticks": ""
             }
            },
            "type": "parcoords"
           }
          ],
          "pie": [
           {
            "automargin": true,
            "type": "pie"
           }
          ],
          "scatter": [
           {
            "fillpattern": {
             "fillmode": "overlay",
             "size": 10,
             "solidity": 0.2
            },
            "type": "scatter"
           }
          ],
          "scatter3d": [
           {
            "line": {
             "colorbar": {
              "outlinewidth": 0,
              "ticks": ""
             }
            },
            "marker": {
             "colorbar": {
              "outlinewidth": 0,
              "ticks": ""
             }
            },
            "type": "scatter3d"
           }
          ],
          "scattercarpet": [
           {
            "marker": {
             "colorbar": {
              "outlinewidth": 0,
              "ticks": ""
             }
            },
            "type": "scattercarpet"
           }
          ],
          "scattergeo": [
           {
            "marker": {
             "colorbar": {
              "outlinewidth": 0,
              "ticks": ""
             }
            },
            "type": "scattergeo"
           }
          ],
          "scattergl": [
           {
            "marker": {
             "colorbar": {
              "outlinewidth": 0,
              "ticks": ""
             }
            },
            "type": "scattergl"
           }
          ],
          "scattermapbox": [
           {
            "marker": {
             "colorbar": {
              "outlinewidth": 0,
              "ticks": ""
             }
            },
            "type": "scattermapbox"
           }
          ],
          "scatterpolar": [
           {
            "marker": {
             "colorbar": {
              "outlinewidth": 0,
              "ticks": ""
             }
            },
            "type": "scatterpolar"
           }
          ],
          "scatterpolargl": [
           {
            "marker": {
             "colorbar": {
              "outlinewidth": 0,
              "ticks": ""
             }
            },
            "type": "scatterpolargl"
           }
          ],
          "scatterternary": [
           {
            "marker": {
             "colorbar": {
              "outlinewidth": 0,
              "ticks": ""
             }
            },
            "type": "scatterternary"
           }
          ],
          "surface": [
           {
            "colorbar": {
             "outlinewidth": 0,
             "ticks": ""
            },
            "colorscale": [
             [
              0,
              "#0d0887"
             ],
             [
              0.1111111111111111,
              "#46039f"
             ],
             [
              0.2222222222222222,
              "#7201a8"
             ],
             [
              0.3333333333333333,
              "#9c179e"
             ],
             [
              0.4444444444444444,
              "#bd3786"
             ],
             [
              0.5555555555555556,
              "#d8576b"
             ],
             [
              0.6666666666666666,
              "#ed7953"
             ],
             [
              0.7777777777777778,
              "#fb9f3a"
             ],
             [
              0.8888888888888888,
              "#fdca26"
             ],
             [
              1,
              "#f0f921"
             ]
            ],
            "type": "surface"
           }
          ],
          "table": [
           {
            "cells": {
             "fill": {
              "color": "#EBF0F8"
             },
             "line": {
              "color": "white"
             }
            },
            "header": {
             "fill": {
              "color": "#C8D4E3"
             },
             "line": {
              "color": "white"
             }
            },
            "type": "table"
           }
          ]
         },
         "layout": {
          "annotationdefaults": {
           "arrowcolor": "#2a3f5f",
           "arrowhead": 0,
           "arrowwidth": 1
          },
          "autotypenumbers": "strict",
          "coloraxis": {
           "colorbar": {
            "outlinewidth": 0,
            "ticks": ""
           }
          },
          "colorscale": {
           "diverging": [
            [
             0,
             "#8e0152"
            ],
            [
             0.1,
             "#c51b7d"
            ],
            [
             0.2,
             "#de77ae"
            ],
            [
             0.3,
             "#f1b6da"
            ],
            [
             0.4,
             "#fde0ef"
            ],
            [
             0.5,
             "#f7f7f7"
            ],
            [
             0.6,
             "#e6f5d0"
            ],
            [
             0.7,
             "#b8e186"
            ],
            [
             0.8,
             "#7fbc41"
            ],
            [
             0.9,
             "#4d9221"
            ],
            [
             1,
             "#276419"
            ]
           ],
           "sequential": [
            [
             0,
             "#0d0887"
            ],
            [
             0.1111111111111111,
             "#46039f"
            ],
            [
             0.2222222222222222,
             "#7201a8"
            ],
            [
             0.3333333333333333,
             "#9c179e"
            ],
            [
             0.4444444444444444,
             "#bd3786"
            ],
            [
             0.5555555555555556,
             "#d8576b"
            ],
            [
             0.6666666666666666,
             "#ed7953"
            ],
            [
             0.7777777777777778,
             "#fb9f3a"
            ],
            [
             0.8888888888888888,
             "#fdca26"
            ],
            [
             1,
             "#f0f921"
            ]
           ],
           "sequentialminus": [
            [
             0,
             "#0d0887"
            ],
            [
             0.1111111111111111,
             "#46039f"
            ],
            [
             0.2222222222222222,
             "#7201a8"
            ],
            [
             0.3333333333333333,
             "#9c179e"
            ],
            [
             0.4444444444444444,
             "#bd3786"
            ],
            [
             0.5555555555555556,
             "#d8576b"
            ],
            [
             0.6666666666666666,
             "#ed7953"
            ],
            [
             0.7777777777777778,
             "#fb9f3a"
            ],
            [
             0.8888888888888888,
             "#fdca26"
            ],
            [
             1,
             "#f0f921"
            ]
           ]
          },
          "colorway": [
           "#636efa",
           "#EF553B",
           "#00cc96",
           "#ab63fa",
           "#FFA15A",
           "#19d3f3",
           "#FF6692",
           "#B6E880",
           "#FF97FF",
           "#FECB52"
          ],
          "font": {
           "color": "#2a3f5f"
          },
          "geo": {
           "bgcolor": "white",
           "lakecolor": "white",
           "landcolor": "#E5ECF6",
           "showlakes": true,
           "showland": true,
           "subunitcolor": "white"
          },
          "hoverlabel": {
           "align": "left"
          },
          "hovermode": "closest",
          "mapbox": {
           "style": "light"
          },
          "paper_bgcolor": "white",
          "plot_bgcolor": "#E5ECF6",
          "polar": {
           "angularaxis": {
            "gridcolor": "white",
            "linecolor": "white",
            "ticks": ""
           },
           "bgcolor": "#E5ECF6",
           "radialaxis": {
            "gridcolor": "white",
            "linecolor": "white",
            "ticks": ""
           }
          },
          "scene": {
           "xaxis": {
            "backgroundcolor": "#E5ECF6",
            "gridcolor": "white",
            "gridwidth": 2,
            "linecolor": "white",
            "showbackground": true,
            "ticks": "",
            "zerolinecolor": "white"
           },
           "yaxis": {
            "backgroundcolor": "#E5ECF6",
            "gridcolor": "white",
            "gridwidth": 2,
            "linecolor": "white",
            "showbackground": true,
            "ticks": "",
            "zerolinecolor": "white"
           },
           "zaxis": {
            "backgroundcolor": "#E5ECF6",
            "gridcolor": "white",
            "gridwidth": 2,
            "linecolor": "white",
            "showbackground": true,
            "ticks": "",
            "zerolinecolor": "white"
           }
          },
          "shapedefaults": {
           "line": {
            "color": "#2a3f5f"
           }
          },
          "ternary": {
           "aaxis": {
            "gridcolor": "white",
            "linecolor": "white",
            "ticks": ""
           },
           "baxis": {
            "gridcolor": "white",
            "linecolor": "white",
            "ticks": ""
           },
           "bgcolor": "#E5ECF6",
           "caxis": {
            "gridcolor": "white",
            "linecolor": "white",
            "ticks": ""
           }
          },
          "title": {
           "x": 0.05
          },
          "xaxis": {
           "automargin": true,
           "gridcolor": "white",
           "linecolor": "white",
           "ticks": "",
           "title": {
            "standoff": 15
           },
           "zerolinecolor": "white",
           "zerolinewidth": 2
          },
          "yaxis": {
           "automargin": true,
           "gridcolor": "white",
           "linecolor": "white",
           "ticks": "",
           "title": {
            "standoff": 15
           },
           "zerolinecolor": "white",
           "zerolinewidth": 2
          }
         }
        },
        "title": {
         "text": "Total de Ventas Anual por Estado"
        },
        "xaxis": {
         "title": {
          "text": "Estado"
         }
        },
        "yaxis": {
         "title": {
          "text": "Total de Ventas"
         }
        }
       }
      }
     },
     "metadata": {},
     "output_type": "display_data"
    }
   ],
   "source": [
    "fig.update_layout(\n",
    "    title='Total de Ventas Anual por Estado',\n",
    "    xaxis=dict(title='Estado'),\n",
    "    yaxis=dict(title='Total de Ventas')\n",
    ")\n",
    "fig.update_traces(marker_line_color = 'black',\n",
    "                  marker_line_width = 1, opacity = 1)\n",
    "\n",
    "fig.show()\n"
   ]
  },
  {
   "cell_type": "code",
   "execution_count": 68,
   "metadata": {},
   "outputs": [
    {
     "data": {
      "application/vnd.plotly.v1+json": {
       "config": {
        "plotlyServerURL": "https://plot.ly"
       },
       "data": [
        {
         "coloraxis": "coloraxis",
         "geo": "geo",
         "hovertemplate": "Estado=%{location}<br>total ventas=%{z}<extra></extra>",
         "locationmode": "USA-states",
         "locations": [
          "CA",
          "GA",
          "MA",
          "ME",
          "NY",
          "OR",
          "TX",
          "WA"
         ],
         "name": "",
         "type": "choropleth",
         "z": [
          74226,
          14863,
          19901,
          2451,
          24847,
          9998,
          24687,
          14713
         ]
        }
       ],
       "layout": {
        "coloraxis": {
         "colorbar": {
          "title": {
           "text": "total ventas"
          }
         },
         "colorscale": [
          [
           0,
           "rgb(228, 241, 225)"
          ],
          [
           0.16666666666666666,
           "rgb(180, 217, 204)"
          ],
          [
           0.3333333333333333,
           "rgb(137, 192, 182)"
          ],
          [
           0.5,
           "rgb(99, 166, 160)"
          ],
          [
           0.6666666666666666,
           "rgb(68, 140, 138)"
          ],
          [
           0.8333333333333334,
           "rgb(40, 114, 116)"
          ],
          [
           1,
           "rgb(13, 88, 95)"
          ]
         ]
        },
        "geo": {
         "center": {},
         "domain": {
          "x": [
           0,
           1
          ],
          "y": [
           0,
           1
          ]
         },
         "scope": "usa"
        },
        "legend": {
         "tracegroupgap": 0
        },
        "template": {
         "data": {
          "bar": [
           {
            "error_x": {
             "color": "#2a3f5f"
            },
            "error_y": {
             "color": "#2a3f5f"
            },
            "marker": {
             "line": {
              "color": "#E5ECF6",
              "width": 0.5
             },
             "pattern": {
              "fillmode": "overlay",
              "size": 10,
              "solidity": 0.2
             }
            },
            "type": "bar"
           }
          ],
          "barpolar": [
           {
            "marker": {
             "line": {
              "color": "#E5ECF6",
              "width": 0.5
             },
             "pattern": {
              "fillmode": "overlay",
              "size": 10,
              "solidity": 0.2
             }
            },
            "type": "barpolar"
           }
          ],
          "carpet": [
           {
            "aaxis": {
             "endlinecolor": "#2a3f5f",
             "gridcolor": "white",
             "linecolor": "white",
             "minorgridcolor": "white",
             "startlinecolor": "#2a3f5f"
            },
            "baxis": {
             "endlinecolor": "#2a3f5f",
             "gridcolor": "white",
             "linecolor": "white",
             "minorgridcolor": "white",
             "startlinecolor": "#2a3f5f"
            },
            "type": "carpet"
           }
          ],
          "choropleth": [
           {
            "colorbar": {
             "outlinewidth": 0,
             "ticks": ""
            },
            "type": "choropleth"
           }
          ],
          "contour": [
           {
            "colorbar": {
             "outlinewidth": 0,
             "ticks": ""
            },
            "colorscale": [
             [
              0,
              "#0d0887"
             ],
             [
              0.1111111111111111,
              "#46039f"
             ],
             [
              0.2222222222222222,
              "#7201a8"
             ],
             [
              0.3333333333333333,
              "#9c179e"
             ],
             [
              0.4444444444444444,
              "#bd3786"
             ],
             [
              0.5555555555555556,
              "#d8576b"
             ],
             [
              0.6666666666666666,
              "#ed7953"
             ],
             [
              0.7777777777777778,
              "#fb9f3a"
             ],
             [
              0.8888888888888888,
              "#fdca26"
             ],
             [
              1,
              "#f0f921"
             ]
            ],
            "type": "contour"
           }
          ],
          "contourcarpet": [
           {
            "colorbar": {
             "outlinewidth": 0,
             "ticks": ""
            },
            "type": "contourcarpet"
           }
          ],
          "heatmap": [
           {
            "colorbar": {
             "outlinewidth": 0,
             "ticks": ""
            },
            "colorscale": [
             [
              0,
              "#0d0887"
             ],
             [
              0.1111111111111111,
              "#46039f"
             ],
             [
              0.2222222222222222,
              "#7201a8"
             ],
             [
              0.3333333333333333,
              "#9c179e"
             ],
             [
              0.4444444444444444,
              "#bd3786"
             ],
             [
              0.5555555555555556,
              "#d8576b"
             ],
             [
              0.6666666666666666,
              "#ed7953"
             ],
             [
              0.7777777777777778,
              "#fb9f3a"
             ],
             [
              0.8888888888888888,
              "#fdca26"
             ],
             [
              1,
              "#f0f921"
             ]
            ],
            "type": "heatmap"
           }
          ],
          "heatmapgl": [
           {
            "colorbar": {
             "outlinewidth": 0,
             "ticks": ""
            },
            "colorscale": [
             [
              0,
              "#0d0887"
             ],
             [
              0.1111111111111111,
              "#46039f"
             ],
             [
              0.2222222222222222,
              "#7201a8"
             ],
             [
              0.3333333333333333,
              "#9c179e"
             ],
             [
              0.4444444444444444,
              "#bd3786"
             ],
             [
              0.5555555555555556,
              "#d8576b"
             ],
             [
              0.6666666666666666,
              "#ed7953"
             ],
             [
              0.7777777777777778,
              "#fb9f3a"
             ],
             [
              0.8888888888888888,
              "#fdca26"
             ],
             [
              1,
              "#f0f921"
             ]
            ],
            "type": "heatmapgl"
           }
          ],
          "histogram": [
           {
            "marker": {
             "pattern": {
              "fillmode": "overlay",
              "size": 10,
              "solidity": 0.2
             }
            },
            "type": "histogram"
           }
          ],
          "histogram2d": [
           {
            "colorbar": {
             "outlinewidth": 0,
             "ticks": ""
            },
            "colorscale": [
             [
              0,
              "#0d0887"
             ],
             [
              0.1111111111111111,
              "#46039f"
             ],
             [
              0.2222222222222222,
              "#7201a8"
             ],
             [
              0.3333333333333333,
              "#9c179e"
             ],
             [
              0.4444444444444444,
              "#bd3786"
             ],
             [
              0.5555555555555556,
              "#d8576b"
             ],
             [
              0.6666666666666666,
              "#ed7953"
             ],
             [
              0.7777777777777778,
              "#fb9f3a"
             ],
             [
              0.8888888888888888,
              "#fdca26"
             ],
             [
              1,
              "#f0f921"
             ]
            ],
            "type": "histogram2d"
           }
          ],
          "histogram2dcontour": [
           {
            "colorbar": {
             "outlinewidth": 0,
             "ticks": ""
            },
            "colorscale": [
             [
              0,
              "#0d0887"
             ],
             [
              0.1111111111111111,
              "#46039f"
             ],
             [
              0.2222222222222222,
              "#7201a8"
             ],
             [
              0.3333333333333333,
              "#9c179e"
             ],
             [
              0.4444444444444444,
              "#bd3786"
             ],
             [
              0.5555555555555556,
              "#d8576b"
             ],
             [
              0.6666666666666666,
              "#ed7953"
             ],
             [
              0.7777777777777778,
              "#fb9f3a"
             ],
             [
              0.8888888888888888,
              "#fdca26"
             ],
             [
              1,
              "#f0f921"
             ]
            ],
            "type": "histogram2dcontour"
           }
          ],
          "mesh3d": [
           {
            "colorbar": {
             "outlinewidth": 0,
             "ticks": ""
            },
            "type": "mesh3d"
           }
          ],
          "parcoords": [
           {
            "line": {
             "colorbar": {
              "outlinewidth": 0,
              "ticks": ""
             }
            },
            "type": "parcoords"
           }
          ],
          "pie": [
           {
            "automargin": true,
            "type": "pie"
           }
          ],
          "scatter": [
           {
            "fillpattern": {
             "fillmode": "overlay",
             "size": 10,
             "solidity": 0.2
            },
            "type": "scatter"
           }
          ],
          "scatter3d": [
           {
            "line": {
             "colorbar": {
              "outlinewidth": 0,
              "ticks": ""
             }
            },
            "marker": {
             "colorbar": {
              "outlinewidth": 0,
              "ticks": ""
             }
            },
            "type": "scatter3d"
           }
          ],
          "scattercarpet": [
           {
            "marker": {
             "colorbar": {
              "outlinewidth": 0,
              "ticks": ""
             }
            },
            "type": "scattercarpet"
           }
          ],
          "scattergeo": [
           {
            "marker": {
             "colorbar": {
              "outlinewidth": 0,
              "ticks": ""
             }
            },
            "type": "scattergeo"
           }
          ],
          "scattergl": [
           {
            "marker": {
             "colorbar": {
              "outlinewidth": 0,
              "ticks": ""
             }
            },
            "type": "scattergl"
           }
          ],
          "scattermapbox": [
           {
            "marker": {
             "colorbar": {
              "outlinewidth": 0,
              "ticks": ""
             }
            },
            "type": "scattermapbox"
           }
          ],
          "scatterpolar": [
           {
            "marker": {
             "colorbar": {
              "outlinewidth": 0,
              "ticks": ""
             }
            },
            "type": "scatterpolar"
           }
          ],
          "scatterpolargl": [
           {
            "marker": {
             "colorbar": {
              "outlinewidth": 0,
              "ticks": ""
             }
            },
            "type": "scatterpolargl"
           }
          ],
          "scatterternary": [
           {
            "marker": {
             "colorbar": {
              "outlinewidth": 0,
              "ticks": ""
             }
            },
            "type": "scatterternary"
           }
          ],
          "surface": [
           {
            "colorbar": {
             "outlinewidth": 0,
             "ticks": ""
            },
            "colorscale": [
             [
              0,
              "#0d0887"
             ],
             [
              0.1111111111111111,
              "#46039f"
             ],
             [
              0.2222222222222222,
              "#7201a8"
             ],
             [
              0.3333333333333333,
              "#9c179e"
             ],
             [
              0.4444444444444444,
              "#bd3786"
             ],
             [
              0.5555555555555556,
              "#d8576b"
             ],
             [
              0.6666666666666666,
              "#ed7953"
             ],
             [
              0.7777777777777778,
              "#fb9f3a"
             ],
             [
              0.8888888888888888,
              "#fdca26"
             ],
             [
              1,
              "#f0f921"
             ]
            ],
            "type": "surface"
           }
          ],
          "table": [
           {
            "cells": {
             "fill": {
              "color": "#EBF0F8"
             },
             "line": {
              "color": "white"
             }
            },
            "header": {
             "fill": {
              "color": "#C8D4E3"
             },
             "line": {
              "color": "white"
             }
            },
            "type": "table"
           }
          ]
         },
         "layout": {
          "annotationdefaults": {
           "arrowcolor": "#2a3f5f",
           "arrowhead": 0,
           "arrowwidth": 1
          },
          "autotypenumbers": "strict",
          "coloraxis": {
           "colorbar": {
            "outlinewidth": 0,
            "ticks": ""
           }
          },
          "colorscale": {
           "diverging": [
            [
             0,
             "#8e0152"
            ],
            [
             0.1,
             "#c51b7d"
            ],
            [
             0.2,
             "#de77ae"
            ],
            [
             0.3,
             "#f1b6da"
            ],
            [
             0.4,
             "#fde0ef"
            ],
            [
             0.5,
             "#f7f7f7"
            ],
            [
             0.6,
             "#e6f5d0"
            ],
            [
             0.7,
             "#b8e186"
            ],
            [
             0.8,
             "#7fbc41"
            ],
            [
             0.9,
             "#4d9221"
            ],
            [
             1,
             "#276419"
            ]
           ],
           "sequential": [
            [
             0,
             "#0d0887"
            ],
            [
             0.1111111111111111,
             "#46039f"
            ],
            [
             0.2222222222222222,
             "#7201a8"
            ],
            [
             0.3333333333333333,
             "#9c179e"
            ],
            [
             0.4444444444444444,
             "#bd3786"
            ],
            [
             0.5555555555555556,
             "#d8576b"
            ],
            [
             0.6666666666666666,
             "#ed7953"
            ],
            [
             0.7777777777777778,
             "#fb9f3a"
            ],
            [
             0.8888888888888888,
             "#fdca26"
            ],
            [
             1,
             "#f0f921"
            ]
           ],
           "sequentialminus": [
            [
             0,
             "#0d0887"
            ],
            [
             0.1111111111111111,
             "#46039f"
            ],
            [
             0.2222222222222222,
             "#7201a8"
            ],
            [
             0.3333333333333333,
             "#9c179e"
            ],
            [
             0.4444444444444444,
             "#bd3786"
            ],
            [
             0.5555555555555556,
             "#d8576b"
            ],
            [
             0.6666666666666666,
             "#ed7953"
            ],
            [
             0.7777777777777778,
             "#fb9f3a"
            ],
            [
             0.8888888888888888,
             "#fdca26"
            ],
            [
             1,
             "#f0f921"
            ]
           ]
          },
          "colorway": [
           "#636efa",
           "#EF553B",
           "#00cc96",
           "#ab63fa",
           "#FFA15A",
           "#19d3f3",
           "#FF6692",
           "#B6E880",
           "#FF97FF",
           "#FECB52"
          ],
          "font": {
           "color": "#2a3f5f"
          },
          "geo": {
           "bgcolor": "white",
           "lakecolor": "white",
           "landcolor": "#E5ECF6",
           "showlakes": true,
           "showland": true,
           "subunitcolor": "white"
          },
          "hoverlabel": {
           "align": "left"
          },
          "hovermode": "closest",
          "mapbox": {
           "style": "light"
          },
          "paper_bgcolor": "white",
          "plot_bgcolor": "#E5ECF6",
          "polar": {
           "angularaxis": {
            "gridcolor": "white",
            "linecolor": "white",
            "ticks": ""
           },
           "bgcolor": "#E5ECF6",
           "radialaxis": {
            "gridcolor": "white",
            "linecolor": "white",
            "ticks": ""
           }
          },
          "scene": {
           "xaxis": {
            "backgroundcolor": "#E5ECF6",
            "gridcolor": "white",
            "gridwidth": 2,
            "linecolor": "white",
            "showbackground": true,
            "ticks": "",
            "zerolinecolor": "white"
           },
           "yaxis": {
            "backgroundcolor": "#E5ECF6",
            "gridcolor": "white",
            "gridwidth": 2,
            "linecolor": "white",
            "showbackground": true,
            "ticks": "",
            "zerolinecolor": "white"
           },
           "zaxis": {
            "backgroundcolor": "#E5ECF6",
            "gridcolor": "white",
            "gridwidth": 2,
            "linecolor": "white",
            "showbackground": true,
            "ticks": "",
            "zerolinecolor": "white"
           }
          },
          "shapedefaults": {
           "line": {
            "color": "#2a3f5f"
           }
          },
          "ternary": {
           "aaxis": {
            "gridcolor": "white",
            "linecolor": "white",
            "ticks": ""
           },
           "baxis": {
            "gridcolor": "white",
            "linecolor": "white",
            "ticks": ""
           },
           "bgcolor": "#E5ECF6",
           "caxis": {
            "gridcolor": "white",
            "linecolor": "white",
            "ticks": ""
           }
          },
          "title": {
           "x": 0.05
          },
          "xaxis": {
           "automargin": true,
           "gridcolor": "white",
           "linecolor": "white",
           "ticks": "",
           "title": {
            "standoff": 15
           },
           "zerolinecolor": "white",
           "zerolinewidth": 2
          },
          "yaxis": {
           "automargin": true,
           "gridcolor": "white",
           "linecolor": "white",
           "ticks": "",
           "title": {
            "standoff": 15
           },
           "zerolinecolor": "white",
           "zerolinewidth": 2
          }
         }
        },
        "title": {
         "text": "Total de Ventas Anual por Estado"
        }
       }
      }
     },
     "metadata": {},
     "output_type": "display_data"
    }
   ],
   "source": [
    "# Se crea una figura en forma de mapa de calor para representar el total de ventas anual por estado\n",
    "fig = px.choropleth(df_total_ventas_anual_estado, locations=estados, color=totales_ventas_anual_estado,\n",
    "                    locationmode=\"USA-states\", color_continuous_scale='Mint',\n",
    "                    title='Total de Ventas Anual por Estado',\n",
    "                    scope=\"usa\", labels={'color':'Total de Ventas'})\n",
    "\n",
    "\n",
    "\n",
    "fig.show()\n",
    "\n"
   ]
  },
  {
   "cell_type": "markdown",
   "metadata": {},
   "source": [
    "### ● ¿Existe variación en las ventas por estado a lo largo de los meses?"
   ]
  },
  {
   "cell_type": "code",
   "execution_count": 69,
   "metadata": {},
   "outputs": [
    {
     "data": {
      "text/plain": [
       "[Estado\n",
       " CA    3880\n",
       " GA     786\n",
       " MA    1045\n",
       " ME     123\n",
       " NY    1300\n",
       " OR     500\n",
       " TX    1311\n",
       " WA     726\n",
       " Name: Cantidad Pedida, dtype: int64,\n",
       " Estado\n",
       " CA    4807\n",
       " GA     935\n",
       " MA    1251\n",
       " ME     177\n",
       " NY    1611\n",
       " OR     658\n",
       " TX    1602\n",
       " WA     927\n",
       " Name: Cantidad Pedida, dtype: int64,\n",
       " Estado\n",
       " CA    6043\n",
       " GA    1244\n",
       " MA    1648\n",
       " ME     187\n",
       " NY    1978\n",
       " OR     794\n",
       " TX    2039\n",
       " WA    1196\n",
       " Name: Cantidad Pedida, dtype: int64,\n",
       " Estado\n",
       " CA    7455\n",
       " GA    1470\n",
       " MA    1915\n",
       " ME     243\n",
       " NY    2429\n",
       " OR     994\n",
       " TX    2321\n",
       " WA    1440\n",
       " Name: Cantidad Pedida, dtype: int64,\n",
       " Estado\n",
       " CA    6485\n",
       " GA    1330\n",
       " MA    1799\n",
       " ME     222\n",
       " NY    2266\n",
       " OR     944\n",
       " TX    2255\n",
       " WA    1239\n",
       " Name: Cantidad Pedida, dtype: int64,\n",
       " Estado\n",
       " CA    5501\n",
       " GA    1103\n",
       " MA    1386\n",
       " ME     195\n",
       " NY    1773\n",
       " OR     744\n",
       " TX    1780\n",
       " WA    1055\n",
       " Name: Cantidad Pedida, dtype: int64,\n",
       " Estado\n",
       " CA    5754\n",
       " GA    1144\n",
       " MA    1550\n",
       " ME     199\n",
       " NY    1928\n",
       " OR     720\n",
       " TX    1860\n",
       " WA    1118\n",
       " Name: Cantidad Pedida, dtype: int64,\n",
       " Estado\n",
       " CA    4691\n",
       " GA     941\n",
       " MA    1244\n",
       " ME     165\n",
       " NY    1623\n",
       " OR     655\n",
       " TX    1615\n",
       " WA    1005\n",
       " Name: Cantidad Pedida, dtype: int64,\n",
       " Estado\n",
       " CA    4610\n",
       " GA     914\n",
       " MA    1280\n",
       " ME     145\n",
       " NY    1534\n",
       " OR     593\n",
       " TX    1598\n",
       " WA     937\n",
       " Name: Cantidad Pedida, dtype: int64,\n",
       " Estado\n",
       " CA    8045\n",
       " GA    1602\n",
       " MA    2173\n",
       " ME     250\n",
       " NY    2647\n",
       " OR    1134\n",
       " TX    2723\n",
       " WA    1677\n",
       " Name: Cantidad Pedida, dtype: int64,\n",
       " Estado\n",
       " CA    7062\n",
       " GA    1408\n",
       " MA    1915\n",
       " ME     230\n",
       " NY    2353\n",
       " OR     932\n",
       " TX    2232\n",
       " WA    1419\n",
       " Name: Cantidad Pedida, dtype: int64,\n",
       " Estado\n",
       " CA    9893\n",
       " GA    1986\n",
       " MA    2695\n",
       " ME     315\n",
       " NY    3405\n",
       " OR    1330\n",
       " TX    3351\n",
       " WA    1974\n",
       " Name: Cantidad Pedida, dtype: int64]"
      ]
     },
     "execution_count": 69,
     "metadata": {},
     "output_type": "execute_result"
    }
   ],
   "source": [
    "total_ventas_anual_estado"
   ]
  },
  {
   "cell_type": "code",
   "execution_count": 70,
   "metadata": {},
   "outputs": [
    {
     "name": "stdout",
     "output_type": "stream",
     "text": [
      "['CA', 'GA', 'MA', 'ME', 'NY', 'OR', 'TX', 'WA']\n"
     ]
    }
   ],
   "source": [
    "lista_estados=estados.to_list()\n",
    "print(lista_estados)"
   ]
  },
  {
   "cell_type": "code",
   "execution_count": 71,
   "metadata": {},
   "outputs": [
    {
     "data": {
      "application/vnd.plotly.v1+json": {
       "config": {
        "plotlyServerURL": "https://plot.ly"
       },
       "data": [
        {
         "coloraxis": "coloraxis",
         "hovertemplate": "Estado: %{x}<br>Meses: %{y}<br>Ventas: %{z}<extra></extra>",
         "name": "0",
         "type": "heatmap",
         "x": [
          "CA",
          "GA",
          "MA",
          "ME",
          "NY",
          "OR",
          "TX",
          "WA"
         ],
         "xaxis": "x",
         "y": [
          "Enero",
          "Febrero",
          "Marzo",
          "Abril",
          "Mayo",
          "Junio",
          "Julio",
          "Agosto",
          "Septiembre",
          "Octubre",
          "Noviembre",
          "Diciembre"
         ],
         "yaxis": "y",
         "z": [
          [
           3880,
           786,
           1045,
           123,
           1300,
           500,
           1311,
           726
          ],
          [
           4807,
           935,
           1251,
           177,
           1611,
           658,
           1602,
           927
          ],
          [
           6043,
           1244,
           1648,
           187,
           1978,
           794,
           2039,
           1196
          ],
          [
           7455,
           1470,
           1915,
           243,
           2429,
           994,
           2321,
           1440
          ],
          [
           6485,
           1330,
           1799,
           222,
           2266,
           944,
           2255,
           1239
          ],
          [
           5501,
           1103,
           1386,
           195,
           1773,
           744,
           1780,
           1055
          ],
          [
           5754,
           1144,
           1550,
           199,
           1928,
           720,
           1860,
           1118
          ],
          [
           4691,
           941,
           1244,
           165,
           1623,
           655,
           1615,
           1005
          ],
          [
           4610,
           914,
           1280,
           145,
           1534,
           593,
           1598,
           937
          ],
          [
           8045,
           1602,
           2173,
           250,
           2647,
           1134,
           2723,
           1677
          ],
          [
           7062,
           1408,
           1915,
           230,
           2353,
           932,
           2232,
           1419
          ],
          [
           9893,
           1986,
           2695,
           315,
           3405,
           1330,
           3351,
           1974
          ]
         ]
        }
       ],
       "layout": {
        "coloraxis": {
         "colorbar": {
          "title": {
           "text": "Ventas"
          }
         },
         "colorscale": [
          [
           0,
           "rgb(214, 249, 207)"
          ],
          [
           0.09090909090909091,
           "rgb(186, 228, 174)"
          ],
          [
           0.18181818181818182,
           "rgb(156, 209, 143)"
          ],
          [
           0.2727272727272727,
           "rgb(124, 191, 115)"
          ],
          [
           0.36363636363636365,
           "rgb(85, 174, 91)"
          ],
          [
           0.45454545454545453,
           "rgb(37, 157, 81)"
          ],
          [
           0.5454545454545454,
           "rgb(7, 138, 78)"
          ],
          [
           0.6363636363636364,
           "rgb(13, 117, 71)"
          ],
          [
           0.7272727272727273,
           "rgb(23, 95, 61)"
          ],
          [
           0.8181818181818182,
           "rgb(25, 75, 49)"
          ],
          [
           0.9090909090909091,
           "rgb(23, 55, 35)"
          ],
          [
           1,
           "rgb(17, 36, 20)"
          ]
         ]
        },
        "margin": {
         "t": 60
        },
        "template": {
         "data": {
          "bar": [
           {
            "error_x": {
             "color": "#2a3f5f"
            },
            "error_y": {
             "color": "#2a3f5f"
            },
            "marker": {
             "line": {
              "color": "#E5ECF6",
              "width": 0.5
             },
             "pattern": {
              "fillmode": "overlay",
              "size": 10,
              "solidity": 0.2
             }
            },
            "type": "bar"
           }
          ],
          "barpolar": [
           {
            "marker": {
             "line": {
              "color": "#E5ECF6",
              "width": 0.5
             },
             "pattern": {
              "fillmode": "overlay",
              "size": 10,
              "solidity": 0.2
             }
            },
            "type": "barpolar"
           }
          ],
          "carpet": [
           {
            "aaxis": {
             "endlinecolor": "#2a3f5f",
             "gridcolor": "white",
             "linecolor": "white",
             "minorgridcolor": "white",
             "startlinecolor": "#2a3f5f"
            },
            "baxis": {
             "endlinecolor": "#2a3f5f",
             "gridcolor": "white",
             "linecolor": "white",
             "minorgridcolor": "white",
             "startlinecolor": "#2a3f5f"
            },
            "type": "carpet"
           }
          ],
          "choropleth": [
           {
            "colorbar": {
             "outlinewidth": 0,
             "ticks": ""
            },
            "type": "choropleth"
           }
          ],
          "contour": [
           {
            "colorbar": {
             "outlinewidth": 0,
             "ticks": ""
            },
            "colorscale": [
             [
              0,
              "#0d0887"
             ],
             [
              0.1111111111111111,
              "#46039f"
             ],
             [
              0.2222222222222222,
              "#7201a8"
             ],
             [
              0.3333333333333333,
              "#9c179e"
             ],
             [
              0.4444444444444444,
              "#bd3786"
             ],
             [
              0.5555555555555556,
              "#d8576b"
             ],
             [
              0.6666666666666666,
              "#ed7953"
             ],
             [
              0.7777777777777778,
              "#fb9f3a"
             ],
             [
              0.8888888888888888,
              "#fdca26"
             ],
             [
              1,
              "#f0f921"
             ]
            ],
            "type": "contour"
           }
          ],
          "contourcarpet": [
           {
            "colorbar": {
             "outlinewidth": 0,
             "ticks": ""
            },
            "type": "contourcarpet"
           }
          ],
          "heatmap": [
           {
            "colorbar": {
             "outlinewidth": 0,
             "ticks": ""
            },
            "colorscale": [
             [
              0,
              "#0d0887"
             ],
             [
              0.1111111111111111,
              "#46039f"
             ],
             [
              0.2222222222222222,
              "#7201a8"
             ],
             [
              0.3333333333333333,
              "#9c179e"
             ],
             [
              0.4444444444444444,
              "#bd3786"
             ],
             [
              0.5555555555555556,
              "#d8576b"
             ],
             [
              0.6666666666666666,
              "#ed7953"
             ],
             [
              0.7777777777777778,
              "#fb9f3a"
             ],
             [
              0.8888888888888888,
              "#fdca26"
             ],
             [
              1,
              "#f0f921"
             ]
            ],
            "type": "heatmap"
           }
          ],
          "heatmapgl": [
           {
            "colorbar": {
             "outlinewidth": 0,
             "ticks": ""
            },
            "colorscale": [
             [
              0,
              "#0d0887"
             ],
             [
              0.1111111111111111,
              "#46039f"
             ],
             [
              0.2222222222222222,
              "#7201a8"
             ],
             [
              0.3333333333333333,
              "#9c179e"
             ],
             [
              0.4444444444444444,
              "#bd3786"
             ],
             [
              0.5555555555555556,
              "#d8576b"
             ],
             [
              0.6666666666666666,
              "#ed7953"
             ],
             [
              0.7777777777777778,
              "#fb9f3a"
             ],
             [
              0.8888888888888888,
              "#fdca26"
             ],
             [
              1,
              "#f0f921"
             ]
            ],
            "type": "heatmapgl"
           }
          ],
          "histogram": [
           {
            "marker": {
             "pattern": {
              "fillmode": "overlay",
              "size": 10,
              "solidity": 0.2
             }
            },
            "type": "histogram"
           }
          ],
          "histogram2d": [
           {
            "colorbar": {
             "outlinewidth": 0,
             "ticks": ""
            },
            "colorscale": [
             [
              0,
              "#0d0887"
             ],
             [
              0.1111111111111111,
              "#46039f"
             ],
             [
              0.2222222222222222,
              "#7201a8"
             ],
             [
              0.3333333333333333,
              "#9c179e"
             ],
             [
              0.4444444444444444,
              "#bd3786"
             ],
             [
              0.5555555555555556,
              "#d8576b"
             ],
             [
              0.6666666666666666,
              "#ed7953"
             ],
             [
              0.7777777777777778,
              "#fb9f3a"
             ],
             [
              0.8888888888888888,
              "#fdca26"
             ],
             [
              1,
              "#f0f921"
             ]
            ],
            "type": "histogram2d"
           }
          ],
          "histogram2dcontour": [
           {
            "colorbar": {
             "outlinewidth": 0,
             "ticks": ""
            },
            "colorscale": [
             [
              0,
              "#0d0887"
             ],
             [
              0.1111111111111111,
              "#46039f"
             ],
             [
              0.2222222222222222,
              "#7201a8"
             ],
             [
              0.3333333333333333,
              "#9c179e"
             ],
             [
              0.4444444444444444,
              "#bd3786"
             ],
             [
              0.5555555555555556,
              "#d8576b"
             ],
             [
              0.6666666666666666,
              "#ed7953"
             ],
             [
              0.7777777777777778,
              "#fb9f3a"
             ],
             [
              0.8888888888888888,
              "#fdca26"
             ],
             [
              1,
              "#f0f921"
             ]
            ],
            "type": "histogram2dcontour"
           }
          ],
          "mesh3d": [
           {
            "colorbar": {
             "outlinewidth": 0,
             "ticks": ""
            },
            "type": "mesh3d"
           }
          ],
          "parcoords": [
           {
            "line": {
             "colorbar": {
              "outlinewidth": 0,
              "ticks": ""
             }
            },
            "type": "parcoords"
           }
          ],
          "pie": [
           {
            "automargin": true,
            "type": "pie"
           }
          ],
          "scatter": [
           {
            "fillpattern": {
             "fillmode": "overlay",
             "size": 10,
             "solidity": 0.2
            },
            "type": "scatter"
           }
          ],
          "scatter3d": [
           {
            "line": {
             "colorbar": {
              "outlinewidth": 0,
              "ticks": ""
             }
            },
            "marker": {
             "colorbar": {
              "outlinewidth": 0,
              "ticks": ""
             }
            },
            "type": "scatter3d"
           }
          ],
          "scattercarpet": [
           {
            "marker": {
             "colorbar": {
              "outlinewidth": 0,
              "ticks": ""
             }
            },
            "type": "scattercarpet"
           }
          ],
          "scattergeo": [
           {
            "marker": {
             "colorbar": {
              "outlinewidth": 0,
              "ticks": ""
             }
            },
            "type": "scattergeo"
           }
          ],
          "scattergl": [
           {
            "marker": {
             "colorbar": {
              "outlinewidth": 0,
              "ticks": ""
             }
            },
            "type": "scattergl"
           }
          ],
          "scattermapbox": [
           {
            "marker": {
             "colorbar": {
              "outlinewidth": 0,
              "ticks": ""
             }
            },
            "type": "scattermapbox"
           }
          ],
          "scatterpolar": [
           {
            "marker": {
             "colorbar": {
              "outlinewidth": 0,
              "ticks": ""
             }
            },
            "type": "scatterpolar"
           }
          ],
          "scatterpolargl": [
           {
            "marker": {
             "colorbar": {
              "outlinewidth": 0,
              "ticks": ""
             }
            },
            "type": "scatterpolargl"
           }
          ],
          "scatterternary": [
           {
            "marker": {
             "colorbar": {
              "outlinewidth": 0,
              "ticks": ""
             }
            },
            "type": "scatterternary"
           }
          ],
          "surface": [
           {
            "colorbar": {
             "outlinewidth": 0,
             "ticks": ""
            },
            "colorscale": [
             [
              0,
              "#0d0887"
             ],
             [
              0.1111111111111111,
              "#46039f"
             ],
             [
              0.2222222222222222,
              "#7201a8"
             ],
             [
              0.3333333333333333,
              "#9c179e"
             ],
             [
              0.4444444444444444,
              "#bd3786"
             ],
             [
              0.5555555555555556,
              "#d8576b"
             ],
             [
              0.6666666666666666,
              "#ed7953"
             ],
             [
              0.7777777777777778,
              "#fb9f3a"
             ],
             [
              0.8888888888888888,
              "#fdca26"
             ],
             [
              1,
              "#f0f921"
             ]
            ],
            "type": "surface"
           }
          ],
          "table": [
           {
            "cells": {
             "fill": {
              "color": "#EBF0F8"
             },
             "line": {
              "color": "white"
             }
            },
            "header": {
             "fill": {
              "color": "#C8D4E3"
             },
             "line": {
              "color": "white"
             }
            },
            "type": "table"
           }
          ]
         },
         "layout": {
          "annotationdefaults": {
           "arrowcolor": "#2a3f5f",
           "arrowhead": 0,
           "arrowwidth": 1
          },
          "autotypenumbers": "strict",
          "coloraxis": {
           "colorbar": {
            "outlinewidth": 0,
            "ticks": ""
           }
          },
          "colorscale": {
           "diverging": [
            [
             0,
             "#8e0152"
            ],
            [
             0.1,
             "#c51b7d"
            ],
            [
             0.2,
             "#de77ae"
            ],
            [
             0.3,
             "#f1b6da"
            ],
            [
             0.4,
             "#fde0ef"
            ],
            [
             0.5,
             "#f7f7f7"
            ],
            [
             0.6,
             "#e6f5d0"
            ],
            [
             0.7,
             "#b8e186"
            ],
            [
             0.8,
             "#7fbc41"
            ],
            [
             0.9,
             "#4d9221"
            ],
            [
             1,
             "#276419"
            ]
           ],
           "sequential": [
            [
             0,
             "#0d0887"
            ],
            [
             0.1111111111111111,
             "#46039f"
            ],
            [
             0.2222222222222222,
             "#7201a8"
            ],
            [
             0.3333333333333333,
             "#9c179e"
            ],
            [
             0.4444444444444444,
             "#bd3786"
            ],
            [
             0.5555555555555556,
             "#d8576b"
            ],
            [
             0.6666666666666666,
             "#ed7953"
            ],
            [
             0.7777777777777778,
             "#fb9f3a"
            ],
            [
             0.8888888888888888,
             "#fdca26"
            ],
            [
             1,
             "#f0f921"
            ]
           ],
           "sequentialminus": [
            [
             0,
             "#0d0887"
            ],
            [
             0.1111111111111111,
             "#46039f"
            ],
            [
             0.2222222222222222,
             "#7201a8"
            ],
            [
             0.3333333333333333,
             "#9c179e"
            ],
            [
             0.4444444444444444,
             "#bd3786"
            ],
            [
             0.5555555555555556,
             "#d8576b"
            ],
            [
             0.6666666666666666,
             "#ed7953"
            ],
            [
             0.7777777777777778,
             "#fb9f3a"
            ],
            [
             0.8888888888888888,
             "#fdca26"
            ],
            [
             1,
             "#f0f921"
            ]
           ]
          },
          "colorway": [
           "#636efa",
           "#EF553B",
           "#00cc96",
           "#ab63fa",
           "#FFA15A",
           "#19d3f3",
           "#FF6692",
           "#B6E880",
           "#FF97FF",
           "#FECB52"
          ],
          "font": {
           "color": "#2a3f5f"
          },
          "geo": {
           "bgcolor": "white",
           "lakecolor": "white",
           "landcolor": "#E5ECF6",
           "showlakes": true,
           "showland": true,
           "subunitcolor": "white"
          },
          "hoverlabel": {
           "align": "left"
          },
          "hovermode": "closest",
          "mapbox": {
           "style": "light"
          },
          "paper_bgcolor": "white",
          "plot_bgcolor": "#E5ECF6",
          "polar": {
           "angularaxis": {
            "gridcolor": "white",
            "linecolor": "white",
            "ticks": ""
           },
           "bgcolor": "#E5ECF6",
           "radialaxis": {
            "gridcolor": "white",
            "linecolor": "white",
            "ticks": ""
           }
          },
          "scene": {
           "xaxis": {
            "backgroundcolor": "#E5ECF6",
            "gridcolor": "white",
            "gridwidth": 2,
            "linecolor": "white",
            "showbackground": true,
            "ticks": "",
            "zerolinecolor": "white"
           },
           "yaxis": {
            "backgroundcolor": "#E5ECF6",
            "gridcolor": "white",
            "gridwidth": 2,
            "linecolor": "white",
            "showbackground": true,
            "ticks": "",
            "zerolinecolor": "white"
           },
           "zaxis": {
            "backgroundcolor": "#E5ECF6",
            "gridcolor": "white",
            "gridwidth": 2,
            "linecolor": "white",
            "showbackground": true,
            "ticks": "",
            "zerolinecolor": "white"
           }
          },
          "shapedefaults": {
           "line": {
            "color": "#2a3f5f"
           }
          },
          "ternary": {
           "aaxis": {
            "gridcolor": "white",
            "linecolor": "white",
            "ticks": ""
           },
           "baxis": {
            "gridcolor": "white",
            "linecolor": "white",
            "ticks": ""
           },
           "bgcolor": "#E5ECF6",
           "caxis": {
            "gridcolor": "white",
            "linecolor": "white",
            "ticks": ""
           }
          },
          "title": {
           "x": 0.05
          },
          "xaxis": {
           "automargin": true,
           "gridcolor": "white",
           "linecolor": "white",
           "ticks": "",
           "title": {
            "standoff": 15
           },
           "zerolinecolor": "white",
           "zerolinewidth": 2
          },
          "yaxis": {
           "automargin": true,
           "gridcolor": "white",
           "linecolor": "white",
           "ticks": "",
           "title": {
            "standoff": 15
           },
           "zerolinecolor": "white",
           "zerolinewidth": 2
          }
         }
        },
        "title": {
         "text": "Total de Ventas por Estados"
        },
        "xaxis": {
         "anchor": "y",
         "constrain": "domain",
         "domain": [
          0,
          1
         ],
         "scaleanchor": "y",
         "ticktext": [
          "CA",
          "GA",
          "MA",
          "ME",
          "NY",
          "OR",
          "TX",
          "WA"
         ],
         "tickvals": [
          "CA",
          "GA",
          "MA",
          "ME",
          "NY",
          "OR",
          "TX",
          "WA"
         ],
         "title": {
          "text": "Estados"
         }
        },
        "yaxis": {
         "anchor": "x",
         "autorange": "reversed",
         "constrain": "domain",
         "domain": [
          0,
          1
         ],
         "side": "left",
         "title": {
          "text": "Mes"
         }
        }
       }
      }
     },
     "metadata": {},
     "output_type": "display_data"
    }
   ],
   "source": [
    "data=total_ventas_anual_estado\n",
    "\n",
    "fig = px.imshow(data,\n",
    "                labels=dict(x=\"Estado\", y=\"Meses\", color=\"Ventas\"),\n",
    "                color_continuous_scale='algae',\n",
    "                x=lista_estados,\n",
    "                y=meses,\n",
    ")\n",
    "\n",
    "#fig.update_xaxes(side=\"top\")\n",
    "fig.update_layout(\n",
    "    title='Total de Ventas por Estados',\n",
    "    xaxis=dict(title='Estados', tickvals=lista_estados, ticktext=lista_estados),\n",
    "    yaxis=dict(title='Mes',side=\"left\")\n",
    ")\n",
    "fig.show()"
   ]
  },
  {
   "cell_type": "code",
   "execution_count": 72,
   "metadata": {},
   "outputs": [
    {
     "name": "stdout",
     "output_type": "stream",
     "text": [
      "Los patrones de ventas por estado son muy similares en todos los meses, con un pico de ventas en el estado de California, seguido por el estado de New York y el estado de Texas. \n"
     ]
    }
   ],
   "source": [
    "print('Los patrones de ventas por estado son muy similares en todos los meses, con un pico de ventas en el estado de California, seguido por el estado de New York y el estado de Texas. ')"
   ]
  },
  {
   "cell_type": "code",
   "execution_count": 73,
   "metadata": {},
   "outputs": [
    {
     "name": "stdout",
     "output_type": "stream",
     "text": [
      "Los meses de mayor ventas en los estados son los meses de Diciembre, Octubre y Abril. \n"
     ]
    }
   ],
   "source": [
    "print('Los meses de mayor ventas en los estados son los meses de Diciembre, Octubre y Abril. ')"
   ]
  },
  {
   "cell_type": "markdown",
   "metadata": {},
   "source": [
    "## 4. Análisis del producto más vendido:\n"
   ]
  },
  {
   "cell_type": "code",
   "execution_count": 74,
   "metadata": {},
   "outputs": [
    {
     "data": {
      "text/html": [
       "<div>\n",
       "<style scoped>\n",
       "    .dataframe tbody tr th:only-of-type {\n",
       "        vertical-align: middle;\n",
       "    }\n",
       "\n",
       "    .dataframe tbody tr th {\n",
       "        vertical-align: top;\n",
       "    }\n",
       "\n",
       "    .dataframe thead th {\n",
       "        text-align: right;\n",
       "    }\n",
       "</style>\n",
       "<table border=\"1\" class=\"dataframe\">\n",
       "  <thead>\n",
       "    <tr style=\"text-align: right;\">\n",
       "      <th></th>\n",
       "      <th>ID de Pedido</th>\n",
       "      <th>Producto</th>\n",
       "      <th>Cantidad Pedida</th>\n",
       "      <th>Precio Unitario</th>\n",
       "      <th>Fecha de Pedido</th>\n",
       "      <th>Dirección de Envio</th>\n",
       "      <th>Hora</th>\n",
       "      <th>Dia</th>\n",
       "      <th>Dia semanal</th>\n",
       "      <th>Calle</th>\n",
       "      <th>Ciudad</th>\n",
       "      <th>PO BOX</th>\n",
       "      <th>Estado</th>\n",
       "      <th>Cod Postal</th>\n",
       "      <th>Ingreso</th>\n",
       "    </tr>\n",
       "  </thead>\n",
       "  <tbody>\n",
       "    <tr>\n",
       "      <th>0</th>\n",
       "      <td>162009</td>\n",
       "      <td>iPhone</td>\n",
       "      <td>1</td>\n",
       "      <td>700</td>\n",
       "      <td>2019-03-28 20:59:00</td>\n",
       "      <td>942 Church St, Austin, TX 73301</td>\n",
       "      <td>20</td>\n",
       "      <td>28</td>\n",
       "      <td>3</td>\n",
       "      <td>942 Church St</td>\n",
       "      <td>Austin</td>\n",
       "      <td>TX 73301</td>\n",
       "      <td>TX</td>\n",
       "      <td>73301</td>\n",
       "      <td>700</td>\n",
       "    </tr>\n",
       "    <tr>\n",
       "      <th>1</th>\n",
       "      <td>162009</td>\n",
       "      <td>Lightning Charging Cable</td>\n",
       "      <td>1</td>\n",
       "      <td>14</td>\n",
       "      <td>2019-03-28 20:59:00</td>\n",
       "      <td>942 Church St, Austin, TX 73301</td>\n",
       "      <td>20</td>\n",
       "      <td>28</td>\n",
       "      <td>3</td>\n",
       "      <td>942 Church St</td>\n",
       "      <td>Austin</td>\n",
       "      <td>TX 73301</td>\n",
       "      <td>TX</td>\n",
       "      <td>73301</td>\n",
       "      <td>14</td>\n",
       "    </tr>\n",
       "    <tr>\n",
       "      <th>2</th>\n",
       "      <td>162009</td>\n",
       "      <td>Wired Headphones</td>\n",
       "      <td>2</td>\n",
       "      <td>11</td>\n",
       "      <td>2019-03-28 20:59:00</td>\n",
       "      <td>942 Church St, Austin, TX 73301</td>\n",
       "      <td>20</td>\n",
       "      <td>28</td>\n",
       "      <td>3</td>\n",
       "      <td>942 Church St</td>\n",
       "      <td>Austin</td>\n",
       "      <td>TX 73301</td>\n",
       "      <td>TX</td>\n",
       "      <td>73301</td>\n",
       "      <td>22</td>\n",
       "    </tr>\n",
       "    <tr>\n",
       "      <th>3</th>\n",
       "      <td>162010</td>\n",
       "      <td>Bose SoundSport Headphones</td>\n",
       "      <td>1</td>\n",
       "      <td>99</td>\n",
       "      <td>2019-03-17 05:39:00</td>\n",
       "      <td>261 10th St, San Francisco, CA 94016</td>\n",
       "      <td>5</td>\n",
       "      <td>17</td>\n",
       "      <td>6</td>\n",
       "      <td>261 10th St</td>\n",
       "      <td>San Francisco</td>\n",
       "      <td>CA 94016</td>\n",
       "      <td>CA</td>\n",
       "      <td>94016</td>\n",
       "      <td>99</td>\n",
       "    </tr>\n",
       "    <tr>\n",
       "      <th>4</th>\n",
       "      <td>162011</td>\n",
       "      <td>34in Ultrawide Monitor</td>\n",
       "      <td>1</td>\n",
       "      <td>379</td>\n",
       "      <td>2019-03-10 00:01:00</td>\n",
       "      <td>764 13th St, San Francisco, CA 94016</td>\n",
       "      <td>0</td>\n",
       "      <td>10</td>\n",
       "      <td>6</td>\n",
       "      <td>764 13th St</td>\n",
       "      <td>San Francisco</td>\n",
       "      <td>CA 94016</td>\n",
       "      <td>CA</td>\n",
       "      <td>94016</td>\n",
       "      <td>379</td>\n",
       "    </tr>\n",
       "    <tr>\n",
       "      <th>5</th>\n",
       "      <td>162012</td>\n",
       "      <td>AA Batteries (4-pack)</td>\n",
       "      <td>1</td>\n",
       "      <td>3</td>\n",
       "      <td>2019-03-20 21:33:00</td>\n",
       "      <td>187 Ridge St, San Francisco, CA 94016</td>\n",
       "      <td>21</td>\n",
       "      <td>20</td>\n",
       "      <td>2</td>\n",
       "      <td>187 Ridge St</td>\n",
       "      <td>San Francisco</td>\n",
       "      <td>CA 94016</td>\n",
       "      <td>CA</td>\n",
       "      <td>94016</td>\n",
       "      <td>3</td>\n",
       "    </tr>\n",
       "    <tr>\n",
       "      <th>6</th>\n",
       "      <td>162013</td>\n",
       "      <td>34in Ultrawide Monitor</td>\n",
       "      <td>1</td>\n",
       "      <td>379</td>\n",
       "      <td>2019-03-15 23:05:00</td>\n",
       "      <td>904 Main St, Austin, TX 73301</td>\n",
       "      <td>23</td>\n",
       "      <td>15</td>\n",
       "      <td>4</td>\n",
       "      <td>904 Main St</td>\n",
       "      <td>Austin</td>\n",
       "      <td>TX 73301</td>\n",
       "      <td>TX</td>\n",
       "      <td>73301</td>\n",
       "      <td>379</td>\n",
       "    </tr>\n",
       "    <tr>\n",
       "      <th>7</th>\n",
       "      <td>162014</td>\n",
       "      <td>USB-C Charging Cable</td>\n",
       "      <td>1</td>\n",
       "      <td>11</td>\n",
       "      <td>2019-03-01 21:33:00</td>\n",
       "      <td>10 13th St, San Francisco, CA 94016</td>\n",
       "      <td>21</td>\n",
       "      <td>1</td>\n",
       "      <td>4</td>\n",
       "      <td>10 13th St</td>\n",
       "      <td>San Francisco</td>\n",
       "      <td>CA 94016</td>\n",
       "      <td>CA</td>\n",
       "      <td>94016</td>\n",
       "      <td>11</td>\n",
       "    </tr>\n",
       "    <tr>\n",
       "      <th>8</th>\n",
       "      <td>162015</td>\n",
       "      <td>AA Batteries (4-pack)</td>\n",
       "      <td>1</td>\n",
       "      <td>3</td>\n",
       "      <td>2019-03-02 08:52:00</td>\n",
       "      <td>949 Jefferson St, Boston, MA 02215</td>\n",
       "      <td>8</td>\n",
       "      <td>2</td>\n",
       "      <td>5</td>\n",
       "      <td>949 Jefferson St</td>\n",
       "      <td>Boston</td>\n",
       "      <td>MA 02215</td>\n",
       "      <td>MA</td>\n",
       "      <td>02215</td>\n",
       "      <td>3</td>\n",
       "    </tr>\n",
       "    <tr>\n",
       "      <th>9</th>\n",
       "      <td>162016</td>\n",
       "      <td>AAA Batteries (4-pack)</td>\n",
       "      <td>5</td>\n",
       "      <td>2</td>\n",
       "      <td>2019-03-19 21:10:00</td>\n",
       "      <td>469 Highland St, Atlanta, GA 30301</td>\n",
       "      <td>21</td>\n",
       "      <td>19</td>\n",
       "      <td>1</td>\n",
       "      <td>469 Highland St</td>\n",
       "      <td>Atlanta</td>\n",
       "      <td>GA 30301</td>\n",
       "      <td>GA</td>\n",
       "      <td>30301</td>\n",
       "      <td>10</td>\n",
       "    </tr>\n",
       "    <tr>\n",
       "      <th>10</th>\n",
       "      <td>162017</td>\n",
       "      <td>Lightning Charging Cable</td>\n",
       "      <td>1</td>\n",
       "      <td>14</td>\n",
       "      <td>2019-03-02 13:55:00</td>\n",
       "      <td>449 River St, San Francisco, CA 94016</td>\n",
       "      <td>13</td>\n",
       "      <td>2</td>\n",
       "      <td>5</td>\n",
       "      <td>449 River St</td>\n",
       "      <td>San Francisco</td>\n",
       "      <td>CA 94016</td>\n",
       "      <td>CA</td>\n",
       "      <td>94016</td>\n",
       "      <td>14</td>\n",
       "    </tr>\n",
       "    <tr>\n",
       "      <th>11</th>\n",
       "      <td>162018</td>\n",
       "      <td>USB-C Charging Cable</td>\n",
       "      <td>2</td>\n",
       "      <td>11</td>\n",
       "      <td>2019-03-18 11:07:00</td>\n",
       "      <td>925 Maple St, Portland, OR 97035</td>\n",
       "      <td>11</td>\n",
       "      <td>18</td>\n",
       "      <td>0</td>\n",
       "      <td>925 Maple St</td>\n",
       "      <td>Portland</td>\n",
       "      <td>OR 97035</td>\n",
       "      <td>OR</td>\n",
       "      <td>97035</td>\n",
       "      <td>22</td>\n",
       "    </tr>\n",
       "    <tr>\n",
       "      <th>12</th>\n",
       "      <td>162019</td>\n",
       "      <td>AAA Batteries (4-pack)</td>\n",
       "      <td>1</td>\n",
       "      <td>2</td>\n",
       "      <td>2019-03-05 12:20:00</td>\n",
       "      <td>639 4th St, Atlanta, GA 30301</td>\n",
       "      <td>12</td>\n",
       "      <td>5</td>\n",
       "      <td>1</td>\n",
       "      <td>639 4th St</td>\n",
       "      <td>Atlanta</td>\n",
       "      <td>GA 30301</td>\n",
       "      <td>GA</td>\n",
       "      <td>30301</td>\n",
       "      <td>2</td>\n",
       "    </tr>\n",
       "    <tr>\n",
       "      <th>13</th>\n",
       "      <td>162020</td>\n",
       "      <td>LG Washing Machine</td>\n",
       "      <td>1</td>\n",
       "      <td>600</td>\n",
       "      <td>2019-03-26 18:17:00</td>\n",
       "      <td>616 Jackson St, Dallas, TX 75001</td>\n",
       "      <td>18</td>\n",
       "      <td>26</td>\n",
       "      <td>1</td>\n",
       "      <td>616 Jackson St</td>\n",
       "      <td>Dallas</td>\n",
       "      <td>TX 75001</td>\n",
       "      <td>TX</td>\n",
       "      <td>75001</td>\n",
       "      <td>600</td>\n",
       "    </tr>\n",
       "    <tr>\n",
       "      <th>14</th>\n",
       "      <td>162021</td>\n",
       "      <td>Wired Headphones</td>\n",
       "      <td>1</td>\n",
       "      <td>11</td>\n",
       "      <td>2019-03-30 12:02:00</td>\n",
       "      <td>645 Wilson St, Los Angeles, CA 90001</td>\n",
       "      <td>12</td>\n",
       "      <td>30</td>\n",
       "      <td>5</td>\n",
       "      <td>645 Wilson St</td>\n",
       "      <td>Los Angeles</td>\n",
       "      <td>CA 90001</td>\n",
       "      <td>CA</td>\n",
       "      <td>90001</td>\n",
       "      <td>11</td>\n",
       "    </tr>\n",
       "  </tbody>\n",
       "</table>\n",
       "</div>"
      ],
      "text/plain": [
       "   ID de Pedido                    Producto  Cantidad Pedida  Precio Unitario  \\\n",
       "0        162009                      iPhone                1              700   \n",
       "1        162009    Lightning Charging Cable                1               14   \n",
       "2        162009            Wired Headphones                2               11   \n",
       "3        162010  Bose SoundSport Headphones                1               99   \n",
       "4        162011      34in Ultrawide Monitor                1              379   \n",
       "5        162012       AA Batteries (4-pack)                1                3   \n",
       "6        162013      34in Ultrawide Monitor                1              379   \n",
       "7        162014        USB-C Charging Cable                1               11   \n",
       "8        162015       AA Batteries (4-pack)                1                3   \n",
       "9        162016      AAA Batteries (4-pack)                5                2   \n",
       "10       162017    Lightning Charging Cable                1               14   \n",
       "11       162018        USB-C Charging Cable                2               11   \n",
       "12       162019      AAA Batteries (4-pack)                1                2   \n",
       "13       162020          LG Washing Machine                1              600   \n",
       "14       162021            Wired Headphones                1               11   \n",
       "\n",
       "       Fecha de Pedido                     Dirección de Envio  Hora  Dia  \\\n",
       "0  2019-03-28 20:59:00        942 Church St, Austin, TX 73301    20   28   \n",
       "1  2019-03-28 20:59:00        942 Church St, Austin, TX 73301    20   28   \n",
       "2  2019-03-28 20:59:00        942 Church St, Austin, TX 73301    20   28   \n",
       "3  2019-03-17 05:39:00   261 10th St, San Francisco, CA 94016     5   17   \n",
       "4  2019-03-10 00:01:00   764 13th St, San Francisco, CA 94016     0   10   \n",
       "5  2019-03-20 21:33:00  187 Ridge St, San Francisco, CA 94016    21   20   \n",
       "6  2019-03-15 23:05:00          904 Main St, Austin, TX 73301    23   15   \n",
       "7  2019-03-01 21:33:00    10 13th St, San Francisco, CA 94016    21    1   \n",
       "8  2019-03-02 08:52:00     949 Jefferson St, Boston, MA 02215     8    2   \n",
       "9  2019-03-19 21:10:00     469 Highland St, Atlanta, GA 30301    21   19   \n",
       "10 2019-03-02 13:55:00  449 River St, San Francisco, CA 94016    13    2   \n",
       "11 2019-03-18 11:07:00       925 Maple St, Portland, OR 97035    11   18   \n",
       "12 2019-03-05 12:20:00          639 4th St, Atlanta, GA 30301    12    5   \n",
       "13 2019-03-26 18:17:00       616 Jackson St, Dallas, TX 75001    18   26   \n",
       "14 2019-03-30 12:02:00   645 Wilson St, Los Angeles, CA 90001    12   30   \n",
       "\n",
       "    Dia semanal             Calle         Ciudad    PO BOX Estado Cod Postal  \\\n",
       "0             3     942 Church St         Austin  TX 73301     TX      73301   \n",
       "1             3     942 Church St         Austin  TX 73301     TX      73301   \n",
       "2             3     942 Church St         Austin  TX 73301     TX      73301   \n",
       "3             6       261 10th St  San Francisco  CA 94016     CA      94016   \n",
       "4             6       764 13th St  San Francisco  CA 94016     CA      94016   \n",
       "5             2      187 Ridge St  San Francisco  CA 94016     CA      94016   \n",
       "6             4       904 Main St         Austin  TX 73301     TX      73301   \n",
       "7             4        10 13th St  San Francisco  CA 94016     CA      94016   \n",
       "8             5  949 Jefferson St         Boston  MA 02215     MA      02215   \n",
       "9             1   469 Highland St        Atlanta  GA 30301     GA      30301   \n",
       "10            5      449 River St  San Francisco  CA 94016     CA      94016   \n",
       "11            0      925 Maple St       Portland  OR 97035     OR      97035   \n",
       "12            1        639 4th St        Atlanta  GA 30301     GA      30301   \n",
       "13            1    616 Jackson St         Dallas  TX 75001     TX      75001   \n",
       "14            5     645 Wilson St    Los Angeles  CA 90001     CA      90001   \n",
       "\n",
       "    Ingreso  \n",
       "0       700  \n",
       "1        14  \n",
       "2        22  \n",
       "3        99  \n",
       "4       379  \n",
       "5         3  \n",
       "6       379  \n",
       "7        11  \n",
       "8         3  \n",
       "9        10  \n",
       "10       14  \n",
       "11       22  \n",
       "12        2  \n",
       "13      600  \n",
       "14       11  "
      ]
     },
     "execution_count": 74,
     "metadata": {},
     "output_type": "execute_result"
    }
   ],
   "source": [
    "# Se analiza el mes de Marzo\n",
    "dataframes_meses['Marzo'].head(15)"
   ]
  },
  {
   "cell_type": "code",
   "execution_count": 75,
   "metadata": {},
   "outputs": [
    {
     "data": {
      "text/plain": [
       "Producto\n",
       "20in Monitor                   325\n",
       "27in 4K Gaming Monitor         479\n",
       "27in FHD Monitor               608\n",
       "34in Ultrawide Monitor         523\n",
       "AA Batteries (4-pack)         2213\n",
       "AAA Batteries (4-pack)        2476\n",
       "Apple Airpods Headphones      1316\n",
       "Bose SoundSport Headphones    1194\n",
       "Flatscreen TV                  361\n",
       "Google Phone                   463\n",
       "LG Dryer                        50\n",
       "LG Washing Machine              64\n",
       "Lightning Charging Cable      1871\n",
       "Macbook Pro Laptop             380\n",
       "ThinkPad Laptop                344\n",
       "USB-C Charging Cable          1940\n",
       "Vareebadd Phone                174\n",
       "Wired Headphones              1661\n",
       "iPhone                         538\n",
       "Name: Cantidad Pedida, dtype: int32"
      ]
     },
     "execution_count": 75,
     "metadata": {},
     "output_type": "execute_result"
    }
   ],
   "source": [
    "# Se agrupa por producto y se calcula el total de ventas por producto\n",
    "total_ventas_producto =  dataframes_meses['Marzo'].groupby('Producto')['Cantidad Pedida'].sum()\n",
    "total_ventas_producto\n"
   ]
  },
  {
   "cell_type": "code",
   "execution_count": 76,
   "metadata": {},
   "outputs": [
    {
     "data": {
      "text/plain": [
       "['20in Monitor',\n",
       " '27in 4K Gaming Monitor',\n",
       " '27in FHD Monitor',\n",
       " '34in Ultrawide Monitor',\n",
       " 'AA Batteries (4-pack)',\n",
       " 'AAA Batteries (4-pack)',\n",
       " 'Apple Airpods Headphones',\n",
       " 'Bose SoundSport Headphones',\n",
       " 'Flatscreen TV',\n",
       " 'Google Phone',\n",
       " 'LG Dryer',\n",
       " 'LG Washing Machine',\n",
       " 'Lightning Charging Cable',\n",
       " 'Macbook Pro Laptop',\n",
       " 'ThinkPad Laptop',\n",
       " 'USB-C Charging Cable',\n",
       " 'Vareebadd Phone',\n",
       " 'Wired Headphones',\n",
       " 'iPhone']"
      ]
     },
     "execution_count": 76,
     "metadata": {},
     "output_type": "execute_result"
    }
   ],
   "source": [
    "# Se recupera el nombre de los productos\n",
    "productos = total_ventas_producto.index.to_list()\n",
    "productos"
   ]
  },
  {
   "cell_type": "code",
   "execution_count": 77,
   "metadata": {},
   "outputs": [
    {
     "data": {
      "text/plain": [
       "'AAA Batteries (4-pack)'"
      ]
     },
     "execution_count": 77,
     "metadata": {},
     "output_type": "execute_result"
    }
   ],
   "source": [
    "# Se recupera el producto con mayor cantidad de ventas\n",
    "producto_mas_vendido = total_ventas_producto.idxmax()\n",
    "producto_mas_vendido"
   ]
  },
  {
   "cell_type": "markdown",
   "metadata": {},
   "source": [
    "### ● ¿Cuál es el producto más vendido en general y en cada mes?\n"
   ]
  },
  {
   "cell_type": "code",
   "execution_count": 78,
   "metadata": {},
   "outputs": [
    {
     "data": {
      "text/plain": [
       "[Producto\n",
       " 20in Monitor                   215\n",
       " 27in 4K Gaming Monitor         312\n",
       " 27in FHD Monitor               419\n",
       " 34in Ultrawide Monitor         314\n",
       " AA Batteries (4-pack)         1424\n",
       " AAA Batteries (4-pack)        1596\n",
       " Apple Airpods Headphones       813\n",
       " Bose SoundSport Headphones     659\n",
       " Flatscreen TV                  243\n",
       " Google Phone                   317\n",
       " LG Dryer                        39\n",
       " LG Washing Machine              42\n",
       " Lightning Charging Cable      1149\n",
       " Macbook Pro Laptop             235\n",
       " ThinkPad Laptop                217\n",
       " USB-C Charging Cable          1281\n",
       " Vareebadd Phone                125\n",
       " Wired Headphones              1079\n",
       " iPhone                         379\n",
       " Name: Cantidad Pedida, dtype: int32,\n",
       " Producto\n",
       " 20in Monitor                   246\n",
       " 27in 4K Gaming Monitor         427\n",
       " 27in FHD Monitor               475\n",
       " 34in Ultrawide Monitor         417\n",
       " AA Batteries (4-pack)         1734\n",
       " AAA Batteries (4-pack)        1974\n",
       " Apple Airpods Headphones      1012\n",
       " Bose SoundSport Headphones     842\n",
       " Flatscreen TV                  314\n",
       " Google Phone                   381\n",
       " LG Dryer                        38\n",
       " LG Washing Machine              40\n",
       " Lightning Charging Cable      1495\n",
       " Macbook Pro Laptop             275\n",
       " ThinkPad Laptop                277\n",
       " USB-C Charging Cable          1651\n",
       " Vareebadd Phone                129\n",
       " Wired Headphones              1278\n",
       " iPhone                         438\n",
       " Name: Cantidad Pedida, dtype: int32,\n",
       " Producto\n",
       " 20in Monitor                   325\n",
       " 27in 4K Gaming Monitor         479\n",
       " 27in FHD Monitor               608\n",
       " 34in Ultrawide Monitor         523\n",
       " AA Batteries (4-pack)         2213\n",
       " AAA Batteries (4-pack)        2476\n",
       " Apple Airpods Headphones      1316\n",
       " Bose SoundSport Headphones    1194\n",
       " Flatscreen TV                  361\n",
       " Google Phone                   463\n",
       " LG Dryer                        50\n",
       " LG Washing Machine              64\n",
       " Lightning Charging Cable      1871\n",
       " Macbook Pro Laptop             380\n",
       " ThinkPad Laptop                344\n",
       " USB-C Charging Cable          1940\n",
       " Vareebadd Phone                174\n",
       " Wired Headphones              1661\n",
       " iPhone                         538\n",
       " Name: Cantidad Pedida, dtype: int32,\n",
       " Producto\n",
       " 20in Monitor                   394\n",
       " 27in 4K Gaming Monitor         565\n",
       " 27in FHD Monitor               737\n",
       " 34in Ultrawide Monitor         652\n",
       " AA Batteries (4-pack)         2821\n",
       " AAA Batteries (4-pack)        2933\n",
       " Apple Airpods Headphones      1523\n",
       " Bose SoundSport Headphones    1286\n",
       " Flatscreen TV                  458\n",
       " Google Phone                   581\n",
       " LG Dryer                        77\n",
       " LG Washing Machine              61\n",
       " Lightning Charging Cable      2365\n",
       " Macbook Pro Laptop             455\n",
       " ThinkPad Laptop                392\n",
       " USB-C Charging Cable          2266\n",
       " Vareebadd Phone                220\n",
       " Wired Headphones              2065\n",
       " iPhone                         695\n",
       " Name: Cantidad Pedida, dtype: int32,\n",
       " Producto\n",
       " 20in Monitor                   340\n",
       " 27in 4K Gaming Monitor         542\n",
       " 27in FHD Monitor               688\n",
       " 34in Ultrawide Monitor         544\n",
       " AA Batteries (4-pack)         2382\n",
       " AAA Batteries (4-pack)        2927\n",
       " Apple Airpods Headphones      1359\n",
       " Bose SoundSport Headphones    1172\n",
       " Flatscreen TV                  399\n",
       " Google Phone                   480\n",
       " LG Dryer                        76\n",
       " LG Washing Machine              64\n",
       " Lightning Charging Cable      2076\n",
       " Macbook Pro Laptop             462\n",
       " ThinkPad Laptop                368\n",
       " USB-C Charging Cable          2065\n",
       " Vareebadd Phone                186\n",
       " Wired Headphones              1874\n",
       " iPhone                         639\n",
       " Name: Cantidad Pedida, dtype: int32,\n",
       " Producto\n",
       " 20in Monitor                   321\n",
       " 27in 4K Gaming Monitor         452\n",
       " 27in FHD Monitor               568\n",
       " 34in Ultrawide Monitor         454\n",
       " AA Batteries (4-pack)         2092\n",
       " AAA Batteries (4-pack)        2159\n",
       " Apple Airpods Headphones      1165\n",
       " Bose SoundSport Headphones     980\n",
       " Flatscreen TV                  367\n",
       " Google Phone                   391\n",
       " LG Dryer                        43\n",
       " LG Washing Machine              55\n",
       " Lightning Charging Cable      1684\n",
       " Macbook Pro Laptop             356\n",
       " ThinkPad Laptop                315\n",
       " USB-C Charging Cable          1673\n",
       " Vareebadd Phone                155\n",
       " Wired Headphones              1475\n",
       " iPhone                         531\n",
       " Name: Cantidad Pedida, dtype: int32,\n",
       " Producto\n",
       " 20in Monitor                   327\n",
       " 27in 4K Gaming Monitor         483\n",
       " 27in FHD Monitor               603\n",
       " 34in Ultrawide Monitor         462\n",
       " AA Batteries (4-pack)         2071\n",
       " AAA Batteries (4-pack)        2362\n",
       " Apple Airpods Headphones      1221\n",
       " Bose SoundSport Headphones    1057\n",
       " Flatscreen TV                  399\n",
       " Google Phone                   410\n",
       " LG Dryer                        55\n",
       " LG Washing Machine              52\n",
       " Lightning Charging Cable      1807\n",
       " Macbook Pro Laptop             368\n",
       " ThinkPad Laptop                318\n",
       " USB-C Charging Cable          1846\n",
       " Vareebadd Phone                145\n",
       " Wired Headphones              1562\n",
       " iPhone                         503\n",
       " Name: Cantidad Pedida, dtype: int32,\n",
       " Producto\n",
       " 20in Monitor                   262\n",
       " 27in 4K Gaming Monitor         438\n",
       " 27in FHD Monitor               491\n",
       " 34in Ultrawide Monitor         379\n",
       " AA Batteries (4-pack)         1826\n",
       " AAA Batteries (4-pack)        2017\n",
       " Apple Airpods Headphones      1009\n",
       " Bose SoundSport Headphones     879\n",
       " Flatscreen TV                  331\n",
       " Google Phone                   360\n",
       " LG Dryer                        46\n",
       " LG Washing Machine              48\n",
       " Lightning Charging Cable      1438\n",
       " Macbook Pro Laptop             298\n",
       " ThinkPad Laptop                275\n",
       " USB-C Charging Cable          1457\n",
       " Vareebadd Phone                143\n",
       " Wired Headphones              1288\n",
       " iPhone                         438\n",
       " Name: Cantidad Pedida, dtype: int32,\n",
       " Producto\n",
       " 20in Monitor                   277\n",
       " 27in 4K Gaming Monitor         382\n",
       " 27in FHD Monitor               480\n",
       " 34in Ultrawide Monitor         377\n",
       " AA Batteries (4-pack)         1772\n",
       " AAA Batteries (4-pack)        1926\n",
       " Apple Airpods Headphones       964\n",
       " Bose SoundSport Headphones     830\n",
       " Flatscreen TV                  294\n",
       " Google Phone                   342\n",
       " LG Dryer                        30\n",
       " LG Washing Machine              46\n",
       " Lightning Charging Cable      1429\n",
       " Macbook Pro Laptop             287\n",
       " ThinkPad Laptop                249\n",
       " USB-C Charging Cable          1591\n",
       " Vareebadd Phone                126\n",
       " Wired Headphones              1301\n",
       " iPhone                         398\n",
       " Name: Cantidad Pedida, dtype: int32,\n",
       " Producto\n",
       " 20in Monitor                   427\n",
       " 27in 4K Gaming Monitor         722\n",
       " 27in FHD Monitor               790\n",
       " 34in Ultrawide Monitor         672\n",
       " AA Batteries (4-pack)         2938\n",
       " AAA Batteries (4-pack)        3356\n",
       " Apple Airpods Headphones      1672\n",
       " Bose SoundSport Headphones    1462\n",
       " Flatscreen TV                  524\n",
       " Google Phone                   597\n",
       " LG Dryer                        50\n",
       " LG Washing Machine              61\n",
       " Lightning Charging Cable      2562\n",
       " Macbook Pro Laptop             525\n",
       " ThinkPad Laptop                460\n",
       " USB-C Charging Cable          2664\n",
       " Vareebadd Phone                203\n",
       " Wired Headphones              2270\n",
       " iPhone                         716\n",
       " Name: Cantidad Pedida, dtype: int32,\n",
       " Producto\n",
       " 20in Monitor                   421\n",
       " 27in 4K Gaming Monitor         578\n",
       " 27in FHD Monitor               717\n",
       " 34in Ultrawide Monitor         550\n",
       " AA Batteries (4-pack)         2629\n",
       " AAA Batteries (4-pack)        3023\n",
       " Apple Airpods Headphones      1509\n",
       " Bose SoundSport Headphones    1248\n",
       " Flatscreen TV                  460\n",
       " Google Phone                   491\n",
       " LG Dryer                        56\n",
       " LG Washing Machine              53\n",
       " Lightning Charging Cable      2210\n",
       " Macbook Pro Laptop             440\n",
       " ThinkPad Laptop                374\n",
       " USB-C Charging Cable          2247\n",
       " Vareebadd Phone                177\n",
       " Wired Headphones              1932\n",
       " iPhone                         664\n",
       " Name: Cantidad Pedida, dtype: int32,\n",
       " Producto\n",
       " 20in Monitor                   571\n",
       " 27in 4K Gaming Monitor         859\n",
       " 27in FHD Monitor               965\n",
       " 34in Ultrawide Monitor         848\n",
       " AA Batteries (4-pack)         3713\n",
       " AAA Batteries (4-pack)        4237\n",
       " Apple Airpods Headphones      2074\n",
       " Bose SoundSport Headphones    1821\n",
       " Flatscreen TV                  663\n",
       " Google Phone                   716\n",
       " LG Dryer                        86\n",
       " LG Washing Machine              80\n",
       " Lightning Charging Cable      3083\n",
       " Macbook Pro Laptop             644\n",
       " ThinkPad Laptop                539\n",
       " USB-C Charging Cable          3250\n",
       " Vareebadd Phone                285\n",
       " Wired Headphones              2739\n",
       " iPhone                         908\n",
       " Name: Cantidad Pedida, dtype: int32]"
      ]
     },
     "execution_count": 78,
     "metadata": {},
     "output_type": "execute_result"
    }
   ],
   "source": [
    "# Se crea una lista para almacenar el total de ventas por producto por mes y el total anual de ventas por productos\n",
    "total_ventas_producto_mes = []\n",
    "total_ventas_anual_producto = []\n",
    "\n",
    "# Se recorre el diccionario de dataframes de ventas por mes\n",
    "for mes in meses:\n",
    "    # Se obtiene el dataframe de ventas del mes\n",
    "    dataframe_mes = dataframes_meses[mes]\n",
    "    \n",
    "    # Se obtiene el total de ventas por producto del mes\n",
    "    total_ventas_producto_mes = dataframe_mes.groupby('Producto')['Cantidad Pedida'].sum()\n",
    "    \n",
    "    # Se agrega el total de ventas por producto al anual\n",
    "    total_ventas_anual_producto.append(total_ventas_producto_mes)\n",
    "\n",
    "total_ventas_anual_producto"
   ]
  },
  {
   "cell_type": "code",
   "execution_count": 79,
   "metadata": {},
   "outputs": [
    {
     "data": {
      "text/html": [
       "<div>\n",
       "<style scoped>\n",
       "    .dataframe tbody tr th:only-of-type {\n",
       "        vertical-align: middle;\n",
       "    }\n",
       "\n",
       "    .dataframe tbody tr th {\n",
       "        vertical-align: top;\n",
       "    }\n",
       "\n",
       "    .dataframe thead th {\n",
       "        text-align: right;\n",
       "    }\n",
       "</style>\n",
       "<table border=\"1\" class=\"dataframe\">\n",
       "  <thead>\n",
       "    <tr style=\"text-align: right;\">\n",
       "      <th></th>\n",
       "      <th>Enero</th>\n",
       "      <th>Febrero</th>\n",
       "      <th>Marzo</th>\n",
       "      <th>Abril</th>\n",
       "      <th>Mayo</th>\n",
       "      <th>Junio</th>\n",
       "      <th>Julio</th>\n",
       "      <th>Agosto</th>\n",
       "      <th>Septiembre</th>\n",
       "      <th>Octubre</th>\n",
       "      <th>Noviembre</th>\n",
       "      <th>Diciembre</th>\n",
       "      <th>Total de ventas</th>\n",
       "    </tr>\n",
       "    <tr>\n",
       "      <th>Producto</th>\n",
       "      <th></th>\n",
       "      <th></th>\n",
       "      <th></th>\n",
       "      <th></th>\n",
       "      <th></th>\n",
       "      <th></th>\n",
       "      <th></th>\n",
       "      <th></th>\n",
       "      <th></th>\n",
       "      <th></th>\n",
       "      <th></th>\n",
       "      <th></th>\n",
       "      <th></th>\n",
       "    </tr>\n",
       "  </thead>\n",
       "  <tbody>\n",
       "    <tr>\n",
       "      <th>20in Monitor</th>\n",
       "      <td>215</td>\n",
       "      <td>246</td>\n",
       "      <td>325</td>\n",
       "      <td>394</td>\n",
       "      <td>340</td>\n",
       "      <td>321</td>\n",
       "      <td>327</td>\n",
       "      <td>262</td>\n",
       "      <td>277</td>\n",
       "      <td>427</td>\n",
       "      <td>421</td>\n",
       "      <td>571</td>\n",
       "      <td>4126</td>\n",
       "    </tr>\n",
       "    <tr>\n",
       "      <th>27in 4K Gaming Monitor</th>\n",
       "      <td>312</td>\n",
       "      <td>427</td>\n",
       "      <td>479</td>\n",
       "      <td>565</td>\n",
       "      <td>542</td>\n",
       "      <td>452</td>\n",
       "      <td>483</td>\n",
       "      <td>438</td>\n",
       "      <td>382</td>\n",
       "      <td>722</td>\n",
       "      <td>578</td>\n",
       "      <td>859</td>\n",
       "      <td>6239</td>\n",
       "    </tr>\n",
       "    <tr>\n",
       "      <th>27in FHD Monitor</th>\n",
       "      <td>419</td>\n",
       "      <td>475</td>\n",
       "      <td>608</td>\n",
       "      <td>737</td>\n",
       "      <td>688</td>\n",
       "      <td>568</td>\n",
       "      <td>603</td>\n",
       "      <td>491</td>\n",
       "      <td>480</td>\n",
       "      <td>790</td>\n",
       "      <td>717</td>\n",
       "      <td>965</td>\n",
       "      <td>7541</td>\n",
       "    </tr>\n",
       "    <tr>\n",
       "      <th>34in Ultrawide Monitor</th>\n",
       "      <td>314</td>\n",
       "      <td>417</td>\n",
       "      <td>523</td>\n",
       "      <td>652</td>\n",
       "      <td>544</td>\n",
       "      <td>454</td>\n",
       "      <td>462</td>\n",
       "      <td>379</td>\n",
       "      <td>377</td>\n",
       "      <td>672</td>\n",
       "      <td>550</td>\n",
       "      <td>848</td>\n",
       "      <td>6192</td>\n",
       "    </tr>\n",
       "    <tr>\n",
       "      <th>AA Batteries (4-pack)</th>\n",
       "      <td>1424</td>\n",
       "      <td>1734</td>\n",
       "      <td>2213</td>\n",
       "      <td>2821</td>\n",
       "      <td>2382</td>\n",
       "      <td>2092</td>\n",
       "      <td>2071</td>\n",
       "      <td>1826</td>\n",
       "      <td>1772</td>\n",
       "      <td>2938</td>\n",
       "      <td>2629</td>\n",
       "      <td>3713</td>\n",
       "      <td>27615</td>\n",
       "    </tr>\n",
       "    <tr>\n",
       "      <th>AAA Batteries (4-pack)</th>\n",
       "      <td>1596</td>\n",
       "      <td>1974</td>\n",
       "      <td>2476</td>\n",
       "      <td>2933</td>\n",
       "      <td>2927</td>\n",
       "      <td>2159</td>\n",
       "      <td>2362</td>\n",
       "      <td>2017</td>\n",
       "      <td>1926</td>\n",
       "      <td>3356</td>\n",
       "      <td>3023</td>\n",
       "      <td>4237</td>\n",
       "      <td>30986</td>\n",
       "    </tr>\n",
       "    <tr>\n",
       "      <th>Apple Airpods Headphones</th>\n",
       "      <td>813</td>\n",
       "      <td>1012</td>\n",
       "      <td>1316</td>\n",
       "      <td>1523</td>\n",
       "      <td>1359</td>\n",
       "      <td>1165</td>\n",
       "      <td>1221</td>\n",
       "      <td>1009</td>\n",
       "      <td>964</td>\n",
       "      <td>1672</td>\n",
       "      <td>1509</td>\n",
       "      <td>2074</td>\n",
       "      <td>15637</td>\n",
       "    </tr>\n",
       "    <tr>\n",
       "      <th>Bose SoundSport Headphones</th>\n",
       "      <td>659</td>\n",
       "      <td>842</td>\n",
       "      <td>1194</td>\n",
       "      <td>1286</td>\n",
       "      <td>1172</td>\n",
       "      <td>980</td>\n",
       "      <td>1057</td>\n",
       "      <td>879</td>\n",
       "      <td>830</td>\n",
       "      <td>1462</td>\n",
       "      <td>1248</td>\n",
       "      <td>1821</td>\n",
       "      <td>13430</td>\n",
       "    </tr>\n",
       "    <tr>\n",
       "      <th>Flatscreen TV</th>\n",
       "      <td>243</td>\n",
       "      <td>314</td>\n",
       "      <td>361</td>\n",
       "      <td>458</td>\n",
       "      <td>399</td>\n",
       "      <td>367</td>\n",
       "      <td>399</td>\n",
       "      <td>331</td>\n",
       "      <td>294</td>\n",
       "      <td>524</td>\n",
       "      <td>460</td>\n",
       "      <td>663</td>\n",
       "      <td>4813</td>\n",
       "    </tr>\n",
       "    <tr>\n",
       "      <th>Google Phone</th>\n",
       "      <td>317</td>\n",
       "      <td>381</td>\n",
       "      <td>463</td>\n",
       "      <td>581</td>\n",
       "      <td>480</td>\n",
       "      <td>391</td>\n",
       "      <td>410</td>\n",
       "      <td>360</td>\n",
       "      <td>342</td>\n",
       "      <td>597</td>\n",
       "      <td>491</td>\n",
       "      <td>716</td>\n",
       "      <td>5529</td>\n",
       "    </tr>\n",
       "    <tr>\n",
       "      <th>LG Dryer</th>\n",
       "      <td>39</td>\n",
       "      <td>38</td>\n",
       "      <td>50</td>\n",
       "      <td>77</td>\n",
       "      <td>76</td>\n",
       "      <td>43</td>\n",
       "      <td>55</td>\n",
       "      <td>46</td>\n",
       "      <td>30</td>\n",
       "      <td>50</td>\n",
       "      <td>56</td>\n",
       "      <td>86</td>\n",
       "      <td>646</td>\n",
       "    </tr>\n",
       "    <tr>\n",
       "      <th>LG Washing Machine</th>\n",
       "      <td>42</td>\n",
       "      <td>40</td>\n",
       "      <td>64</td>\n",
       "      <td>61</td>\n",
       "      <td>64</td>\n",
       "      <td>55</td>\n",
       "      <td>52</td>\n",
       "      <td>48</td>\n",
       "      <td>46</td>\n",
       "      <td>61</td>\n",
       "      <td>53</td>\n",
       "      <td>80</td>\n",
       "      <td>666</td>\n",
       "    </tr>\n",
       "    <tr>\n",
       "      <th>Lightning Charging Cable</th>\n",
       "      <td>1149</td>\n",
       "      <td>1495</td>\n",
       "      <td>1871</td>\n",
       "      <td>2365</td>\n",
       "      <td>2076</td>\n",
       "      <td>1684</td>\n",
       "      <td>1807</td>\n",
       "      <td>1438</td>\n",
       "      <td>1429</td>\n",
       "      <td>2562</td>\n",
       "      <td>2210</td>\n",
       "      <td>3083</td>\n",
       "      <td>23169</td>\n",
       "    </tr>\n",
       "    <tr>\n",
       "      <th>Macbook Pro Laptop</th>\n",
       "      <td>235</td>\n",
       "      <td>275</td>\n",
       "      <td>380</td>\n",
       "      <td>455</td>\n",
       "      <td>462</td>\n",
       "      <td>356</td>\n",
       "      <td>368</td>\n",
       "      <td>298</td>\n",
       "      <td>287</td>\n",
       "      <td>525</td>\n",
       "      <td>440</td>\n",
       "      <td>644</td>\n",
       "      <td>4725</td>\n",
       "    </tr>\n",
       "    <tr>\n",
       "      <th>ThinkPad Laptop</th>\n",
       "      <td>217</td>\n",
       "      <td>277</td>\n",
       "      <td>344</td>\n",
       "      <td>392</td>\n",
       "      <td>368</td>\n",
       "      <td>315</td>\n",
       "      <td>318</td>\n",
       "      <td>275</td>\n",
       "      <td>249</td>\n",
       "      <td>460</td>\n",
       "      <td>374</td>\n",
       "      <td>539</td>\n",
       "      <td>4128</td>\n",
       "    </tr>\n",
       "    <tr>\n",
       "      <th>USB-C Charging Cable</th>\n",
       "      <td>1281</td>\n",
       "      <td>1651</td>\n",
       "      <td>1940</td>\n",
       "      <td>2266</td>\n",
       "      <td>2065</td>\n",
       "      <td>1673</td>\n",
       "      <td>1846</td>\n",
       "      <td>1457</td>\n",
       "      <td>1591</td>\n",
       "      <td>2664</td>\n",
       "      <td>2247</td>\n",
       "      <td>3250</td>\n",
       "      <td>23931</td>\n",
       "    </tr>\n",
       "    <tr>\n",
       "      <th>Vareebadd Phone</th>\n",
       "      <td>125</td>\n",
       "      <td>129</td>\n",
       "      <td>174</td>\n",
       "      <td>220</td>\n",
       "      <td>186</td>\n",
       "      <td>155</td>\n",
       "      <td>145</td>\n",
       "      <td>143</td>\n",
       "      <td>126</td>\n",
       "      <td>203</td>\n",
       "      <td>177</td>\n",
       "      <td>285</td>\n",
       "      <td>2068</td>\n",
       "    </tr>\n",
       "    <tr>\n",
       "      <th>Wired Headphones</th>\n",
       "      <td>1079</td>\n",
       "      <td>1278</td>\n",
       "      <td>1661</td>\n",
       "      <td>2065</td>\n",
       "      <td>1874</td>\n",
       "      <td>1475</td>\n",
       "      <td>1562</td>\n",
       "      <td>1288</td>\n",
       "      <td>1301</td>\n",
       "      <td>2270</td>\n",
       "      <td>1932</td>\n",
       "      <td>2739</td>\n",
       "      <td>20524</td>\n",
       "    </tr>\n",
       "    <tr>\n",
       "      <th>iPhone</th>\n",
       "      <td>379</td>\n",
       "      <td>438</td>\n",
       "      <td>538</td>\n",
       "      <td>695</td>\n",
       "      <td>639</td>\n",
       "      <td>531</td>\n",
       "      <td>503</td>\n",
       "      <td>438</td>\n",
       "      <td>398</td>\n",
       "      <td>716</td>\n",
       "      <td>664</td>\n",
       "      <td>908</td>\n",
       "      <td>6847</td>\n",
       "    </tr>\n",
       "  </tbody>\n",
       "</table>\n",
       "</div>"
      ],
      "text/plain": [
       "                            Enero  Febrero  Marzo  Abril  Mayo  Junio  Julio  \\\n",
       "Producto                                                                       \n",
       "20in Monitor                  215      246    325    394   340    321    327   \n",
       "27in 4K Gaming Monitor        312      427    479    565   542    452    483   \n",
       "27in FHD Monitor              419      475    608    737   688    568    603   \n",
       "34in Ultrawide Monitor        314      417    523    652   544    454    462   \n",
       "AA Batteries (4-pack)        1424     1734   2213   2821  2382   2092   2071   \n",
       "AAA Batteries (4-pack)       1596     1974   2476   2933  2927   2159   2362   \n",
       "Apple Airpods Headphones      813     1012   1316   1523  1359   1165   1221   \n",
       "Bose SoundSport Headphones    659      842   1194   1286  1172    980   1057   \n",
       "Flatscreen TV                 243      314    361    458   399    367    399   \n",
       "Google Phone                  317      381    463    581   480    391    410   \n",
       "LG Dryer                       39       38     50     77    76     43     55   \n",
       "LG Washing Machine             42       40     64     61    64     55     52   \n",
       "Lightning Charging Cable     1149     1495   1871   2365  2076   1684   1807   \n",
       "Macbook Pro Laptop            235      275    380    455   462    356    368   \n",
       "ThinkPad Laptop               217      277    344    392   368    315    318   \n",
       "USB-C Charging Cable         1281     1651   1940   2266  2065   1673   1846   \n",
       "Vareebadd Phone               125      129    174    220   186    155    145   \n",
       "Wired Headphones             1079     1278   1661   2065  1874   1475   1562   \n",
       "iPhone                        379      438    538    695   639    531    503   \n",
       "\n",
       "                            Agosto  Septiembre  Octubre  Noviembre  Diciembre  \\\n",
       "Producto                                                                        \n",
       "20in Monitor                   262         277      427        421        571   \n",
       "27in 4K Gaming Monitor         438         382      722        578        859   \n",
       "27in FHD Monitor               491         480      790        717        965   \n",
       "34in Ultrawide Monitor         379         377      672        550        848   \n",
       "AA Batteries (4-pack)         1826        1772     2938       2629       3713   \n",
       "AAA Batteries (4-pack)        2017        1926     3356       3023       4237   \n",
       "Apple Airpods Headphones      1009         964     1672       1509       2074   \n",
       "Bose SoundSport Headphones     879         830     1462       1248       1821   \n",
       "Flatscreen TV                  331         294      524        460        663   \n",
       "Google Phone                   360         342      597        491        716   \n",
       "LG Dryer                        46          30       50         56         86   \n",
       "LG Washing Machine              48          46       61         53         80   \n",
       "Lightning Charging Cable      1438        1429     2562       2210       3083   \n",
       "Macbook Pro Laptop             298         287      525        440        644   \n",
       "ThinkPad Laptop                275         249      460        374        539   \n",
       "USB-C Charging Cable          1457        1591     2664       2247       3250   \n",
       "Vareebadd Phone                143         126      203        177        285   \n",
       "Wired Headphones              1288        1301     2270       1932       2739   \n",
       "iPhone                         438         398      716        664        908   \n",
       "\n",
       "                            Total de ventas  \n",
       "Producto                                     \n",
       "20in Monitor                           4126  \n",
       "27in 4K Gaming Monitor                 6239  \n",
       "27in FHD Monitor                       7541  \n",
       "34in Ultrawide Monitor                 6192  \n",
       "AA Batteries (4-pack)                 27615  \n",
       "AAA Batteries (4-pack)                30986  \n",
       "Apple Airpods Headphones              15637  \n",
       "Bose SoundSport Headphones            13430  \n",
       "Flatscreen TV                          4813  \n",
       "Google Phone                           5529  \n",
       "LG Dryer                                646  \n",
       "LG Washing Machine                      666  \n",
       "Lightning Charging Cable              23169  \n",
       "Macbook Pro Laptop                     4725  \n",
       "ThinkPad Laptop                        4128  \n",
       "USB-C Charging Cable                  23931  \n",
       "Vareebadd Phone                        2068  \n",
       "Wired Headphones                      20524  \n",
       "iPhone                                 6847  "
      ]
     },
     "execution_count": 79,
     "metadata": {},
     "output_type": "execute_result"
    }
   ],
   "source": [
    "# Se pasa el arreglo de totales de ventas por producto a un dataframe\n",
    "df_total_ventas_anual_producto= pd.concat(total_ventas_anual_producto, axis=1)\n",
    "\n",
    "# Se asigna el nombre de las columnas\n",
    "df_total_ventas_anual_producto.columns = meses\n",
    "\n",
    "# Se calcula y se agrega la columna de la suma anual de ventas por producto\n",
    "df_total_ventas_anual_producto['Total de ventas'] = df_total_ventas_anual_producto.sum(axis=1)\n",
    "\n",
    "df_total_ventas_anual_producto"
   ]
  },
  {
   "cell_type": "code",
   "execution_count": 158,
   "metadata": {},
   "outputs": [
    {
     "data": {
      "application/vnd.plotly.v1+json": {
       "config": {
        "plotlyServerURL": "https://plot.ly"
       },
       "data": [
        {
         "hole": 0.2,
         "hoverinfo": "label+percent+name",
         "labels": [
          "20in Monitor",
          "27in 4K Gaming Monitor",
          "27in FHD Monitor",
          "34in Ultrawide Monitor",
          "AA Batteries (4-pack)",
          "AAA Batteries (4-pack)",
          "Apple Airpods Headphones",
          "Bose SoundSport Headphones",
          "Flatscreen TV",
          "Google Phone",
          "LG Dryer",
          "LG Washing Machine",
          "Lightning Charging Cable",
          "Macbook Pro Laptop",
          "ThinkPad Laptop",
          "USB-C Charging Cable",
          "Vareebadd Phone",
          "Wired Headphones",
          "iPhone"
         ],
         "marker": {
          "line": {
           "color": "#000000",
           "width": 1
          }
         },
         "name": "Total de Ventas Anual por Producto",
         "pull": 0.2,
         "textinfo": "percent",
         "type": "pie",
         "values": [
          4126,
          6239,
          7541,
          6192,
          27615,
          30986,
          15637,
          13430,
          4813,
          5529,
          646,
          666,
          23169,
          4725,
          4128,
          23931,
          2068,
          20524,
          6847
         ]
        }
       ],
       "layout": {
        "template": {
         "data": {
          "bar": [
           {
            "error_x": {
             "color": "#2a3f5f"
            },
            "error_y": {
             "color": "#2a3f5f"
            },
            "marker": {
             "line": {
              "color": "#E5ECF6",
              "width": 0.5
             },
             "pattern": {
              "fillmode": "overlay",
              "size": 10,
              "solidity": 0.2
             }
            },
            "type": "bar"
           }
          ],
          "barpolar": [
           {
            "marker": {
             "line": {
              "color": "#E5ECF6",
              "width": 0.5
             },
             "pattern": {
              "fillmode": "overlay",
              "size": 10,
              "solidity": 0.2
             }
            },
            "type": "barpolar"
           }
          ],
          "carpet": [
           {
            "aaxis": {
             "endlinecolor": "#2a3f5f",
             "gridcolor": "white",
             "linecolor": "white",
             "minorgridcolor": "white",
             "startlinecolor": "#2a3f5f"
            },
            "baxis": {
             "endlinecolor": "#2a3f5f",
             "gridcolor": "white",
             "linecolor": "white",
             "minorgridcolor": "white",
             "startlinecolor": "#2a3f5f"
            },
            "type": "carpet"
           }
          ],
          "choropleth": [
           {
            "colorbar": {
             "outlinewidth": 0,
             "ticks": ""
            },
            "type": "choropleth"
           }
          ],
          "contour": [
           {
            "colorbar": {
             "outlinewidth": 0,
             "ticks": ""
            },
            "colorscale": [
             [
              0,
              "#0d0887"
             ],
             [
              0.1111111111111111,
              "#46039f"
             ],
             [
              0.2222222222222222,
              "#7201a8"
             ],
             [
              0.3333333333333333,
              "#9c179e"
             ],
             [
              0.4444444444444444,
              "#bd3786"
             ],
             [
              0.5555555555555556,
              "#d8576b"
             ],
             [
              0.6666666666666666,
              "#ed7953"
             ],
             [
              0.7777777777777778,
              "#fb9f3a"
             ],
             [
              0.8888888888888888,
              "#fdca26"
             ],
             [
              1,
              "#f0f921"
             ]
            ],
            "type": "contour"
           }
          ],
          "contourcarpet": [
           {
            "colorbar": {
             "outlinewidth": 0,
             "ticks": ""
            },
            "type": "contourcarpet"
           }
          ],
          "heatmap": [
           {
            "colorbar": {
             "outlinewidth": 0,
             "ticks": ""
            },
            "colorscale": [
             [
              0,
              "#0d0887"
             ],
             [
              0.1111111111111111,
              "#46039f"
             ],
             [
              0.2222222222222222,
              "#7201a8"
             ],
             [
              0.3333333333333333,
              "#9c179e"
             ],
             [
              0.4444444444444444,
              "#bd3786"
             ],
             [
              0.5555555555555556,
              "#d8576b"
             ],
             [
              0.6666666666666666,
              "#ed7953"
             ],
             [
              0.7777777777777778,
              "#fb9f3a"
             ],
             [
              0.8888888888888888,
              "#fdca26"
             ],
             [
              1,
              "#f0f921"
             ]
            ],
            "type": "heatmap"
           }
          ],
          "heatmapgl": [
           {
            "colorbar": {
             "outlinewidth": 0,
             "ticks": ""
            },
            "colorscale": [
             [
              0,
              "#0d0887"
             ],
             [
              0.1111111111111111,
              "#46039f"
             ],
             [
              0.2222222222222222,
              "#7201a8"
             ],
             [
              0.3333333333333333,
              "#9c179e"
             ],
             [
              0.4444444444444444,
              "#bd3786"
             ],
             [
              0.5555555555555556,
              "#d8576b"
             ],
             [
              0.6666666666666666,
              "#ed7953"
             ],
             [
              0.7777777777777778,
              "#fb9f3a"
             ],
             [
              0.8888888888888888,
              "#fdca26"
             ],
             [
              1,
              "#f0f921"
             ]
            ],
            "type": "heatmapgl"
           }
          ],
          "histogram": [
           {
            "marker": {
             "pattern": {
              "fillmode": "overlay",
              "size": 10,
              "solidity": 0.2
             }
            },
            "type": "histogram"
           }
          ],
          "histogram2d": [
           {
            "colorbar": {
             "outlinewidth": 0,
             "ticks": ""
            },
            "colorscale": [
             [
              0,
              "#0d0887"
             ],
             [
              0.1111111111111111,
              "#46039f"
             ],
             [
              0.2222222222222222,
              "#7201a8"
             ],
             [
              0.3333333333333333,
              "#9c179e"
             ],
             [
              0.4444444444444444,
              "#bd3786"
             ],
             [
              0.5555555555555556,
              "#d8576b"
             ],
             [
              0.6666666666666666,
              "#ed7953"
             ],
             [
              0.7777777777777778,
              "#fb9f3a"
             ],
             [
              0.8888888888888888,
              "#fdca26"
             ],
             [
              1,
              "#f0f921"
             ]
            ],
            "type": "histogram2d"
           }
          ],
          "histogram2dcontour": [
           {
            "colorbar": {
             "outlinewidth": 0,
             "ticks": ""
            },
            "colorscale": [
             [
              0,
              "#0d0887"
             ],
             [
              0.1111111111111111,
              "#46039f"
             ],
             [
              0.2222222222222222,
              "#7201a8"
             ],
             [
              0.3333333333333333,
              "#9c179e"
             ],
             [
              0.4444444444444444,
              "#bd3786"
             ],
             [
              0.5555555555555556,
              "#d8576b"
             ],
             [
              0.6666666666666666,
              "#ed7953"
             ],
             [
              0.7777777777777778,
              "#fb9f3a"
             ],
             [
              0.8888888888888888,
              "#fdca26"
             ],
             [
              1,
              "#f0f921"
             ]
            ],
            "type": "histogram2dcontour"
           }
          ],
          "mesh3d": [
           {
            "colorbar": {
             "outlinewidth": 0,
             "ticks": ""
            },
            "type": "mesh3d"
           }
          ],
          "parcoords": [
           {
            "line": {
             "colorbar": {
              "outlinewidth": 0,
              "ticks": ""
             }
            },
            "type": "parcoords"
           }
          ],
          "pie": [
           {
            "automargin": true,
            "type": "pie"
           }
          ],
          "scatter": [
           {
            "fillpattern": {
             "fillmode": "overlay",
             "size": 10,
             "solidity": 0.2
            },
            "type": "scatter"
           }
          ],
          "scatter3d": [
           {
            "line": {
             "colorbar": {
              "outlinewidth": 0,
              "ticks": ""
             }
            },
            "marker": {
             "colorbar": {
              "outlinewidth": 0,
              "ticks": ""
             }
            },
            "type": "scatter3d"
           }
          ],
          "scattercarpet": [
           {
            "marker": {
             "colorbar": {
              "outlinewidth": 0,
              "ticks": ""
             }
            },
            "type": "scattercarpet"
           }
          ],
          "scattergeo": [
           {
            "marker": {
             "colorbar": {
              "outlinewidth": 0,
              "ticks": ""
             }
            },
            "type": "scattergeo"
           }
          ],
          "scattergl": [
           {
            "marker": {
             "colorbar": {
              "outlinewidth": 0,
              "ticks": ""
             }
            },
            "type": "scattergl"
           }
          ],
          "scattermapbox": [
           {
            "marker": {
             "colorbar": {
              "outlinewidth": 0,
              "ticks": ""
             }
            },
            "type": "scattermapbox"
           }
          ],
          "scatterpolar": [
           {
            "marker": {
             "colorbar": {
              "outlinewidth": 0,
              "ticks": ""
             }
            },
            "type": "scatterpolar"
           }
          ],
          "scatterpolargl": [
           {
            "marker": {
             "colorbar": {
              "outlinewidth": 0,
              "ticks": ""
             }
            },
            "type": "scatterpolargl"
           }
          ],
          "scatterternary": [
           {
            "marker": {
             "colorbar": {
              "outlinewidth": 0,
              "ticks": ""
             }
            },
            "type": "scatterternary"
           }
          ],
          "surface": [
           {
            "colorbar": {
             "outlinewidth": 0,
             "ticks": ""
            },
            "colorscale": [
             [
              0,
              "#0d0887"
             ],
             [
              0.1111111111111111,
              "#46039f"
             ],
             [
              0.2222222222222222,
              "#7201a8"
             ],
             [
              0.3333333333333333,
              "#9c179e"
             ],
             [
              0.4444444444444444,
              "#bd3786"
             ],
             [
              0.5555555555555556,
              "#d8576b"
             ],
             [
              0.6666666666666666,
              "#ed7953"
             ],
             [
              0.7777777777777778,
              "#fb9f3a"
             ],
             [
              0.8888888888888888,
              "#fdca26"
             ],
             [
              1,
              "#f0f921"
             ]
            ],
            "type": "surface"
           }
          ],
          "table": [
           {
            "cells": {
             "fill": {
              "color": "#EBF0F8"
             },
             "line": {
              "color": "white"
             }
            },
            "header": {
             "fill": {
              "color": "#C8D4E3"
             },
             "line": {
              "color": "white"
             }
            },
            "type": "table"
           }
          ]
         },
         "layout": {
          "annotationdefaults": {
           "arrowcolor": "#2a3f5f",
           "arrowhead": 0,
           "arrowwidth": 1
          },
          "autotypenumbers": "strict",
          "coloraxis": {
           "colorbar": {
            "outlinewidth": 0,
            "ticks": ""
           }
          },
          "colorscale": {
           "diverging": [
            [
             0,
             "#8e0152"
            ],
            [
             0.1,
             "#c51b7d"
            ],
            [
             0.2,
             "#de77ae"
            ],
            [
             0.3,
             "#f1b6da"
            ],
            [
             0.4,
             "#fde0ef"
            ],
            [
             0.5,
             "#f7f7f7"
            ],
            [
             0.6,
             "#e6f5d0"
            ],
            [
             0.7,
             "#b8e186"
            ],
            [
             0.8,
             "#7fbc41"
            ],
            [
             0.9,
             "#4d9221"
            ],
            [
             1,
             "#276419"
            ]
           ],
           "sequential": [
            [
             0,
             "#0d0887"
            ],
            [
             0.1111111111111111,
             "#46039f"
            ],
            [
             0.2222222222222222,
             "#7201a8"
            ],
            [
             0.3333333333333333,
             "#9c179e"
            ],
            [
             0.4444444444444444,
             "#bd3786"
            ],
            [
             0.5555555555555556,
             "#d8576b"
            ],
            [
             0.6666666666666666,
             "#ed7953"
            ],
            [
             0.7777777777777778,
             "#fb9f3a"
            ],
            [
             0.8888888888888888,
             "#fdca26"
            ],
            [
             1,
             "#f0f921"
            ]
           ],
           "sequentialminus": [
            [
             0,
             "#0d0887"
            ],
            [
             0.1111111111111111,
             "#46039f"
            ],
            [
             0.2222222222222222,
             "#7201a8"
            ],
            [
             0.3333333333333333,
             "#9c179e"
            ],
            [
             0.4444444444444444,
             "#bd3786"
            ],
            [
             0.5555555555555556,
             "#d8576b"
            ],
            [
             0.6666666666666666,
             "#ed7953"
            ],
            [
             0.7777777777777778,
             "#fb9f3a"
            ],
            [
             0.8888888888888888,
             "#fdca26"
            ],
            [
             1,
             "#f0f921"
            ]
           ]
          },
          "colorway": [
           "#636efa",
           "#EF553B",
           "#00cc96",
           "#ab63fa",
           "#FFA15A",
           "#19d3f3",
           "#FF6692",
           "#B6E880",
           "#FF97FF",
           "#FECB52"
          ],
          "font": {
           "color": "#2a3f5f"
          },
          "geo": {
           "bgcolor": "white",
           "lakecolor": "white",
           "landcolor": "#E5ECF6",
           "showlakes": true,
           "showland": true,
           "subunitcolor": "white"
          },
          "hoverlabel": {
           "align": "left"
          },
          "hovermode": "closest",
          "mapbox": {
           "style": "light"
          },
          "paper_bgcolor": "white",
          "plot_bgcolor": "#E5ECF6",
          "polar": {
           "angularaxis": {
            "gridcolor": "white",
            "linecolor": "white",
            "ticks": ""
           },
           "bgcolor": "#E5ECF6",
           "radialaxis": {
            "gridcolor": "white",
            "linecolor": "white",
            "ticks": ""
           }
          },
          "scene": {
           "xaxis": {
            "backgroundcolor": "#E5ECF6",
            "gridcolor": "white",
            "gridwidth": 2,
            "linecolor": "white",
            "showbackground": true,
            "ticks": "",
            "zerolinecolor": "white"
           },
           "yaxis": {
            "backgroundcolor": "#E5ECF6",
            "gridcolor": "white",
            "gridwidth": 2,
            "linecolor": "white",
            "showbackground": true,
            "ticks": "",
            "zerolinecolor": "white"
           },
           "zaxis": {
            "backgroundcolor": "#E5ECF6",
            "gridcolor": "white",
            "gridwidth": 2,
            "linecolor": "white",
            "showbackground": true,
            "ticks": "",
            "zerolinecolor": "white"
           }
          },
          "shapedefaults": {
           "line": {
            "color": "#2a3f5f"
           }
          },
          "ternary": {
           "aaxis": {
            "gridcolor": "white",
            "linecolor": "white",
            "ticks": ""
           },
           "baxis": {
            "gridcolor": "white",
            "linecolor": "white",
            "ticks": ""
           },
           "bgcolor": "#E5ECF6",
           "caxis": {
            "gridcolor": "white",
            "linecolor": "white",
            "ticks": ""
           }
          },
          "title": {
           "x": 0.05
          },
          "xaxis": {
           "automargin": true,
           "gridcolor": "white",
           "linecolor": "white",
           "ticks": "",
           "title": {
            "standoff": 15
           },
           "zerolinecolor": "white",
           "zerolinewidth": 2
          },
          "yaxis": {
           "automargin": true,
           "gridcolor": "white",
           "linecolor": "white",
           "ticks": "",
           "title": {
            "standoff": 15
           },
           "zerolinecolor": "white",
           "zerolinewidth": 2
          }
         }
        },
        "title": {
         "text": "Total de Ventas Anual por Producto"
        }
       }
      }
     },
     "metadata": {},
     "output_type": "display_data"
    }
   ],
   "source": [
    "# Se crea una figura en forma de torta para representar el total de ventas anual por producto\n",
    "fig = go.Figure()\n",
    "\n",
    "fig.add_trace(go.Pie(\n",
    "    labels=productos,\n",
    "    values=df_total_ventas_anual_producto['Total de ventas'],\n",
    "    name='Total de Ventas Anual por Producto',\n",
    "    textinfo='percent',\n",
    "    hole=.2,\n",
    "    pull = 0.2\n",
    "    )\n",
    ")\n",
    "fig.update_traces(\n",
    "    \n",
    "    hoverinfo=\"label+percent+name\",\n",
    "     marker=dict(line=dict(color='#000000', width=1))\n",
    "    )\n",
    "\n",
    "\n",
    "fig.update_layout(\n",
    "    title='Total de Ventas Anual por Producto')\n",
    "    \n",
    "\n"
   ]
  },
  {
   "cell_type": "code",
   "execution_count": 157,
   "metadata": {},
   "outputs": [
    {
     "data": {
      "application/vnd.plotly.v1+json": {
       "config": {
        "plotlyServerURL": "https://plot.ly"
       },
       "data": [
        {
         "domain": {
          "x": [
           0,
           1
          ],
          "y": [
           0,
           1
          ]
         },
         "hole": 0.4,
         "hoverinfo": "label+percent+name",
         "hovertemplate": "label=%{label}<br>Total de ventas=%{value}<extra></extra>",
         "labels": [
          "20in Monitor",
          "27in 4K Gaming Monitor",
          "27in FHD Monitor",
          "34in Ultrawide Monitor",
          "AA Batteries (4-pack)",
          "AAA Batteries (4-pack)",
          "Apple Airpods Headphones",
          "Bose SoundSport Headphones",
          "Flatscreen TV",
          "Google Phone",
          "LG Dryer",
          "LG Washing Machine",
          "Lightning Charging Cable",
          "Macbook Pro Laptop",
          "ThinkPad Laptop",
          "USB-C Charging Cable",
          "Vareebadd Phone",
          "Wired Headphones",
          "iPhone"
         ],
         "legendgroup": "",
         "marker": {
          "line": {
           "color": "#ffffff",
           "width": 1
          }
         },
         "name": "",
         "pull": 0.1,
         "showlegend": true,
         "type": "pie",
         "values": [
          4126,
          6239,
          7541,
          6192,
          27615,
          30986,
          15637,
          13430,
          4813,
          5529,
          646,
          666,
          23169,
          4725,
          4128,
          23931,
          2068,
          20524,
          6847
         ]
        }
       ],
       "layout": {
        "legend": {
         "tracegroupgap": 0
        },
        "piecolorway": [
         "rgb(36, 86, 104)",
         "rgb(15, 114, 121)",
         "rgb(13, 143, 129)",
         "rgb(57, 171, 126)",
         "rgb(110, 197, 116)",
         "rgb(169, 220, 103)",
         "rgb(237, 239, 93)"
        ],
        "template": {
         "data": {
          "bar": [
           {
            "error_x": {
             "color": "#f2f5fa"
            },
            "error_y": {
             "color": "#f2f5fa"
            },
            "marker": {
             "line": {
              "color": "rgb(17,17,17)",
              "width": 0.5
             },
             "pattern": {
              "fillmode": "overlay",
              "size": 10,
              "solidity": 0.2
             }
            },
            "type": "bar"
           }
          ],
          "barpolar": [
           {
            "marker": {
             "line": {
              "color": "rgb(17,17,17)",
              "width": 0.5
             },
             "pattern": {
              "fillmode": "overlay",
              "size": 10,
              "solidity": 0.2
             }
            },
            "type": "barpolar"
           }
          ],
          "carpet": [
           {
            "aaxis": {
             "endlinecolor": "#A2B1C6",
             "gridcolor": "#506784",
             "linecolor": "#506784",
             "minorgridcolor": "#506784",
             "startlinecolor": "#A2B1C6"
            },
            "baxis": {
             "endlinecolor": "#A2B1C6",
             "gridcolor": "#506784",
             "linecolor": "#506784",
             "minorgridcolor": "#506784",
             "startlinecolor": "#A2B1C6"
            },
            "type": "carpet"
           }
          ],
          "choropleth": [
           {
            "colorbar": {
             "outlinewidth": 0,
             "ticks": ""
            },
            "type": "choropleth"
           }
          ],
          "contour": [
           {
            "colorbar": {
             "outlinewidth": 0,
             "ticks": ""
            },
            "colorscale": [
             [
              0,
              "#0d0887"
             ],
             [
              0.1111111111111111,
              "#46039f"
             ],
             [
              0.2222222222222222,
              "#7201a8"
             ],
             [
              0.3333333333333333,
              "#9c179e"
             ],
             [
              0.4444444444444444,
              "#bd3786"
             ],
             [
              0.5555555555555556,
              "#d8576b"
             ],
             [
              0.6666666666666666,
              "#ed7953"
             ],
             [
              0.7777777777777778,
              "#fb9f3a"
             ],
             [
              0.8888888888888888,
              "#fdca26"
             ],
             [
              1,
              "#f0f921"
             ]
            ],
            "type": "contour"
           }
          ],
          "contourcarpet": [
           {
            "colorbar": {
             "outlinewidth": 0,
             "ticks": ""
            },
            "type": "contourcarpet"
           }
          ],
          "heatmap": [
           {
            "colorbar": {
             "outlinewidth": 0,
             "ticks": ""
            },
            "colorscale": [
             [
              0,
              "#0d0887"
             ],
             [
              0.1111111111111111,
              "#46039f"
             ],
             [
              0.2222222222222222,
              "#7201a8"
             ],
             [
              0.3333333333333333,
              "#9c179e"
             ],
             [
              0.4444444444444444,
              "#bd3786"
             ],
             [
              0.5555555555555556,
              "#d8576b"
             ],
             [
              0.6666666666666666,
              "#ed7953"
             ],
             [
              0.7777777777777778,
              "#fb9f3a"
             ],
             [
              0.8888888888888888,
              "#fdca26"
             ],
             [
              1,
              "#f0f921"
             ]
            ],
            "type": "heatmap"
           }
          ],
          "heatmapgl": [
           {
            "colorbar": {
             "outlinewidth": 0,
             "ticks": ""
            },
            "colorscale": [
             [
              0,
              "#0d0887"
             ],
             [
              0.1111111111111111,
              "#46039f"
             ],
             [
              0.2222222222222222,
              "#7201a8"
             ],
             [
              0.3333333333333333,
              "#9c179e"
             ],
             [
              0.4444444444444444,
              "#bd3786"
             ],
             [
              0.5555555555555556,
              "#d8576b"
             ],
             [
              0.6666666666666666,
              "#ed7953"
             ],
             [
              0.7777777777777778,
              "#fb9f3a"
             ],
             [
              0.8888888888888888,
              "#fdca26"
             ],
             [
              1,
              "#f0f921"
             ]
            ],
            "type": "heatmapgl"
           }
          ],
          "histogram": [
           {
            "marker": {
             "pattern": {
              "fillmode": "overlay",
              "size": 10,
              "solidity": 0.2
             }
            },
            "type": "histogram"
           }
          ],
          "histogram2d": [
           {
            "colorbar": {
             "outlinewidth": 0,
             "ticks": ""
            },
            "colorscale": [
             [
              0,
              "#0d0887"
             ],
             [
              0.1111111111111111,
              "#46039f"
             ],
             [
              0.2222222222222222,
              "#7201a8"
             ],
             [
              0.3333333333333333,
              "#9c179e"
             ],
             [
              0.4444444444444444,
              "#bd3786"
             ],
             [
              0.5555555555555556,
              "#d8576b"
             ],
             [
              0.6666666666666666,
              "#ed7953"
             ],
             [
              0.7777777777777778,
              "#fb9f3a"
             ],
             [
              0.8888888888888888,
              "#fdca26"
             ],
             [
              1,
              "#f0f921"
             ]
            ],
            "type": "histogram2d"
           }
          ],
          "histogram2dcontour": [
           {
            "colorbar": {
             "outlinewidth": 0,
             "ticks": ""
            },
            "colorscale": [
             [
              0,
              "#0d0887"
             ],
             [
              0.1111111111111111,
              "#46039f"
             ],
             [
              0.2222222222222222,
              "#7201a8"
             ],
             [
              0.3333333333333333,
              "#9c179e"
             ],
             [
              0.4444444444444444,
              "#bd3786"
             ],
             [
              0.5555555555555556,
              "#d8576b"
             ],
             [
              0.6666666666666666,
              "#ed7953"
             ],
             [
              0.7777777777777778,
              "#fb9f3a"
             ],
             [
              0.8888888888888888,
              "#fdca26"
             ],
             [
              1,
              "#f0f921"
             ]
            ],
            "type": "histogram2dcontour"
           }
          ],
          "mesh3d": [
           {
            "colorbar": {
             "outlinewidth": 0,
             "ticks": ""
            },
            "type": "mesh3d"
           }
          ],
          "parcoords": [
           {
            "line": {
             "colorbar": {
              "outlinewidth": 0,
              "ticks": ""
             }
            },
            "type": "parcoords"
           }
          ],
          "pie": [
           {
            "automargin": true,
            "type": "pie"
           }
          ],
          "scatter": [
           {
            "marker": {
             "line": {
              "color": "#283442"
             }
            },
            "type": "scatter"
           }
          ],
          "scatter3d": [
           {
            "line": {
             "colorbar": {
              "outlinewidth": 0,
              "ticks": ""
             }
            },
            "marker": {
             "colorbar": {
              "outlinewidth": 0,
              "ticks": ""
             }
            },
            "type": "scatter3d"
           }
          ],
          "scattercarpet": [
           {
            "marker": {
             "colorbar": {
              "outlinewidth": 0,
              "ticks": ""
             }
            },
            "type": "scattercarpet"
           }
          ],
          "scattergeo": [
           {
            "marker": {
             "colorbar": {
              "outlinewidth": 0,
              "ticks": ""
             }
            },
            "type": "scattergeo"
           }
          ],
          "scattergl": [
           {
            "marker": {
             "line": {
              "color": "#283442"
             }
            },
            "type": "scattergl"
           }
          ],
          "scattermapbox": [
           {
            "marker": {
             "colorbar": {
              "outlinewidth": 0,
              "ticks": ""
             }
            },
            "type": "scattermapbox"
           }
          ],
          "scatterpolar": [
           {
            "marker": {
             "colorbar": {
              "outlinewidth": 0,
              "ticks": ""
             }
            },
            "type": "scatterpolar"
           }
          ],
          "scatterpolargl": [
           {
            "marker": {
             "colorbar": {
              "outlinewidth": 0,
              "ticks": ""
             }
            },
            "type": "scatterpolargl"
           }
          ],
          "scatterternary": [
           {
            "marker": {
             "colorbar": {
              "outlinewidth": 0,
              "ticks": ""
             }
            },
            "type": "scatterternary"
           }
          ],
          "surface": [
           {
            "colorbar": {
             "outlinewidth": 0,
             "ticks": ""
            },
            "colorscale": [
             [
              0,
              "#0d0887"
             ],
             [
              0.1111111111111111,
              "#46039f"
             ],
             [
              0.2222222222222222,
              "#7201a8"
             ],
             [
              0.3333333333333333,
              "#9c179e"
             ],
             [
              0.4444444444444444,
              "#bd3786"
             ],
             [
              0.5555555555555556,
              "#d8576b"
             ],
             [
              0.6666666666666666,
              "#ed7953"
             ],
             [
              0.7777777777777778,
              "#fb9f3a"
             ],
             [
              0.8888888888888888,
              "#fdca26"
             ],
             [
              1,
              "#f0f921"
             ]
            ],
            "type": "surface"
           }
          ],
          "table": [
           {
            "cells": {
             "fill": {
              "color": "#506784"
             },
             "line": {
              "color": "rgb(17,17,17)"
             }
            },
            "header": {
             "fill": {
              "color": "#2a3f5f"
             },
             "line": {
              "color": "rgb(17,17,17)"
             }
            },
            "type": "table"
           }
          ]
         },
         "layout": {
          "annotationdefaults": {
           "arrowcolor": "#f2f5fa",
           "arrowhead": 0,
           "arrowwidth": 1
          },
          "autotypenumbers": "strict",
          "coloraxis": {
           "colorbar": {
            "outlinewidth": 0,
            "ticks": ""
           }
          },
          "colorscale": {
           "diverging": [
            [
             0,
             "#8e0152"
            ],
            [
             0.1,
             "#c51b7d"
            ],
            [
             0.2,
             "#de77ae"
            ],
            [
             0.3,
             "#f1b6da"
            ],
            [
             0.4,
             "#fde0ef"
            ],
            [
             0.5,
             "#f7f7f7"
            ],
            [
             0.6,
             "#e6f5d0"
            ],
            [
             0.7,
             "#b8e186"
            ],
            [
             0.8,
             "#7fbc41"
            ],
            [
             0.9,
             "#4d9221"
            ],
            [
             1,
             "#276419"
            ]
           ],
           "sequential": [
            [
             0,
             "#0d0887"
            ],
            [
             0.1111111111111111,
             "#46039f"
            ],
            [
             0.2222222222222222,
             "#7201a8"
            ],
            [
             0.3333333333333333,
             "#9c179e"
            ],
            [
             0.4444444444444444,
             "#bd3786"
            ],
            [
             0.5555555555555556,
             "#d8576b"
            ],
            [
             0.6666666666666666,
             "#ed7953"
            ],
            [
             0.7777777777777778,
             "#fb9f3a"
            ],
            [
             0.8888888888888888,
             "#fdca26"
            ],
            [
             1,
             "#f0f921"
            ]
           ],
           "sequentialminus": [
            [
             0,
             "#0d0887"
            ],
            [
             0.1111111111111111,
             "#46039f"
            ],
            [
             0.2222222222222222,
             "#7201a8"
            ],
            [
             0.3333333333333333,
             "#9c179e"
            ],
            [
             0.4444444444444444,
             "#bd3786"
            ],
            [
             0.5555555555555556,
             "#d8576b"
            ],
            [
             0.6666666666666666,
             "#ed7953"
            ],
            [
             0.7777777777777778,
             "#fb9f3a"
            ],
            [
             0.8888888888888888,
             "#fdca26"
            ],
            [
             1,
             "#f0f921"
            ]
           ]
          },
          "colorway": [
           "#636efa",
           "#EF553B",
           "#00cc96",
           "#ab63fa",
           "#FFA15A",
           "#19d3f3",
           "#FF6692",
           "#B6E880",
           "#FF97FF",
           "#FECB52"
          ],
          "font": {
           "color": "#f2f5fa"
          },
          "geo": {
           "bgcolor": "rgb(17,17,17)",
           "lakecolor": "rgb(17,17,17)",
           "landcolor": "rgb(17,17,17)",
           "showlakes": true,
           "showland": true,
           "subunitcolor": "#506784"
          },
          "hoverlabel": {
           "align": "left"
          },
          "hovermode": "closest",
          "mapbox": {
           "style": "dark"
          },
          "paper_bgcolor": "rgb(17,17,17)",
          "plot_bgcolor": "rgb(17,17,17)",
          "polar": {
           "angularaxis": {
            "gridcolor": "#506784",
            "linecolor": "#506784",
            "ticks": ""
           },
           "bgcolor": "rgb(17,17,17)",
           "radialaxis": {
            "gridcolor": "#506784",
            "linecolor": "#506784",
            "ticks": ""
           }
          },
          "scene": {
           "xaxis": {
            "backgroundcolor": "rgb(17,17,17)",
            "gridcolor": "#506784",
            "gridwidth": 2,
            "linecolor": "#506784",
            "showbackground": true,
            "ticks": "",
            "zerolinecolor": "#C8D4E3"
           },
           "yaxis": {
            "backgroundcolor": "rgb(17,17,17)",
            "gridcolor": "#506784",
            "gridwidth": 2,
            "linecolor": "#506784",
            "showbackground": true,
            "ticks": "",
            "zerolinecolor": "#C8D4E3"
           },
           "zaxis": {
            "backgroundcolor": "rgb(17,17,17)",
            "gridcolor": "#506784",
            "gridwidth": 2,
            "linecolor": "#506784",
            "showbackground": true,
            "ticks": "",
            "zerolinecolor": "#C8D4E3"
           }
          },
          "shapedefaults": {
           "line": {
            "color": "#f2f5fa"
           }
          },
          "sliderdefaults": {
           "bgcolor": "#C8D4E3",
           "bordercolor": "rgb(17,17,17)",
           "borderwidth": 1,
           "tickwidth": 0
          },
          "ternary": {
           "aaxis": {
            "gridcolor": "#506784",
            "linecolor": "#506784",
            "ticks": ""
           },
           "baxis": {
            "gridcolor": "#506784",
            "linecolor": "#506784",
            "ticks": ""
           },
           "bgcolor": "rgb(17,17,17)",
           "caxis": {
            "gridcolor": "#506784",
            "linecolor": "#506784",
            "ticks": ""
           }
          },
          "title": {
           "x": 0.05
          },
          "updatemenudefaults": {
           "bgcolor": "#506784",
           "borderwidth": 0
          },
          "xaxis": {
           "automargin": true,
           "gridcolor": "#283442",
           "linecolor": "#506784",
           "ticks": "",
           "title": {
            "standoff": 15
           },
           "zerolinecolor": "#283442",
           "zerolinewidth": 2
          },
          "yaxis": {
           "automargin": true,
           "gridcolor": "#283442",
           "linecolor": "#506784",
           "ticks": "",
           "title": {
            "standoff": 15
           },
           "zerolinecolor": "#283442",
           "zerolinewidth": 2
          }
         }
        },
        "title": {
         "text": "Total de Ventas Anual por Producto"
        }
       }
      }
     },
     "metadata": {},
     "output_type": "display_data"
    }
   ],
   "source": [
    "fig = px.pie(\n",
    "   data_frame=df_total_ventas_anual_producto['Total de ventas'],\n",
    "   values='Total de ventas',\n",
    "   names=productos,\n",
    "   title='Total de Ventas Anual por Producto',\n",
    "   color_discrete_sequence=px.colors.sequential.Aggrnyl,\n",
    "   hole=0.4,\n",
    "   \n",
    "   template='plotly_dark'\n",
    ")\n",
    "fig.update_traces(\n",
    "    pull= 0.1,\n",
    "    hoverinfo=\"label+percent+name\",\n",
    "     marker=dict(line=dict(color='#ffffff', width=1))\n",
    "    )\n",
    "\n",
    "fig.show()\n"
   ]
  },
  {
   "cell_type": "code",
   "execution_count": 159,
   "metadata": {},
   "outputs": [
    {
     "name": "stdout",
     "output_type": "stream",
     "text": [
      "El producto más vendido en general es AAA Batteries (4-pack) con un total de 30986 ventas.\n"
     ]
    }
   ],
   "source": [
    "print('El producto más vendido en general es', df_total_ventas_anual_producto['Total de ventas'].idxmax(), 'con un total de', df_total_ventas_anual_producto['Total de ventas'].max(), 'ventas.')"
   ]
  },
  {
   "cell_type": "code",
   "execution_count": 195,
   "metadata": {},
   "outputs": [
    {
     "data": {
      "application/vnd.plotly.v1+json": {
       "config": {
        "plotlyServerURL": "https://plot.ly"
       },
       "data": [
        {
         "alignmentgroup": "True",
         "hovertemplate": "Ventas=%{y}<br>Producto=%{x}<br>Total de ventas=%{text}<extra></extra>",
         "legendgroup": "20in Monitor",
         "marker": {
          "color": "#636efa",
          "pattern": {
           "shape": ""
          }
         },
         "name": "20in Monitor",
         "offsetgroup": "20in Monitor",
         "orientation": "v",
         "showlegend": true,
         "text": [
          4126,
          4126,
          4126,
          4126,
          4126,
          4126,
          4126,
          4126,
          4126,
          4126,
          4126,
          4126
         ],
         "textposition": "auto",
         "texttemplate": "%{y}",
         "type": "bar",
         "x": [
          "20in Monitor",
          "20in Monitor",
          "20in Monitor",
          "20in Monitor",
          "20in Monitor",
          "20in Monitor",
          "20in Monitor",
          "20in Monitor",
          "20in Monitor",
          "20in Monitor",
          "20in Monitor",
          "20in Monitor"
         ],
         "xaxis": "x",
         "y": [
          215,
          246,
          325,
          394,
          340,
          321,
          327,
          262,
          277,
          427,
          421,
          571
         ],
         "yaxis": "y"
        },
        {
         "alignmentgroup": "True",
         "hovertemplate": "Ventas=%{y}<br>Producto=%{x}<br>Total de ventas=%{text}<extra></extra>",
         "legendgroup": "27in 4K Gaming Monitor",
         "marker": {
          "color": "#EF553B",
          "pattern": {
           "shape": ""
          }
         },
         "name": "27in 4K Gaming Monitor",
         "offsetgroup": "27in 4K Gaming Monitor",
         "orientation": "v",
         "showlegend": true,
         "text": [
          6239,
          6239,
          6239,
          6239,
          6239,
          6239,
          6239,
          6239,
          6239,
          6239,
          6239,
          6239
         ],
         "textposition": "auto",
         "texttemplate": "%{y}",
         "type": "bar",
         "x": [
          "27in 4K Gaming Monitor",
          "27in 4K Gaming Monitor",
          "27in 4K Gaming Monitor",
          "27in 4K Gaming Monitor",
          "27in 4K Gaming Monitor",
          "27in 4K Gaming Monitor",
          "27in 4K Gaming Monitor",
          "27in 4K Gaming Monitor",
          "27in 4K Gaming Monitor",
          "27in 4K Gaming Monitor",
          "27in 4K Gaming Monitor",
          "27in 4K Gaming Monitor"
         ],
         "xaxis": "x",
         "y": [
          312,
          427,
          479,
          565,
          542,
          452,
          483,
          438,
          382,
          722,
          578,
          859
         ],
         "yaxis": "y"
        },
        {
         "alignmentgroup": "True",
         "hovertemplate": "Ventas=%{y}<br>Producto=%{x}<br>Total de ventas=%{text}<extra></extra>",
         "legendgroup": "27in FHD Monitor",
         "marker": {
          "color": "#00cc96",
          "pattern": {
           "shape": ""
          }
         },
         "name": "27in FHD Monitor",
         "offsetgroup": "27in FHD Monitor",
         "orientation": "v",
         "showlegend": true,
         "text": [
          7541,
          7541,
          7541,
          7541,
          7541,
          7541,
          7541,
          7541,
          7541,
          7541,
          7541,
          7541
         ],
         "textposition": "auto",
         "texttemplate": "%{y}",
         "type": "bar",
         "x": [
          "27in FHD Monitor",
          "27in FHD Monitor",
          "27in FHD Monitor",
          "27in FHD Monitor",
          "27in FHD Monitor",
          "27in FHD Monitor",
          "27in FHD Monitor",
          "27in FHD Monitor",
          "27in FHD Monitor",
          "27in FHD Monitor",
          "27in FHD Monitor",
          "27in FHD Monitor"
         ],
         "xaxis": "x",
         "y": [
          419,
          475,
          608,
          737,
          688,
          568,
          603,
          491,
          480,
          790,
          717,
          965
         ],
         "yaxis": "y"
        },
        {
         "alignmentgroup": "True",
         "hovertemplate": "Ventas=%{y}<br>Producto=%{x}<br>Total de ventas=%{text}<extra></extra>",
         "legendgroup": "34in Ultrawide Monitor",
         "marker": {
          "color": "#ab63fa",
          "pattern": {
           "shape": ""
          }
         },
         "name": "34in Ultrawide Monitor",
         "offsetgroup": "34in Ultrawide Monitor",
         "orientation": "v",
         "showlegend": true,
         "text": [
          6192,
          6192,
          6192,
          6192,
          6192,
          6192,
          6192,
          6192,
          6192,
          6192,
          6192,
          6192
         ],
         "textposition": "auto",
         "texttemplate": "%{y}",
         "type": "bar",
         "x": [
          "34in Ultrawide Monitor",
          "34in Ultrawide Monitor",
          "34in Ultrawide Monitor",
          "34in Ultrawide Monitor",
          "34in Ultrawide Monitor",
          "34in Ultrawide Monitor",
          "34in Ultrawide Monitor",
          "34in Ultrawide Monitor",
          "34in Ultrawide Monitor",
          "34in Ultrawide Monitor",
          "34in Ultrawide Monitor",
          "34in Ultrawide Monitor"
         ],
         "xaxis": "x",
         "y": [
          314,
          417,
          523,
          652,
          544,
          454,
          462,
          379,
          377,
          672,
          550,
          848
         ],
         "yaxis": "y"
        },
        {
         "alignmentgroup": "True",
         "hovertemplate": "Ventas=%{y}<br>Producto=%{x}<br>Total de ventas=%{text}<extra></extra>",
         "legendgroup": "AA Batteries (4-pack)",
         "marker": {
          "color": "#FFA15A",
          "pattern": {
           "shape": ""
          }
         },
         "name": "AA Batteries (4-pack)",
         "offsetgroup": "AA Batteries (4-pack)",
         "orientation": "v",
         "showlegend": true,
         "text": [
          27615,
          27615,
          27615,
          27615,
          27615,
          27615,
          27615,
          27615,
          27615,
          27615,
          27615,
          27615
         ],
         "textposition": "auto",
         "texttemplate": "%{y}",
         "type": "bar",
         "x": [
          "AA Batteries (4-pack)",
          "AA Batteries (4-pack)",
          "AA Batteries (4-pack)",
          "AA Batteries (4-pack)",
          "AA Batteries (4-pack)",
          "AA Batteries (4-pack)",
          "AA Batteries (4-pack)",
          "AA Batteries (4-pack)",
          "AA Batteries (4-pack)",
          "AA Batteries (4-pack)",
          "AA Batteries (4-pack)",
          "AA Batteries (4-pack)"
         ],
         "xaxis": "x",
         "y": [
          1424,
          1734,
          2213,
          2821,
          2382,
          2092,
          2071,
          1826,
          1772,
          2938,
          2629,
          3713
         ],
         "yaxis": "y"
        },
        {
         "alignmentgroup": "True",
         "hovertemplate": "Ventas=%{y}<br>Producto=%{x}<br>Total de ventas=%{text}<extra></extra>",
         "legendgroup": "AAA Batteries (4-pack)",
         "marker": {
          "color": "#19d3f3",
          "pattern": {
           "shape": ""
          }
         },
         "name": "AAA Batteries (4-pack)",
         "offsetgroup": "AAA Batteries (4-pack)",
         "orientation": "v",
         "showlegend": true,
         "text": [
          30986,
          30986,
          30986,
          30986,
          30986,
          30986,
          30986,
          30986,
          30986,
          30986,
          30986,
          30986
         ],
         "textposition": "auto",
         "texttemplate": "%{y}",
         "type": "bar",
         "x": [
          "AAA Batteries (4-pack)",
          "AAA Batteries (4-pack)",
          "AAA Batteries (4-pack)",
          "AAA Batteries (4-pack)",
          "AAA Batteries (4-pack)",
          "AAA Batteries (4-pack)",
          "AAA Batteries (4-pack)",
          "AAA Batteries (4-pack)",
          "AAA Batteries (4-pack)",
          "AAA Batteries (4-pack)",
          "AAA Batteries (4-pack)",
          "AAA Batteries (4-pack)"
         ],
         "xaxis": "x",
         "y": [
          1596,
          1974,
          2476,
          2933,
          2927,
          2159,
          2362,
          2017,
          1926,
          3356,
          3023,
          4237
         ],
         "yaxis": "y"
        },
        {
         "alignmentgroup": "True",
         "hovertemplate": "Ventas=%{y}<br>Producto=%{x}<br>Total de ventas=%{text}<extra></extra>",
         "legendgroup": "Apple Airpods Headphones",
         "marker": {
          "color": "#FF6692",
          "pattern": {
           "shape": ""
          }
         },
         "name": "Apple Airpods Headphones",
         "offsetgroup": "Apple Airpods Headphones",
         "orientation": "v",
         "showlegend": true,
         "text": [
          15637,
          15637,
          15637,
          15637,
          15637,
          15637,
          15637,
          15637,
          15637,
          15637,
          15637,
          15637
         ],
         "textposition": "auto",
         "texttemplate": "%{y}",
         "type": "bar",
         "x": [
          "Apple Airpods Headphones",
          "Apple Airpods Headphones",
          "Apple Airpods Headphones",
          "Apple Airpods Headphones",
          "Apple Airpods Headphones",
          "Apple Airpods Headphones",
          "Apple Airpods Headphones",
          "Apple Airpods Headphones",
          "Apple Airpods Headphones",
          "Apple Airpods Headphones",
          "Apple Airpods Headphones",
          "Apple Airpods Headphones"
         ],
         "xaxis": "x",
         "y": [
          813,
          1012,
          1316,
          1523,
          1359,
          1165,
          1221,
          1009,
          964,
          1672,
          1509,
          2074
         ],
         "yaxis": "y"
        },
        {
         "alignmentgroup": "True",
         "hovertemplate": "Ventas=%{y}<br>Producto=%{x}<br>Total de ventas=%{text}<extra></extra>",
         "legendgroup": "Bose SoundSport Headphones",
         "marker": {
          "color": "#B6E880",
          "pattern": {
           "shape": ""
          }
         },
         "name": "Bose SoundSport Headphones",
         "offsetgroup": "Bose SoundSport Headphones",
         "orientation": "v",
         "showlegend": true,
         "text": [
          13430,
          13430,
          13430,
          13430,
          13430,
          13430,
          13430,
          13430,
          13430,
          13430,
          13430,
          13430
         ],
         "textposition": "auto",
         "texttemplate": "%{y}",
         "type": "bar",
         "x": [
          "Bose SoundSport Headphones",
          "Bose SoundSport Headphones",
          "Bose SoundSport Headphones",
          "Bose SoundSport Headphones",
          "Bose SoundSport Headphones",
          "Bose SoundSport Headphones",
          "Bose SoundSport Headphones",
          "Bose SoundSport Headphones",
          "Bose SoundSport Headphones",
          "Bose SoundSport Headphones",
          "Bose SoundSport Headphones",
          "Bose SoundSport Headphones"
         ],
         "xaxis": "x",
         "y": [
          659,
          842,
          1194,
          1286,
          1172,
          980,
          1057,
          879,
          830,
          1462,
          1248,
          1821
         ],
         "yaxis": "y"
        },
        {
         "alignmentgroup": "True",
         "hovertemplate": "Ventas=%{y}<br>Producto=%{x}<br>Total de ventas=%{text}<extra></extra>",
         "legendgroup": "Flatscreen TV",
         "marker": {
          "color": "#FF97FF",
          "pattern": {
           "shape": ""
          }
         },
         "name": "Flatscreen TV",
         "offsetgroup": "Flatscreen TV",
         "orientation": "v",
         "showlegend": true,
         "text": [
          4813,
          4813,
          4813,
          4813,
          4813,
          4813,
          4813,
          4813,
          4813,
          4813,
          4813,
          4813
         ],
         "textposition": "auto",
         "texttemplate": "%{y}",
         "type": "bar",
         "x": [
          "Flatscreen TV",
          "Flatscreen TV",
          "Flatscreen TV",
          "Flatscreen TV",
          "Flatscreen TV",
          "Flatscreen TV",
          "Flatscreen TV",
          "Flatscreen TV",
          "Flatscreen TV",
          "Flatscreen TV",
          "Flatscreen TV",
          "Flatscreen TV"
         ],
         "xaxis": "x",
         "y": [
          243,
          314,
          361,
          458,
          399,
          367,
          399,
          331,
          294,
          524,
          460,
          663
         ],
         "yaxis": "y"
        },
        {
         "alignmentgroup": "True",
         "hovertemplate": "Ventas=%{y}<br>Producto=%{x}<br>Total de ventas=%{text}<extra></extra>",
         "legendgroup": "Google Phone",
         "marker": {
          "color": "#FECB52",
          "pattern": {
           "shape": ""
          }
         },
         "name": "Google Phone",
         "offsetgroup": "Google Phone",
         "orientation": "v",
         "showlegend": true,
         "text": [
          5529,
          5529,
          5529,
          5529,
          5529,
          5529,
          5529,
          5529,
          5529,
          5529,
          5529,
          5529
         ],
         "textposition": "auto",
         "texttemplate": "%{y}",
         "type": "bar",
         "x": [
          "Google Phone",
          "Google Phone",
          "Google Phone",
          "Google Phone",
          "Google Phone",
          "Google Phone",
          "Google Phone",
          "Google Phone",
          "Google Phone",
          "Google Phone",
          "Google Phone",
          "Google Phone"
         ],
         "xaxis": "x",
         "y": [
          317,
          381,
          463,
          581,
          480,
          391,
          410,
          360,
          342,
          597,
          491,
          716
         ],
         "yaxis": "y"
        },
        {
         "alignmentgroup": "True",
         "hovertemplate": "Ventas=%{y}<br>Producto=%{x}<br>Total de ventas=%{text}<extra></extra>",
         "legendgroup": "LG Dryer",
         "marker": {
          "color": "#636efa",
          "pattern": {
           "shape": ""
          }
         },
         "name": "LG Dryer",
         "offsetgroup": "LG Dryer",
         "orientation": "v",
         "showlegend": true,
         "text": [
          646,
          646,
          646,
          646,
          646,
          646,
          646,
          646,
          646,
          646,
          646,
          646
         ],
         "textposition": "auto",
         "texttemplate": "%{y}",
         "type": "bar",
         "x": [
          "LG Dryer",
          "LG Dryer",
          "LG Dryer",
          "LG Dryer",
          "LG Dryer",
          "LG Dryer",
          "LG Dryer",
          "LG Dryer",
          "LG Dryer",
          "LG Dryer",
          "LG Dryer",
          "LG Dryer"
         ],
         "xaxis": "x",
         "y": [
          39,
          38,
          50,
          77,
          76,
          43,
          55,
          46,
          30,
          50,
          56,
          86
         ],
         "yaxis": "y"
        },
        {
         "alignmentgroup": "True",
         "hovertemplate": "Ventas=%{y}<br>Producto=%{x}<br>Total de ventas=%{text}<extra></extra>",
         "legendgroup": "LG Washing Machine",
         "marker": {
          "color": "#EF553B",
          "pattern": {
           "shape": ""
          }
         },
         "name": "LG Washing Machine",
         "offsetgroup": "LG Washing Machine",
         "orientation": "v",
         "showlegend": true,
         "text": [
          666,
          666,
          666,
          666,
          666,
          666,
          666,
          666,
          666,
          666,
          666,
          666
         ],
         "textposition": "auto",
         "texttemplate": "%{y}",
         "type": "bar",
         "x": [
          "LG Washing Machine",
          "LG Washing Machine",
          "LG Washing Machine",
          "LG Washing Machine",
          "LG Washing Machine",
          "LG Washing Machine",
          "LG Washing Machine",
          "LG Washing Machine",
          "LG Washing Machine",
          "LG Washing Machine",
          "LG Washing Machine",
          "LG Washing Machine"
         ],
         "xaxis": "x",
         "y": [
          42,
          40,
          64,
          61,
          64,
          55,
          52,
          48,
          46,
          61,
          53,
          80
         ],
         "yaxis": "y"
        },
        {
         "alignmentgroup": "True",
         "hovertemplate": "Ventas=%{y}<br>Producto=%{x}<br>Total de ventas=%{text}<extra></extra>",
         "legendgroup": "Lightning Charging Cable",
         "marker": {
          "color": "#00cc96",
          "pattern": {
           "shape": ""
          }
         },
         "name": "Lightning Charging Cable",
         "offsetgroup": "Lightning Charging Cable",
         "orientation": "v",
         "showlegend": true,
         "text": [
          23169,
          23169,
          23169,
          23169,
          23169,
          23169,
          23169,
          23169,
          23169,
          23169,
          23169,
          23169
         ],
         "textposition": "auto",
         "texttemplate": "%{y}",
         "type": "bar",
         "x": [
          "Lightning Charging Cable",
          "Lightning Charging Cable",
          "Lightning Charging Cable",
          "Lightning Charging Cable",
          "Lightning Charging Cable",
          "Lightning Charging Cable",
          "Lightning Charging Cable",
          "Lightning Charging Cable",
          "Lightning Charging Cable",
          "Lightning Charging Cable",
          "Lightning Charging Cable",
          "Lightning Charging Cable"
         ],
         "xaxis": "x",
         "y": [
          1149,
          1495,
          1871,
          2365,
          2076,
          1684,
          1807,
          1438,
          1429,
          2562,
          2210,
          3083
         ],
         "yaxis": "y"
        },
        {
         "alignmentgroup": "True",
         "hovertemplate": "Ventas=%{y}<br>Producto=%{x}<br>Total de ventas=%{text}<extra></extra>",
         "legendgroup": "Macbook Pro Laptop",
         "marker": {
          "color": "#ab63fa",
          "pattern": {
           "shape": ""
          }
         },
         "name": "Macbook Pro Laptop",
         "offsetgroup": "Macbook Pro Laptop",
         "orientation": "v",
         "showlegend": true,
         "text": [
          4725,
          4725,
          4725,
          4725,
          4725,
          4725,
          4725,
          4725,
          4725,
          4725,
          4725,
          4725
         ],
         "textposition": "auto",
         "texttemplate": "%{y}",
         "type": "bar",
         "x": [
          "Macbook Pro Laptop",
          "Macbook Pro Laptop",
          "Macbook Pro Laptop",
          "Macbook Pro Laptop",
          "Macbook Pro Laptop",
          "Macbook Pro Laptop",
          "Macbook Pro Laptop",
          "Macbook Pro Laptop",
          "Macbook Pro Laptop",
          "Macbook Pro Laptop",
          "Macbook Pro Laptop",
          "Macbook Pro Laptop"
         ],
         "xaxis": "x",
         "y": [
          235,
          275,
          380,
          455,
          462,
          356,
          368,
          298,
          287,
          525,
          440,
          644
         ],
         "yaxis": "y"
        },
        {
         "alignmentgroup": "True",
         "hovertemplate": "Ventas=%{y}<br>Producto=%{x}<br>Total de ventas=%{text}<extra></extra>",
         "legendgroup": "ThinkPad Laptop",
         "marker": {
          "color": "#FFA15A",
          "pattern": {
           "shape": ""
          }
         },
         "name": "ThinkPad Laptop",
         "offsetgroup": "ThinkPad Laptop",
         "orientation": "v",
         "showlegend": true,
         "text": [
          4128,
          4128,
          4128,
          4128,
          4128,
          4128,
          4128,
          4128,
          4128,
          4128,
          4128,
          4128
         ],
         "textposition": "auto",
         "texttemplate": "%{y}",
         "type": "bar",
         "x": [
          "ThinkPad Laptop",
          "ThinkPad Laptop",
          "ThinkPad Laptop",
          "ThinkPad Laptop",
          "ThinkPad Laptop",
          "ThinkPad Laptop",
          "ThinkPad Laptop",
          "ThinkPad Laptop",
          "ThinkPad Laptop",
          "ThinkPad Laptop",
          "ThinkPad Laptop",
          "ThinkPad Laptop"
         ],
         "xaxis": "x",
         "y": [
          217,
          277,
          344,
          392,
          368,
          315,
          318,
          275,
          249,
          460,
          374,
          539
         ],
         "yaxis": "y"
        },
        {
         "alignmentgroup": "True",
         "hovertemplate": "Ventas=%{y}<br>Producto=%{x}<br>Total de ventas=%{text}<extra></extra>",
         "legendgroup": "USB-C Charging Cable",
         "marker": {
          "color": "#19d3f3",
          "pattern": {
           "shape": ""
          }
         },
         "name": "USB-C Charging Cable",
         "offsetgroup": "USB-C Charging Cable",
         "orientation": "v",
         "showlegend": true,
         "text": [
          23931,
          23931,
          23931,
          23931,
          23931,
          23931,
          23931,
          23931,
          23931,
          23931,
          23931,
          23931
         ],
         "textposition": "auto",
         "texttemplate": "%{y}",
         "type": "bar",
         "x": [
          "USB-C Charging Cable",
          "USB-C Charging Cable",
          "USB-C Charging Cable",
          "USB-C Charging Cable",
          "USB-C Charging Cable",
          "USB-C Charging Cable",
          "USB-C Charging Cable",
          "USB-C Charging Cable",
          "USB-C Charging Cable",
          "USB-C Charging Cable",
          "USB-C Charging Cable",
          "USB-C Charging Cable"
         ],
         "xaxis": "x",
         "y": [
          1281,
          1651,
          1940,
          2266,
          2065,
          1673,
          1846,
          1457,
          1591,
          2664,
          2247,
          3250
         ],
         "yaxis": "y"
        },
        {
         "alignmentgroup": "True",
         "hovertemplate": "Ventas=%{y}<br>Producto=%{x}<br>Total de ventas=%{text}<extra></extra>",
         "legendgroup": "Vareebadd Phone",
         "marker": {
          "color": "#FF6692",
          "pattern": {
           "shape": ""
          }
         },
         "name": "Vareebadd Phone",
         "offsetgroup": "Vareebadd Phone",
         "orientation": "v",
         "showlegend": true,
         "text": [
          2068,
          2068,
          2068,
          2068,
          2068,
          2068,
          2068,
          2068,
          2068,
          2068,
          2068,
          2068
         ],
         "textposition": "auto",
         "texttemplate": "%{y}",
         "type": "bar",
         "x": [
          "Vareebadd Phone",
          "Vareebadd Phone",
          "Vareebadd Phone",
          "Vareebadd Phone",
          "Vareebadd Phone",
          "Vareebadd Phone",
          "Vareebadd Phone",
          "Vareebadd Phone",
          "Vareebadd Phone",
          "Vareebadd Phone",
          "Vareebadd Phone",
          "Vareebadd Phone"
         ],
         "xaxis": "x",
         "y": [
          125,
          129,
          174,
          220,
          186,
          155,
          145,
          143,
          126,
          203,
          177,
          285
         ],
         "yaxis": "y"
        },
        {
         "alignmentgroup": "True",
         "hovertemplate": "Ventas=%{y}<br>Producto=%{x}<br>Total de ventas=%{text}<extra></extra>",
         "legendgroup": "Wired Headphones",
         "marker": {
          "color": "#B6E880",
          "pattern": {
           "shape": ""
          }
         },
         "name": "Wired Headphones",
         "offsetgroup": "Wired Headphones",
         "orientation": "v",
         "showlegend": true,
         "text": [
          20524,
          20524,
          20524,
          20524,
          20524,
          20524,
          20524,
          20524,
          20524,
          20524,
          20524,
          20524
         ],
         "textposition": "auto",
         "texttemplate": "%{y}",
         "type": "bar",
         "x": [
          "Wired Headphones",
          "Wired Headphones",
          "Wired Headphones",
          "Wired Headphones",
          "Wired Headphones",
          "Wired Headphones",
          "Wired Headphones",
          "Wired Headphones",
          "Wired Headphones",
          "Wired Headphones",
          "Wired Headphones",
          "Wired Headphones"
         ],
         "xaxis": "x",
         "y": [
          1079,
          1278,
          1661,
          2065,
          1874,
          1475,
          1562,
          1288,
          1301,
          2270,
          1932,
          2739
         ],
         "yaxis": "y"
        },
        {
         "alignmentgroup": "True",
         "hovertemplate": "Ventas=%{y}<br>Producto=%{x}<br>Total de ventas=%{text}<extra></extra>",
         "legendgroup": "iPhone",
         "marker": {
          "color": "#FF97FF",
          "pattern": {
           "shape": ""
          }
         },
         "name": "iPhone",
         "offsetgroup": "iPhone",
         "orientation": "v",
         "showlegend": true,
         "text": [
          6847,
          6847,
          6847,
          6847,
          6847,
          6847,
          6847,
          6847,
          6847,
          6847,
          6847,
          6847
         ],
         "textposition": "auto",
         "texttemplate": "%{y}",
         "type": "bar",
         "x": [
          "iPhone",
          "iPhone",
          "iPhone",
          "iPhone",
          "iPhone",
          "iPhone",
          "iPhone",
          "iPhone",
          "iPhone",
          "iPhone",
          "iPhone",
          "iPhone"
         ],
         "xaxis": "x",
         "y": [
          379,
          438,
          538,
          695,
          639,
          531,
          503,
          438,
          398,
          716,
          664,
          908
         ],
         "yaxis": "y"
        }
       ],
       "layout": {
        "barmode": "relative",
        "height": 1000,
        "legend": {
         "title": {
          "text": "Ventas"
         },
         "tracegroupgap": 0
        },
        "template": {
         "data": {
          "bar": [
           {
            "error_x": {
             "color": "#f2f5fa"
            },
            "error_y": {
             "color": "#f2f5fa"
            },
            "marker": {
             "line": {
              "color": "rgb(17,17,17)",
              "width": 0.5
             },
             "pattern": {
              "fillmode": "overlay",
              "size": 10,
              "solidity": 0.2
             }
            },
            "type": "bar"
           }
          ],
          "barpolar": [
           {
            "marker": {
             "line": {
              "color": "rgb(17,17,17)",
              "width": 0.5
             },
             "pattern": {
              "fillmode": "overlay",
              "size": 10,
              "solidity": 0.2
             }
            },
            "type": "barpolar"
           }
          ],
          "carpet": [
           {
            "aaxis": {
             "endlinecolor": "#A2B1C6",
             "gridcolor": "#506784",
             "linecolor": "#506784",
             "minorgridcolor": "#506784",
             "startlinecolor": "#A2B1C6"
            },
            "baxis": {
             "endlinecolor": "#A2B1C6",
             "gridcolor": "#506784",
             "linecolor": "#506784",
             "minorgridcolor": "#506784",
             "startlinecolor": "#A2B1C6"
            },
            "type": "carpet"
           }
          ],
          "choropleth": [
           {
            "colorbar": {
             "outlinewidth": 0,
             "ticks": ""
            },
            "type": "choropleth"
           }
          ],
          "contour": [
           {
            "colorbar": {
             "outlinewidth": 0,
             "ticks": ""
            },
            "colorscale": [
             [
              0,
              "#0d0887"
             ],
             [
              0.1111111111111111,
              "#46039f"
             ],
             [
              0.2222222222222222,
              "#7201a8"
             ],
             [
              0.3333333333333333,
              "#9c179e"
             ],
             [
              0.4444444444444444,
              "#bd3786"
             ],
             [
              0.5555555555555556,
              "#d8576b"
             ],
             [
              0.6666666666666666,
              "#ed7953"
             ],
             [
              0.7777777777777778,
              "#fb9f3a"
             ],
             [
              0.8888888888888888,
              "#fdca26"
             ],
             [
              1,
              "#f0f921"
             ]
            ],
            "type": "contour"
           }
          ],
          "contourcarpet": [
           {
            "colorbar": {
             "outlinewidth": 0,
             "ticks": ""
            },
            "type": "contourcarpet"
           }
          ],
          "heatmap": [
           {
            "colorbar": {
             "outlinewidth": 0,
             "ticks": ""
            },
            "colorscale": [
             [
              0,
              "#0d0887"
             ],
             [
              0.1111111111111111,
              "#46039f"
             ],
             [
              0.2222222222222222,
              "#7201a8"
             ],
             [
              0.3333333333333333,
              "#9c179e"
             ],
             [
              0.4444444444444444,
              "#bd3786"
             ],
             [
              0.5555555555555556,
              "#d8576b"
             ],
             [
              0.6666666666666666,
              "#ed7953"
             ],
             [
              0.7777777777777778,
              "#fb9f3a"
             ],
             [
              0.8888888888888888,
              "#fdca26"
             ],
             [
              1,
              "#f0f921"
             ]
            ],
            "type": "heatmap"
           }
          ],
          "heatmapgl": [
           {
            "colorbar": {
             "outlinewidth": 0,
             "ticks": ""
            },
            "colorscale": [
             [
              0,
              "#0d0887"
             ],
             [
              0.1111111111111111,
              "#46039f"
             ],
             [
              0.2222222222222222,
              "#7201a8"
             ],
             [
              0.3333333333333333,
              "#9c179e"
             ],
             [
              0.4444444444444444,
              "#bd3786"
             ],
             [
              0.5555555555555556,
              "#d8576b"
             ],
             [
              0.6666666666666666,
              "#ed7953"
             ],
             [
              0.7777777777777778,
              "#fb9f3a"
             ],
             [
              0.8888888888888888,
              "#fdca26"
             ],
             [
              1,
              "#f0f921"
             ]
            ],
            "type": "heatmapgl"
           }
          ],
          "histogram": [
           {
            "marker": {
             "pattern": {
              "fillmode": "overlay",
              "size": 10,
              "solidity": 0.2
             }
            },
            "type": "histogram"
           }
          ],
          "histogram2d": [
           {
            "colorbar": {
             "outlinewidth": 0,
             "ticks": ""
            },
            "colorscale": [
             [
              0,
              "#0d0887"
             ],
             [
              0.1111111111111111,
              "#46039f"
             ],
             [
              0.2222222222222222,
              "#7201a8"
             ],
             [
              0.3333333333333333,
              "#9c179e"
             ],
             [
              0.4444444444444444,
              "#bd3786"
             ],
             [
              0.5555555555555556,
              "#d8576b"
             ],
             [
              0.6666666666666666,
              "#ed7953"
             ],
             [
              0.7777777777777778,
              "#fb9f3a"
             ],
             [
              0.8888888888888888,
              "#fdca26"
             ],
             [
              1,
              "#f0f921"
             ]
            ],
            "type": "histogram2d"
           }
          ],
          "histogram2dcontour": [
           {
            "colorbar": {
             "outlinewidth": 0,
             "ticks": ""
            },
            "colorscale": [
             [
              0,
              "#0d0887"
             ],
             [
              0.1111111111111111,
              "#46039f"
             ],
             [
              0.2222222222222222,
              "#7201a8"
             ],
             [
              0.3333333333333333,
              "#9c179e"
             ],
             [
              0.4444444444444444,
              "#bd3786"
             ],
             [
              0.5555555555555556,
              "#d8576b"
             ],
             [
              0.6666666666666666,
              "#ed7953"
             ],
             [
              0.7777777777777778,
              "#fb9f3a"
             ],
             [
              0.8888888888888888,
              "#fdca26"
             ],
             [
              1,
              "#f0f921"
             ]
            ],
            "type": "histogram2dcontour"
           }
          ],
          "mesh3d": [
           {
            "colorbar": {
             "outlinewidth": 0,
             "ticks": ""
            },
            "type": "mesh3d"
           }
          ],
          "parcoords": [
           {
            "line": {
             "colorbar": {
              "outlinewidth": 0,
              "ticks": ""
             }
            },
            "type": "parcoords"
           }
          ],
          "pie": [
           {
            "automargin": true,
            "type": "pie"
           }
          ],
          "scatter": [
           {
            "marker": {
             "line": {
              "color": "#283442"
             }
            },
            "type": "scatter"
           }
          ],
          "scatter3d": [
           {
            "line": {
             "colorbar": {
              "outlinewidth": 0,
              "ticks": ""
             }
            },
            "marker": {
             "colorbar": {
              "outlinewidth": 0,
              "ticks": ""
             }
            },
            "type": "scatter3d"
           }
          ],
          "scattercarpet": [
           {
            "marker": {
             "colorbar": {
              "outlinewidth": 0,
              "ticks": ""
             }
            },
            "type": "scattercarpet"
           }
          ],
          "scattergeo": [
           {
            "marker": {
             "colorbar": {
              "outlinewidth": 0,
              "ticks": ""
             }
            },
            "type": "scattergeo"
           }
          ],
          "scattergl": [
           {
            "marker": {
             "line": {
              "color": "#283442"
             }
            },
            "type": "scattergl"
           }
          ],
          "scattermapbox": [
           {
            "marker": {
             "colorbar": {
              "outlinewidth": 0,
              "ticks": ""
             }
            },
            "type": "scattermapbox"
           }
          ],
          "scatterpolar": [
           {
            "marker": {
             "colorbar": {
              "outlinewidth": 0,
              "ticks": ""
             }
            },
            "type": "scatterpolar"
           }
          ],
          "scatterpolargl": [
           {
            "marker": {
             "colorbar": {
              "outlinewidth": 0,
              "ticks": ""
             }
            },
            "type": "scatterpolargl"
           }
          ],
          "scatterternary": [
           {
            "marker": {
             "colorbar": {
              "outlinewidth": 0,
              "ticks": ""
             }
            },
            "type": "scatterternary"
           }
          ],
          "surface": [
           {
            "colorbar": {
             "outlinewidth": 0,
             "ticks": ""
            },
            "colorscale": [
             [
              0,
              "#0d0887"
             ],
             [
              0.1111111111111111,
              "#46039f"
             ],
             [
              0.2222222222222222,
              "#7201a8"
             ],
             [
              0.3333333333333333,
              "#9c179e"
             ],
             [
              0.4444444444444444,
              "#bd3786"
             ],
             [
              0.5555555555555556,
              "#d8576b"
             ],
             [
              0.6666666666666666,
              "#ed7953"
             ],
             [
              0.7777777777777778,
              "#fb9f3a"
             ],
             [
              0.8888888888888888,
              "#fdca26"
             ],
             [
              1,
              "#f0f921"
             ]
            ],
            "type": "surface"
           }
          ],
          "table": [
           {
            "cells": {
             "fill": {
              "color": "#506784"
             },
             "line": {
              "color": "rgb(17,17,17)"
             }
            },
            "header": {
             "fill": {
              "color": "#2a3f5f"
             },
             "line": {
              "color": "rgb(17,17,17)"
             }
            },
            "type": "table"
           }
          ]
         },
         "layout": {
          "annotationdefaults": {
           "arrowcolor": "#f2f5fa",
           "arrowhead": 0,
           "arrowwidth": 1
          },
          "autotypenumbers": "strict",
          "coloraxis": {
           "colorbar": {
            "outlinewidth": 0,
            "ticks": ""
           }
          },
          "colorscale": {
           "diverging": [
            [
             0,
             "#8e0152"
            ],
            [
             0.1,
             "#c51b7d"
            ],
            [
             0.2,
             "#de77ae"
            ],
            [
             0.3,
             "#f1b6da"
            ],
            [
             0.4,
             "#fde0ef"
            ],
            [
             0.5,
             "#f7f7f7"
            ],
            [
             0.6,
             "#e6f5d0"
            ],
            [
             0.7,
             "#b8e186"
            ],
            [
             0.8,
             "#7fbc41"
            ],
            [
             0.9,
             "#4d9221"
            ],
            [
             1,
             "#276419"
            ]
           ],
           "sequential": [
            [
             0,
             "#0d0887"
            ],
            [
             0.1111111111111111,
             "#46039f"
            ],
            [
             0.2222222222222222,
             "#7201a8"
            ],
            [
             0.3333333333333333,
             "#9c179e"
            ],
            [
             0.4444444444444444,
             "#bd3786"
            ],
            [
             0.5555555555555556,
             "#d8576b"
            ],
            [
             0.6666666666666666,
             "#ed7953"
            ],
            [
             0.7777777777777778,
             "#fb9f3a"
            ],
            [
             0.8888888888888888,
             "#fdca26"
            ],
            [
             1,
             "#f0f921"
            ]
           ],
           "sequentialminus": [
            [
             0,
             "#0d0887"
            ],
            [
             0.1111111111111111,
             "#46039f"
            ],
            [
             0.2222222222222222,
             "#7201a8"
            ],
            [
             0.3333333333333333,
             "#9c179e"
            ],
            [
             0.4444444444444444,
             "#bd3786"
            ],
            [
             0.5555555555555556,
             "#d8576b"
            ],
            [
             0.6666666666666666,
             "#ed7953"
            ],
            [
             0.7777777777777778,
             "#fb9f3a"
            ],
            [
             0.8888888888888888,
             "#fdca26"
            ],
            [
             1,
             "#f0f921"
            ]
           ]
          },
          "colorway": [
           "#636efa",
           "#EF553B",
           "#00cc96",
           "#ab63fa",
           "#FFA15A",
           "#19d3f3",
           "#FF6692",
           "#B6E880",
           "#FF97FF",
           "#FECB52"
          ],
          "font": {
           "color": "#f2f5fa"
          },
          "geo": {
           "bgcolor": "rgb(17,17,17)",
           "lakecolor": "rgb(17,17,17)",
           "landcolor": "rgb(17,17,17)",
           "showlakes": true,
           "showland": true,
           "subunitcolor": "#506784"
          },
          "hoverlabel": {
           "align": "left"
          },
          "hovermode": "closest",
          "mapbox": {
           "style": "dark"
          },
          "paper_bgcolor": "rgb(17,17,17)",
          "plot_bgcolor": "rgb(17,17,17)",
          "polar": {
           "angularaxis": {
            "gridcolor": "#506784",
            "linecolor": "#506784",
            "ticks": ""
           },
           "bgcolor": "rgb(17,17,17)",
           "radialaxis": {
            "gridcolor": "#506784",
            "linecolor": "#506784",
            "ticks": ""
           }
          },
          "scene": {
           "xaxis": {
            "backgroundcolor": "rgb(17,17,17)",
            "gridcolor": "#506784",
            "gridwidth": 2,
            "linecolor": "#506784",
            "showbackground": true,
            "ticks": "",
            "zerolinecolor": "#C8D4E3"
           },
           "yaxis": {
            "backgroundcolor": "rgb(17,17,17)",
            "gridcolor": "#506784",
            "gridwidth": 2,
            "linecolor": "#506784",
            "showbackground": true,
            "ticks": "",
            "zerolinecolor": "#C8D4E3"
           },
           "zaxis": {
            "backgroundcolor": "rgb(17,17,17)",
            "gridcolor": "#506784",
            "gridwidth": 2,
            "linecolor": "#506784",
            "showbackground": true,
            "ticks": "",
            "zerolinecolor": "#C8D4E3"
           }
          },
          "shapedefaults": {
           "line": {
            "color": "#f2f5fa"
           }
          },
          "sliderdefaults": {
           "bgcolor": "#C8D4E3",
           "bordercolor": "rgb(17,17,17)",
           "borderwidth": 1,
           "tickwidth": 0
          },
          "ternary": {
           "aaxis": {
            "gridcolor": "#506784",
            "linecolor": "#506784",
            "ticks": ""
           },
           "baxis": {
            "gridcolor": "#506784",
            "linecolor": "#506784",
            "ticks": ""
           },
           "bgcolor": "rgb(17,17,17)",
           "caxis": {
            "gridcolor": "#506784",
            "linecolor": "#506784",
            "ticks": ""
           }
          },
          "title": {
           "x": 0.05
          },
          "updatemenudefaults": {
           "bgcolor": "#506784",
           "borderwidth": 0
          },
          "xaxis": {
           "automargin": true,
           "gridcolor": "#283442",
           "linecolor": "#506784",
           "ticks": "",
           "title": {
            "standoff": 15
           },
           "zerolinecolor": "#283442",
           "zerolinewidth": 2
          },
          "yaxis": {
           "automargin": true,
           "gridcolor": "#283442",
           "linecolor": "#506784",
           "ticks": "",
           "title": {
            "standoff": 15
           },
           "zerolinecolor": "#283442",
           "zerolinewidth": 2
          }
         }
        },
        "title": {
         "text": "Total de Ventas Anual por Producto"
        },
        "xaxis": {
         "anchor": "y",
         "domain": [
          0,
          1
         ],
         "title": {
          "text": "Producto"
         }
        },
        "yaxis": {
         "anchor": "x",
         "domain": [
          0,
          1
         ],
         "title": {
          "text": "Ventas"
         }
        }
       }
      }
     },
     "metadata": {},
     "output_type": "display_data"
    }
   ],
   "source": [
    "fig = px.bar(\n",
    "    df_total_ventas_anual_producto,\n",
    "    x=productos,\n",
    "    y=meses,\n",
    "    title='Total de Ventas Anual por Producto',\n",
    "    color=productos,\n",
    "    color_continuous_scale='Aggrnyl',\n",
    "    labels=dict(x=\"Producto\", y=\"Mes\", color=\"Ventas\",value=\"Ventas\"),\n",
    "    text='Total de ventas',\n",
    "    height=1000,\n",
    "    text_auto=True,\n",
    "    template='plotly_dark',\n",
    "    \n",
    ")\n",
    "fig.show()"
   ]
  },
  {
   "cell_type": "code",
   "execution_count": null,
   "metadata": {},
   "outputs": [],
   "source": [
    "fig = px.bar(\n",
    "    df_total_ventas_anual_producto,\n",
    "    x=meses,\n",
    "    y=productos,\n",
    "    title='Total de Ventas Anual por Producto',\n",
    "    color=productos,\n",
    "    color_continuous_scale='Aggrnyl',\n",
    "    labels=dict(x=\"Mes\", y=\"Producto\", color=\"Ventas\",value=\"Ventas\"),\n",
    "    text='Total de ventas',\n",
    "    height=1000,\n",
    "    text_auto=True,\n",
    "    template='plotly_dark',\n",
    "    \n",
    ")\n",
    "fig.show()"
   ]
  },
  {
   "cell_type": "code",
   "execution_count": 196,
   "metadata": {},
   "outputs": [
    {
     "data": {
      "application/vnd.plotly.v1+json": {
       "config": {
        "plotlyServerURL": "https://plot.ly"
       },
       "data": [
        {
         "coloraxis": "coloraxis",
         "hovertemplate": "Producto: %{x}<br>Meses: %{y}<br>Ventas: %{z}<extra></extra>",
         "name": "0",
         "type": "heatmap",
         "x": [
          "20in Monitor",
          "27in 4K Gaming Monitor",
          "27in FHD Monitor",
          "34in Ultrawide Monitor",
          "AA Batteries (4-pack)",
          "AAA Batteries (4-pack)",
          "Apple Airpods Headphones",
          "Bose SoundSport Headphones",
          "Flatscreen TV",
          "Google Phone",
          "LG Dryer",
          "LG Washing Machine",
          "Lightning Charging Cable",
          "Macbook Pro Laptop",
          "ThinkPad Laptop",
          "USB-C Charging Cable",
          "Vareebadd Phone",
          "Wired Headphones",
          "iPhone"
         ],
         "xaxis": "x",
         "y": [
          "Enero",
          "Febrero",
          "Marzo",
          "Abril",
          "Mayo",
          "Junio",
          "Julio",
          "Agosto",
          "Septiembre",
          "Octubre",
          "Noviembre",
          "Diciembre"
         ],
         "yaxis": "y",
         "z": [
          [
           215,
           312,
           419,
           314,
           1424,
           1596,
           813,
           659,
           243,
           317,
           39,
           42,
           1149,
           235,
           217,
           1281,
           125,
           1079,
           379
          ],
          [
           246,
           427,
           475,
           417,
           1734,
           1974,
           1012,
           842,
           314,
           381,
           38,
           40,
           1495,
           275,
           277,
           1651,
           129,
           1278,
           438
          ],
          [
           325,
           479,
           608,
           523,
           2213,
           2476,
           1316,
           1194,
           361,
           463,
           50,
           64,
           1871,
           380,
           344,
           1940,
           174,
           1661,
           538
          ],
          [
           394,
           565,
           737,
           652,
           2821,
           2933,
           1523,
           1286,
           458,
           581,
           77,
           61,
           2365,
           455,
           392,
           2266,
           220,
           2065,
           695
          ],
          [
           340,
           542,
           688,
           544,
           2382,
           2927,
           1359,
           1172,
           399,
           480,
           76,
           64,
           2076,
           462,
           368,
           2065,
           186,
           1874,
           639
          ],
          [
           321,
           452,
           568,
           454,
           2092,
           2159,
           1165,
           980,
           367,
           391,
           43,
           55,
           1684,
           356,
           315,
           1673,
           155,
           1475,
           531
          ],
          [
           327,
           483,
           603,
           462,
           2071,
           2362,
           1221,
           1057,
           399,
           410,
           55,
           52,
           1807,
           368,
           318,
           1846,
           145,
           1562,
           503
          ],
          [
           262,
           438,
           491,
           379,
           1826,
           2017,
           1009,
           879,
           331,
           360,
           46,
           48,
           1438,
           298,
           275,
           1457,
           143,
           1288,
           438
          ],
          [
           277,
           382,
           480,
           377,
           1772,
           1926,
           964,
           830,
           294,
           342,
           30,
           46,
           1429,
           287,
           249,
           1591,
           126,
           1301,
           398
          ],
          [
           427,
           722,
           790,
           672,
           2938,
           3356,
           1672,
           1462,
           524,
           597,
           50,
           61,
           2562,
           525,
           460,
           2664,
           203,
           2270,
           716
          ],
          [
           421,
           578,
           717,
           550,
           2629,
           3023,
           1509,
           1248,
           460,
           491,
           56,
           53,
           2210,
           440,
           374,
           2247,
           177,
           1932,
           664
          ],
          [
           571,
           859,
           965,
           848,
           3713,
           4237,
           2074,
           1821,
           663,
           716,
           86,
           80,
           3083,
           644,
           539,
           3250,
           285,
           2739,
           908
          ]
         ]
        }
       ],
       "layout": {
        "coloraxis": {
         "colorbar": {
          "title": {
           "text": "Ventas"
          }
         },
         "colorscale": [
          [
           0,
           "rgb(254, 252, 205)"
          ],
          [
           0.09090909090909091,
           "rgb(239, 225, 156)"
          ],
          [
           0.18181818181818182,
           "rgb(221, 201, 106)"
          ],
          [
           0.2727272727272727,
           "rgb(194, 182, 59)"
          ],
          [
           0.36363636363636365,
           "rgb(157, 167, 21)"
          ],
          [
           0.45454545454545453,
           "rgb(116, 153, 5)"
          ],
          [
           0.5454545454545454,
           "rgb(75, 138, 20)"
          ],
          [
           0.6363636363636364,
           "rgb(35, 121, 36)"
          ],
          [
           0.7272727272727273,
           "rgb(11, 100, 44)"
          ],
          [
           0.8181818181818182,
           "rgb(18, 78, 43)"
          ],
          [
           0.9090909090909091,
           "rgb(25, 56, 34)"
          ],
          [
           1,
           "rgb(23, 35, 18)"
          ]
         ]
        },
        "height": 800,
        "margin": {
         "t": 60
        },
        "template": {
         "data": {
          "bar": [
           {
            "error_x": {
             "color": "#2a3f5f"
            },
            "error_y": {
             "color": "#2a3f5f"
            },
            "marker": {
             "line": {
              "color": "#E5ECF6",
              "width": 0.5
             },
             "pattern": {
              "fillmode": "overlay",
              "size": 10,
              "solidity": 0.2
             }
            },
            "type": "bar"
           }
          ],
          "barpolar": [
           {
            "marker": {
             "line": {
              "color": "#E5ECF6",
              "width": 0.5
             },
             "pattern": {
              "fillmode": "overlay",
              "size": 10,
              "solidity": 0.2
             }
            },
            "type": "barpolar"
           }
          ],
          "carpet": [
           {
            "aaxis": {
             "endlinecolor": "#2a3f5f",
             "gridcolor": "white",
             "linecolor": "white",
             "minorgridcolor": "white",
             "startlinecolor": "#2a3f5f"
            },
            "baxis": {
             "endlinecolor": "#2a3f5f",
             "gridcolor": "white",
             "linecolor": "white",
             "minorgridcolor": "white",
             "startlinecolor": "#2a3f5f"
            },
            "type": "carpet"
           }
          ],
          "choropleth": [
           {
            "colorbar": {
             "outlinewidth": 0,
             "ticks": ""
            },
            "type": "choropleth"
           }
          ],
          "contour": [
           {
            "colorbar": {
             "outlinewidth": 0,
             "ticks": ""
            },
            "colorscale": [
             [
              0,
              "#0d0887"
             ],
             [
              0.1111111111111111,
              "#46039f"
             ],
             [
              0.2222222222222222,
              "#7201a8"
             ],
             [
              0.3333333333333333,
              "#9c179e"
             ],
             [
              0.4444444444444444,
              "#bd3786"
             ],
             [
              0.5555555555555556,
              "#d8576b"
             ],
             [
              0.6666666666666666,
              "#ed7953"
             ],
             [
              0.7777777777777778,
              "#fb9f3a"
             ],
             [
              0.8888888888888888,
              "#fdca26"
             ],
             [
              1,
              "#f0f921"
             ]
            ],
            "type": "contour"
           }
          ],
          "contourcarpet": [
           {
            "colorbar": {
             "outlinewidth": 0,
             "ticks": ""
            },
            "type": "contourcarpet"
           }
          ],
          "heatmap": [
           {
            "colorbar": {
             "outlinewidth": 0,
             "ticks": ""
            },
            "colorscale": [
             [
              0,
              "#0d0887"
             ],
             [
              0.1111111111111111,
              "#46039f"
             ],
             [
              0.2222222222222222,
              "#7201a8"
             ],
             [
              0.3333333333333333,
              "#9c179e"
             ],
             [
              0.4444444444444444,
              "#bd3786"
             ],
             [
              0.5555555555555556,
              "#d8576b"
             ],
             [
              0.6666666666666666,
              "#ed7953"
             ],
             [
              0.7777777777777778,
              "#fb9f3a"
             ],
             [
              0.8888888888888888,
              "#fdca26"
             ],
             [
              1,
              "#f0f921"
             ]
            ],
            "type": "heatmap"
           }
          ],
          "heatmapgl": [
           {
            "colorbar": {
             "outlinewidth": 0,
             "ticks": ""
            },
            "colorscale": [
             [
              0,
              "#0d0887"
             ],
             [
              0.1111111111111111,
              "#46039f"
             ],
             [
              0.2222222222222222,
              "#7201a8"
             ],
             [
              0.3333333333333333,
              "#9c179e"
             ],
             [
              0.4444444444444444,
              "#bd3786"
             ],
             [
              0.5555555555555556,
              "#d8576b"
             ],
             [
              0.6666666666666666,
              "#ed7953"
             ],
             [
              0.7777777777777778,
              "#fb9f3a"
             ],
             [
              0.8888888888888888,
              "#fdca26"
             ],
             [
              1,
              "#f0f921"
             ]
            ],
            "type": "heatmapgl"
           }
          ],
          "histogram": [
           {
            "marker": {
             "pattern": {
              "fillmode": "overlay",
              "size": 10,
              "solidity": 0.2
             }
            },
            "type": "histogram"
           }
          ],
          "histogram2d": [
           {
            "colorbar": {
             "outlinewidth": 0,
             "ticks": ""
            },
            "colorscale": [
             [
              0,
              "#0d0887"
             ],
             [
              0.1111111111111111,
              "#46039f"
             ],
             [
              0.2222222222222222,
              "#7201a8"
             ],
             [
              0.3333333333333333,
              "#9c179e"
             ],
             [
              0.4444444444444444,
              "#bd3786"
             ],
             [
              0.5555555555555556,
              "#d8576b"
             ],
             [
              0.6666666666666666,
              "#ed7953"
             ],
             [
              0.7777777777777778,
              "#fb9f3a"
             ],
             [
              0.8888888888888888,
              "#fdca26"
             ],
             [
              1,
              "#f0f921"
             ]
            ],
            "type": "histogram2d"
           }
          ],
          "histogram2dcontour": [
           {
            "colorbar": {
             "outlinewidth": 0,
             "ticks": ""
            },
            "colorscale": [
             [
              0,
              "#0d0887"
             ],
             [
              0.1111111111111111,
              "#46039f"
             ],
             [
              0.2222222222222222,
              "#7201a8"
             ],
             [
              0.3333333333333333,
              "#9c179e"
             ],
             [
              0.4444444444444444,
              "#bd3786"
             ],
             [
              0.5555555555555556,
              "#d8576b"
             ],
             [
              0.6666666666666666,
              "#ed7953"
             ],
             [
              0.7777777777777778,
              "#fb9f3a"
             ],
             [
              0.8888888888888888,
              "#fdca26"
             ],
             [
              1,
              "#f0f921"
             ]
            ],
            "type": "histogram2dcontour"
           }
          ],
          "mesh3d": [
           {
            "colorbar": {
             "outlinewidth": 0,
             "ticks": ""
            },
            "type": "mesh3d"
           }
          ],
          "parcoords": [
           {
            "line": {
             "colorbar": {
              "outlinewidth": 0,
              "ticks": ""
             }
            },
            "type": "parcoords"
           }
          ],
          "pie": [
           {
            "automargin": true,
            "type": "pie"
           }
          ],
          "scatter": [
           {
            "fillpattern": {
             "fillmode": "overlay",
             "size": 10,
             "solidity": 0.2
            },
            "type": "scatter"
           }
          ],
          "scatter3d": [
           {
            "line": {
             "colorbar": {
              "outlinewidth": 0,
              "ticks": ""
             }
            },
            "marker": {
             "colorbar": {
              "outlinewidth": 0,
              "ticks": ""
             }
            },
            "type": "scatter3d"
           }
          ],
          "scattercarpet": [
           {
            "marker": {
             "colorbar": {
              "outlinewidth": 0,
              "ticks": ""
             }
            },
            "type": "scattercarpet"
           }
          ],
          "scattergeo": [
           {
            "marker": {
             "colorbar": {
              "outlinewidth": 0,
              "ticks": ""
             }
            },
            "type": "scattergeo"
           }
          ],
          "scattergl": [
           {
            "marker": {
             "colorbar": {
              "outlinewidth": 0,
              "ticks": ""
             }
            },
            "type": "scattergl"
           }
          ],
          "scattermapbox": [
           {
            "marker": {
             "colorbar": {
              "outlinewidth": 0,
              "ticks": ""
             }
            },
            "type": "scattermapbox"
           }
          ],
          "scatterpolar": [
           {
            "marker": {
             "colorbar": {
              "outlinewidth": 0,
              "ticks": ""
             }
            },
            "type": "scatterpolar"
           }
          ],
          "scatterpolargl": [
           {
            "marker": {
             "colorbar": {
              "outlinewidth": 0,
              "ticks": ""
             }
            },
            "type": "scatterpolargl"
           }
          ],
          "scatterternary": [
           {
            "marker": {
             "colorbar": {
              "outlinewidth": 0,
              "ticks": ""
             }
            },
            "type": "scatterternary"
           }
          ],
          "surface": [
           {
            "colorbar": {
             "outlinewidth": 0,
             "ticks": ""
            },
            "colorscale": [
             [
              0,
              "#0d0887"
             ],
             [
              0.1111111111111111,
              "#46039f"
             ],
             [
              0.2222222222222222,
              "#7201a8"
             ],
             [
              0.3333333333333333,
              "#9c179e"
             ],
             [
              0.4444444444444444,
              "#bd3786"
             ],
             [
              0.5555555555555556,
              "#d8576b"
             ],
             [
              0.6666666666666666,
              "#ed7953"
             ],
             [
              0.7777777777777778,
              "#fb9f3a"
             ],
             [
              0.8888888888888888,
              "#fdca26"
             ],
             [
              1,
              "#f0f921"
             ]
            ],
            "type": "surface"
           }
          ],
          "table": [
           {
            "cells": {
             "fill": {
              "color": "#EBF0F8"
             },
             "line": {
              "color": "white"
             }
            },
            "header": {
             "fill": {
              "color": "#C8D4E3"
             },
             "line": {
              "color": "white"
             }
            },
            "type": "table"
           }
          ]
         },
         "layout": {
          "annotationdefaults": {
           "arrowcolor": "#2a3f5f",
           "arrowhead": 0,
           "arrowwidth": 1
          },
          "autotypenumbers": "strict",
          "coloraxis": {
           "colorbar": {
            "outlinewidth": 0,
            "ticks": ""
           }
          },
          "colorscale": {
           "diverging": [
            [
             0,
             "#8e0152"
            ],
            [
             0.1,
             "#c51b7d"
            ],
            [
             0.2,
             "#de77ae"
            ],
            [
             0.3,
             "#f1b6da"
            ],
            [
             0.4,
             "#fde0ef"
            ],
            [
             0.5,
             "#f7f7f7"
            ],
            [
             0.6,
             "#e6f5d0"
            ],
            [
             0.7,
             "#b8e186"
            ],
            [
             0.8,
             "#7fbc41"
            ],
            [
             0.9,
             "#4d9221"
            ],
            [
             1,
             "#276419"
            ]
           ],
           "sequential": [
            [
             0,
             "#0d0887"
            ],
            [
             0.1111111111111111,
             "#46039f"
            ],
            [
             0.2222222222222222,
             "#7201a8"
            ],
            [
             0.3333333333333333,
             "#9c179e"
            ],
            [
             0.4444444444444444,
             "#bd3786"
            ],
            [
             0.5555555555555556,
             "#d8576b"
            ],
            [
             0.6666666666666666,
             "#ed7953"
            ],
            [
             0.7777777777777778,
             "#fb9f3a"
            ],
            [
             0.8888888888888888,
             "#fdca26"
            ],
            [
             1,
             "#f0f921"
            ]
           ],
           "sequentialminus": [
            [
             0,
             "#0d0887"
            ],
            [
             0.1111111111111111,
             "#46039f"
            ],
            [
             0.2222222222222222,
             "#7201a8"
            ],
            [
             0.3333333333333333,
             "#9c179e"
            ],
            [
             0.4444444444444444,
             "#bd3786"
            ],
            [
             0.5555555555555556,
             "#d8576b"
            ],
            [
             0.6666666666666666,
             "#ed7953"
            ],
            [
             0.7777777777777778,
             "#fb9f3a"
            ],
            [
             0.8888888888888888,
             "#fdca26"
            ],
            [
             1,
             "#f0f921"
            ]
           ]
          },
          "colorway": [
           "#636efa",
           "#EF553B",
           "#00cc96",
           "#ab63fa",
           "#FFA15A",
           "#19d3f3",
           "#FF6692",
           "#B6E880",
           "#FF97FF",
           "#FECB52"
          ],
          "font": {
           "color": "#2a3f5f"
          },
          "geo": {
           "bgcolor": "white",
           "lakecolor": "white",
           "landcolor": "#E5ECF6",
           "showlakes": true,
           "showland": true,
           "subunitcolor": "white"
          },
          "hoverlabel": {
           "align": "left"
          },
          "hovermode": "closest",
          "mapbox": {
           "style": "light"
          },
          "paper_bgcolor": "white",
          "plot_bgcolor": "#E5ECF6",
          "polar": {
           "angularaxis": {
            "gridcolor": "white",
            "linecolor": "white",
            "ticks": ""
           },
           "bgcolor": "#E5ECF6",
           "radialaxis": {
            "gridcolor": "white",
            "linecolor": "white",
            "ticks": ""
           }
          },
          "scene": {
           "xaxis": {
            "backgroundcolor": "#E5ECF6",
            "gridcolor": "white",
            "gridwidth": 2,
            "linecolor": "white",
            "showbackground": true,
            "ticks": "",
            "zerolinecolor": "white"
           },
           "yaxis": {
            "backgroundcolor": "#E5ECF6",
            "gridcolor": "white",
            "gridwidth": 2,
            "linecolor": "white",
            "showbackground": true,
            "ticks": "",
            "zerolinecolor": "white"
           },
           "zaxis": {
            "backgroundcolor": "#E5ECF6",
            "gridcolor": "white",
            "gridwidth": 2,
            "linecolor": "white",
            "showbackground": true,
            "ticks": "",
            "zerolinecolor": "white"
           }
          },
          "shapedefaults": {
           "line": {
            "color": "#2a3f5f"
           }
          },
          "ternary": {
           "aaxis": {
            "gridcolor": "white",
            "linecolor": "white",
            "ticks": ""
           },
           "baxis": {
            "gridcolor": "white",
            "linecolor": "white",
            "ticks": ""
           },
           "bgcolor": "#E5ECF6",
           "caxis": {
            "gridcolor": "white",
            "linecolor": "white",
            "ticks": ""
           }
          },
          "title": {
           "x": 0.05
          },
          "xaxis": {
           "automargin": true,
           "gridcolor": "white",
           "linecolor": "white",
           "ticks": "",
           "title": {
            "standoff": 15
           },
           "zerolinecolor": "white",
           "zerolinewidth": 2
          },
          "yaxis": {
           "automargin": true,
           "gridcolor": "white",
           "linecolor": "white",
           "ticks": "",
           "title": {
            "standoff": 15
           },
           "zerolinecolor": "white",
           "zerolinewidth": 2
          }
         }
        },
        "title": {
         "text": "Total de Ventas por Producto"
        },
        "xaxis": {
         "anchor": "y",
         "constrain": "domain",
         "domain": [
          0,
          1
         ],
         "scaleanchor": "y",
         "ticktext": [
          "20in Monitor",
          "27in 4K Gaming Monitor",
          "27in FHD Monitor",
          "34in Ultrawide Monitor",
          "AA Batteries (4-pack)",
          "AAA Batteries (4-pack)",
          "Apple Airpods Headphones",
          "Bose SoundSport Headphones",
          "Flatscreen TV",
          "Google Phone",
          "LG Dryer",
          "LG Washing Machine",
          "Lightning Charging Cable",
          "Macbook Pro Laptop",
          "ThinkPad Laptop",
          "USB-C Charging Cable",
          "Vareebadd Phone",
          "Wired Headphones",
          "iPhone"
         ],
         "tickvals": [
          "20in Monitor",
          "27in 4K Gaming Monitor",
          "27in FHD Monitor",
          "34in Ultrawide Monitor",
          "AA Batteries (4-pack)",
          "AAA Batteries (4-pack)",
          "Apple Airpods Headphones",
          "Bose SoundSport Headphones",
          "Flatscreen TV",
          "Google Phone",
          "LG Dryer",
          "LG Washing Machine",
          "Lightning Charging Cable",
          "Macbook Pro Laptop",
          "ThinkPad Laptop",
          "USB-C Charging Cable",
          "Vareebadd Phone",
          "Wired Headphones",
          "iPhone"
         ],
         "title": {
          "text": "Producto"
         }
        },
        "yaxis": {
         "anchor": "x",
         "autorange": "reversed",
         "constrain": "domain",
         "domain": [
          0,
          1
         ],
         "side": "left",
         "ticktext": [
          "Enero",
          "Febrero",
          "Marzo",
          "Abril",
          "Mayo",
          "Junio",
          "Julio",
          "Agosto",
          "Septiembre",
          "Octubre",
          "Noviembre",
          "Diciembre"
         ],
         "tickvals": [
          "Enero",
          "Febrero",
          "Marzo",
          "Abril",
          "Mayo",
          "Junio",
          "Julio",
          "Agosto",
          "Septiembre",
          "Octubre",
          "Noviembre",
          "Diciembre"
         ],
         "title": {
          "text": "Mes"
         }
        }
       }
      }
     },
     "metadata": {},
     "output_type": "display_data"
    }
   ],
   "source": [
    "data= total_ventas_anual_producto\n",
    "fig = px.imshow(data,\n",
    "                labels=dict(x=\"Producto\", y=\"Meses\", color=\"Ventas\"),\n",
    "                color_continuous_scale='speed',\n",
    "                x=productos,\n",
    "                y=meses,\n",
    ")\n",
    "fig.update_layout(\n",
    "    title='Total de Ventas por Producto',\n",
    "    xaxis=dict(title='Producto', tickvals=productos, ticktext=productos),\n",
    "    yaxis=dict(title='Mes',tickvals=meses, ticktext=meses, side=\"left\"),\n",
    "    height=800,\n",
    "    \n",
    "    \n",
    ")\n",
    "\n",
    "fig.show()"
   ]
  },
  {
   "cell_type": "code",
   "execution_count": 197,
   "metadata": {},
   "outputs": [
    {
     "name": "stdout",
     "output_type": "stream",
     "text": [
      "El producto más vendido en cada mes es: \n",
      "Enero : AAA Batteries (4-pack) con 1596 ventas.\n",
      "Febrero : AAA Batteries (4-pack) con 1974 ventas.\n",
      "Marzo : AAA Batteries (4-pack) con 2476 ventas.\n",
      "Abril : AAA Batteries (4-pack) con 2933 ventas.\n",
      "Mayo : AAA Batteries (4-pack) con 2927 ventas.\n",
      "Junio : AAA Batteries (4-pack) con 2159 ventas.\n",
      "Julio : AAA Batteries (4-pack) con 2362 ventas.\n",
      "Agosto : AAA Batteries (4-pack) con 2017 ventas.\n",
      "Septiembre : AAA Batteries (4-pack) con 1926 ventas.\n",
      "Octubre : AAA Batteries (4-pack) con 3356 ventas.\n",
      "Noviembre : AAA Batteries (4-pack) con 3023 ventas.\n",
      "Diciembre : AAA Batteries (4-pack) con 4237 ventas.\n"
     ]
    }
   ],
   "source": [
    "print('El producto más vendido en cada mes es: ')\n",
    "for mes in meses:\n",
    "    print(mes, ':', df_total_ventas_anual_producto[mes].idxmax(), 'con', df_total_ventas_anual_producto[mes].max(), 'ventas.')  "
   ]
  },
  {
   "cell_type": "markdown",
   "metadata": {},
   "source": [
    "### ● ¿Qué factores crees que han contribuido al éxito de ese producto en particular?"
   ]
  },
  {
   "cell_type": "code",
   "execution_count": 198,
   "metadata": {},
   "outputs": [
    {
     "name": "stdout",
     "output_type": "stream",
     "text": [
      "Creemos que las Baterias AAA (pack de 4) fueron las más vendidas por su precio accesible y por ser un producto que se utiliza en la vida cotidiana.\n"
     ]
    }
   ],
   "source": [
    "print('Creemos que las Baterias AAA (pack de 4) fueron las más vendidas por su precio accesible y por ser un producto que se utiliza en la vida cotidiana.')"
   ]
  },
  {
   "cell_type": "markdown",
   "metadata": {},
   "source": [
    "### 5. Tendencia ventas:\n"
   ]
  },
  {
   "cell_type": "code",
   "execution_count": 199,
   "metadata": {},
   "outputs": [
    {
     "data": {
      "text/html": [
       "<div>\n",
       "<style scoped>\n",
       "    .dataframe tbody tr th:only-of-type {\n",
       "        vertical-align: middle;\n",
       "    }\n",
       "\n",
       "    .dataframe tbody tr th {\n",
       "        vertical-align: top;\n",
       "    }\n",
       "\n",
       "    .dataframe thead th {\n",
       "        text-align: right;\n",
       "    }\n",
       "</style>\n",
       "<table border=\"1\" class=\"dataframe\">\n",
       "  <thead>\n",
       "    <tr style=\"text-align: right;\">\n",
       "      <th></th>\n",
       "      <th>ID de Pedido</th>\n",
       "      <th>Producto</th>\n",
       "      <th>Cantidad Pedida</th>\n",
       "      <th>Precio Unitario</th>\n",
       "      <th>Fecha de Pedido</th>\n",
       "      <th>Dirección de Envio</th>\n",
       "      <th>Hora</th>\n",
       "      <th>Dia</th>\n",
       "      <th>Dia semanal</th>\n",
       "      <th>Calle</th>\n",
       "      <th>Ciudad</th>\n",
       "      <th>PO BOX</th>\n",
       "      <th>Estado</th>\n",
       "      <th>Cod Postal</th>\n",
       "      <th>Ingreso</th>\n",
       "    </tr>\n",
       "  </thead>\n",
       "  <tbody>\n",
       "    <tr>\n",
       "      <th>0</th>\n",
       "      <td>141234</td>\n",
       "      <td>iPhone</td>\n",
       "      <td>1</td>\n",
       "      <td>700</td>\n",
       "      <td>2019-01-22 21:25:00</td>\n",
       "      <td>944 Walnut St, Boston, MA 02215</td>\n",
       "      <td>21</td>\n",
       "      <td>22</td>\n",
       "      <td>1</td>\n",
       "      <td>944 Walnut St</td>\n",
       "      <td>Boston</td>\n",
       "      <td>MA 02215</td>\n",
       "      <td>MA</td>\n",
       "      <td>02215</td>\n",
       "      <td>700</td>\n",
       "    </tr>\n",
       "    <tr>\n",
       "      <th>1</th>\n",
       "      <td>141235</td>\n",
       "      <td>Lightning Charging Cable</td>\n",
       "      <td>1</td>\n",
       "      <td>14</td>\n",
       "      <td>2019-01-28 14:15:00</td>\n",
       "      <td>185 Maple St, Portland, OR 97035</td>\n",
       "      <td>14</td>\n",
       "      <td>28</td>\n",
       "      <td>0</td>\n",
       "      <td>185 Maple St</td>\n",
       "      <td>Portland</td>\n",
       "      <td>OR 97035</td>\n",
       "      <td>OR</td>\n",
       "      <td>97035</td>\n",
       "      <td>14</td>\n",
       "    </tr>\n",
       "    <tr>\n",
       "      <th>2</th>\n",
       "      <td>141236</td>\n",
       "      <td>Wired Headphones</td>\n",
       "      <td>2</td>\n",
       "      <td>11</td>\n",
       "      <td>2019-01-17 13:33:00</td>\n",
       "      <td>538 Adams St, San Francisco, CA 94016</td>\n",
       "      <td>13</td>\n",
       "      <td>17</td>\n",
       "      <td>3</td>\n",
       "      <td>538 Adams St</td>\n",
       "      <td>San Francisco</td>\n",
       "      <td>CA 94016</td>\n",
       "      <td>CA</td>\n",
       "      <td>94016</td>\n",
       "      <td>22</td>\n",
       "    </tr>\n",
       "    <tr>\n",
       "      <th>3</th>\n",
       "      <td>141237</td>\n",
       "      <td>27in FHD Monitor</td>\n",
       "      <td>1</td>\n",
       "      <td>149</td>\n",
       "      <td>2019-01-05 20:33:00</td>\n",
       "      <td>738 10th St, Los Angeles, CA 90001</td>\n",
       "      <td>20</td>\n",
       "      <td>5</td>\n",
       "      <td>5</td>\n",
       "      <td>738 10th St</td>\n",
       "      <td>Los Angeles</td>\n",
       "      <td>CA 90001</td>\n",
       "      <td>CA</td>\n",
       "      <td>90001</td>\n",
       "      <td>149</td>\n",
       "    </tr>\n",
       "    <tr>\n",
       "      <th>4</th>\n",
       "      <td>141238</td>\n",
       "      <td>Wired Headphones</td>\n",
       "      <td>1</td>\n",
       "      <td>11</td>\n",
       "      <td>2019-01-25 11:59:00</td>\n",
       "      <td>387 10th St, Austin, TX 73301</td>\n",
       "      <td>11</td>\n",
       "      <td>25</td>\n",
       "      <td>4</td>\n",
       "      <td>387 10th St</td>\n",
       "      <td>Austin</td>\n",
       "      <td>TX 73301</td>\n",
       "      <td>TX</td>\n",
       "      <td>73301</td>\n",
       "      <td>11</td>\n",
       "    </tr>\n",
       "    <tr>\n",
       "      <th>5</th>\n",
       "      <td>141239</td>\n",
       "      <td>AAA Batteries (4-pack)</td>\n",
       "      <td>1</td>\n",
       "      <td>2</td>\n",
       "      <td>2019-01-29 20:22:00</td>\n",
       "      <td>775 Willow St, San Francisco, CA 94016</td>\n",
       "      <td>20</td>\n",
       "      <td>29</td>\n",
       "      <td>1</td>\n",
       "      <td>775 Willow St</td>\n",
       "      <td>San Francisco</td>\n",
       "      <td>CA 94016</td>\n",
       "      <td>CA</td>\n",
       "      <td>94016</td>\n",
       "      <td>2</td>\n",
       "    </tr>\n",
       "    <tr>\n",
       "      <th>6</th>\n",
       "      <td>141240</td>\n",
       "      <td>27in 4K Gaming Monitor</td>\n",
       "      <td>1</td>\n",
       "      <td>389</td>\n",
       "      <td>2019-01-26 12:16:00</td>\n",
       "      <td>979 Park St, Los Angeles, CA 90001</td>\n",
       "      <td>12</td>\n",
       "      <td>26</td>\n",
       "      <td>5</td>\n",
       "      <td>979 Park St</td>\n",
       "      <td>Los Angeles</td>\n",
       "      <td>CA 90001</td>\n",
       "      <td>CA</td>\n",
       "      <td>90001</td>\n",
       "      <td>389</td>\n",
       "    </tr>\n",
       "    <tr>\n",
       "      <th>7</th>\n",
       "      <td>141241</td>\n",
       "      <td>USB-C Charging Cable</td>\n",
       "      <td>1</td>\n",
       "      <td>11</td>\n",
       "      <td>2019-01-05 12:04:00</td>\n",
       "      <td>181 6th St, San Francisco, CA 94016</td>\n",
       "      <td>12</td>\n",
       "      <td>5</td>\n",
       "      <td>5</td>\n",
       "      <td>181 6th St</td>\n",
       "      <td>San Francisco</td>\n",
       "      <td>CA 94016</td>\n",
       "      <td>CA</td>\n",
       "      <td>94016</td>\n",
       "      <td>11</td>\n",
       "    </tr>\n",
       "    <tr>\n",
       "      <th>8</th>\n",
       "      <td>141242</td>\n",
       "      <td>Bose SoundSport Headphones</td>\n",
       "      <td>1</td>\n",
       "      <td>99</td>\n",
       "      <td>2019-01-01 10:30:00</td>\n",
       "      <td>867 Willow St, Los Angeles, CA 90001</td>\n",
       "      <td>10</td>\n",
       "      <td>1</td>\n",
       "      <td>1</td>\n",
       "      <td>867 Willow St</td>\n",
       "      <td>Los Angeles</td>\n",
       "      <td>CA 90001</td>\n",
       "      <td>CA</td>\n",
       "      <td>90001</td>\n",
       "      <td>99</td>\n",
       "    </tr>\n",
       "    <tr>\n",
       "      <th>9</th>\n",
       "      <td>141243</td>\n",
       "      <td>Apple Airpods Headphones</td>\n",
       "      <td>1</td>\n",
       "      <td>150</td>\n",
       "      <td>2019-01-22 21:20:00</td>\n",
       "      <td>657 Johnson St, San Francisco, CA 94016</td>\n",
       "      <td>21</td>\n",
       "      <td>22</td>\n",
       "      <td>1</td>\n",
       "      <td>657 Johnson St</td>\n",
       "      <td>San Francisco</td>\n",
       "      <td>CA 94016</td>\n",
       "      <td>CA</td>\n",
       "      <td>94016</td>\n",
       "      <td>150</td>\n",
       "    </tr>\n",
       "    <tr>\n",
       "      <th>10</th>\n",
       "      <td>141244</td>\n",
       "      <td>Apple Airpods Headphones</td>\n",
       "      <td>1</td>\n",
       "      <td>150</td>\n",
       "      <td>2019-01-07 11:29:00</td>\n",
       "      <td>492 Walnut St, San Francisco, CA 94016</td>\n",
       "      <td>11</td>\n",
       "      <td>7</td>\n",
       "      <td>0</td>\n",
       "      <td>492 Walnut St</td>\n",
       "      <td>San Francisco</td>\n",
       "      <td>CA 94016</td>\n",
       "      <td>CA</td>\n",
       "      <td>94016</td>\n",
       "      <td>150</td>\n",
       "    </tr>\n",
       "    <tr>\n",
       "      <th>11</th>\n",
       "      <td>141245</td>\n",
       "      <td>Macbook Pro Laptop</td>\n",
       "      <td>1</td>\n",
       "      <td>1700</td>\n",
       "      <td>2019-01-31 10:12:00</td>\n",
       "      <td>322 6th St, San Francisco, CA 94016</td>\n",
       "      <td>10</td>\n",
       "      <td>31</td>\n",
       "      <td>3</td>\n",
       "      <td>322 6th St</td>\n",
       "      <td>San Francisco</td>\n",
       "      <td>CA 94016</td>\n",
       "      <td>CA</td>\n",
       "      <td>94016</td>\n",
       "      <td>1700</td>\n",
       "    </tr>\n",
       "    <tr>\n",
       "      <th>12</th>\n",
       "      <td>141246</td>\n",
       "      <td>AAA Batteries (4-pack)</td>\n",
       "      <td>3</td>\n",
       "      <td>2</td>\n",
       "      <td>2019-01-09 18:57:00</td>\n",
       "      <td>618 7th St, Los Angeles, CA 90001</td>\n",
       "      <td>18</td>\n",
       "      <td>9</td>\n",
       "      <td>2</td>\n",
       "      <td>618 7th St</td>\n",
       "      <td>Los Angeles</td>\n",
       "      <td>CA 90001</td>\n",
       "      <td>CA</td>\n",
       "      <td>90001</td>\n",
       "      <td>6</td>\n",
       "    </tr>\n",
       "    <tr>\n",
       "      <th>13</th>\n",
       "      <td>141247</td>\n",
       "      <td>27in FHD Monitor</td>\n",
       "      <td>1</td>\n",
       "      <td>149</td>\n",
       "      <td>2019-01-25 19:19:00</td>\n",
       "      <td>512 Wilson St, San Francisco, CA 94016</td>\n",
       "      <td>19</td>\n",
       "      <td>25</td>\n",
       "      <td>4</td>\n",
       "      <td>512 Wilson St</td>\n",
       "      <td>San Francisco</td>\n",
       "      <td>CA 94016</td>\n",
       "      <td>CA</td>\n",
       "      <td>94016</td>\n",
       "      <td>149</td>\n",
       "    </tr>\n",
       "    <tr>\n",
       "      <th>14</th>\n",
       "      <td>141248</td>\n",
       "      <td>Flatscreen TV</td>\n",
       "      <td>1</td>\n",
       "      <td>300</td>\n",
       "      <td>2019-01-03 21:54:00</td>\n",
       "      <td>363 Spruce St, Austin, TX 73301</td>\n",
       "      <td>21</td>\n",
       "      <td>3</td>\n",
       "      <td>3</td>\n",
       "      <td>363 Spruce St</td>\n",
       "      <td>Austin</td>\n",
       "      <td>TX 73301</td>\n",
       "      <td>TX</td>\n",
       "      <td>73301</td>\n",
       "      <td>300</td>\n",
       "    </tr>\n",
       "  </tbody>\n",
       "</table>\n",
       "</div>"
      ],
      "text/plain": [
       "   ID de Pedido                    Producto  Cantidad Pedida  Precio Unitario  \\\n",
       "0        141234                      iPhone                1              700   \n",
       "1        141235    Lightning Charging Cable                1               14   \n",
       "2        141236            Wired Headphones                2               11   \n",
       "3        141237            27in FHD Monitor                1              149   \n",
       "4        141238            Wired Headphones                1               11   \n",
       "5        141239      AAA Batteries (4-pack)                1                2   \n",
       "6        141240      27in 4K Gaming Monitor                1              389   \n",
       "7        141241        USB-C Charging Cable                1               11   \n",
       "8        141242  Bose SoundSport Headphones                1               99   \n",
       "9        141243    Apple Airpods Headphones                1              150   \n",
       "10       141244    Apple Airpods Headphones                1              150   \n",
       "11       141245          Macbook Pro Laptop                1             1700   \n",
       "12       141246      AAA Batteries (4-pack)                3                2   \n",
       "13       141247            27in FHD Monitor                1              149   \n",
       "14       141248               Flatscreen TV                1              300   \n",
       "\n",
       "       Fecha de Pedido                       Dirección de Envio  Hora  Dia  \\\n",
       "0  2019-01-22 21:25:00          944 Walnut St, Boston, MA 02215    21   22   \n",
       "1  2019-01-28 14:15:00         185 Maple St, Portland, OR 97035    14   28   \n",
       "2  2019-01-17 13:33:00    538 Adams St, San Francisco, CA 94016    13   17   \n",
       "3  2019-01-05 20:33:00       738 10th St, Los Angeles, CA 90001    20    5   \n",
       "4  2019-01-25 11:59:00            387 10th St, Austin, TX 73301    11   25   \n",
       "5  2019-01-29 20:22:00   775 Willow St, San Francisco, CA 94016    20   29   \n",
       "6  2019-01-26 12:16:00       979 Park St, Los Angeles, CA 90001    12   26   \n",
       "7  2019-01-05 12:04:00      181 6th St, San Francisco, CA 94016    12    5   \n",
       "8  2019-01-01 10:30:00     867 Willow St, Los Angeles, CA 90001    10    1   \n",
       "9  2019-01-22 21:20:00  657 Johnson St, San Francisco, CA 94016    21   22   \n",
       "10 2019-01-07 11:29:00   492 Walnut St, San Francisco, CA 94016    11    7   \n",
       "11 2019-01-31 10:12:00      322 6th St, San Francisco, CA 94016    10   31   \n",
       "12 2019-01-09 18:57:00        618 7th St, Los Angeles, CA 90001    18    9   \n",
       "13 2019-01-25 19:19:00   512 Wilson St, San Francisco, CA 94016    19   25   \n",
       "14 2019-01-03 21:54:00          363 Spruce St, Austin, TX 73301    21    3   \n",
       "\n",
       "    Dia semanal           Calle         Ciudad    PO BOX Estado Cod Postal  \\\n",
       "0             1   944 Walnut St         Boston  MA 02215     MA      02215   \n",
       "1             0    185 Maple St       Portland  OR 97035     OR      97035   \n",
       "2             3    538 Adams St  San Francisco  CA 94016     CA      94016   \n",
       "3             5     738 10th St    Los Angeles  CA 90001     CA      90001   \n",
       "4             4     387 10th St         Austin  TX 73301     TX      73301   \n",
       "5             1   775 Willow St  San Francisco  CA 94016     CA      94016   \n",
       "6             5     979 Park St    Los Angeles  CA 90001     CA      90001   \n",
       "7             5      181 6th St  San Francisco  CA 94016     CA      94016   \n",
       "8             1   867 Willow St    Los Angeles  CA 90001     CA      90001   \n",
       "9             1  657 Johnson St  San Francisco  CA 94016     CA      94016   \n",
       "10            0   492 Walnut St  San Francisco  CA 94016     CA      94016   \n",
       "11            3      322 6th St  San Francisco  CA 94016     CA      94016   \n",
       "12            2      618 7th St    Los Angeles  CA 90001     CA      90001   \n",
       "13            4   512 Wilson St  San Francisco  CA 94016     CA      94016   \n",
       "14            3   363 Spruce St         Austin  TX 73301     TX      73301   \n",
       "\n",
       "    Ingreso  \n",
       "0       700  \n",
       "1        14  \n",
       "2        22  \n",
       "3       149  \n",
       "4        11  \n",
       "5         2  \n",
       "6       389  \n",
       "7        11  \n",
       "8        99  \n",
       "9       150  \n",
       "10      150  \n",
       "11     1700  \n",
       "12        6  \n",
       "13      149  \n",
       "14      300  "
      ]
     },
     "execution_count": 199,
     "metadata": {},
     "output_type": "execute_result"
    }
   ],
   "source": [
    "dataframes_meses['Enero'].head(15)"
   ]
  },
  {
   "cell_type": "code",
   "execution_count": 202,
   "metadata": {},
   "outputs": [
    {
     "data": {
      "text/plain": [
       "'Mar'"
      ]
     },
     "execution_count": 202,
     "metadata": {},
     "output_type": "execute_result"
    }
   ],
   "source": [
    "dias_semana[1]"
   ]
  },
  {
   "cell_type": "code",
   "execution_count": 203,
   "metadata": {},
   "outputs": [
    {
     "data": {
      "text/plain": [
       "Dia\n",
       "1     308\n",
       "2     323\n",
       "3     296\n",
       "4     293\n",
       "5     308\n",
       "6     290\n",
       "7     308\n",
       "8     283\n",
       "9     317\n",
       "10    336\n",
       "11    340\n",
       "12    293\n",
       "13    319\n",
       "14    281\n",
       "15    328\n",
       "16    311\n",
       "17    291\n",
       "18    320\n",
       "19    320\n",
       "20    347\n",
       "21    305\n",
       "22    328\n",
       "23    277\n",
       "24    348\n",
       "25    297\n",
       "26    369\n",
       "27    311\n",
       "28    327\n",
       "29    320\n",
       "30    300\n",
       "31    277\n",
       "Name: Cantidad Pedida, dtype: int64"
      ]
     },
     "execution_count": 203,
     "metadata": {},
     "output_type": "execute_result"
    }
   ],
   "source": [
    "# Se agrupa por dia del mes y se calcula el total de ventas por ese dia\n",
    "total_ventas_dia =  dataframes_meses['Enero'].groupby('Dia')['Cantidad Pedida'].count()\n",
    "total_ventas_dia\n"
   ]
  },
  {
   "cell_type": "code",
   "execution_count": 204,
   "metadata": {},
   "outputs": [
    {
     "data": {
      "text/plain": [
       "Dia semanal\n",
       "0    1221\n",
       "1    1561\n",
       "2    1528\n",
       "3    1548\n",
       "4    1256\n",
       "5    1290\n",
       "6    1267\n",
       "Name: Cantidad Pedida, dtype: int64"
      ]
     },
     "execution_count": 204,
     "metadata": {},
     "output_type": "execute_result"
    }
   ],
   "source": [
    "# Se agrupa por dia de la semana del mes y se calcula el total de ventas por esos dias \n",
    "total_ventas_dia_semana =  dataframes_meses['Enero'].groupby('Dia semanal')['Cantidad Pedida'].count()\n",
    "total_ventas_dia_semana\n"
   ]
  },
  {
   "cell_type": "markdown",
   "metadata": {},
   "source": [
    "### ● ¿Existe alguna tendencia o patrón en las ventas que se repita a lo largo de los días en los diferentes meses?\n"
   ]
  },
  {
   "cell_type": "code",
   "execution_count": 205,
   "metadata": {},
   "outputs": [
    {
     "data": {
      "text/plain": [
       "[Dia\n",
       " 1     308\n",
       " 2     323\n",
       " 3     296\n",
       " 4     293\n",
       " 5     308\n",
       " 6     290\n",
       " 7     308\n",
       " 8     283\n",
       " 9     317\n",
       " 10    336\n",
       " 11    340\n",
       " 12    293\n",
       " 13    319\n",
       " 14    281\n",
       " 15    328\n",
       " 16    311\n",
       " 17    291\n",
       " 18    320\n",
       " 19    320\n",
       " 20    347\n",
       " 21    305\n",
       " 22    328\n",
       " 23    277\n",
       " 24    348\n",
       " 25    297\n",
       " 26    369\n",
       " 27    311\n",
       " 28    327\n",
       " 29    320\n",
       " 30    300\n",
       " 31    277\n",
       " Name: Cantidad Pedida, dtype: int64,\n",
       " Dia\n",
       " 1     424\n",
       " 2     433\n",
       " 3     403\n",
       " 4     402\n",
       " 5     387\n",
       " 6     415\n",
       " 7     426\n",
       " 8     434\n",
       " 9     448\n",
       " 10    448\n",
       " 11    423\n",
       " 12    448\n",
       " 13    468\n",
       " 14    423\n",
       " 15    402\n",
       " 16    438\n",
       " 17    452\n",
       " 18    451\n",
       " 19    403\n",
       " 20    442\n",
       " 21    405\n",
       " 22    433\n",
       " 23    391\n",
       " 24    460\n",
       " 25    412\n",
       " 26    440\n",
       " 27    452\n",
       " 28    405\n",
       " Name: Cantidad Pedida, dtype: int64,\n",
       " Dia\n",
       " 1     472\n",
       " 2     525\n",
       " 3     474\n",
       " 4     471\n",
       " 5     503\n",
       " 6     471\n",
       " 7     508\n",
       " 8     481\n",
       " 9     505\n",
       " 10    491\n",
       " 11    523\n",
       " 12    476\n",
       " 13    512\n",
       " 14    478\n",
       " 15    487\n",
       " 16    477\n",
       " 17    475\n",
       " 18    479\n",
       " 19    494\n",
       " 20    480\n",
       " 21    470\n",
       " 22    503\n",
       " 23    545\n",
       " 24    466\n",
       " 25    473\n",
       " 26    458\n",
       " 27    503\n",
       " 28    489\n",
       " 29    491\n",
       " 30    483\n",
       " 31    466\n",
       " Name: Cantidad Pedida, dtype: int64,\n",
       " Dia\n",
       " 1     615\n",
       " 2     588\n",
       " 3     599\n",
       " 4     626\n",
       " 5     611\n",
       " 6     613\n",
       " 7     570\n",
       " 8     610\n",
       " 9     616\n",
       " 10    629\n",
       " 11    627\n",
       " 12    623\n",
       " 13    632\n",
       " 14    608\n",
       " 15    584\n",
       " 16    611\n",
       " 17    653\n",
       " 18    657\n",
       " 19    562\n",
       " 20    587\n",
       " 21    672\n",
       " 22    550\n",
       " 23    589\n",
       " 24    629\n",
       " 25    591\n",
       " 26    578\n",
       " 27    630\n",
       " 28    591\n",
       " 29    589\n",
       " 30    627\n",
       " Name: Cantidad Pedida, dtype: int64,\n",
       " Dia\n",
       " 1     501\n",
       " 2     532\n",
       " 3     500\n",
       " 4     544\n",
       " 5     528\n",
       " 6     507\n",
       " 7     543\n",
       " 8     545\n",
       " 9     565\n",
       " 10    548\n",
       " 11    504\n",
       " 12    552\n",
       " 13    548\n",
       " 14    587\n",
       " 15    505\n",
       " 16    543\n",
       " 17    555\n",
       " 18    497\n",
       " 19    570\n",
       " 20    552\n",
       " 21    515\n",
       " 22    568\n",
       " 23    541\n",
       " 24    509\n",
       " 25    542\n",
       " 26    511\n",
       " 27    505\n",
       " 28    546\n",
       " 29    549\n",
       " 30    553\n",
       " 31    475\n",
       " Name: Cantidad Pedida, dtype: int64,\n",
       " Dia\n",
       " 1     459\n",
       " 2     450\n",
       " 3     422\n",
       " 4     465\n",
       " 5     465\n",
       " 6     487\n",
       " 7     415\n",
       " 8     445\n",
       " 9     438\n",
       " 10    447\n",
       " 11    438\n",
       " 12    463\n",
       " 13    452\n",
       " 14    476\n",
       " 15    478\n",
       " 16    473\n",
       " 17    445\n",
       " 18    443\n",
       " 19    469\n",
       " 20    472\n",
       " 21    476\n",
       " 22    391\n",
       " 23    411\n",
       " 24    442\n",
       " 25    442\n",
       " 26    463\n",
       " 27    408\n",
       " 28    465\n",
       " 29    490\n",
       " 30    447\n",
       " Name: Cantidad Pedida, dtype: int64,\n",
       " Dia\n",
       " 1     474\n",
       " 2     465\n",
       " 3     467\n",
       " 4     459\n",
       " 5     451\n",
       " 6     474\n",
       " 7     451\n",
       " 8     477\n",
       " 9     466\n",
       " 10    463\n",
       " 11    428\n",
       " 12    455\n",
       " 13    469\n",
       " 14    453\n",
       " 15    498\n",
       " 16    468\n",
       " 17    405\n",
       " 18    503\n",
       " 19    449\n",
       " 20    461\n",
       " 21    465\n",
       " 22    496\n",
       " 23    422\n",
       " 24    436\n",
       " 25    479\n",
       " 26    476\n",
       " 27    446\n",
       " 28    473\n",
       " 29    418\n",
       " 30    446\n",
       " 31    480\n",
       " Name: Cantidad Pedida, dtype: int64,\n",
       " Dia\n",
       " 1     363\n",
       " 2     389\n",
       " 3     361\n",
       " 4     383\n",
       " 5     363\n",
       " 6     402\n",
       " 7     386\n",
       " 8     381\n",
       " 9     383\n",
       " 10    426\n",
       " 11    379\n",
       " 12    360\n",
       " 13    395\n",
       " 14    407\n",
       " 15    391\n",
       " 16    408\n",
       " 17    352\n",
       " 18    366\n",
       " 19    411\n",
       " 20    364\n",
       " 21    357\n",
       " 22    405\n",
       " 23    374\n",
       " 24    386\n",
       " 25    390\n",
       " 26    388\n",
       " 27    392\n",
       " 28    403\n",
       " 29    399\n",
       " 30    356\n",
       " 31    419\n",
       " Name: Cantidad Pedida, dtype: int64,\n",
       " Dia\n",
       " 1     392\n",
       " 2     400\n",
       " 3     379\n",
       " 4     386\n",
       " 5     357\n",
       " 6     385\n",
       " 7     375\n",
       " 8     380\n",
       " 9     397\n",
       " 10    392\n",
       " 11    411\n",
       " 12    387\n",
       " 13    393\n",
       " 14    402\n",
       " 15    411\n",
       " 16    374\n",
       " 17    398\n",
       " 18    386\n",
       " 19    404\n",
       " 20    389\n",
       " 21    370\n",
       " 22    362\n",
       " 23    380\n",
       " 24    389\n",
       " 25    354\n",
       " 26    385\n",
       " 27    411\n",
       " 28    372\n",
       " 29    411\n",
       " 30    379\n",
       " Name: Cantidad Pedida, dtype: int64,\n",
       " Dia\n",
       " 1     642\n",
       " 2     672\n",
       " 3     624\n",
       " 4     626\n",
       " 5     678\n",
       " 6     664\n",
       " 7     670\n",
       " 8     639\n",
       " 9     608\n",
       " 10    684\n",
       " 11    625\n",
       " 12    632\n",
       " 13    653\n",
       " 14    630\n",
       " 15    659\n",
       " 16    612\n",
       " 17    651\n",
       " 18    651\n",
       " 19    675\n",
       " 20    671\n",
       " 21    639\n",
       " 22    692\n",
       " 23    674\n",
       " 24    651\n",
       " 25    662\n",
       " 26    713\n",
       " 27    659\n",
       " 28    672\n",
       " 29    623\n",
       " 30    631\n",
       " 31    669\n",
       " Name: Cantidad Pedida, dtype: int64,\n",
       " Dia\n",
       " 1     607\n",
       " 2     612\n",
       " 3     538\n",
       " 4     608\n",
       " 5     562\n",
       " 6     556\n",
       " 7     610\n",
       " 8     610\n",
       " 9     587\n",
       " 10    571\n",
       " 11    554\n",
       " 12    578\n",
       " 13    593\n",
       " 14    568\n",
       " 15    541\n",
       " 16    569\n",
       " 17    609\n",
       " 18    591\n",
       " 19    604\n",
       " 20    570\n",
       " 21    637\n",
       " 22    590\n",
       " 23    569\n",
       " 24    617\n",
       " 25    598\n",
       " 26    574\n",
       " 27    621\n",
       " 28    534\n",
       " 29    579\n",
       " 30    594\n",
       " Name: Cantidad Pedida, dtype: int64,\n",
       " Dia\n",
       " 1     785\n",
       " 2     798\n",
       " 3     752\n",
       " 4     795\n",
       " 5     802\n",
       " 6     817\n",
       " 7     763\n",
       " 8     780\n",
       " 9     770\n",
       " 10    806\n",
       " 11    808\n",
       " 12    819\n",
       " 13    857\n",
       " 14    813\n",
       " 15    822\n",
       " 16    825\n",
       " 17    879\n",
       " 18    788\n",
       " 19    823\n",
       " 20    809\n",
       " 21    774\n",
       " 22    783\n",
       " 23    868\n",
       " 24    808\n",
       " 25    814\n",
       " 26    795\n",
       " 27    770\n",
       " 28    816\n",
       " 29    840\n",
       " 30    807\n",
       " 31    763\n",
       " Name: Cantidad Pedida, dtype: int64]"
      ]
     },
     "execution_count": 205,
     "metadata": {},
     "output_type": "execute_result"
    }
   ],
   "source": [
    "# Se crea una lista para almacenar el total de ventas por dia por mes y el total anual de ventas por dia\n",
    "total_ventas_dia_mes = []\n",
    "total_ventas_anual_dia = []\n",
    "\n",
    "# Se crea una lista para almacenar el total de ventas por dia de la semana por mes y el total anual de ventas por dia de la semana\n",
    "total_ventas_dia_semana_mes = []\n",
    "total_ventas_anual_dia_semana = []\n",
    "\n",
    "# Se recorre el diccionario de dataframes de ventas por mes\n",
    "for mes in meses:\n",
    "    # Se obtiene el dataframe de ventas del mes\n",
    "    dataframe_mes = dataframes_meses[mes]\n",
    "    \n",
    "    # Se obtiene el total de ventas por dia del mes\n",
    "    total_ventas_dia_mes = dataframe_mes.groupby('Dia')['Cantidad Pedida'].count()\n",
    "    \n",
    "    # Se agrega el total de ventas por dia al anual\n",
    "    total_ventas_anual_dia.append(total_ventas_dia_mes)\n",
    "    \n",
    "    # Se obtiene el total de ventas por dia de la semana del mes\n",
    "    total_ventas_dia_semana_mes = dataframe_mes.groupby('Dia semanal')['Cantidad Pedida'].count()\n",
    "    \n",
    "    # Se agrega el total de ventas por dia de la semana al anual\n",
    "    total_ventas_anual_dia_semana.append(total_ventas_dia_semana_mes)\n",
    "\n",
    "total_ventas_anual_dia\n"
   ]
  },
  {
   "cell_type": "code",
   "execution_count": 206,
   "metadata": {},
   "outputs": [
    {
     "data": {
      "text/plain": [
       "[Dia semanal\n",
       " 0    1221\n",
       " 1    1561\n",
       " 2    1528\n",
       " 3    1548\n",
       " 4    1256\n",
       " 5    1290\n",
       " 6    1267\n",
       " Name: Cantidad Pedida, dtype: int64,\n",
       " Dia semanal\n",
       " 0    1688\n",
       " 1    1678\n",
       " 2    1777\n",
       " 3    1659\n",
       " 4    1693\n",
       " 5    1710\n",
       " 6    1763\n",
       " Name: Cantidad Pedida, dtype: int64,\n",
       " Dia semanal\n",
       " 0    1964\n",
       " 1    1931\n",
       " 2    1966\n",
       " 3    1945\n",
       " 4    2416\n",
       " 5    2535\n",
       " 6    2372\n",
       " Name: Cantidad Pedida, dtype: int64,\n",
       " Dia semanal\n",
       " 0    2920\n",
       " 1    3031\n",
       " 2    2538\n",
       " 3    2501\n",
       " 4    2374\n",
       " 5    2462\n",
       " 6    2441\n",
       " Name: Cantidad Pedida, dtype: int64,\n",
       " Dia semanal\n",
       " 0    2112\n",
       " 1    2191\n",
       " 2    2652\n",
       " 3    2734\n",
       " 4    2587\n",
       " 5    2103\n",
       " 6    2161\n",
       " Name: Cantidad Pedida, dtype: int64,\n",
       " Dia semanal\n",
       " 0    1774\n",
       " 1    1788\n",
       " 2    1860\n",
       " 3    1819\n",
       " 4    1832\n",
       " 5    2245\n",
       " 6    2219\n",
       " Name: Cantidad Pedida, dtype: int64,\n",
       " Dia semanal\n",
       " 0    2347\n",
       " 1    2267\n",
       " 2    2251\n",
       " 3    1885\n",
       " 4    1831\n",
       " 5    1850\n",
       " 6    1842\n",
       " Name: Cantidad Pedida, dtype: int64,\n",
       " Dia semanal\n",
       " 0    1522\n",
       " 1    1553\n",
       " 2    1553\n",
       " 3    1927\n",
       " 4    1910\n",
       " 5    1944\n",
       " 6    1530\n",
       " Name: Cantidad Pedida, dtype: int64,\n",
       " Dia semanal\n",
       " 0    1930\n",
       " 1    1578\n",
       " 2    1537\n",
       " 3    1533\n",
       " 4    1578\n",
       " 5    1519\n",
       " 6    1936\n",
       " Name: Cantidad Pedida, dtype: int64,\n",
       " Dia semanal\n",
       " 0    2611\n",
       " 1    3233\n",
       " 2    3197\n",
       " 3    3279\n",
       " 4    2586\n",
       " 5    2698\n",
       " 6    2647\n",
       " Name: Cantidad Pedida, dtype: int64,\n",
       " Dia semanal\n",
       " 0    2351\n",
       " 1    2318\n",
       " 2    2340\n",
       " 3    2349\n",
       " 4    2898\n",
       " 5    2931\n",
       " 6    2364\n",
       " Name: Cantidad Pedida, dtype: int64,\n",
       " Dia semanal\n",
       " 0    4068\n",
       " 1    4008\n",
       " 2    3239\n",
       " 3    3239\n",
       " 4    3253\n",
       " 5    3166\n",
       " 6    3976\n",
       " Name: Cantidad Pedida, dtype: int64]"
      ]
     },
     "execution_count": 206,
     "metadata": {},
     "output_type": "execute_result"
    }
   ],
   "source": [
    "total_ventas_anual_dia_semana"
   ]
  },
  {
   "cell_type": "code",
   "execution_count": 207,
   "metadata": {},
   "outputs": [
    {
     "data": {
      "text/html": [
       "<div>\n",
       "<style scoped>\n",
       "    .dataframe tbody tr th:only-of-type {\n",
       "        vertical-align: middle;\n",
       "    }\n",
       "\n",
       "    .dataframe tbody tr th {\n",
       "        vertical-align: top;\n",
       "    }\n",
       "\n",
       "    .dataframe thead th {\n",
       "        text-align: right;\n",
       "    }\n",
       "</style>\n",
       "<table border=\"1\" class=\"dataframe\">\n",
       "  <thead>\n",
       "    <tr style=\"text-align: right;\">\n",
       "      <th></th>\n",
       "      <th>Enero</th>\n",
       "      <th>Febrero</th>\n",
       "      <th>Marzo</th>\n",
       "      <th>Abril</th>\n",
       "      <th>Mayo</th>\n",
       "      <th>Junio</th>\n",
       "      <th>Julio</th>\n",
       "      <th>Agosto</th>\n",
       "      <th>Septiembre</th>\n",
       "      <th>Octubre</th>\n",
       "      <th>Noviembre</th>\n",
       "      <th>Diciembre</th>\n",
       "    </tr>\n",
       "    <tr>\n",
       "      <th>Dia</th>\n",
       "      <th></th>\n",
       "      <th></th>\n",
       "      <th></th>\n",
       "      <th></th>\n",
       "      <th></th>\n",
       "      <th></th>\n",
       "      <th></th>\n",
       "      <th></th>\n",
       "      <th></th>\n",
       "      <th></th>\n",
       "      <th></th>\n",
       "      <th></th>\n",
       "    </tr>\n",
       "  </thead>\n",
       "  <tbody>\n",
       "    <tr>\n",
       "      <th>1</th>\n",
       "      <td>308</td>\n",
       "      <td>424.0</td>\n",
       "      <td>472</td>\n",
       "      <td>615.0</td>\n",
       "      <td>501</td>\n",
       "      <td>459.0</td>\n",
       "      <td>474</td>\n",
       "      <td>363</td>\n",
       "      <td>392.0</td>\n",
       "      <td>642</td>\n",
       "      <td>607.0</td>\n",
       "      <td>785</td>\n",
       "    </tr>\n",
       "    <tr>\n",
       "      <th>2</th>\n",
       "      <td>323</td>\n",
       "      <td>433.0</td>\n",
       "      <td>525</td>\n",
       "      <td>588.0</td>\n",
       "      <td>532</td>\n",
       "      <td>450.0</td>\n",
       "      <td>465</td>\n",
       "      <td>389</td>\n",
       "      <td>400.0</td>\n",
       "      <td>672</td>\n",
       "      <td>612.0</td>\n",
       "      <td>798</td>\n",
       "    </tr>\n",
       "    <tr>\n",
       "      <th>3</th>\n",
       "      <td>296</td>\n",
       "      <td>403.0</td>\n",
       "      <td>474</td>\n",
       "      <td>599.0</td>\n",
       "      <td>500</td>\n",
       "      <td>422.0</td>\n",
       "      <td>467</td>\n",
       "      <td>361</td>\n",
       "      <td>379.0</td>\n",
       "      <td>624</td>\n",
       "      <td>538.0</td>\n",
       "      <td>752</td>\n",
       "    </tr>\n",
       "    <tr>\n",
       "      <th>4</th>\n",
       "      <td>293</td>\n",
       "      <td>402.0</td>\n",
       "      <td>471</td>\n",
       "      <td>626.0</td>\n",
       "      <td>544</td>\n",
       "      <td>465.0</td>\n",
       "      <td>459</td>\n",
       "      <td>383</td>\n",
       "      <td>386.0</td>\n",
       "      <td>626</td>\n",
       "      <td>608.0</td>\n",
       "      <td>795</td>\n",
       "    </tr>\n",
       "    <tr>\n",
       "      <th>5</th>\n",
       "      <td>308</td>\n",
       "      <td>387.0</td>\n",
       "      <td>503</td>\n",
       "      <td>611.0</td>\n",
       "      <td>528</td>\n",
       "      <td>465.0</td>\n",
       "      <td>451</td>\n",
       "      <td>363</td>\n",
       "      <td>357.0</td>\n",
       "      <td>678</td>\n",
       "      <td>562.0</td>\n",
       "      <td>802</td>\n",
       "    </tr>\n",
       "    <tr>\n",
       "      <th>6</th>\n",
       "      <td>290</td>\n",
       "      <td>415.0</td>\n",
       "      <td>471</td>\n",
       "      <td>613.0</td>\n",
       "      <td>507</td>\n",
       "      <td>487.0</td>\n",
       "      <td>474</td>\n",
       "      <td>402</td>\n",
       "      <td>385.0</td>\n",
       "      <td>664</td>\n",
       "      <td>556.0</td>\n",
       "      <td>817</td>\n",
       "    </tr>\n",
       "    <tr>\n",
       "      <th>7</th>\n",
       "      <td>308</td>\n",
       "      <td>426.0</td>\n",
       "      <td>508</td>\n",
       "      <td>570.0</td>\n",
       "      <td>543</td>\n",
       "      <td>415.0</td>\n",
       "      <td>451</td>\n",
       "      <td>386</td>\n",
       "      <td>375.0</td>\n",
       "      <td>670</td>\n",
       "      <td>610.0</td>\n",
       "      <td>763</td>\n",
       "    </tr>\n",
       "    <tr>\n",
       "      <th>8</th>\n",
       "      <td>283</td>\n",
       "      <td>434.0</td>\n",
       "      <td>481</td>\n",
       "      <td>610.0</td>\n",
       "      <td>545</td>\n",
       "      <td>445.0</td>\n",
       "      <td>477</td>\n",
       "      <td>381</td>\n",
       "      <td>380.0</td>\n",
       "      <td>639</td>\n",
       "      <td>610.0</td>\n",
       "      <td>780</td>\n",
       "    </tr>\n",
       "    <tr>\n",
       "      <th>9</th>\n",
       "      <td>317</td>\n",
       "      <td>448.0</td>\n",
       "      <td>505</td>\n",
       "      <td>616.0</td>\n",
       "      <td>565</td>\n",
       "      <td>438.0</td>\n",
       "      <td>466</td>\n",
       "      <td>383</td>\n",
       "      <td>397.0</td>\n",
       "      <td>608</td>\n",
       "      <td>587.0</td>\n",
       "      <td>770</td>\n",
       "    </tr>\n",
       "    <tr>\n",
       "      <th>10</th>\n",
       "      <td>336</td>\n",
       "      <td>448.0</td>\n",
       "      <td>491</td>\n",
       "      <td>629.0</td>\n",
       "      <td>548</td>\n",
       "      <td>447.0</td>\n",
       "      <td>463</td>\n",
       "      <td>426</td>\n",
       "      <td>392.0</td>\n",
       "      <td>684</td>\n",
       "      <td>571.0</td>\n",
       "      <td>806</td>\n",
       "    </tr>\n",
       "    <tr>\n",
       "      <th>11</th>\n",
       "      <td>340</td>\n",
       "      <td>423.0</td>\n",
       "      <td>523</td>\n",
       "      <td>627.0</td>\n",
       "      <td>504</td>\n",
       "      <td>438.0</td>\n",
       "      <td>428</td>\n",
       "      <td>379</td>\n",
       "      <td>411.0</td>\n",
       "      <td>625</td>\n",
       "      <td>554.0</td>\n",
       "      <td>808</td>\n",
       "    </tr>\n",
       "    <tr>\n",
       "      <th>12</th>\n",
       "      <td>293</td>\n",
       "      <td>448.0</td>\n",
       "      <td>476</td>\n",
       "      <td>623.0</td>\n",
       "      <td>552</td>\n",
       "      <td>463.0</td>\n",
       "      <td>455</td>\n",
       "      <td>360</td>\n",
       "      <td>387.0</td>\n",
       "      <td>632</td>\n",
       "      <td>578.0</td>\n",
       "      <td>819</td>\n",
       "    </tr>\n",
       "    <tr>\n",
       "      <th>13</th>\n",
       "      <td>319</td>\n",
       "      <td>468.0</td>\n",
       "      <td>512</td>\n",
       "      <td>632.0</td>\n",
       "      <td>548</td>\n",
       "      <td>452.0</td>\n",
       "      <td>469</td>\n",
       "      <td>395</td>\n",
       "      <td>393.0</td>\n",
       "      <td>653</td>\n",
       "      <td>593.0</td>\n",
       "      <td>857</td>\n",
       "    </tr>\n",
       "    <tr>\n",
       "      <th>14</th>\n",
       "      <td>281</td>\n",
       "      <td>423.0</td>\n",
       "      <td>478</td>\n",
       "      <td>608.0</td>\n",
       "      <td>587</td>\n",
       "      <td>476.0</td>\n",
       "      <td>453</td>\n",
       "      <td>407</td>\n",
       "      <td>402.0</td>\n",
       "      <td>630</td>\n",
       "      <td>568.0</td>\n",
       "      <td>813</td>\n",
       "    </tr>\n",
       "    <tr>\n",
       "      <th>15</th>\n",
       "      <td>328</td>\n",
       "      <td>402.0</td>\n",
       "      <td>487</td>\n",
       "      <td>584.0</td>\n",
       "      <td>505</td>\n",
       "      <td>478.0</td>\n",
       "      <td>498</td>\n",
       "      <td>391</td>\n",
       "      <td>411.0</td>\n",
       "      <td>659</td>\n",
       "      <td>541.0</td>\n",
       "      <td>822</td>\n",
       "    </tr>\n",
       "    <tr>\n",
       "      <th>16</th>\n",
       "      <td>311</td>\n",
       "      <td>438.0</td>\n",
       "      <td>477</td>\n",
       "      <td>611.0</td>\n",
       "      <td>543</td>\n",
       "      <td>473.0</td>\n",
       "      <td>468</td>\n",
       "      <td>408</td>\n",
       "      <td>374.0</td>\n",
       "      <td>612</td>\n",
       "      <td>569.0</td>\n",
       "      <td>825</td>\n",
       "    </tr>\n",
       "    <tr>\n",
       "      <th>17</th>\n",
       "      <td>291</td>\n",
       "      <td>452.0</td>\n",
       "      <td>475</td>\n",
       "      <td>653.0</td>\n",
       "      <td>555</td>\n",
       "      <td>445.0</td>\n",
       "      <td>405</td>\n",
       "      <td>352</td>\n",
       "      <td>398.0</td>\n",
       "      <td>651</td>\n",
       "      <td>609.0</td>\n",
       "      <td>879</td>\n",
       "    </tr>\n",
       "    <tr>\n",
       "      <th>18</th>\n",
       "      <td>320</td>\n",
       "      <td>451.0</td>\n",
       "      <td>479</td>\n",
       "      <td>657.0</td>\n",
       "      <td>497</td>\n",
       "      <td>443.0</td>\n",
       "      <td>503</td>\n",
       "      <td>366</td>\n",
       "      <td>386.0</td>\n",
       "      <td>651</td>\n",
       "      <td>591.0</td>\n",
       "      <td>788</td>\n",
       "    </tr>\n",
       "    <tr>\n",
       "      <th>19</th>\n",
       "      <td>320</td>\n",
       "      <td>403.0</td>\n",
       "      <td>494</td>\n",
       "      <td>562.0</td>\n",
       "      <td>570</td>\n",
       "      <td>469.0</td>\n",
       "      <td>449</td>\n",
       "      <td>411</td>\n",
       "      <td>404.0</td>\n",
       "      <td>675</td>\n",
       "      <td>604.0</td>\n",
       "      <td>823</td>\n",
       "    </tr>\n",
       "    <tr>\n",
       "      <th>20</th>\n",
       "      <td>347</td>\n",
       "      <td>442.0</td>\n",
       "      <td>480</td>\n",
       "      <td>587.0</td>\n",
       "      <td>552</td>\n",
       "      <td>472.0</td>\n",
       "      <td>461</td>\n",
       "      <td>364</td>\n",
       "      <td>389.0</td>\n",
       "      <td>671</td>\n",
       "      <td>570.0</td>\n",
       "      <td>809</td>\n",
       "    </tr>\n",
       "    <tr>\n",
       "      <th>21</th>\n",
       "      <td>305</td>\n",
       "      <td>405.0</td>\n",
       "      <td>470</td>\n",
       "      <td>672.0</td>\n",
       "      <td>515</td>\n",
       "      <td>476.0</td>\n",
       "      <td>465</td>\n",
       "      <td>357</td>\n",
       "      <td>370.0</td>\n",
       "      <td>639</td>\n",
       "      <td>637.0</td>\n",
       "      <td>774</td>\n",
       "    </tr>\n",
       "    <tr>\n",
       "      <th>22</th>\n",
       "      <td>328</td>\n",
       "      <td>433.0</td>\n",
       "      <td>503</td>\n",
       "      <td>550.0</td>\n",
       "      <td>568</td>\n",
       "      <td>391.0</td>\n",
       "      <td>496</td>\n",
       "      <td>405</td>\n",
       "      <td>362.0</td>\n",
       "      <td>692</td>\n",
       "      <td>590.0</td>\n",
       "      <td>783</td>\n",
       "    </tr>\n",
       "    <tr>\n",
       "      <th>23</th>\n",
       "      <td>277</td>\n",
       "      <td>391.0</td>\n",
       "      <td>545</td>\n",
       "      <td>589.0</td>\n",
       "      <td>541</td>\n",
       "      <td>411.0</td>\n",
       "      <td>422</td>\n",
       "      <td>374</td>\n",
       "      <td>380.0</td>\n",
       "      <td>674</td>\n",
       "      <td>569.0</td>\n",
       "      <td>868</td>\n",
       "    </tr>\n",
       "    <tr>\n",
       "      <th>24</th>\n",
       "      <td>348</td>\n",
       "      <td>460.0</td>\n",
       "      <td>466</td>\n",
       "      <td>629.0</td>\n",
       "      <td>509</td>\n",
       "      <td>442.0</td>\n",
       "      <td>436</td>\n",
       "      <td>386</td>\n",
       "      <td>389.0</td>\n",
       "      <td>651</td>\n",
       "      <td>617.0</td>\n",
       "      <td>808</td>\n",
       "    </tr>\n",
       "    <tr>\n",
       "      <th>25</th>\n",
       "      <td>297</td>\n",
       "      <td>412.0</td>\n",
       "      <td>473</td>\n",
       "      <td>591.0</td>\n",
       "      <td>542</td>\n",
       "      <td>442.0</td>\n",
       "      <td>479</td>\n",
       "      <td>390</td>\n",
       "      <td>354.0</td>\n",
       "      <td>662</td>\n",
       "      <td>598.0</td>\n",
       "      <td>814</td>\n",
       "    </tr>\n",
       "    <tr>\n",
       "      <th>26</th>\n",
       "      <td>369</td>\n",
       "      <td>440.0</td>\n",
       "      <td>458</td>\n",
       "      <td>578.0</td>\n",
       "      <td>511</td>\n",
       "      <td>463.0</td>\n",
       "      <td>476</td>\n",
       "      <td>388</td>\n",
       "      <td>385.0</td>\n",
       "      <td>713</td>\n",
       "      <td>574.0</td>\n",
       "      <td>795</td>\n",
       "    </tr>\n",
       "    <tr>\n",
       "      <th>27</th>\n",
       "      <td>311</td>\n",
       "      <td>452.0</td>\n",
       "      <td>503</td>\n",
       "      <td>630.0</td>\n",
       "      <td>505</td>\n",
       "      <td>408.0</td>\n",
       "      <td>446</td>\n",
       "      <td>392</td>\n",
       "      <td>411.0</td>\n",
       "      <td>659</td>\n",
       "      <td>621.0</td>\n",
       "      <td>770</td>\n",
       "    </tr>\n",
       "    <tr>\n",
       "      <th>28</th>\n",
       "      <td>327</td>\n",
       "      <td>405.0</td>\n",
       "      <td>489</td>\n",
       "      <td>591.0</td>\n",
       "      <td>546</td>\n",
       "      <td>465.0</td>\n",
       "      <td>473</td>\n",
       "      <td>403</td>\n",
       "      <td>372.0</td>\n",
       "      <td>672</td>\n",
       "      <td>534.0</td>\n",
       "      <td>816</td>\n",
       "    </tr>\n",
       "    <tr>\n",
       "      <th>29</th>\n",
       "      <td>320</td>\n",
       "      <td>NaN</td>\n",
       "      <td>491</td>\n",
       "      <td>589.0</td>\n",
       "      <td>549</td>\n",
       "      <td>490.0</td>\n",
       "      <td>418</td>\n",
       "      <td>399</td>\n",
       "      <td>411.0</td>\n",
       "      <td>623</td>\n",
       "      <td>579.0</td>\n",
       "      <td>840</td>\n",
       "    </tr>\n",
       "    <tr>\n",
       "      <th>30</th>\n",
       "      <td>300</td>\n",
       "      <td>NaN</td>\n",
       "      <td>483</td>\n",
       "      <td>627.0</td>\n",
       "      <td>553</td>\n",
       "      <td>447.0</td>\n",
       "      <td>446</td>\n",
       "      <td>356</td>\n",
       "      <td>379.0</td>\n",
       "      <td>631</td>\n",
       "      <td>594.0</td>\n",
       "      <td>807</td>\n",
       "    </tr>\n",
       "    <tr>\n",
       "      <th>31</th>\n",
       "      <td>277</td>\n",
       "      <td>NaN</td>\n",
       "      <td>466</td>\n",
       "      <td>NaN</td>\n",
       "      <td>475</td>\n",
       "      <td>NaN</td>\n",
       "      <td>480</td>\n",
       "      <td>419</td>\n",
       "      <td>NaN</td>\n",
       "      <td>669</td>\n",
       "      <td>NaN</td>\n",
       "      <td>763</td>\n",
       "    </tr>\n",
       "  </tbody>\n",
       "</table>\n",
       "</div>"
      ],
      "text/plain": [
       "     Enero  Febrero  Marzo  Abril  Mayo  Junio  Julio  Agosto  Septiembre  \\\n",
       "Dia                                                                         \n",
       "1      308    424.0    472  615.0   501  459.0    474     363       392.0   \n",
       "2      323    433.0    525  588.0   532  450.0    465     389       400.0   \n",
       "3      296    403.0    474  599.0   500  422.0    467     361       379.0   \n",
       "4      293    402.0    471  626.0   544  465.0    459     383       386.0   \n",
       "5      308    387.0    503  611.0   528  465.0    451     363       357.0   \n",
       "6      290    415.0    471  613.0   507  487.0    474     402       385.0   \n",
       "7      308    426.0    508  570.0   543  415.0    451     386       375.0   \n",
       "8      283    434.0    481  610.0   545  445.0    477     381       380.0   \n",
       "9      317    448.0    505  616.0   565  438.0    466     383       397.0   \n",
       "10     336    448.0    491  629.0   548  447.0    463     426       392.0   \n",
       "11     340    423.0    523  627.0   504  438.0    428     379       411.0   \n",
       "12     293    448.0    476  623.0   552  463.0    455     360       387.0   \n",
       "13     319    468.0    512  632.0   548  452.0    469     395       393.0   \n",
       "14     281    423.0    478  608.0   587  476.0    453     407       402.0   \n",
       "15     328    402.0    487  584.0   505  478.0    498     391       411.0   \n",
       "16     311    438.0    477  611.0   543  473.0    468     408       374.0   \n",
       "17     291    452.0    475  653.0   555  445.0    405     352       398.0   \n",
       "18     320    451.0    479  657.0   497  443.0    503     366       386.0   \n",
       "19     320    403.0    494  562.0   570  469.0    449     411       404.0   \n",
       "20     347    442.0    480  587.0   552  472.0    461     364       389.0   \n",
       "21     305    405.0    470  672.0   515  476.0    465     357       370.0   \n",
       "22     328    433.0    503  550.0   568  391.0    496     405       362.0   \n",
       "23     277    391.0    545  589.0   541  411.0    422     374       380.0   \n",
       "24     348    460.0    466  629.0   509  442.0    436     386       389.0   \n",
       "25     297    412.0    473  591.0   542  442.0    479     390       354.0   \n",
       "26     369    440.0    458  578.0   511  463.0    476     388       385.0   \n",
       "27     311    452.0    503  630.0   505  408.0    446     392       411.0   \n",
       "28     327    405.0    489  591.0   546  465.0    473     403       372.0   \n",
       "29     320      NaN    491  589.0   549  490.0    418     399       411.0   \n",
       "30     300      NaN    483  627.0   553  447.0    446     356       379.0   \n",
       "31     277      NaN    466    NaN   475    NaN    480     419         NaN   \n",
       "\n",
       "     Octubre  Noviembre  Diciembre  \n",
       "Dia                                 \n",
       "1        642      607.0        785  \n",
       "2        672      612.0        798  \n",
       "3        624      538.0        752  \n",
       "4        626      608.0        795  \n",
       "5        678      562.0        802  \n",
       "6        664      556.0        817  \n",
       "7        670      610.0        763  \n",
       "8        639      610.0        780  \n",
       "9        608      587.0        770  \n",
       "10       684      571.0        806  \n",
       "11       625      554.0        808  \n",
       "12       632      578.0        819  \n",
       "13       653      593.0        857  \n",
       "14       630      568.0        813  \n",
       "15       659      541.0        822  \n",
       "16       612      569.0        825  \n",
       "17       651      609.0        879  \n",
       "18       651      591.0        788  \n",
       "19       675      604.0        823  \n",
       "20       671      570.0        809  \n",
       "21       639      637.0        774  \n",
       "22       692      590.0        783  \n",
       "23       674      569.0        868  \n",
       "24       651      617.0        808  \n",
       "25       662      598.0        814  \n",
       "26       713      574.0        795  \n",
       "27       659      621.0        770  \n",
       "28       672      534.0        816  \n",
       "29       623      579.0        840  \n",
       "30       631      594.0        807  \n",
       "31       669        NaN        763  "
      ]
     },
     "execution_count": 207,
     "metadata": {},
     "output_type": "execute_result"
    }
   ],
   "source": [
    "# Se pasa el arreglo de totales de ventas por dia a un dataframe\n",
    "df_total_ventas_anual_dia= pd.concat(total_ventas_anual_dia, axis=1)\n",
    "# Se asigna el nombre de las columnas\n",
    "df_total_ventas_anual_dia.columns = meses\n",
    "\n",
    "# Se pasa el arreglo de totales de ventas por dia de la semana a un dataframe\n",
    "df_total_ventas_anual_dia_semana= pd.concat(total_ventas_anual_dia_semana, axis=1)\n",
    "# Se asigna el nombre de las columnas\n",
    "df_total_ventas_anual_dia_semana.columns = meses\n",
    "\n",
    "df_total_ventas_anual_dia"
   ]
  },
  {
   "cell_type": "code",
   "execution_count": 214,
   "metadata": {},
   "outputs": [
    {
     "name": "stdout",
     "output_type": "stream",
     "text": [
      "<class 'pandas.core.frame.DataFrame'>\n",
      "Index: 31 entries, 1 to 31\n",
      "Data columns (total 12 columns):\n",
      " #   Column      Non-Null Count  Dtype  \n",
      "---  ------      --------------  -----  \n",
      " 0   Enero       31 non-null     int64  \n",
      " 1   Febrero     31 non-null     float64\n",
      " 2   Marzo       31 non-null     int64  \n",
      " 3   Abril       31 non-null     float64\n",
      " 4   Mayo        31 non-null     int64  \n",
      " 5   Junio       31 non-null     float64\n",
      " 6   Julio       31 non-null     int64  \n",
      " 7   Agosto      31 non-null     int64  \n",
      " 8   Septiembre  31 non-null     float64\n",
      " 9   Octubre     31 non-null     int64  \n",
      " 10  Noviembre   31 non-null     float64\n",
      " 11  Diciembre   31 non-null     int64  \n",
      "dtypes: float64(5), int64(7)\n",
      "memory usage: 3.0 KB\n"
     ]
    }
   ],
   "source": [
    "# Se mira la informacion del dataframe de ventas anual por dia\n",
    "df_total_ventas_anual_dia.info()\n"
   ]
  },
  {
   "cell_type": "code",
   "execution_count": 215,
   "metadata": {},
   "outputs": [
    {
     "name": "stdout",
     "output_type": "stream",
     "text": [
      "<class 'pandas.core.frame.DataFrame'>\n",
      "Index: 31 entries, 1 to 31\n",
      "Data columns (total 12 columns):\n",
      " #   Column      Non-Null Count  Dtype\n",
      "---  ------      --------------  -----\n",
      " 0   Enero       31 non-null     int32\n",
      " 1   Febrero     31 non-null     int32\n",
      " 2   Marzo       31 non-null     int32\n",
      " 3   Abril       31 non-null     int32\n",
      " 4   Mayo        31 non-null     int32\n",
      " 5   Junio       31 non-null     int32\n",
      " 6   Julio       31 non-null     int32\n",
      " 7   Agosto      31 non-null     int32\n",
      " 8   Septiembre  31 non-null     int32\n",
      " 9   Octubre     31 non-null     int32\n",
      " 10  Noviembre   31 non-null     int32\n",
      " 11  Diciembre   31 non-null     int32\n",
      "dtypes: int32(12)\n",
      "memory usage: 1.6 KB\n"
     ]
    }
   ],
   "source": [
    "# Se reemplazan los valores NaN por 0\n",
    "df_total_ventas_anual_dia.fillna(0, inplace=True)\n",
    "\n",
    "# Se convierten los valores de las columnas a enteros\n",
    "df_total_ventas_anual_dia = df_total_ventas_anual_dia.astype(int)\n",
    "\n",
    "df_total_ventas_anual_dia.info()"
   ]
  },
  {
   "cell_type": "code",
   "execution_count": 216,
   "metadata": {},
   "outputs": [
    {
     "name": "stdout",
     "output_type": "stream",
     "text": [
      "<class 'pandas.core.frame.DataFrame'>\n",
      "Index: 7 entries, 0 to 6\n",
      "Data columns (total 12 columns):\n",
      " #   Column      Non-Null Count  Dtype\n",
      "---  ------      --------------  -----\n",
      " 0   Enero       7 non-null      int64\n",
      " 1   Febrero     7 non-null      int64\n",
      " 2   Marzo       7 non-null      int64\n",
      " 3   Abril       7 non-null      int64\n",
      " 4   Mayo        7 non-null      int64\n",
      " 5   Junio       7 non-null      int64\n",
      " 6   Julio       7 non-null      int64\n",
      " 7   Agosto      7 non-null      int64\n",
      " 8   Septiembre  7 non-null      int64\n",
      " 9   Octubre     7 non-null      int64\n",
      " 10  Noviembre   7 non-null      int64\n",
      " 11  Diciembre   7 non-null      int64\n",
      "dtypes: int64(12)\n",
      "memory usage: 700.0 bytes\n"
     ]
    }
   ],
   "source": [
    "# Se pide informacion de los tipos de datos del dataframe de ventas anual por dia de la semana\n",
    "df_total_ventas_anual_dia_semana.info()"
   ]
  },
  {
   "cell_type": "code",
   "execution_count": 217,
   "metadata": {},
   "outputs": [
    {
     "data": {
      "text/html": [
       "<div>\n",
       "<style scoped>\n",
       "    .dataframe tbody tr th:only-of-type {\n",
       "        vertical-align: middle;\n",
       "    }\n",
       "\n",
       "    .dataframe tbody tr th {\n",
       "        vertical-align: top;\n",
       "    }\n",
       "\n",
       "    .dataframe thead th {\n",
       "        text-align: right;\n",
       "    }\n",
       "</style>\n",
       "<table border=\"1\" class=\"dataframe\">\n",
       "  <thead>\n",
       "    <tr style=\"text-align: right;\">\n",
       "      <th></th>\n",
       "      <th>Enero</th>\n",
       "      <th>Febrero</th>\n",
       "      <th>Marzo</th>\n",
       "      <th>Abril</th>\n",
       "      <th>Mayo</th>\n",
       "      <th>Junio</th>\n",
       "      <th>Julio</th>\n",
       "      <th>Agosto</th>\n",
       "      <th>Septiembre</th>\n",
       "      <th>Octubre</th>\n",
       "      <th>Noviembre</th>\n",
       "      <th>Diciembre</th>\n",
       "    </tr>\n",
       "    <tr>\n",
       "      <th>Dia semanal</th>\n",
       "      <th></th>\n",
       "      <th></th>\n",
       "      <th></th>\n",
       "      <th></th>\n",
       "      <th></th>\n",
       "      <th></th>\n",
       "      <th></th>\n",
       "      <th></th>\n",
       "      <th></th>\n",
       "      <th></th>\n",
       "      <th></th>\n",
       "      <th></th>\n",
       "    </tr>\n",
       "  </thead>\n",
       "  <tbody>\n",
       "    <tr>\n",
       "      <th>0</th>\n",
       "      <td>1221</td>\n",
       "      <td>1688</td>\n",
       "      <td>1964</td>\n",
       "      <td>2920</td>\n",
       "      <td>2112</td>\n",
       "      <td>1774</td>\n",
       "      <td>2347</td>\n",
       "      <td>1522</td>\n",
       "      <td>1930</td>\n",
       "      <td>2611</td>\n",
       "      <td>2351</td>\n",
       "      <td>4068</td>\n",
       "    </tr>\n",
       "    <tr>\n",
       "      <th>1</th>\n",
       "      <td>1561</td>\n",
       "      <td>1678</td>\n",
       "      <td>1931</td>\n",
       "      <td>3031</td>\n",
       "      <td>2191</td>\n",
       "      <td>1788</td>\n",
       "      <td>2267</td>\n",
       "      <td>1553</td>\n",
       "      <td>1578</td>\n",
       "      <td>3233</td>\n",
       "      <td>2318</td>\n",
       "      <td>4008</td>\n",
       "    </tr>\n",
       "    <tr>\n",
       "      <th>2</th>\n",
       "      <td>1528</td>\n",
       "      <td>1777</td>\n",
       "      <td>1966</td>\n",
       "      <td>2538</td>\n",
       "      <td>2652</td>\n",
       "      <td>1860</td>\n",
       "      <td>2251</td>\n",
       "      <td>1553</td>\n",
       "      <td>1537</td>\n",
       "      <td>3197</td>\n",
       "      <td>2340</td>\n",
       "      <td>3239</td>\n",
       "    </tr>\n",
       "    <tr>\n",
       "      <th>3</th>\n",
       "      <td>1548</td>\n",
       "      <td>1659</td>\n",
       "      <td>1945</td>\n",
       "      <td>2501</td>\n",
       "      <td>2734</td>\n",
       "      <td>1819</td>\n",
       "      <td>1885</td>\n",
       "      <td>1927</td>\n",
       "      <td>1533</td>\n",
       "      <td>3279</td>\n",
       "      <td>2349</td>\n",
       "      <td>3239</td>\n",
       "    </tr>\n",
       "    <tr>\n",
       "      <th>4</th>\n",
       "      <td>1256</td>\n",
       "      <td>1693</td>\n",
       "      <td>2416</td>\n",
       "      <td>2374</td>\n",
       "      <td>2587</td>\n",
       "      <td>1832</td>\n",
       "      <td>1831</td>\n",
       "      <td>1910</td>\n",
       "      <td>1578</td>\n",
       "      <td>2586</td>\n",
       "      <td>2898</td>\n",
       "      <td>3253</td>\n",
       "    </tr>\n",
       "    <tr>\n",
       "      <th>5</th>\n",
       "      <td>1290</td>\n",
       "      <td>1710</td>\n",
       "      <td>2535</td>\n",
       "      <td>2462</td>\n",
       "      <td>2103</td>\n",
       "      <td>2245</td>\n",
       "      <td>1850</td>\n",
       "      <td>1944</td>\n",
       "      <td>1519</td>\n",
       "      <td>2698</td>\n",
       "      <td>2931</td>\n",
       "      <td>3166</td>\n",
       "    </tr>\n",
       "    <tr>\n",
       "      <th>6</th>\n",
       "      <td>1267</td>\n",
       "      <td>1763</td>\n",
       "      <td>2372</td>\n",
       "      <td>2441</td>\n",
       "      <td>2161</td>\n",
       "      <td>2219</td>\n",
       "      <td>1842</td>\n",
       "      <td>1530</td>\n",
       "      <td>1936</td>\n",
       "      <td>2647</td>\n",
       "      <td>2364</td>\n",
       "      <td>3976</td>\n",
       "    </tr>\n",
       "  </tbody>\n",
       "</table>\n",
       "</div>"
      ],
      "text/plain": [
       "             Enero  Febrero  Marzo  Abril  Mayo  Junio  Julio  Agosto  \\\n",
       "Dia semanal                                                             \n",
       "0             1221     1688   1964   2920  2112   1774   2347    1522   \n",
       "1             1561     1678   1931   3031  2191   1788   2267    1553   \n",
       "2             1528     1777   1966   2538  2652   1860   2251    1553   \n",
       "3             1548     1659   1945   2501  2734   1819   1885    1927   \n",
       "4             1256     1693   2416   2374  2587   1832   1831    1910   \n",
       "5             1290     1710   2535   2462  2103   2245   1850    1944   \n",
       "6             1267     1763   2372   2441  2161   2219   1842    1530   \n",
       "\n",
       "             Septiembre  Octubre  Noviembre  Diciembre  \n",
       "Dia semanal                                             \n",
       "0                  1930     2611       2351       4068  \n",
       "1                  1578     3233       2318       4008  \n",
       "2                  1537     3197       2340       3239  \n",
       "3                  1533     3279       2349       3239  \n",
       "4                  1578     2586       2898       3253  \n",
       "5                  1519     2698       2931       3166  \n",
       "6                  1936     2647       2364       3976  "
      ]
     },
     "execution_count": 217,
     "metadata": {},
     "output_type": "execute_result"
    }
   ],
   "source": [
    "df_total_ventas_anual_dia_semana"
   ]
  },
  {
   "cell_type": "code",
   "execution_count": 234,
   "metadata": {},
   "outputs": [
    {
     "data": {
      "text/plain": [
       "['rgb(141,211,199)',\n",
       " 'rgb(255,255,179)',\n",
       " 'rgb(190,186,218)',\n",
       " 'rgb(251,128,114)',\n",
       " 'rgb(128,177,211)',\n",
       " 'rgb(253,180,98)',\n",
       " 'rgb(179,222,105)',\n",
       " 'rgb(252,205,229)',\n",
       " 'rgb(217,217,217)',\n",
       " 'rgb(188,128,189)',\n",
       " 'rgb(204,235,197)',\n",
       " 'rgb(255,237,111)']"
      ]
     },
     "execution_count": 234,
     "metadata": {},
     "output_type": "execute_result"
    }
   ],
   "source": [
    "# Se crea una lista de colores para representar los meses\n",
    "colores_meses = px.colors.qualitative.Set3\n",
    "colores_meses\n"
   ]
  },
  {
   "cell_type": "code",
   "execution_count": 282,
   "metadata": {},
   "outputs": [
    {
     "data": {
      "text/plain": [
       "32"
      ]
     },
     "execution_count": 282,
     "metadata": {},
     "output_type": "execute_result"
    }
   ],
   "source": [
    "dias_meses[meses[4]] + 1"
   ]
  },
  {
   "cell_type": "code",
   "execution_count": 283,
   "metadata": {},
   "outputs": [
    {
     "data": {
      "text/plain": [
       "[1,\n",
       " 2,\n",
       " 3,\n",
       " 4,\n",
       " 5,\n",
       " 6,\n",
       " 7,\n",
       " 8,\n",
       " 9,\n",
       " 10,\n",
       " 11,\n",
       " 12,\n",
       " 13,\n",
       " 14,\n",
       " 15,\n",
       " 16,\n",
       " 17,\n",
       " 18,\n",
       " 19,\n",
       " 20,\n",
       " 21,\n",
       " 22,\n",
       " 23,\n",
       " 24,\n",
       " 25,\n",
       " 26,\n",
       " 27,\n",
       " 28,\n",
       " 29,\n",
       " 30,\n",
       " 31]"
      ]
     },
     "execution_count": 283,
     "metadata": {},
     "output_type": "execute_result"
    }
   ],
   "source": [
    "dias = list(range(1, dias_meses[meses[6]] + 1))\n",
    "dias"
   ]
  },
  {
   "cell_type": "code",
   "execution_count": 222,
   "metadata": {},
   "outputs": [
    {
     "data": {
      "application/vnd.plotly.v1+json": {
       "config": {
        "plotlyServerURL": "https://plot.ly"
       },
       "data": [
        {
         "line": {
          "color": "#636EFA",
          "shape": "spline",
          "smoothing": 1.3,
          "width": 3
         },
         "name": "Total de Ventas por Dia del Mes",
         "type": "scatter",
         "x": [
          1,
          2,
          3,
          4,
          5,
          6,
          7,
          8,
          9,
          10,
          11,
          12,
          13,
          14,
          15,
          16,
          17,
          18,
          19,
          20,
          21,
          22,
          23,
          24,
          25,
          26,
          27,
          28,
          29,
          30,
          31
         ],
         "y": [
          308,
          323,
          296,
          293,
          308,
          290,
          308,
          283,
          317,
          336,
          340,
          293,
          319,
          281,
          328,
          311,
          291,
          320,
          320,
          347,
          305,
          328,
          277,
          348,
          297,
          369,
          311,
          327,
          320,
          300,
          277
         ]
        }
       ],
       "layout": {
        "template": {
         "data": {
          "bar": [
           {
            "error_x": {
             "color": "#2a3f5f"
            },
            "error_y": {
             "color": "#2a3f5f"
            },
            "marker": {
             "line": {
              "color": "#E5ECF6",
              "width": 0.5
             },
             "pattern": {
              "fillmode": "overlay",
              "size": 10,
              "solidity": 0.2
             }
            },
            "type": "bar"
           }
          ],
          "barpolar": [
           {
            "marker": {
             "line": {
              "color": "#E5ECF6",
              "width": 0.5
             },
             "pattern": {
              "fillmode": "overlay",
              "size": 10,
              "solidity": 0.2
             }
            },
            "type": "barpolar"
           }
          ],
          "carpet": [
           {
            "aaxis": {
             "endlinecolor": "#2a3f5f",
             "gridcolor": "white",
             "linecolor": "white",
             "minorgridcolor": "white",
             "startlinecolor": "#2a3f5f"
            },
            "baxis": {
             "endlinecolor": "#2a3f5f",
             "gridcolor": "white",
             "linecolor": "white",
             "minorgridcolor": "white",
             "startlinecolor": "#2a3f5f"
            },
            "type": "carpet"
           }
          ],
          "choropleth": [
           {
            "colorbar": {
             "outlinewidth": 0,
             "ticks": ""
            },
            "type": "choropleth"
           }
          ],
          "contour": [
           {
            "colorbar": {
             "outlinewidth": 0,
             "ticks": ""
            },
            "colorscale": [
             [
              0,
              "#0d0887"
             ],
             [
              0.1111111111111111,
              "#46039f"
             ],
             [
              0.2222222222222222,
              "#7201a8"
             ],
             [
              0.3333333333333333,
              "#9c179e"
             ],
             [
              0.4444444444444444,
              "#bd3786"
             ],
             [
              0.5555555555555556,
              "#d8576b"
             ],
             [
              0.6666666666666666,
              "#ed7953"
             ],
             [
              0.7777777777777778,
              "#fb9f3a"
             ],
             [
              0.8888888888888888,
              "#fdca26"
             ],
             [
              1,
              "#f0f921"
             ]
            ],
            "type": "contour"
           }
          ],
          "contourcarpet": [
           {
            "colorbar": {
             "outlinewidth": 0,
             "ticks": ""
            },
            "type": "contourcarpet"
           }
          ],
          "heatmap": [
           {
            "colorbar": {
             "outlinewidth": 0,
             "ticks": ""
            },
            "colorscale": [
             [
              0,
              "#0d0887"
             ],
             [
              0.1111111111111111,
              "#46039f"
             ],
             [
              0.2222222222222222,
              "#7201a8"
             ],
             [
              0.3333333333333333,
              "#9c179e"
             ],
             [
              0.4444444444444444,
              "#bd3786"
             ],
             [
              0.5555555555555556,
              "#d8576b"
             ],
             [
              0.6666666666666666,
              "#ed7953"
             ],
             [
              0.7777777777777778,
              "#fb9f3a"
             ],
             [
              0.8888888888888888,
              "#fdca26"
             ],
             [
              1,
              "#f0f921"
             ]
            ],
            "type": "heatmap"
           }
          ],
          "heatmapgl": [
           {
            "colorbar": {
             "outlinewidth": 0,
             "ticks": ""
            },
            "colorscale": [
             [
              0,
              "#0d0887"
             ],
             [
              0.1111111111111111,
              "#46039f"
             ],
             [
              0.2222222222222222,
              "#7201a8"
             ],
             [
              0.3333333333333333,
              "#9c179e"
             ],
             [
              0.4444444444444444,
              "#bd3786"
             ],
             [
              0.5555555555555556,
              "#d8576b"
             ],
             [
              0.6666666666666666,
              "#ed7953"
             ],
             [
              0.7777777777777778,
              "#fb9f3a"
             ],
             [
              0.8888888888888888,
              "#fdca26"
             ],
             [
              1,
              "#f0f921"
             ]
            ],
            "type": "heatmapgl"
           }
          ],
          "histogram": [
           {
            "marker": {
             "pattern": {
              "fillmode": "overlay",
              "size": 10,
              "solidity": 0.2
             }
            },
            "type": "histogram"
           }
          ],
          "histogram2d": [
           {
            "colorbar": {
             "outlinewidth": 0,
             "ticks": ""
            },
            "colorscale": [
             [
              0,
              "#0d0887"
             ],
             [
              0.1111111111111111,
              "#46039f"
             ],
             [
              0.2222222222222222,
              "#7201a8"
             ],
             [
              0.3333333333333333,
              "#9c179e"
             ],
             [
              0.4444444444444444,
              "#bd3786"
             ],
             [
              0.5555555555555556,
              "#d8576b"
             ],
             [
              0.6666666666666666,
              "#ed7953"
             ],
             [
              0.7777777777777778,
              "#fb9f3a"
             ],
             [
              0.8888888888888888,
              "#fdca26"
             ],
             [
              1,
              "#f0f921"
             ]
            ],
            "type": "histogram2d"
           }
          ],
          "histogram2dcontour": [
           {
            "colorbar": {
             "outlinewidth": 0,
             "ticks": ""
            },
            "colorscale": [
             [
              0,
              "#0d0887"
             ],
             [
              0.1111111111111111,
              "#46039f"
             ],
             [
              0.2222222222222222,
              "#7201a8"
             ],
             [
              0.3333333333333333,
              "#9c179e"
             ],
             [
              0.4444444444444444,
              "#bd3786"
             ],
             [
              0.5555555555555556,
              "#d8576b"
             ],
             [
              0.6666666666666666,
              "#ed7953"
             ],
             [
              0.7777777777777778,
              "#fb9f3a"
             ],
             [
              0.8888888888888888,
              "#fdca26"
             ],
             [
              1,
              "#f0f921"
             ]
            ],
            "type": "histogram2dcontour"
           }
          ],
          "mesh3d": [
           {
            "colorbar": {
             "outlinewidth": 0,
             "ticks": ""
            },
            "type": "mesh3d"
           }
          ],
          "parcoords": [
           {
            "line": {
             "colorbar": {
              "outlinewidth": 0,
              "ticks": ""
             }
            },
            "type": "parcoords"
           }
          ],
          "pie": [
           {
            "automargin": true,
            "type": "pie"
           }
          ],
          "scatter": [
           {
            "fillpattern": {
             "fillmode": "overlay",
             "size": 10,
             "solidity": 0.2
            },
            "type": "scatter"
           }
          ],
          "scatter3d": [
           {
            "line": {
             "colorbar": {
              "outlinewidth": 0,
              "ticks": ""
             }
            },
            "marker": {
             "colorbar": {
              "outlinewidth": 0,
              "ticks": ""
             }
            },
            "type": "scatter3d"
           }
          ],
          "scattercarpet": [
           {
            "marker": {
             "colorbar": {
              "outlinewidth": 0,
              "ticks": ""
             }
            },
            "type": "scattercarpet"
           }
          ],
          "scattergeo": [
           {
            "marker": {
             "colorbar": {
              "outlinewidth": 0,
              "ticks": ""
             }
            },
            "type": "scattergeo"
           }
          ],
          "scattergl": [
           {
            "marker": {
             "colorbar": {
              "outlinewidth": 0,
              "ticks": ""
             }
            },
            "type": "scattergl"
           }
          ],
          "scattermapbox": [
           {
            "marker": {
             "colorbar": {
              "outlinewidth": 0,
              "ticks": ""
             }
            },
            "type": "scattermapbox"
           }
          ],
          "scatterpolar": [
           {
            "marker": {
             "colorbar": {
              "outlinewidth": 0,
              "ticks": ""
             }
            },
            "type": "scatterpolar"
           }
          ],
          "scatterpolargl": [
           {
            "marker": {
             "colorbar": {
              "outlinewidth": 0,
              "ticks": ""
             }
            },
            "type": "scatterpolargl"
           }
          ],
          "scatterternary": [
           {
            "marker": {
             "colorbar": {
              "outlinewidth": 0,
              "ticks": ""
             }
            },
            "type": "scatterternary"
           }
          ],
          "surface": [
           {
            "colorbar": {
             "outlinewidth": 0,
             "ticks": ""
            },
            "colorscale": [
             [
              0,
              "#0d0887"
             ],
             [
              0.1111111111111111,
              "#46039f"
             ],
             [
              0.2222222222222222,
              "#7201a8"
             ],
             [
              0.3333333333333333,
              "#9c179e"
             ],
             [
              0.4444444444444444,
              "#bd3786"
             ],
             [
              0.5555555555555556,
              "#d8576b"
             ],
             [
              0.6666666666666666,
              "#ed7953"
             ],
             [
              0.7777777777777778,
              "#fb9f3a"
             ],
             [
              0.8888888888888888,
              "#fdca26"
             ],
             [
              1,
              "#f0f921"
             ]
            ],
            "type": "surface"
           }
          ],
          "table": [
           {
            "cells": {
             "fill": {
              "color": "#EBF0F8"
             },
             "line": {
              "color": "white"
             }
            },
            "header": {
             "fill": {
              "color": "#C8D4E3"
             },
             "line": {
              "color": "white"
             }
            },
            "type": "table"
           }
          ]
         },
         "layout": {
          "annotationdefaults": {
           "arrowcolor": "#2a3f5f",
           "arrowhead": 0,
           "arrowwidth": 1
          },
          "autotypenumbers": "strict",
          "coloraxis": {
           "colorbar": {
            "outlinewidth": 0,
            "ticks": ""
           }
          },
          "colorscale": {
           "diverging": [
            [
             0,
             "#8e0152"
            ],
            [
             0.1,
             "#c51b7d"
            ],
            [
             0.2,
             "#de77ae"
            ],
            [
             0.3,
             "#f1b6da"
            ],
            [
             0.4,
             "#fde0ef"
            ],
            [
             0.5,
             "#f7f7f7"
            ],
            [
             0.6,
             "#e6f5d0"
            ],
            [
             0.7,
             "#b8e186"
            ],
            [
             0.8,
             "#7fbc41"
            ],
            [
             0.9,
             "#4d9221"
            ],
            [
             1,
             "#276419"
            ]
           ],
           "sequential": [
            [
             0,
             "#0d0887"
            ],
            [
             0.1111111111111111,
             "#46039f"
            ],
            [
             0.2222222222222222,
             "#7201a8"
            ],
            [
             0.3333333333333333,
             "#9c179e"
            ],
            [
             0.4444444444444444,
             "#bd3786"
            ],
            [
             0.5555555555555556,
             "#d8576b"
            ],
            [
             0.6666666666666666,
             "#ed7953"
            ],
            [
             0.7777777777777778,
             "#fb9f3a"
            ],
            [
             0.8888888888888888,
             "#fdca26"
            ],
            [
             1,
             "#f0f921"
            ]
           ],
           "sequentialminus": [
            [
             0,
             "#0d0887"
            ],
            [
             0.1111111111111111,
             "#46039f"
            ],
            [
             0.2222222222222222,
             "#7201a8"
            ],
            [
             0.3333333333333333,
             "#9c179e"
            ],
            [
             0.4444444444444444,
             "#bd3786"
            ],
            [
             0.5555555555555556,
             "#d8576b"
            ],
            [
             0.6666666666666666,
             "#ed7953"
            ],
            [
             0.7777777777777778,
             "#fb9f3a"
            ],
            [
             0.8888888888888888,
             "#fdca26"
            ],
            [
             1,
             "#f0f921"
            ]
           ]
          },
          "colorway": [
           "#636efa",
           "#EF553B",
           "#00cc96",
           "#ab63fa",
           "#FFA15A",
           "#19d3f3",
           "#FF6692",
           "#B6E880",
           "#FF97FF",
           "#FECB52"
          ],
          "font": {
           "color": "#2a3f5f"
          },
          "geo": {
           "bgcolor": "white",
           "lakecolor": "white",
           "landcolor": "#E5ECF6",
           "showlakes": true,
           "showland": true,
           "subunitcolor": "white"
          },
          "hoverlabel": {
           "align": "left"
          },
          "hovermode": "closest",
          "mapbox": {
           "style": "light"
          },
          "paper_bgcolor": "white",
          "plot_bgcolor": "#E5ECF6",
          "polar": {
           "angularaxis": {
            "gridcolor": "white",
            "linecolor": "white",
            "ticks": ""
           },
           "bgcolor": "#E5ECF6",
           "radialaxis": {
            "gridcolor": "white",
            "linecolor": "white",
            "ticks": ""
           }
          },
          "scene": {
           "xaxis": {
            "backgroundcolor": "#E5ECF6",
            "gridcolor": "white",
            "gridwidth": 2,
            "linecolor": "white",
            "showbackground": true,
            "ticks": "",
            "zerolinecolor": "white"
           },
           "yaxis": {
            "backgroundcolor": "#E5ECF6",
            "gridcolor": "white",
            "gridwidth": 2,
            "linecolor": "white",
            "showbackground": true,
            "ticks": "",
            "zerolinecolor": "white"
           },
           "zaxis": {
            "backgroundcolor": "#E5ECF6",
            "gridcolor": "white",
            "gridwidth": 2,
            "linecolor": "white",
            "showbackground": true,
            "ticks": "",
            "zerolinecolor": "white"
           }
          },
          "shapedefaults": {
           "line": {
            "color": "#2a3f5f"
           }
          },
          "ternary": {
           "aaxis": {
            "gridcolor": "white",
            "linecolor": "white",
            "ticks": ""
           },
           "baxis": {
            "gridcolor": "white",
            "linecolor": "white",
            "ticks": ""
           },
           "bgcolor": "#E5ECF6",
           "caxis": {
            "gridcolor": "white",
            "linecolor": "white",
            "ticks": ""
           }
          },
          "title": {
           "x": 0.05
          },
          "xaxis": {
           "automargin": true,
           "gridcolor": "white",
           "linecolor": "white",
           "ticks": "",
           "title": {
            "standoff": 15
           },
           "zerolinecolor": "white",
           "zerolinewidth": 2
          },
          "yaxis": {
           "automargin": true,
           "gridcolor": "white",
           "linecolor": "white",
           "ticks": "",
           "title": {
            "standoff": 15
           },
           "zerolinecolor": "white",
           "zerolinewidth": 2
          }
         }
        },
        "title": {
         "text": "Total de Ventas Anual por Dia del Mes"
        },
        "xaxis": {
         "tickvals": [
          1,
          2,
          3,
          4,
          5,
          6,
          7,
          8,
          9,
          10,
          11,
          12,
          13,
          14,
          15,
          16,
          17,
          18,
          19,
          20,
          21,
          22,
          23,
          24,
          25,
          26,
          27,
          28,
          29,
          30,
          31
         ],
         "title": {
          "text": "Dia del Mes"
         }
        },
        "yaxis": {
         "side": "left",
         "title": {
          "text": "Total de Ventas"
         }
        }
       }
      }
     },
     "metadata": {},
     "output_type": "display_data"
    }
   ],
   "source": [
    "# Se crea el objeto de grafico para representar el total de ventas anual por dia\n",
    "fig = go.Figure()\n",
    "\n",
    "# Se agrega a la figura un grafico de linea con los dias y el total de ventas por dia del mes de Enero\n",
    "\n",
    "fig.add_trace(go.Scatter(\n",
    "    x = dias,\n",
    "    y = df_total_ventas_anual_dia['Enero'],\n",
    "    name='Total de Ventas por Dia del Mes',\n",
    "    line=dict(color= colores_meses[0],\n",
    "              shape='spline',\n",
    "              smoothing=1.3,\n",
    "              width=3)\n",
    "    )\n",
    ")\n",
    "\n",
    "# Se configura los ejes y los titulos\n",
    "fig.update_layout(\n",
    "    title='Total de Ventas Anual por Dia del Mes',\n",
    "    xaxis=dict(title='Dia del Mes', tickvals=df_total_ventas_anual_dia.index),\n",
    "    yaxis=dict(title='Total de Ventas', side='left')\n",
    ")\n",
    "\n",
    "fig.show()\n"
   ]
  },
  {
   "cell_type": "code",
   "execution_count": 281,
   "metadata": {},
   "outputs": [
    {
     "data": {
      "application/vnd.plotly.v1+json": {
       "config": {
        "plotlyServerURL": "https://plot.ly"
       },
       "data": [
        {
         "line": {
          "color": "rgb(141,211,199)",
          "shape": "spline",
          "smoothing": 0.8,
          "width": 1
         },
         "name": "Enero",
         "type": "scatter",
         "x": [
          1,
          2,
          3,
          4,
          5,
          6,
          7,
          8,
          9,
          10,
          11,
          12,
          13,
          14,
          15,
          16,
          17,
          18,
          19,
          20,
          21,
          22,
          23,
          24,
          25,
          26,
          27,
          28,
          29,
          30,
          31
         ],
         "y": [
          308,
          323,
          296,
          293,
          308,
          290,
          308,
          283,
          317,
          336,
          340,
          293,
          319,
          281,
          328,
          311,
          291,
          320,
          320,
          347,
          305,
          328,
          277,
          348,
          297,
          369,
          311,
          327,
          320,
          300,
          277
         ]
        },
        {
         "line": {
          "color": "rgb(255,255,179)",
          "shape": "spline",
          "smoothing": 0.8,
          "width": 1
         },
         "name": "Febrero",
         "type": "scatter",
         "x": [
          1,
          2,
          3,
          4,
          5,
          6,
          7,
          8,
          9,
          10,
          11,
          12,
          13,
          14,
          15,
          16,
          17,
          18,
          19,
          20,
          21,
          22,
          23,
          24,
          25,
          26,
          27,
          28
         ],
         "y": [
          424,
          433,
          403,
          402,
          387,
          415,
          426,
          434,
          448,
          448,
          423,
          448,
          468,
          423,
          402,
          438,
          452,
          451,
          403,
          442,
          405,
          433,
          391,
          460,
          412,
          440,
          452,
          405,
          0,
          0,
          0
         ]
        },
        {
         "line": {
          "color": "rgb(190,186,218)",
          "shape": "spline",
          "smoothing": 0.8,
          "width": 1
         },
         "name": "Marzo",
         "type": "scatter",
         "x": [
          1,
          2,
          3,
          4,
          5,
          6,
          7,
          8,
          9,
          10,
          11,
          12,
          13,
          14,
          15,
          16,
          17,
          18,
          19,
          20,
          21,
          22,
          23,
          24,
          25,
          26,
          27,
          28,
          29,
          30,
          31
         ],
         "y": [
          472,
          525,
          474,
          471,
          503,
          471,
          508,
          481,
          505,
          491,
          523,
          476,
          512,
          478,
          487,
          477,
          475,
          479,
          494,
          480,
          470,
          503,
          545,
          466,
          473,
          458,
          503,
          489,
          491,
          483,
          466
         ]
        },
        {
         "line": {
          "color": "rgb(251,128,114)",
          "shape": "spline",
          "smoothing": 0.8,
          "width": 1
         },
         "name": "Abril",
         "type": "scatter",
         "x": [
          1,
          2,
          3,
          4,
          5,
          6,
          7,
          8,
          9,
          10,
          11,
          12,
          13,
          14,
          15,
          16,
          17,
          18,
          19,
          20,
          21,
          22,
          23,
          24,
          25,
          26,
          27,
          28,
          29,
          30
         ],
         "y": [
          615,
          588,
          599,
          626,
          611,
          613,
          570,
          610,
          616,
          629,
          627,
          623,
          632,
          608,
          584,
          611,
          653,
          657,
          562,
          587,
          672,
          550,
          589,
          629,
          591,
          578,
          630,
          591,
          589,
          627,
          0
         ]
        },
        {
         "line": {
          "color": "rgb(128,177,211)",
          "shape": "spline",
          "smoothing": 0.8,
          "width": 1
         },
         "name": "Mayo",
         "type": "scatter",
         "x": [
          1,
          2,
          3,
          4,
          5,
          6,
          7,
          8,
          9,
          10,
          11,
          12,
          13,
          14,
          15,
          16,
          17,
          18,
          19,
          20,
          21,
          22,
          23,
          24,
          25,
          26,
          27,
          28,
          29,
          30,
          31
         ],
         "y": [
          501,
          532,
          500,
          544,
          528,
          507,
          543,
          545,
          565,
          548,
          504,
          552,
          548,
          587,
          505,
          543,
          555,
          497,
          570,
          552,
          515,
          568,
          541,
          509,
          542,
          511,
          505,
          546,
          549,
          553,
          475
         ]
        },
        {
         "line": {
          "color": "rgb(253,180,98)",
          "shape": "spline",
          "smoothing": 0.8,
          "width": 1
         },
         "name": "Junio",
         "type": "scatter",
         "x": [
          1,
          2,
          3,
          4,
          5,
          6,
          7,
          8,
          9,
          10,
          11,
          12,
          13,
          14,
          15,
          16,
          17,
          18,
          19,
          20,
          21,
          22,
          23,
          24,
          25,
          26,
          27,
          28,
          29,
          30
         ],
         "y": [
          459,
          450,
          422,
          465,
          465,
          487,
          415,
          445,
          438,
          447,
          438,
          463,
          452,
          476,
          478,
          473,
          445,
          443,
          469,
          472,
          476,
          391,
          411,
          442,
          442,
          463,
          408,
          465,
          490,
          447,
          0
         ]
        },
        {
         "line": {
          "color": "rgb(179,222,105)",
          "shape": "spline",
          "smoothing": 0.8,
          "width": 1
         },
         "name": "Julio",
         "type": "scatter",
         "x": [
          1,
          2,
          3,
          4,
          5,
          6,
          7,
          8,
          9,
          10,
          11,
          12,
          13,
          14,
          15,
          16,
          17,
          18,
          19,
          20,
          21,
          22,
          23,
          24,
          25,
          26,
          27,
          28,
          29,
          30,
          31
         ],
         "y": [
          474,
          465,
          467,
          459,
          451,
          474,
          451,
          477,
          466,
          463,
          428,
          455,
          469,
          453,
          498,
          468,
          405,
          503,
          449,
          461,
          465,
          496,
          422,
          436,
          479,
          476,
          446,
          473,
          418,
          446,
          480
         ]
        },
        {
         "line": {
          "color": "rgb(252,205,229)",
          "shape": "spline",
          "smoothing": 0.8,
          "width": 1
         },
         "name": "Agosto",
         "type": "scatter",
         "x": [
          1,
          2,
          3,
          4,
          5,
          6,
          7,
          8,
          9,
          10,
          11,
          12,
          13,
          14,
          15,
          16,
          17,
          18,
          19,
          20,
          21,
          22,
          23,
          24,
          25,
          26,
          27,
          28,
          29,
          30,
          31
         ],
         "y": [
          363,
          389,
          361,
          383,
          363,
          402,
          386,
          381,
          383,
          426,
          379,
          360,
          395,
          407,
          391,
          408,
          352,
          366,
          411,
          364,
          357,
          405,
          374,
          386,
          390,
          388,
          392,
          403,
          399,
          356,
          419
         ]
        },
        {
         "line": {
          "color": "rgb(217,217,217)",
          "shape": "spline",
          "smoothing": 0.8,
          "width": 1
         },
         "name": "Septiembre",
         "type": "scatter",
         "x": [
          1,
          2,
          3,
          4,
          5,
          6,
          7,
          8,
          9,
          10,
          11,
          12,
          13,
          14,
          15,
          16,
          17,
          18,
          19,
          20,
          21,
          22,
          23,
          24,
          25,
          26,
          27,
          28,
          29,
          30
         ],
         "y": [
          392,
          400,
          379,
          386,
          357,
          385,
          375,
          380,
          397,
          392,
          411,
          387,
          393,
          402,
          411,
          374,
          398,
          386,
          404,
          389,
          370,
          362,
          380,
          389,
          354,
          385,
          411,
          372,
          411,
          379,
          0
         ]
        },
        {
         "line": {
          "color": "rgb(188,128,189)",
          "shape": "spline",
          "smoothing": 0.8,
          "width": 1
         },
         "name": "Octubre",
         "type": "scatter",
         "x": [
          1,
          2,
          3,
          4,
          5,
          6,
          7,
          8,
          9,
          10,
          11,
          12,
          13,
          14,
          15,
          16,
          17,
          18,
          19,
          20,
          21,
          22,
          23,
          24,
          25,
          26,
          27,
          28,
          29,
          30,
          31
         ],
         "y": [
          642,
          672,
          624,
          626,
          678,
          664,
          670,
          639,
          608,
          684,
          625,
          632,
          653,
          630,
          659,
          612,
          651,
          651,
          675,
          671,
          639,
          692,
          674,
          651,
          662,
          713,
          659,
          672,
          623,
          631,
          669
         ]
        },
        {
         "line": {
          "color": "rgb(204,235,197)",
          "shape": "spline",
          "smoothing": 0.8,
          "width": 1
         },
         "name": "Noviembre",
         "type": "scatter",
         "x": [
          1,
          2,
          3,
          4,
          5,
          6,
          7,
          8,
          9,
          10,
          11,
          12,
          13,
          14,
          15,
          16,
          17,
          18,
          19,
          20,
          21,
          22,
          23,
          24,
          25,
          26,
          27,
          28,
          29,
          30
         ],
         "y": [
          607,
          612,
          538,
          608,
          562,
          556,
          610,
          610,
          587,
          571,
          554,
          578,
          593,
          568,
          541,
          569,
          609,
          591,
          604,
          570,
          637,
          590,
          569,
          617,
          598,
          574,
          621,
          534,
          579,
          594,
          0
         ]
        },
        {
         "line": {
          "color": "rgb(255,237,111)",
          "shape": "spline",
          "smoothing": 0.8,
          "width": 1
         },
         "name": "Diciembre",
         "type": "scatter",
         "x": [
          1,
          2,
          3,
          4,
          5,
          6,
          7,
          8,
          9,
          10,
          11,
          12,
          13,
          14,
          15,
          16,
          17,
          18,
          19,
          20,
          21,
          22,
          23,
          24,
          25,
          26,
          27,
          28,
          29,
          30,
          31
         ],
         "y": [
          785,
          798,
          752,
          795,
          802,
          817,
          763,
          780,
          770,
          806,
          808,
          819,
          857,
          813,
          822,
          825,
          879,
          788,
          823,
          809,
          774,
          783,
          868,
          808,
          814,
          795,
          770,
          816,
          840,
          807,
          763
         ]
        }
       ],
       "layout": {
        "height": 900,
        "template": {
         "data": {
          "bar": [
           {
            "error_x": {
             "color": "#f2f5fa"
            },
            "error_y": {
             "color": "#f2f5fa"
            },
            "marker": {
             "line": {
              "color": "rgb(17,17,17)",
              "width": 0.5
             },
             "pattern": {
              "fillmode": "overlay",
              "size": 10,
              "solidity": 0.2
             }
            },
            "type": "bar"
           }
          ],
          "barpolar": [
           {
            "marker": {
             "line": {
              "color": "rgb(17,17,17)",
              "width": 0.5
             },
             "pattern": {
              "fillmode": "overlay",
              "size": 10,
              "solidity": 0.2
             }
            },
            "type": "barpolar"
           }
          ],
          "carpet": [
           {
            "aaxis": {
             "endlinecolor": "#A2B1C6",
             "gridcolor": "#506784",
             "linecolor": "#506784",
             "minorgridcolor": "#506784",
             "startlinecolor": "#A2B1C6"
            },
            "baxis": {
             "endlinecolor": "#A2B1C6",
             "gridcolor": "#506784",
             "linecolor": "#506784",
             "minorgridcolor": "#506784",
             "startlinecolor": "#A2B1C6"
            },
            "type": "carpet"
           }
          ],
          "choropleth": [
           {
            "colorbar": {
             "outlinewidth": 0,
             "ticks": ""
            },
            "type": "choropleth"
           }
          ],
          "contour": [
           {
            "colorbar": {
             "outlinewidth": 0,
             "ticks": ""
            },
            "colorscale": [
             [
              0,
              "#0d0887"
             ],
             [
              0.1111111111111111,
              "#46039f"
             ],
             [
              0.2222222222222222,
              "#7201a8"
             ],
             [
              0.3333333333333333,
              "#9c179e"
             ],
             [
              0.4444444444444444,
              "#bd3786"
             ],
             [
              0.5555555555555556,
              "#d8576b"
             ],
             [
              0.6666666666666666,
              "#ed7953"
             ],
             [
              0.7777777777777778,
              "#fb9f3a"
             ],
             [
              0.8888888888888888,
              "#fdca26"
             ],
             [
              1,
              "#f0f921"
             ]
            ],
            "type": "contour"
           }
          ],
          "contourcarpet": [
           {
            "colorbar": {
             "outlinewidth": 0,
             "ticks": ""
            },
            "type": "contourcarpet"
           }
          ],
          "heatmap": [
           {
            "colorbar": {
             "outlinewidth": 0,
             "ticks": ""
            },
            "colorscale": [
             [
              0,
              "#0d0887"
             ],
             [
              0.1111111111111111,
              "#46039f"
             ],
             [
              0.2222222222222222,
              "#7201a8"
             ],
             [
              0.3333333333333333,
              "#9c179e"
             ],
             [
              0.4444444444444444,
              "#bd3786"
             ],
             [
              0.5555555555555556,
              "#d8576b"
             ],
             [
              0.6666666666666666,
              "#ed7953"
             ],
             [
              0.7777777777777778,
              "#fb9f3a"
             ],
             [
              0.8888888888888888,
              "#fdca26"
             ],
             [
              1,
              "#f0f921"
             ]
            ],
            "type": "heatmap"
           }
          ],
          "heatmapgl": [
           {
            "colorbar": {
             "outlinewidth": 0,
             "ticks": ""
            },
            "colorscale": [
             [
              0,
              "#0d0887"
             ],
             [
              0.1111111111111111,
              "#46039f"
             ],
             [
              0.2222222222222222,
              "#7201a8"
             ],
             [
              0.3333333333333333,
              "#9c179e"
             ],
             [
              0.4444444444444444,
              "#bd3786"
             ],
             [
              0.5555555555555556,
              "#d8576b"
             ],
             [
              0.6666666666666666,
              "#ed7953"
             ],
             [
              0.7777777777777778,
              "#fb9f3a"
             ],
             [
              0.8888888888888888,
              "#fdca26"
             ],
             [
              1,
              "#f0f921"
             ]
            ],
            "type": "heatmapgl"
           }
          ],
          "histogram": [
           {
            "marker": {
             "pattern": {
              "fillmode": "overlay",
              "size": 10,
              "solidity": 0.2
             }
            },
            "type": "histogram"
           }
          ],
          "histogram2d": [
           {
            "colorbar": {
             "outlinewidth": 0,
             "ticks": ""
            },
            "colorscale": [
             [
              0,
              "#0d0887"
             ],
             [
              0.1111111111111111,
              "#46039f"
             ],
             [
              0.2222222222222222,
              "#7201a8"
             ],
             [
              0.3333333333333333,
              "#9c179e"
             ],
             [
              0.4444444444444444,
              "#bd3786"
             ],
             [
              0.5555555555555556,
              "#d8576b"
             ],
             [
              0.6666666666666666,
              "#ed7953"
             ],
             [
              0.7777777777777778,
              "#fb9f3a"
             ],
             [
              0.8888888888888888,
              "#fdca26"
             ],
             [
              1,
              "#f0f921"
             ]
            ],
            "type": "histogram2d"
           }
          ],
          "histogram2dcontour": [
           {
            "colorbar": {
             "outlinewidth": 0,
             "ticks": ""
            },
            "colorscale": [
             [
              0,
              "#0d0887"
             ],
             [
              0.1111111111111111,
              "#46039f"
             ],
             [
              0.2222222222222222,
              "#7201a8"
             ],
             [
              0.3333333333333333,
              "#9c179e"
             ],
             [
              0.4444444444444444,
              "#bd3786"
             ],
             [
              0.5555555555555556,
              "#d8576b"
             ],
             [
              0.6666666666666666,
              "#ed7953"
             ],
             [
              0.7777777777777778,
              "#fb9f3a"
             ],
             [
              0.8888888888888888,
              "#fdca26"
             ],
             [
              1,
              "#f0f921"
             ]
            ],
            "type": "histogram2dcontour"
           }
          ],
          "mesh3d": [
           {
            "colorbar": {
             "outlinewidth": 0,
             "ticks": ""
            },
            "type": "mesh3d"
           }
          ],
          "parcoords": [
           {
            "line": {
             "colorbar": {
              "outlinewidth": 0,
              "ticks": ""
             }
            },
            "type": "parcoords"
           }
          ],
          "pie": [
           {
            "automargin": true,
            "type": "pie"
           }
          ],
          "scatter": [
           {
            "marker": {
             "line": {
              "color": "#283442"
             }
            },
            "type": "scatter"
           }
          ],
          "scatter3d": [
           {
            "line": {
             "colorbar": {
              "outlinewidth": 0,
              "ticks": ""
             }
            },
            "marker": {
             "colorbar": {
              "outlinewidth": 0,
              "ticks": ""
             }
            },
            "type": "scatter3d"
           }
          ],
          "scattercarpet": [
           {
            "marker": {
             "colorbar": {
              "outlinewidth": 0,
              "ticks": ""
             }
            },
            "type": "scattercarpet"
           }
          ],
          "scattergeo": [
           {
            "marker": {
             "colorbar": {
              "outlinewidth": 0,
              "ticks": ""
             }
            },
            "type": "scattergeo"
           }
          ],
          "scattergl": [
           {
            "marker": {
             "line": {
              "color": "#283442"
             }
            },
            "type": "scattergl"
           }
          ],
          "scattermapbox": [
           {
            "marker": {
             "colorbar": {
              "outlinewidth": 0,
              "ticks": ""
             }
            },
            "type": "scattermapbox"
           }
          ],
          "scatterpolar": [
           {
            "marker": {
             "colorbar": {
              "outlinewidth": 0,
              "ticks": ""
             }
            },
            "type": "scatterpolar"
           }
          ],
          "scatterpolargl": [
           {
            "marker": {
             "colorbar": {
              "outlinewidth": 0,
              "ticks": ""
             }
            },
            "type": "scatterpolargl"
           }
          ],
          "scatterternary": [
           {
            "marker": {
             "colorbar": {
              "outlinewidth": 0,
              "ticks": ""
             }
            },
            "type": "scatterternary"
           }
          ],
          "surface": [
           {
            "colorbar": {
             "outlinewidth": 0,
             "ticks": ""
            },
            "colorscale": [
             [
              0,
              "#0d0887"
             ],
             [
              0.1111111111111111,
              "#46039f"
             ],
             [
              0.2222222222222222,
              "#7201a8"
             ],
             [
              0.3333333333333333,
              "#9c179e"
             ],
             [
              0.4444444444444444,
              "#bd3786"
             ],
             [
              0.5555555555555556,
              "#d8576b"
             ],
             [
              0.6666666666666666,
              "#ed7953"
             ],
             [
              0.7777777777777778,
              "#fb9f3a"
             ],
             [
              0.8888888888888888,
              "#fdca26"
             ],
             [
              1,
              "#f0f921"
             ]
            ],
            "type": "surface"
           }
          ],
          "table": [
           {
            "cells": {
             "fill": {
              "color": "#506784"
             },
             "line": {
              "color": "rgb(17,17,17)"
             }
            },
            "header": {
             "fill": {
              "color": "#2a3f5f"
             },
             "line": {
              "color": "rgb(17,17,17)"
             }
            },
            "type": "table"
           }
          ]
         },
         "layout": {
          "annotationdefaults": {
           "arrowcolor": "#f2f5fa",
           "arrowhead": 0,
           "arrowwidth": 1
          },
          "autotypenumbers": "strict",
          "coloraxis": {
           "colorbar": {
            "outlinewidth": 0,
            "ticks": ""
           }
          },
          "colorscale": {
           "diverging": [
            [
             0,
             "#8e0152"
            ],
            [
             0.1,
             "#c51b7d"
            ],
            [
             0.2,
             "#de77ae"
            ],
            [
             0.3,
             "#f1b6da"
            ],
            [
             0.4,
             "#fde0ef"
            ],
            [
             0.5,
             "#f7f7f7"
            ],
            [
             0.6,
             "#e6f5d0"
            ],
            [
             0.7,
             "#b8e186"
            ],
            [
             0.8,
             "#7fbc41"
            ],
            [
             0.9,
             "#4d9221"
            ],
            [
             1,
             "#276419"
            ]
           ],
           "sequential": [
            [
             0,
             "#0d0887"
            ],
            [
             0.1111111111111111,
             "#46039f"
            ],
            [
             0.2222222222222222,
             "#7201a8"
            ],
            [
             0.3333333333333333,
             "#9c179e"
            ],
            [
             0.4444444444444444,
             "#bd3786"
            ],
            [
             0.5555555555555556,
             "#d8576b"
            ],
            [
             0.6666666666666666,
             "#ed7953"
            ],
            [
             0.7777777777777778,
             "#fb9f3a"
            ],
            [
             0.8888888888888888,
             "#fdca26"
            ],
            [
             1,
             "#f0f921"
            ]
           ],
           "sequentialminus": [
            [
             0,
             "#0d0887"
            ],
            [
             0.1111111111111111,
             "#46039f"
            ],
            [
             0.2222222222222222,
             "#7201a8"
            ],
            [
             0.3333333333333333,
             "#9c179e"
            ],
            [
             0.4444444444444444,
             "#bd3786"
            ],
            [
             0.5555555555555556,
             "#d8576b"
            ],
            [
             0.6666666666666666,
             "#ed7953"
            ],
            [
             0.7777777777777778,
             "#fb9f3a"
            ],
            [
             0.8888888888888888,
             "#fdca26"
            ],
            [
             1,
             "#f0f921"
            ]
           ]
          },
          "colorway": [
           "#636efa",
           "#EF553B",
           "#00cc96",
           "#ab63fa",
           "#FFA15A",
           "#19d3f3",
           "#FF6692",
           "#B6E880",
           "#FF97FF",
           "#FECB52"
          ],
          "font": {
           "color": "#f2f5fa"
          },
          "geo": {
           "bgcolor": "rgb(17,17,17)",
           "lakecolor": "rgb(17,17,17)",
           "landcolor": "rgb(17,17,17)",
           "showlakes": true,
           "showland": true,
           "subunitcolor": "#506784"
          },
          "hoverlabel": {
           "align": "left"
          },
          "hovermode": "closest",
          "mapbox": {
           "style": "dark"
          },
          "paper_bgcolor": "rgb(17,17,17)",
          "plot_bgcolor": "rgb(17,17,17)",
          "polar": {
           "angularaxis": {
            "gridcolor": "#506784",
            "linecolor": "#506784",
            "ticks": ""
           },
           "bgcolor": "rgb(17,17,17)",
           "radialaxis": {
            "gridcolor": "#506784",
            "linecolor": "#506784",
            "ticks": ""
           }
          },
          "scene": {
           "xaxis": {
            "backgroundcolor": "rgb(17,17,17)",
            "gridcolor": "#506784",
            "gridwidth": 2,
            "linecolor": "#506784",
            "showbackground": true,
            "ticks": "",
            "zerolinecolor": "#C8D4E3"
           },
           "yaxis": {
            "backgroundcolor": "rgb(17,17,17)",
            "gridcolor": "#506784",
            "gridwidth": 2,
            "linecolor": "#506784",
            "showbackground": true,
            "ticks": "",
            "zerolinecolor": "#C8D4E3"
           },
           "zaxis": {
            "backgroundcolor": "rgb(17,17,17)",
            "gridcolor": "#506784",
            "gridwidth": 2,
            "linecolor": "#506784",
            "showbackground": true,
            "ticks": "",
            "zerolinecolor": "#C8D4E3"
           }
          },
          "shapedefaults": {
           "line": {
            "color": "#f2f5fa"
           }
          },
          "sliderdefaults": {
           "bgcolor": "#C8D4E3",
           "bordercolor": "rgb(17,17,17)",
           "borderwidth": 1,
           "tickwidth": 0
          },
          "ternary": {
           "aaxis": {
            "gridcolor": "#506784",
            "linecolor": "#506784",
            "ticks": ""
           },
           "baxis": {
            "gridcolor": "#506784",
            "linecolor": "#506784",
            "ticks": ""
           },
           "bgcolor": "rgb(17,17,17)",
           "caxis": {
            "gridcolor": "#506784",
            "linecolor": "#506784",
            "ticks": ""
           }
          },
          "title": {
           "x": 0.05
          },
          "updatemenudefaults": {
           "bgcolor": "#506784",
           "borderwidth": 0
          },
          "xaxis": {
           "automargin": true,
           "gridcolor": "#283442",
           "linecolor": "#506784",
           "ticks": "",
           "title": {
            "standoff": 15
           },
           "zerolinecolor": "#283442",
           "zerolinewidth": 2
          },
          "yaxis": {
           "automargin": true,
           "gridcolor": "#283442",
           "linecolor": "#506784",
           "ticks": "",
           "title": {
            "standoff": 15
           },
           "zerolinecolor": "#283442",
           "zerolinewidth": 2
          }
         }
        },
        "title": {
         "text": "Total de Ventas Anual por Dia del Mes"
        },
        "xaxis": {
         "tickvals": [
          1,
          2,
          3,
          4,
          5,
          6,
          7,
          8,
          9,
          10,
          11,
          12,
          13,
          14,
          15,
          16,
          17,
          18,
          19,
          20,
          21,
          22,
          23,
          24,
          25,
          26,
          27,
          28,
          29,
          30,
          31
         ],
         "title": {
          "text": "Dia del Mes"
         }
        },
        "yaxis": {
         "side": "left",
         "title": {
          "text": "Total de Ventas"
         }
        }
       }
      }
     },
     "metadata": {},
     "output_type": "display_data"
    }
   ],
   "source": [
    "# Se crea el objeto de grafico para representar el total de ventas anual por dia\n",
    "fig = go.Figure()\n",
    "# Se recorre los meses y se agrega a la figura un grafico de linea con los dias y sus ventas anuales\n",
    "for i in range(len(meses)):\n",
    "    fig.add_trace(go.Scatter(\n",
    "        x = list(range(1,dias_meses[meses[i]]+1)),\n",
    "        y = df_total_ventas_anual_dia[meses[i]],\n",
    "        name=meses[i],\n",
    "        line=dict(color= colores_meses[i],\n",
    "                  shape='spline',\n",
    "                  smoothing=0.8,\n",
    "                  width=1)\n",
    "        )\n",
    "    )\n",
    "    \n",
    "# Se configura los ejes y los titulos\n",
    "fig.update_layout(\n",
    "    title='Total de Ventas Anual por Dia del Mes',\n",
    "    xaxis=dict(title='Dia del Mes', tickvals=df_total_ventas_anual_dia.index),\n",
    "    yaxis=dict(title='Total de Ventas', side='left'),\n",
    "    template='plotly_dark',\n",
    "    height=900\n",
    "\n",
    ")\n",
    "fig.show()\n"
   ]
  },
  {
   "cell_type": "code",
   "execution_count": 252,
   "metadata": {},
   "outputs": [
    {
     "name": "stdout",
     "output_type": "stream",
     "text": [
      "Se puede ver un patrón de ventas por dia del mes muy similar en todos los meses.\n"
     ]
    }
   ],
   "source": [
    "print('Se puede ver un patrón de ventas por dia del mes muy similar en todos los meses.')\n"
   ]
  },
  {
   "cell_type": "markdown",
   "metadata": {},
   "source": [
    "### ● ¿Cómo varían las ventas a lo largo de los diferentes días de la semana?\n"
   ]
  },
  {
   "cell_type": "code",
   "execution_count": 284,
   "metadata": {},
   "outputs": [
    {
     "name": "stdout",
     "output_type": "stream",
     "text": [
      "A lo largo de los días, las venta varían dentro de su promedio mensual\n"
     ]
    }
   ],
   "source": [
    "print('A lo largo de los días, las venta varían dentro de su promedio mensual')"
   ]
  },
  {
   "cell_type": "markdown",
   "metadata": {},
   "source": [
    "### ● ¿Se observa alguna diferencia significativa en las ventas entre los días laborables y los fines de semana?"
   ]
  }
 ],
 "metadata": {
  "kernelspec": {
   "display_name": "Python 3",
   "language": "python",
   "name": "python3"
  },
  "language_info": {
   "codemirror_mode": {
    "name": "ipython",
    "version": 3
   },
   "file_extension": ".py",
   "mimetype": "text/x-python",
   "name": "python",
   "nbconvert_exporter": "python",
   "pygments_lexer": "ipython3",
   "version": "3.11.4"
  },
  "orig_nbformat": 4
 },
 "nbformat": 4,
 "nbformat_minor": 2
}
